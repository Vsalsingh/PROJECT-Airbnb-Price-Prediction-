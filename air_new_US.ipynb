{
 "cells": [
  {
   "cell_type": "code",
   "execution_count": 2,
   "id": "d4060bb8",
   "metadata": {},
   "outputs": [],
   "source": [
    "import numpy as np\n",
    "import pandas as pd"
   ]
  },
  {
   "cell_type": "code",
   "execution_count": 44,
   "id": "823d0f62",
   "metadata": {},
   "outputs": [],
   "source": [
    "import warnings\n",
    "warnings.filterwarnings('ignore')"
   ]
  },
  {
   "cell_type": "code",
   "execution_count": 3,
   "id": "369f902c",
   "metadata": {},
   "outputs": [
    {
     "name": "stderr",
     "output_type": "stream",
     "text": [
      "C:\\Users\\sharm\\Anaconda3\\lib\\site-packages\\IPython\\core\\interactiveshell.py:3165: DtypeWarning: Columns (0,2,27,66) have mixed types.Specify dtype option on import or set low_memory=False.\n",
      "  has_raised = await self.run_ast_nodes(code_ast.body, cell_name,\n"
     ]
    }
   ],
   "source": [
    "original_dataset= pd.read_csv('airbnb-listings.csv',delimiter=';',low_memory='False')"
   ]
  },
  {
   "cell_type": "code",
   "execution_count": 4,
   "id": "e07b8960",
   "metadata": {},
   "outputs": [],
   "source": [
    "pd.set_option('display.max_columns', None)"
   ]
  },
  {
   "cell_type": "code",
   "execution_count": 5,
   "id": "629967bc",
   "metadata": {},
   "outputs": [],
   "source": [
    "drop_cols=['Listing Url','Thumbnail Url','Medium Url','Picture Url','XL Picture Url',\n",
    "'Host URL','Host Thumbnail Url','Host Picture Url','Latitude','Longitude']"
   ]
  },
  {
   "cell_type": "code",
   "execution_count": 6,
   "id": "cd112b4e",
   "metadata": {},
   "outputs": [],
   "source": [
    "first_drop_dataset=original_dataset.drop(drop_cols,axis=1)"
   ]
  },
  {
   "cell_type": "code",
   "execution_count": 7,
   "id": "38bcb3da",
   "metadata": {},
   "outputs": [
    {
     "data": {
      "text/plain": [
       "7958"
      ]
     },
     "execution_count": 7,
     "metadata": {},
     "output_type": "execute_result"
    }
   ],
   "source": [
    "first_drop_dataset.Price.isnull().sum()"
   ]
  },
  {
   "cell_type": "code",
   "execution_count": 8,
   "id": "49f06472",
   "metadata": {},
   "outputs": [
    {
     "data": {
      "text/plain": [
       "(494954, 79)"
      ]
     },
     "execution_count": 8,
     "metadata": {},
     "output_type": "execute_result"
    }
   ],
   "source": [
    "first_drop_dataset.shape"
   ]
  },
  {
   "cell_type": "code",
   "execution_count": 9,
   "id": "1cc57e88",
   "metadata": {},
   "outputs": [
    {
     "data": {
      "text/html": [
       "<div>\n",
       "<style scoped>\n",
       "    .dataframe tbody tr th:only-of-type {\n",
       "        vertical-align: middle;\n",
       "    }\n",
       "\n",
       "    .dataframe tbody tr th {\n",
       "        vertical-align: top;\n",
       "    }\n",
       "\n",
       "    .dataframe thead th {\n",
       "        text-align: right;\n",
       "    }\n",
       "</style>\n",
       "<table border=\"1\" class=\"dataframe\">\n",
       "  <thead>\n",
       "    <tr style=\"text-align: right;\">\n",
       "      <th></th>\n",
       "      <th>ID</th>\n",
       "      <th>Scrape ID</th>\n",
       "      <th>Last Scraped</th>\n",
       "      <th>Name</th>\n",
       "      <th>Summary</th>\n",
       "      <th>Space</th>\n",
       "      <th>Description</th>\n",
       "      <th>Experiences Offered</th>\n",
       "      <th>Neighborhood Overview</th>\n",
       "      <th>Notes</th>\n",
       "      <th>Transit</th>\n",
       "      <th>Access</th>\n",
       "      <th>Interaction</th>\n",
       "      <th>House Rules</th>\n",
       "      <th>Host ID</th>\n",
       "      <th>Host Name</th>\n",
       "      <th>Host Since</th>\n",
       "      <th>Host Location</th>\n",
       "      <th>Host About</th>\n",
       "      <th>Host Response Time</th>\n",
       "      <th>Host Response Rate</th>\n",
       "      <th>Host Acceptance Rate</th>\n",
       "      <th>Host Neighbourhood</th>\n",
       "      <th>Host Listings Count</th>\n",
       "      <th>Host Total Listings Count</th>\n",
       "      <th>Host Verifications</th>\n",
       "      <th>Street</th>\n",
       "      <th>Neighbourhood</th>\n",
       "      <th>Neighbourhood Cleansed</th>\n",
       "      <th>Neighbourhood Group Cleansed</th>\n",
       "      <th>City</th>\n",
       "      <th>State</th>\n",
       "      <th>Zipcode</th>\n",
       "      <th>Market</th>\n",
       "      <th>Smart Location</th>\n",
       "      <th>Country Code</th>\n",
       "      <th>Country</th>\n",
       "      <th>Property Type</th>\n",
       "      <th>Room Type</th>\n",
       "      <th>Accommodates</th>\n",
       "      <th>Bathrooms</th>\n",
       "      <th>Bedrooms</th>\n",
       "      <th>Beds</th>\n",
       "      <th>Bed Type</th>\n",
       "      <th>Amenities</th>\n",
       "      <th>Square Feet</th>\n",
       "      <th>Price</th>\n",
       "      <th>Weekly Price</th>\n",
       "      <th>Monthly Price</th>\n",
       "      <th>Security Deposit</th>\n",
       "      <th>Cleaning Fee</th>\n",
       "      <th>Guests Included</th>\n",
       "      <th>Extra People</th>\n",
       "      <th>Minimum Nights</th>\n",
       "      <th>Maximum Nights</th>\n",
       "      <th>Calendar Updated</th>\n",
       "      <th>Has Availability</th>\n",
       "      <th>Availability 30</th>\n",
       "      <th>Availability 60</th>\n",
       "      <th>Availability 90</th>\n",
       "      <th>Availability 365</th>\n",
       "      <th>Calendar last Scraped</th>\n",
       "      <th>Number of Reviews</th>\n",
       "      <th>First Review</th>\n",
       "      <th>Last Review</th>\n",
       "      <th>Review Scores Rating</th>\n",
       "      <th>Review Scores Accuracy</th>\n",
       "      <th>Review Scores Cleanliness</th>\n",
       "      <th>Review Scores Checkin</th>\n",
       "      <th>Review Scores Communication</th>\n",
       "      <th>Review Scores Location</th>\n",
       "      <th>Review Scores Value</th>\n",
       "      <th>License</th>\n",
       "      <th>Jurisdiction Names</th>\n",
       "      <th>Cancellation Policy</th>\n",
       "      <th>Calculated host listings count</th>\n",
       "      <th>Reviews per Month</th>\n",
       "      <th>Geolocation</th>\n",
       "      <th>Features</th>\n",
       "    </tr>\n",
       "  </thead>\n",
       "  <tbody>\n",
       "    <tr>\n",
       "      <th>0</th>\n",
       "      <td>15802051</td>\n",
       "      <td>20170304065726</td>\n",
       "      <td>2017-03-05</td>\n",
       "      <td>Large double available now.</td>\n",
       "      <td>Double room available</td>\n",
       "      <td>NaN</td>\n",
       "      <td>Double room available</td>\n",
       "      <td>none</td>\n",
       "      <td>NaN</td>\n",
       "      <td>NaN</td>\n",
       "      <td>NaN</td>\n",
       "      <td>NaN</td>\n",
       "      <td>NaN</td>\n",
       "      <td>NaN</td>\n",
       "      <td>46296095</td>\n",
       "      <td>Miles</td>\n",
       "      <td>2015-10-11</td>\n",
       "      <td>London, England, United Kingdom</td>\n",
       "      <td>Easy going man....just trying to make the worl...</td>\n",
       "      <td>within a few hours</td>\n",
       "      <td>100.0</td>\n",
       "      <td>NaN</td>\n",
       "      <td>Walworth</td>\n",
       "      <td>2.0</td>\n",
       "      <td>2.0</td>\n",
       "      <td>email,phone,reviews</td>\n",
       "      <td>Kennington Park Rd, London, England SE11 4PP, ...</td>\n",
       "      <td>NaN</td>\n",
       "      <td>Lambeth</td>\n",
       "      <td>NaN</td>\n",
       "      <td>London</td>\n",
       "      <td>England</td>\n",
       "      <td>SE11 4PP</td>\n",
       "      <td>London</td>\n",
       "      <td>London, United Kingdom</td>\n",
       "      <td>GB</td>\n",
       "      <td>United Kingdom</td>\n",
       "      <td>House</td>\n",
       "      <td>Private room</td>\n",
       "      <td>2.0</td>\n",
       "      <td>1.0</td>\n",
       "      <td>2.0</td>\n",
       "      <td>2.0</td>\n",
       "      <td>Real Bed</td>\n",
       "      <td>Internet,Wireless Internet,Kitchen,Smoking all...</td>\n",
       "      <td>NaN</td>\n",
       "      <td>44.0</td>\n",
       "      <td>NaN</td>\n",
       "      <td>NaN</td>\n",
       "      <td>100.0</td>\n",
       "      <td>NaN</td>\n",
       "      <td>1.0</td>\n",
       "      <td>15.0</td>\n",
       "      <td>3.0</td>\n",
       "      <td>1125.0</td>\n",
       "      <td>2 months ago</td>\n",
       "      <td>NaN</td>\n",
       "      <td>29.0</td>\n",
       "      <td>59.0</td>\n",
       "      <td>89.0</td>\n",
       "      <td>364.0</td>\n",
       "      <td>2017-03-04</td>\n",
       "      <td>3.0</td>\n",
       "      <td>2016-11-18</td>\n",
       "      <td>2017-01-02</td>\n",
       "      <td>93.0</td>\n",
       "      <td>9.0</td>\n",
       "      <td>9.0</td>\n",
       "      <td>10.0</td>\n",
       "      <td>9.0</td>\n",
       "      <td>10.0</td>\n",
       "      <td>10.0</td>\n",
       "      <td>NaN</td>\n",
       "      <td>NaN</td>\n",
       "      <td>strict</td>\n",
       "      <td>2.0</td>\n",
       "      <td>0.83</td>\n",
       "      <td>51.4814235208219,-0.11325857795918481</td>\n",
       "      <td>Host Has Profile Pic</td>\n",
       "    </tr>\n",
       "    <tr>\n",
       "      <th>1</th>\n",
       "      <td>14751869</td>\n",
       "      <td>20170304065726</td>\n",
       "      <td>2017-03-05</td>\n",
       "      <td>Spacious 4BR home near Brixton and Clapham</td>\n",
       "      <td>My home is a large four bedroom space set over...</td>\n",
       "      <td>This is a bright, tidy, and spacious home in a...</td>\n",
       "      <td>My home is a large four bedroom space set over...</td>\n",
       "      <td>none</td>\n",
       "      <td>Both Brixton and Clapham are very trendy areas...</td>\n",
       "      <td>Please note: our standard check in times are b...</td>\n",
       "      <td>My place is about a 15 minute walk from both t...</td>\n",
       "      <td>Guests have complete access to the entire flat...</td>\n",
       "      <td>When I’m not there, you will be hosted by a pr...</td>\n",
       "      <td>Please note our house rules:  -All guests are ...</td>\n",
       "      <td>11850512</td>\n",
       "      <td>Richard</td>\n",
       "      <td>2014-02-01</td>\n",
       "      <td>London, UK</td>\n",
       "      <td>I work in London and enjoy travelling and para...</td>\n",
       "      <td>within an hour</td>\n",
       "      <td>100.0</td>\n",
       "      <td>NaN</td>\n",
       "      <td>Brixton</td>\n",
       "      <td>1.0</td>\n",
       "      <td>1.0</td>\n",
       "      <td>email,phone,reviews,jumio</td>\n",
       "      <td>Bonham Road, London, England SW2 5HN, United K...</td>\n",
       "      <td>Brixton</td>\n",
       "      <td>Lambeth</td>\n",
       "      <td>NaN</td>\n",
       "      <td>London</td>\n",
       "      <td>England</td>\n",
       "      <td>SW2 5HN</td>\n",
       "      <td>London</td>\n",
       "      <td>London, United Kingdom</td>\n",
       "      <td>GB</td>\n",
       "      <td>United Kingdom</td>\n",
       "      <td>House</td>\n",
       "      <td>Entire home/apt</td>\n",
       "      <td>8.0</td>\n",
       "      <td>1.5</td>\n",
       "      <td>4.0</td>\n",
       "      <td>4.0</td>\n",
       "      <td>Real Bed</td>\n",
       "      <td>TV,Internet,Wireless Internet,Kitchen,Buzzer/w...</td>\n",
       "      <td>NaN</td>\n",
       "      <td>139.0</td>\n",
       "      <td>NaN</td>\n",
       "      <td>NaN</td>\n",
       "      <td>400.0</td>\n",
       "      <td>65.0</td>\n",
       "      <td>1.0</td>\n",
       "      <td>0.0</td>\n",
       "      <td>3.0</td>\n",
       "      <td>1125.0</td>\n",
       "      <td>today</td>\n",
       "      <td>NaN</td>\n",
       "      <td>0.0</td>\n",
       "      <td>0.0</td>\n",
       "      <td>0.0</td>\n",
       "      <td>0.0</td>\n",
       "      <td>2017-03-04</td>\n",
       "      <td>21.0</td>\n",
       "      <td>2016-09-18</td>\n",
       "      <td>2017-02-25</td>\n",
       "      <td>95.0</td>\n",
       "      <td>10.0</td>\n",
       "      <td>10.0</td>\n",
       "      <td>9.0</td>\n",
       "      <td>10.0</td>\n",
       "      <td>9.0</td>\n",
       "      <td>10.0</td>\n",
       "      <td>NaN</td>\n",
       "      <td>NaN</td>\n",
       "      <td>moderate</td>\n",
       "      <td>1.0</td>\n",
       "      <td>3.73</td>\n",
       "      <td>51.45561582099232,-0.12283906738535272</td>\n",
       "      <td>Host Is Superhost,Host Has Profile Pic,Host Id...</td>\n",
       "    </tr>\n",
       "  </tbody>\n",
       "</table>\n",
       "</div>"
      ],
      "text/plain": [
       "         ID       Scrape ID Last Scraped  \\\n",
       "0  15802051  20170304065726   2017-03-05   \n",
       "1  14751869  20170304065726   2017-03-05   \n",
       "\n",
       "                                         Name  \\\n",
       "0                 Large double available now.   \n",
       "1  Spacious 4BR home near Brixton and Clapham   \n",
       "\n",
       "                                             Summary  \\\n",
       "0                              Double room available   \n",
       "1  My home is a large four bedroom space set over...   \n",
       "\n",
       "                                               Space  \\\n",
       "0                                                NaN   \n",
       "1  This is a bright, tidy, and spacious home in a...   \n",
       "\n",
       "                                         Description Experiences Offered  \\\n",
       "0                              Double room available                none   \n",
       "1  My home is a large four bedroom space set over...                none   \n",
       "\n",
       "                               Neighborhood Overview  \\\n",
       "0                                                NaN   \n",
       "1  Both Brixton and Clapham are very trendy areas...   \n",
       "\n",
       "                                               Notes  \\\n",
       "0                                                NaN   \n",
       "1  Please note: our standard check in times are b...   \n",
       "\n",
       "                                             Transit  \\\n",
       "0                                                NaN   \n",
       "1  My place is about a 15 minute walk from both t...   \n",
       "\n",
       "                                              Access  \\\n",
       "0                                                NaN   \n",
       "1  Guests have complete access to the entire flat...   \n",
       "\n",
       "                                         Interaction  \\\n",
       "0                                                NaN   \n",
       "1  When I’m not there, you will be hosted by a pr...   \n",
       "\n",
       "                                         House Rules   Host ID Host Name  \\\n",
       "0                                                NaN  46296095     Miles   \n",
       "1  Please note our house rules:  -All guests are ...  11850512   Richard   \n",
       "\n",
       "   Host Since                    Host Location  \\\n",
       "0  2015-10-11  London, England, United Kingdom   \n",
       "1  2014-02-01                       London, UK   \n",
       "\n",
       "                                          Host About  Host Response Time  \\\n",
       "0  Easy going man....just trying to make the worl...  within a few hours   \n",
       "1  I work in London and enjoy travelling and para...      within an hour   \n",
       "\n",
       "   Host Response Rate Host Acceptance Rate Host Neighbourhood  \\\n",
       "0               100.0                  NaN           Walworth   \n",
       "1               100.0                  NaN            Brixton   \n",
       "\n",
       "   Host Listings Count  Host Total Listings Count         Host Verifications  \\\n",
       "0                  2.0                        2.0        email,phone,reviews   \n",
       "1                  1.0                        1.0  email,phone,reviews,jumio   \n",
       "\n",
       "                                              Street Neighbourhood  \\\n",
       "0  Kennington Park Rd, London, England SE11 4PP, ...           NaN   \n",
       "1  Bonham Road, London, England SW2 5HN, United K...       Brixton   \n",
       "\n",
       "  Neighbourhood Cleansed Neighbourhood Group Cleansed    City    State  \\\n",
       "0                Lambeth                          NaN  London  England   \n",
       "1                Lambeth                          NaN  London  England   \n",
       "\n",
       "    Zipcode  Market          Smart Location Country Code         Country  \\\n",
       "0  SE11 4PP  London  London, United Kingdom           GB  United Kingdom   \n",
       "1   SW2 5HN  London  London, United Kingdom           GB  United Kingdom   \n",
       "\n",
       "  Property Type        Room Type  Accommodates  Bathrooms  Bedrooms  Beds  \\\n",
       "0         House     Private room           2.0        1.0       2.0   2.0   \n",
       "1         House  Entire home/apt           8.0        1.5       4.0   4.0   \n",
       "\n",
       "   Bed Type                                          Amenities  Square Feet  \\\n",
       "0  Real Bed  Internet,Wireless Internet,Kitchen,Smoking all...          NaN   \n",
       "1  Real Bed  TV,Internet,Wireless Internet,Kitchen,Buzzer/w...          NaN   \n",
       "\n",
       "   Price  Weekly Price  Monthly Price  Security Deposit  Cleaning Fee  \\\n",
       "0   44.0           NaN            NaN             100.0           NaN   \n",
       "1  139.0           NaN            NaN             400.0          65.0   \n",
       "\n",
       "   Guests Included  Extra People  Minimum Nights  Maximum Nights  \\\n",
       "0              1.0          15.0             3.0          1125.0   \n",
       "1              1.0           0.0             3.0          1125.0   \n",
       "\n",
       "  Calendar Updated Has Availability  Availability 30  Availability 60  \\\n",
       "0     2 months ago              NaN             29.0             59.0   \n",
       "1            today              NaN              0.0              0.0   \n",
       "\n",
       "   Availability 90  Availability 365 Calendar last Scraped  Number of Reviews  \\\n",
       "0             89.0             364.0            2017-03-04                3.0   \n",
       "1              0.0               0.0            2017-03-04               21.0   \n",
       "\n",
       "  First Review Last Review  Review Scores Rating  Review Scores Accuracy  \\\n",
       "0   2016-11-18  2017-01-02                  93.0                     9.0   \n",
       "1   2016-09-18  2017-02-25                  95.0                    10.0   \n",
       "\n",
       "   Review Scores Cleanliness  Review Scores Checkin  \\\n",
       "0                        9.0                   10.0   \n",
       "1                       10.0                    9.0   \n",
       "\n",
       "   Review Scores Communication  Review Scores Location  Review Scores Value  \\\n",
       "0                          9.0                    10.0                 10.0   \n",
       "1                         10.0                     9.0                 10.0   \n",
       "\n",
       "  License Jurisdiction Names Cancellation Policy  \\\n",
       "0     NaN                NaN              strict   \n",
       "1     NaN                NaN            moderate   \n",
       "\n",
       "   Calculated host listings count  Reviews per Month  \\\n",
       "0                             2.0               0.83   \n",
       "1                             1.0               3.73   \n",
       "\n",
       "                              Geolocation  \\\n",
       "0   51.4814235208219,-0.11325857795918481   \n",
       "1  51.45561582099232,-0.12283906738535272   \n",
       "\n",
       "                                            Features  \n",
       "0                               Host Has Profile Pic  \n",
       "1  Host Is Superhost,Host Has Profile Pic,Host Id...  "
      ]
     },
     "execution_count": 9,
     "metadata": {},
     "output_type": "execute_result"
    }
   ],
   "source": [
    "first_drop_dataset.head(2)"
   ]
  },
  {
   "cell_type": "code",
   "execution_count": 10,
   "id": "0a8560fd",
   "metadata": {},
   "outputs": [
    {
     "data": {
      "text/plain": [
       "7958"
      ]
     },
     "execution_count": 10,
     "metadata": {},
     "output_type": "execute_result"
    }
   ],
   "source": [
    "first_drop_dataset.Price.isnull().sum()"
   ]
  },
  {
   "cell_type": "code",
   "execution_count": 11,
   "id": "235c9462",
   "metadata": {},
   "outputs": [
    {
     "data": {
      "text/plain": [
       "Index(['ID', 'Scrape ID', 'Last Scraped', 'Name', 'Summary', 'Space',\n",
       "       'Description', 'Experiences Offered', 'Neighborhood Overview', 'Notes',\n",
       "       'Transit', 'Access', 'Interaction', 'House Rules', 'Host ID',\n",
       "       'Host Name', 'Host Since', 'Host Location', 'Host About',\n",
       "       'Host Response Time', 'Host Response Rate', 'Host Acceptance Rate',\n",
       "       'Host Neighbourhood', 'Host Listings Count',\n",
       "       'Host Total Listings Count', 'Host Verifications', 'Street',\n",
       "       'Neighbourhood', 'Neighbourhood Cleansed',\n",
       "       'Neighbourhood Group Cleansed', 'City', 'State', 'Zipcode', 'Market',\n",
       "       'Smart Location', 'Country Code', 'Country', 'Property Type',\n",
       "       'Room Type', 'Accommodates', 'Bathrooms', 'Bedrooms', 'Beds',\n",
       "       'Bed Type', 'Amenities', 'Square Feet', 'Price', 'Weekly Price',\n",
       "       'Monthly Price', 'Security Deposit', 'Cleaning Fee', 'Guests Included',\n",
       "       'Extra People', 'Minimum Nights', 'Maximum Nights', 'Calendar Updated',\n",
       "       'Has Availability', 'Availability 30', 'Availability 60',\n",
       "       'Availability 90', 'Availability 365', 'Calendar last Scraped',\n",
       "       'Number of Reviews', 'First Review', 'Last Review',\n",
       "       'Review Scores Rating', 'Review Scores Accuracy',\n",
       "       'Review Scores Cleanliness', 'Review Scores Checkin',\n",
       "       'Review Scores Communication', 'Review Scores Location',\n",
       "       'Review Scores Value', 'License', 'Jurisdiction Names',\n",
       "       'Cancellation Policy', 'Calculated host listings count',\n",
       "       'Reviews per Month', 'Geolocation', 'Features'],\n",
       "      dtype='object')"
      ]
     },
     "execution_count": 11,
     "metadata": {},
     "output_type": "execute_result"
    }
   ],
   "source": [
    "first_drop_dataset.columns"
   ]
  },
  {
   "cell_type": "code",
   "execution_count": 12,
   "id": "5cfdacbb",
   "metadata": {},
   "outputs": [
    {
     "name": "stdout",
     "output_type": "stream",
     "text": [
      "<class 'pandas.core.frame.DataFrame'>\n",
      "RangeIndex: 494954 entries, 0 to 494953\n",
      "Data columns (total 79 columns):\n",
      " #   Column                          Non-Null Count   Dtype  \n",
      "---  ------                          --------------   -----  \n",
      " 0   ID                              494954 non-null  object \n",
      " 1   Scrape ID                       494954 non-null  object \n",
      " 2   Last Scraped                    494953 non-null  object \n",
      " 3   Name                            494536 non-null  object \n",
      " 4   Summary                         478753 non-null  object \n",
      " 5   Space                           347019 non-null  object \n",
      " 6   Description                     494794 non-null  object \n",
      " 7   Experiences Offered             494954 non-null  object \n",
      " 8   Neighborhood Overview           291604 non-null  object \n",
      " 9   Notes                           197643 non-null  object \n",
      " 10  Transit                         303786 non-null  object \n",
      " 11  Access                          268402 non-null  object \n",
      " 12  Interaction                     256550 non-null  object \n",
      " 13  House Rules                     297029 non-null  object \n",
      " 14  Host ID                         494954 non-null  int64  \n",
      " 15  Host Name                       494450 non-null  object \n",
      " 16  Host Since                      494449 non-null  object \n",
      " 17  Host Location                   492691 non-null  object \n",
      " 18  Host About                      296277 non-null  object \n",
      " 19  Host Response Time              379885 non-null  object \n",
      " 20  Host Response Rate              379884 non-null  float64\n",
      " 21  Host Acceptance Rate            42258 non-null   object \n",
      " 22  Host Neighbourhood              370737 non-null  object \n",
      " 23  Host Listings Count             494449 non-null  float64\n",
      " 24  Host Total Listings Count       494448 non-null  float64\n",
      " 25  Host Verifications              494618 non-null  object \n",
      " 26  Street                          494953 non-null  object \n",
      " 27  Neighbourhood                   345403 non-null  object \n",
      " 28  Neighbourhood Cleansed          494953 non-null  object \n",
      " 29  Neighbourhood Group Cleansed    102163 non-null  object \n",
      " 30  City                            494500 non-null  object \n",
      " 31  State                           445160 non-null  object \n",
      " 32  Zipcode                         475346 non-null  object \n",
      " 33  Market                          489299 non-null  object \n",
      " 34  Smart Location                  494952 non-null  object \n",
      " 35  Country Code                    494952 non-null  object \n",
      " 36  Country                         494951 non-null  object \n",
      " 37  Property Type                   494943 non-null  object \n",
      " 38  Room Type                       494953 non-null  object \n",
      " 39  Accommodates                    494891 non-null  float64\n",
      " 40  Bathrooms                       493428 non-null  float64\n",
      " 41  Bedrooms                        494328 non-null  float64\n",
      " 42  Beds                            494037 non-null  float64\n",
      " 43  Bed Type                        494953 non-null  object \n",
      " 44  Amenities                       490466 non-null  object \n",
      " 45  Square Feet                     12209 non-null   float64\n",
      " 46  Price                           486996 non-null  float64\n",
      " 47  Weekly Price                    97747 non-null   float64\n",
      " 48  Monthly Price                   96091 non-null   float64\n",
      " 49  Security Deposit                204012 non-null  float64\n",
      " 50  Cleaning Fee                    315715 non-null  float64\n",
      " 51  Guests Included                 494952 non-null  float64\n",
      " 52  Extra People                    494917 non-null  float64\n",
      " 53  Minimum Nights                  494952 non-null  float64\n",
      " 54  Maximum Nights                  494952 non-null  float64\n",
      " 55  Calendar Updated                494953 non-null  object \n",
      " 56  Has Availability                9307 non-null    object \n",
      " 57  Availability 30                 494952 non-null  float64\n",
      " 58  Availability 60                 494952 non-null  float64\n",
      " 59  Availability 90                 494952 non-null  float64\n",
      " 60  Availability 365                494952 non-null  float64\n",
      " 61  Calendar last Scraped           494952 non-null  object \n",
      " 62  Number of Reviews               494952 non-null  float64\n",
      " 63  First Review                    372947 non-null  object \n",
      " 64  Last Review                     373055 non-null  object \n",
      " 65  Review Scores Rating            367134 non-null  float64\n",
      " 66  Review Scores Accuracy          366237 non-null  float64\n",
      " 67  Review Scores Cleanliness       366479 non-null  float64\n",
      " 68  Review Scores Checkin           365918 non-null  float64\n",
      " 69  Review Scores Communication     366434 non-null  float64\n",
      " 70  Review Scores Location          365969 non-null  float64\n",
      " 71  Review Scores Value             365873 non-null  float64\n",
      " 72  License                         14596 non-null   object \n",
      " 73  Jurisdiction Names              134553 non-null  object \n",
      " 74  Cancellation Policy             494952 non-null  object \n",
      " 75  Calculated host listings count  494087 non-null  float64\n",
      " 76  Reviews per Month               372947 non-null  float64\n",
      " 77  Geolocation                     494953 non-null  object \n",
      " 78  Features                        494648 non-null  object \n",
      "dtypes: float64(31), int64(1), object(47)\n",
      "memory usage: 298.3+ MB\n"
     ]
    }
   ],
   "source": [
    "first_drop_dataset.info()"
   ]
  },
  {
   "cell_type": "code",
   "execution_count": 22,
   "id": "38213361",
   "metadata": {},
   "outputs": [],
   "source": [
    "#new_air['Availability 30'].value_counts()"
   ]
  },
  {
   "cell_type": "code",
   "execution_count": 137,
   "id": "d24278cc",
   "metadata": {},
   "outputs": [],
   "source": [
    "#new=new_air.loc[:,['City','Zipcode','Property Type','Room Type','Accommodates','Bathrooms','Bedrooms','Beds',\n",
    " #              'Bed Type','Amenities','Square Feet','Price','Security Deposit','Cleaning Fee','Guests Included',\n",
    "  #             'Minimum Nights','Availability 30','Number of Reviews','Review Scores Rating','Review Scores Accuracy',\n",
    "   #            'Review Scores Cleanliness','Review Scores Checkin','Review Scores Communication','Review Scores Location',\n",
    "    #           'Review Scores Value','Cancellation Policy']]"
   ]
  },
  {
   "cell_type": "code",
   "execution_count": 60,
   "id": "416b8b47",
   "metadata": {},
   "outputs": [
    {
     "data": {
      "text/plain": [
       "486996"
      ]
     },
     "execution_count": 60,
     "metadata": {},
     "output_type": "execute_result"
    }
   ],
   "source": [
    "494954-7958"
   ]
  },
  {
   "cell_type": "code",
   "execution_count": 61,
   "id": "0193a6fd",
   "metadata": {},
   "outputs": [
    {
     "data": {
      "text/plain": [
       "7958"
      ]
     },
     "execution_count": 61,
     "metadata": {},
     "output_type": "execute_result"
    }
   ],
   "source": [
    "new.Price.isnull().sum()"
   ]
  },
  {
   "cell_type": "code",
   "execution_count": 85,
   "id": "eb643fb4",
   "metadata": {},
   "outputs": [],
   "source": [
    "#new1=new.loc[new.Price>=0]"
   ]
  },
  {
   "cell_type": "code",
   "execution_count": null,
   "id": "5703fd93",
   "metadata": {},
   "outputs": [],
   "source": [
    "# Price                        486371 |    486996"
   ]
  },
  {
   "cell_type": "code",
   "execution_count": 138,
   "id": "b46bfd9c",
   "metadata": {},
   "outputs": [
    {
     "data": {
      "text/plain": [
       "array(['GB', 'US', 'ES', 'AU', 'CA', 'NL', 'GR', 'DE', 'BE', 'DK', 'IE',\n",
       "       'HK', 'CN', 'CH', 'FR', 'IT', 'AT', nan, 'MX', 'UY', 'CU', 'It',\n",
       "       'VU', 'VA'], dtype=object)"
      ]
     },
     "execution_count": 138,
     "metadata": {},
     "output_type": "execute_result"
    }
   ],
   "source": [
    "first_drop_dataset['Country Code'].unique()"
   ]
  },
  {
   "cell_type": "code",
   "execution_count": 191,
   "id": "78728800",
   "metadata": {},
   "outputs": [
    {
     "data": {
      "text/plain": [
       "Index(['ID', 'Scrape ID', 'Last Scraped', 'Name', 'Summary', 'Space',\n",
       "       'Description', 'Experiences Offered', 'Neighborhood Overview', 'Notes',\n",
       "       'Transit', 'Access', 'Interaction', 'House Rules', 'Host Name',\n",
       "       'Host Since', 'Host Location', 'Host About', 'Host Response Time',\n",
       "       'Host Acceptance Rate', 'Host Neighbourhood', 'Host Verifications',\n",
       "       'Street', 'Neighbourhood', 'Neighbourhood Cleansed',\n",
       "       'Neighbourhood Group Cleansed', 'City', 'State', 'Zipcode', 'Market',\n",
       "       'Smart Location', 'Country Code', 'Country', 'Property Type',\n",
       "       'Room Type', 'Bed Type', 'Amenities', 'Calendar Updated',\n",
       "       'Has Availability', 'Calendar last Scraped', 'First Review',\n",
       "       'Last Review', 'License', 'Jurisdiction Names', 'Cancellation Policy',\n",
       "       'Geolocation', 'Features'],\n",
       "      dtype='object')"
      ]
     },
     "execution_count": 191,
     "metadata": {},
     "output_type": "execute_result"
    }
   ],
   "source": [
    "first_drop_dataset.select_dtypes(include='O').columns"
   ]
  },
  {
   "cell_type": "code",
   "execution_count": 13,
   "id": "6b893edb",
   "metadata": {},
   "outputs": [],
   "source": [
    "new=first_drop_dataset.loc[first_drop_dataset['Country Code']=='US']"
   ]
  },
  {
   "cell_type": "code",
   "execution_count": 14,
   "id": "47e7de4b",
   "metadata": {},
   "outputs": [],
   "source": [
    "import seaborn as sns"
   ]
  },
  {
   "cell_type": "code",
   "execution_count": 113,
   "id": "4ab2bcbb",
   "metadata": {},
   "outputs": [],
   "source": [
    "#Accommodates,Bathrooms,Bedrooms,Beds,sqare Feet,Security Deposit,Cleaning Fee,Guests Included"
   ]
  },
  {
   "cell_type": "code",
   "execution_count": 15,
   "id": "4ab60825",
   "metadata": {},
   "outputs": [
    {
     "data": {
      "text/html": [
       "<div>\n",
       "<style scoped>\n",
       "    .dataframe tbody tr th:only-of-type {\n",
       "        vertical-align: middle;\n",
       "    }\n",
       "\n",
       "    .dataframe tbody tr th {\n",
       "        vertical-align: top;\n",
       "    }\n",
       "\n",
       "    .dataframe thead th {\n",
       "        text-align: right;\n",
       "    }\n",
       "</style>\n",
       "<table border=\"1\" class=\"dataframe\">\n",
       "  <thead>\n",
       "    <tr style=\"text-align: right;\">\n",
       "      <th></th>\n",
       "      <th>Host ID</th>\n",
       "      <th>Host Response Rate</th>\n",
       "      <th>Host Listings Count</th>\n",
       "      <th>Host Total Listings Count</th>\n",
       "      <th>Accommodates</th>\n",
       "      <th>Bathrooms</th>\n",
       "      <th>Bedrooms</th>\n",
       "      <th>Beds</th>\n",
       "      <th>Square Feet</th>\n",
       "      <th>Price</th>\n",
       "      <th>Weekly Price</th>\n",
       "      <th>Monthly Price</th>\n",
       "      <th>Security Deposit</th>\n",
       "      <th>Cleaning Fee</th>\n",
       "      <th>Guests Included</th>\n",
       "      <th>Extra People</th>\n",
       "      <th>Minimum Nights</th>\n",
       "      <th>Maximum Nights</th>\n",
       "      <th>Availability 30</th>\n",
       "      <th>Availability 60</th>\n",
       "      <th>Availability 90</th>\n",
       "      <th>Availability 365</th>\n",
       "      <th>Number of Reviews</th>\n",
       "      <th>Review Scores Rating</th>\n",
       "      <th>Review Scores Accuracy</th>\n",
       "      <th>Review Scores Cleanliness</th>\n",
       "      <th>Review Scores Checkin</th>\n",
       "      <th>Review Scores Communication</th>\n",
       "      <th>Review Scores Location</th>\n",
       "      <th>Review Scores Value</th>\n",
       "      <th>Calculated host listings count</th>\n",
       "      <th>Reviews per Month</th>\n",
       "    </tr>\n",
       "  </thead>\n",
       "  <tbody>\n",
       "    <tr>\n",
       "      <th>Host ID</th>\n",
       "      <td>1.000000</td>\n",
       "      <td>-0.035971</td>\n",
       "      <td>-0.028238</td>\n",
       "      <td>-0.028238</td>\n",
       "      <td>0.003155</td>\n",
       "      <td>0.013008</td>\n",
       "      <td>-0.009545</td>\n",
       "      <td>0.012558</td>\n",
       "      <td>-0.122420</td>\n",
       "      <td>-0.030328</td>\n",
       "      <td>-0.113534</td>\n",
       "      <td>-0.031489</td>\n",
       "      <td>-0.070683</td>\n",
       "      <td>-0.035259</td>\n",
       "      <td>-0.037254</td>\n",
       "      <td>-0.053147</td>\n",
       "      <td>-0.041048</td>\n",
       "      <td>-0.003867</td>\n",
       "      <td>0.079566</td>\n",
       "      <td>0.080437</td>\n",
       "      <td>0.079576</td>\n",
       "      <td>-0.031647</td>\n",
       "      <td>-0.205953</td>\n",
       "      <td>-0.040012</td>\n",
       "      <td>-0.034476</td>\n",
       "      <td>-0.017896</td>\n",
       "      <td>-0.036844</td>\n",
       "      <td>-0.054307</td>\n",
       "      <td>-0.009723</td>\n",
       "      <td>0.007837</td>\n",
       "      <td>-0.031805</td>\n",
       "      <td>0.132473</td>\n",
       "    </tr>\n",
       "    <tr>\n",
       "      <th>Host Response Rate</th>\n",
       "      <td>-0.035971</td>\n",
       "      <td>1.000000</td>\n",
       "      <td>0.008005</td>\n",
       "      <td>0.008005</td>\n",
       "      <td>0.051454</td>\n",
       "      <td>0.011511</td>\n",
       "      <td>0.022437</td>\n",
       "      <td>0.046141</td>\n",
       "      <td>-0.060180</td>\n",
       "      <td>-0.004118</td>\n",
       "      <td>0.024620</td>\n",
       "      <td>-0.012756</td>\n",
       "      <td>-0.004552</td>\n",
       "      <td>-0.021432</td>\n",
       "      <td>0.067583</td>\n",
       "      <td>0.028544</td>\n",
       "      <td>-0.016872</td>\n",
       "      <td>0.000440</td>\n",
       "      <td>-0.118264</td>\n",
       "      <td>-0.108882</td>\n",
       "      <td>-0.100809</td>\n",
       "      <td>-0.049582</td>\n",
       "      <td>0.125492</td>\n",
       "      <td>0.104776</td>\n",
       "      <td>0.096393</td>\n",
       "      <td>0.127586</td>\n",
       "      <td>0.098236</td>\n",
       "      <td>0.102136</td>\n",
       "      <td>0.047434</td>\n",
       "      <td>0.098995</td>\n",
       "      <td>0.023443</td>\n",
       "      <td>0.154960</td>\n",
       "    </tr>\n",
       "    <tr>\n",
       "      <th>Host Listings Count</th>\n",
       "      <td>-0.028238</td>\n",
       "      <td>0.008005</td>\n",
       "      <td>1.000000</td>\n",
       "      <td>1.000000</td>\n",
       "      <td>0.068160</td>\n",
       "      <td>0.065867</td>\n",
       "      <td>0.054351</td>\n",
       "      <td>0.043813</td>\n",
       "      <td>-0.008762</td>\n",
       "      <td>0.081473</td>\n",
       "      <td>-0.026917</td>\n",
       "      <td>0.133246</td>\n",
       "      <td>0.026786</td>\n",
       "      <td>0.135693</td>\n",
       "      <td>-0.034214</td>\n",
       "      <td>-0.054684</td>\n",
       "      <td>0.009804</td>\n",
       "      <td>-0.000664</td>\n",
       "      <td>0.093963</td>\n",
       "      <td>0.094660</td>\n",
       "      <td>0.092602</td>\n",
       "      <td>0.065147</td>\n",
       "      <td>-0.043581</td>\n",
       "      <td>-0.060522</td>\n",
       "      <td>-0.060454</td>\n",
       "      <td>-0.004263</td>\n",
       "      <td>-0.075563</td>\n",
       "      <td>-0.091507</td>\n",
       "      <td>-0.004385</td>\n",
       "      <td>-0.074479</td>\n",
       "      <td>0.672248</td>\n",
       "      <td>-0.050122</td>\n",
       "    </tr>\n",
       "    <tr>\n",
       "      <th>Host Total Listings Count</th>\n",
       "      <td>-0.028238</td>\n",
       "      <td>0.008005</td>\n",
       "      <td>1.000000</td>\n",
       "      <td>1.000000</td>\n",
       "      <td>0.068160</td>\n",
       "      <td>0.065867</td>\n",
       "      <td>0.054351</td>\n",
       "      <td>0.043813</td>\n",
       "      <td>-0.008762</td>\n",
       "      <td>0.081473</td>\n",
       "      <td>-0.026917</td>\n",
       "      <td>0.133246</td>\n",
       "      <td>0.026786</td>\n",
       "      <td>0.135693</td>\n",
       "      <td>-0.034214</td>\n",
       "      <td>-0.054684</td>\n",
       "      <td>0.009804</td>\n",
       "      <td>-0.000664</td>\n",
       "      <td>0.093963</td>\n",
       "      <td>0.094660</td>\n",
       "      <td>0.092602</td>\n",
       "      <td>0.065147</td>\n",
       "      <td>-0.043581</td>\n",
       "      <td>-0.060522</td>\n",
       "      <td>-0.060454</td>\n",
       "      <td>-0.004263</td>\n",
       "      <td>-0.075563</td>\n",
       "      <td>-0.091507</td>\n",
       "      <td>-0.004385</td>\n",
       "      <td>-0.074479</td>\n",
       "      <td>0.672248</td>\n",
       "      <td>-0.050122</td>\n",
       "    </tr>\n",
       "    <tr>\n",
       "      <th>Accommodates</th>\n",
       "      <td>0.003155</td>\n",
       "      <td>0.051454</td>\n",
       "      <td>0.068160</td>\n",
       "      <td>0.068160</td>\n",
       "      <td>1.000000</td>\n",
       "      <td>0.567732</td>\n",
       "      <td>0.753274</td>\n",
       "      <td>0.820264</td>\n",
       "      <td>0.403363</td>\n",
       "      <td>0.573297</td>\n",
       "      <td>0.350256</td>\n",
       "      <td>0.546158</td>\n",
       "      <td>0.280283</td>\n",
       "      <td>0.588749</td>\n",
       "      <td>0.531798</td>\n",
       "      <td>0.140580</td>\n",
       "      <td>-0.013184</td>\n",
       "      <td>0.002631</td>\n",
       "      <td>0.062951</td>\n",
       "      <td>0.060037</td>\n",
       "      <td>0.061358</td>\n",
       "      <td>0.114517</td>\n",
       "      <td>0.000070</td>\n",
       "      <td>0.008480</td>\n",
       "      <td>-0.010973</td>\n",
       "      <td>0.034633</td>\n",
       "      <td>-0.000602</td>\n",
       "      <td>-0.015284</td>\n",
       "      <td>-0.006308</td>\n",
       "      <td>-0.017974</td>\n",
       "      <td>0.107087</td>\n",
       "      <td>0.016328</td>\n",
       "    </tr>\n",
       "    <tr>\n",
       "      <th>Bathrooms</th>\n",
       "      <td>0.013008</td>\n",
       "      <td>0.011511</td>\n",
       "      <td>0.065867</td>\n",
       "      <td>0.065867</td>\n",
       "      <td>0.567732</td>\n",
       "      <td>1.000000</td>\n",
       "      <td>0.650213</td>\n",
       "      <td>0.574975</td>\n",
       "      <td>0.459533</td>\n",
       "      <td>0.461025</td>\n",
       "      <td>-0.013945</td>\n",
       "      <td>0.538447</td>\n",
       "      <td>0.256710</td>\n",
       "      <td>0.563426</td>\n",
       "      <td>0.299669</td>\n",
       "      <td>0.093780</td>\n",
       "      <td>0.010810</td>\n",
       "      <td>-0.001158</td>\n",
       "      <td>0.085725</td>\n",
       "      <td>0.072767</td>\n",
       "      <td>0.065451</td>\n",
       "      <td>0.083277</td>\n",
       "      <td>-0.071277</td>\n",
       "      <td>0.028460</td>\n",
       "      <td>0.001894</td>\n",
       "      <td>0.024378</td>\n",
       "      <td>-0.002799</td>\n",
       "      <td>-0.016186</td>\n",
       "      <td>0.000732</td>\n",
       "      <td>0.004182</td>\n",
       "      <td>0.117679</td>\n",
       "      <td>-0.064736</td>\n",
       "    </tr>\n",
       "    <tr>\n",
       "      <th>Bedrooms</th>\n",
       "      <td>-0.009545</td>\n",
       "      <td>0.022437</td>\n",
       "      <td>0.054351</td>\n",
       "      <td>0.054351</td>\n",
       "      <td>0.753274</td>\n",
       "      <td>0.650213</td>\n",
       "      <td>1.000000</td>\n",
       "      <td>0.732731</td>\n",
       "      <td>0.445697</td>\n",
       "      <td>0.546514</td>\n",
       "      <td>0.141301</td>\n",
       "      <td>0.541316</td>\n",
       "      <td>0.296909</td>\n",
       "      <td>0.588801</td>\n",
       "      <td>0.447578</td>\n",
       "      <td>0.108351</td>\n",
       "      <td>0.006396</td>\n",
       "      <td>-0.001609</td>\n",
       "      <td>0.047984</td>\n",
       "      <td>0.038125</td>\n",
       "      <td>0.033749</td>\n",
       "      <td>0.072451</td>\n",
       "      <td>-0.066527</td>\n",
       "      <td>0.032569</td>\n",
       "      <td>0.004814</td>\n",
       "      <td>0.033127</td>\n",
       "      <td>0.017319</td>\n",
       "      <td>0.002657</td>\n",
       "      <td>-0.005931</td>\n",
       "      <td>0.004798</td>\n",
       "      <td>0.073946</td>\n",
       "      <td>-0.076798</td>\n",
       "    </tr>\n",
       "    <tr>\n",
       "      <th>Beds</th>\n",
       "      <td>0.012558</td>\n",
       "      <td>0.046141</td>\n",
       "      <td>0.043813</td>\n",
       "      <td>0.043813</td>\n",
       "      <td>0.820264</td>\n",
       "      <td>0.574975</td>\n",
       "      <td>0.732731</td>\n",
       "      <td>1.000000</td>\n",
       "      <td>0.372535</td>\n",
       "      <td>0.483930</td>\n",
       "      <td>0.234022</td>\n",
       "      <td>0.492704</td>\n",
       "      <td>0.256266</td>\n",
       "      <td>0.541495</td>\n",
       "      <td>0.475747</td>\n",
       "      <td>0.129884</td>\n",
       "      <td>-0.003099</td>\n",
       "      <td>0.001462</td>\n",
       "      <td>0.067173</td>\n",
       "      <td>0.059781</td>\n",
       "      <td>0.059253</td>\n",
       "      <td>0.109790</td>\n",
       "      <td>-0.004796</td>\n",
       "      <td>-0.003821</td>\n",
       "      <td>-0.024587</td>\n",
       "      <td>0.021502</td>\n",
       "      <td>-0.005353</td>\n",
       "      <td>-0.019087</td>\n",
       "      <td>-0.021816</td>\n",
       "      <td>-0.019151</td>\n",
       "      <td>0.102535</td>\n",
       "      <td>0.005775</td>\n",
       "    </tr>\n",
       "    <tr>\n",
       "      <th>Square Feet</th>\n",
       "      <td>-0.122420</td>\n",
       "      <td>-0.060180</td>\n",
       "      <td>-0.008762</td>\n",
       "      <td>-0.008762</td>\n",
       "      <td>0.403363</td>\n",
       "      <td>0.459533</td>\n",
       "      <td>0.445697</td>\n",
       "      <td>0.372535</td>\n",
       "      <td>1.000000</td>\n",
       "      <td>0.358502</td>\n",
       "      <td>0.145995</td>\n",
       "      <td>0.312412</td>\n",
       "      <td>0.181723</td>\n",
       "      <td>0.383602</td>\n",
       "      <td>0.266244</td>\n",
       "      <td>0.111823</td>\n",
       "      <td>0.008585</td>\n",
       "      <td>0.012937</td>\n",
       "      <td>0.082414</td>\n",
       "      <td>0.070334</td>\n",
       "      <td>0.060742</td>\n",
       "      <td>0.048838</td>\n",
       "      <td>-0.137314</td>\n",
       "      <td>0.086473</td>\n",
       "      <td>0.038346</td>\n",
       "      <td>0.052370</td>\n",
       "      <td>0.030321</td>\n",
       "      <td>0.008062</td>\n",
       "      <td>0.057208</td>\n",
       "      <td>0.028782</td>\n",
       "      <td>-0.002086</td>\n",
       "      <td>-0.140297</td>\n",
       "    </tr>\n",
       "    <tr>\n",
       "      <th>Price</th>\n",
       "      <td>-0.030328</td>\n",
       "      <td>-0.004118</td>\n",
       "      <td>0.081473</td>\n",
       "      <td>0.081473</td>\n",
       "      <td>0.573297</td>\n",
       "      <td>0.461025</td>\n",
       "      <td>0.546514</td>\n",
       "      <td>0.483930</td>\n",
       "      <td>0.358502</td>\n",
       "      <td>1.000000</td>\n",
       "      <td>0.634008</td>\n",
       "      <td>0.815957</td>\n",
       "      <td>0.393314</td>\n",
       "      <td>0.649980</td>\n",
       "      <td>0.312492</td>\n",
       "      <td>0.097365</td>\n",
       "      <td>0.007067</td>\n",
       "      <td>-0.001747</td>\n",
       "      <td>0.055300</td>\n",
       "      <td>0.041263</td>\n",
       "      <td>0.033300</td>\n",
       "      <td>0.041561</td>\n",
       "      <td>-0.093251</td>\n",
       "      <td>0.072650</td>\n",
       "      <td>0.031185</td>\n",
       "      <td>0.076713</td>\n",
       "      <td>0.019687</td>\n",
       "      <td>0.014746</td>\n",
       "      <td>0.119251</td>\n",
       "      <td>-0.011753</td>\n",
       "      <td>0.075582</td>\n",
       "      <td>-0.117306</td>\n",
       "    </tr>\n",
       "    <tr>\n",
       "      <th>Weekly Price</th>\n",
       "      <td>-0.113534</td>\n",
       "      <td>0.024620</td>\n",
       "      <td>-0.026917</td>\n",
       "      <td>-0.026917</td>\n",
       "      <td>0.350256</td>\n",
       "      <td>-0.013945</td>\n",
       "      <td>0.141301</td>\n",
       "      <td>0.234022</td>\n",
       "      <td>0.145995</td>\n",
       "      <td>0.634008</td>\n",
       "      <td>1.000000</td>\n",
       "      <td>0.836389</td>\n",
       "      <td>0.197058</td>\n",
       "      <td>0.428990</td>\n",
       "      <td>0.296316</td>\n",
       "      <td>0.086261</td>\n",
       "      <td>0.015522</td>\n",
       "      <td>-0.000437</td>\n",
       "      <td>-0.032819</td>\n",
       "      <td>-0.032534</td>\n",
       "      <td>-0.025720</td>\n",
       "      <td>0.001325</td>\n",
       "      <td>0.093156</td>\n",
       "      <td>0.076847</td>\n",
       "      <td>0.082717</td>\n",
       "      <td>0.109297</td>\n",
       "      <td>0.070100</td>\n",
       "      <td>0.075602</td>\n",
       "      <td>0.157819</td>\n",
       "      <td>0.013728</td>\n",
       "      <td>-0.066931</td>\n",
       "      <td>0.050226</td>\n",
       "    </tr>\n",
       "    <tr>\n",
       "      <th>Monthly Price</th>\n",
       "      <td>-0.031489</td>\n",
       "      <td>-0.012756</td>\n",
       "      <td>0.133246</td>\n",
       "      <td>0.133246</td>\n",
       "      <td>0.546158</td>\n",
       "      <td>0.538447</td>\n",
       "      <td>0.541316</td>\n",
       "      <td>0.492704</td>\n",
       "      <td>0.312412</td>\n",
       "      <td>0.815957</td>\n",
       "      <td>0.836389</td>\n",
       "      <td>1.000000</td>\n",
       "      <td>0.346880</td>\n",
       "      <td>0.653508</td>\n",
       "      <td>0.364351</td>\n",
       "      <td>0.191415</td>\n",
       "      <td>0.022863</td>\n",
       "      <td>-0.001214</td>\n",
       "      <td>0.110427</td>\n",
       "      <td>0.101528</td>\n",
       "      <td>0.092656</td>\n",
       "      <td>0.062963</td>\n",
       "      <td>-0.038923</td>\n",
       "      <td>0.051356</td>\n",
       "      <td>0.030501</td>\n",
       "      <td>0.068606</td>\n",
       "      <td>0.020217</td>\n",
       "      <td>0.002811</td>\n",
       "      <td>0.129759</td>\n",
       "      <td>-0.022972</td>\n",
       "      <td>0.111020</td>\n",
       "      <td>-0.056110</td>\n",
       "    </tr>\n",
       "    <tr>\n",
       "      <th>Security Deposit</th>\n",
       "      <td>-0.070683</td>\n",
       "      <td>-0.004552</td>\n",
       "      <td>0.026786</td>\n",
       "      <td>0.026786</td>\n",
       "      <td>0.280283</td>\n",
       "      <td>0.256710</td>\n",
       "      <td>0.296909</td>\n",
       "      <td>0.256266</td>\n",
       "      <td>0.181723</td>\n",
       "      <td>0.393314</td>\n",
       "      <td>0.197058</td>\n",
       "      <td>0.346880</td>\n",
       "      <td>1.000000</td>\n",
       "      <td>0.470781</td>\n",
       "      <td>0.195386</td>\n",
       "      <td>0.103481</td>\n",
       "      <td>0.093176</td>\n",
       "      <td>-0.001664</td>\n",
       "      <td>-0.005488</td>\n",
       "      <td>-0.013579</td>\n",
       "      <td>-0.016585</td>\n",
       "      <td>0.021058</td>\n",
       "      <td>-0.091177</td>\n",
       "      <td>0.054085</td>\n",
       "      <td>0.032347</td>\n",
       "      <td>0.049027</td>\n",
       "      <td>0.024345</td>\n",
       "      <td>0.024495</td>\n",
       "      <td>0.072278</td>\n",
       "      <td>0.001218</td>\n",
       "      <td>0.007661</td>\n",
       "      <td>-0.124307</td>\n",
       "    </tr>\n",
       "    <tr>\n",
       "      <th>Cleaning Fee</th>\n",
       "      <td>-0.035259</td>\n",
       "      <td>-0.021432</td>\n",
       "      <td>0.135693</td>\n",
       "      <td>0.135693</td>\n",
       "      <td>0.588749</td>\n",
       "      <td>0.563426</td>\n",
       "      <td>0.588801</td>\n",
       "      <td>0.541495</td>\n",
       "      <td>0.383602</td>\n",
       "      <td>0.649980</td>\n",
       "      <td>0.428990</td>\n",
       "      <td>0.653508</td>\n",
       "      <td>0.470781</td>\n",
       "      <td>1.000000</td>\n",
       "      <td>0.327253</td>\n",
       "      <td>0.131306</td>\n",
       "      <td>0.073311</td>\n",
       "      <td>-0.001921</td>\n",
       "      <td>0.076277</td>\n",
       "      <td>0.070558</td>\n",
       "      <td>0.066165</td>\n",
       "      <td>0.123944</td>\n",
       "      <td>-0.110295</td>\n",
       "      <td>0.028564</td>\n",
       "      <td>-0.003704</td>\n",
       "      <td>0.058281</td>\n",
       "      <td>-0.014513</td>\n",
       "      <td>-0.029434</td>\n",
       "      <td>0.071770</td>\n",
       "      <td>-0.039710</td>\n",
       "      <td>0.187122</td>\n",
       "      <td>-0.155810</td>\n",
       "    </tr>\n",
       "    <tr>\n",
       "      <th>Guests Included</th>\n",
       "      <td>-0.037254</td>\n",
       "      <td>0.067583</td>\n",
       "      <td>-0.034214</td>\n",
       "      <td>-0.034214</td>\n",
       "      <td>0.531798</td>\n",
       "      <td>0.299669</td>\n",
       "      <td>0.447578</td>\n",
       "      <td>0.475747</td>\n",
       "      <td>0.266244</td>\n",
       "      <td>0.312492</td>\n",
       "      <td>0.296316</td>\n",
       "      <td>0.364351</td>\n",
       "      <td>0.195386</td>\n",
       "      <td>0.327253</td>\n",
       "      <td>1.000000</td>\n",
       "      <td>0.381589</td>\n",
       "      <td>-0.007700</td>\n",
       "      <td>0.002803</td>\n",
       "      <td>0.037825</td>\n",
       "      <td>0.042111</td>\n",
       "      <td>0.048885</td>\n",
       "      <td>0.104418</td>\n",
       "      <td>0.082451</td>\n",
       "      <td>0.024715</td>\n",
       "      <td>0.016808</td>\n",
       "      <td>0.045313</td>\n",
       "      <td>0.027662</td>\n",
       "      <td>0.019497</td>\n",
       "      <td>-0.010353</td>\n",
       "      <td>0.004349</td>\n",
       "      <td>-0.013399</td>\n",
       "      <td>0.044736</td>\n",
       "    </tr>\n",
       "    <tr>\n",
       "      <th>Extra People</th>\n",
       "      <td>-0.053147</td>\n",
       "      <td>0.028544</td>\n",
       "      <td>-0.054684</td>\n",
       "      <td>-0.054684</td>\n",
       "      <td>0.140580</td>\n",
       "      <td>0.093780</td>\n",
       "      <td>0.108351</td>\n",
       "      <td>0.129884</td>\n",
       "      <td>0.111823</td>\n",
       "      <td>0.097365</td>\n",
       "      <td>0.086261</td>\n",
       "      <td>0.191415</td>\n",
       "      <td>0.103481</td>\n",
       "      <td>0.131306</td>\n",
       "      <td>0.381589</td>\n",
       "      <td>1.000000</td>\n",
       "      <td>0.002255</td>\n",
       "      <td>0.003043</td>\n",
       "      <td>0.089476</td>\n",
       "      <td>0.096825</td>\n",
       "      <td>0.100463</td>\n",
       "      <td>0.109941</td>\n",
       "      <td>0.060544</td>\n",
       "      <td>0.012555</td>\n",
       "      <td>-0.002012</td>\n",
       "      <td>0.022397</td>\n",
       "      <td>0.008937</td>\n",
       "      <td>0.010015</td>\n",
       "      <td>0.003366</td>\n",
       "      <td>-0.017643</td>\n",
       "      <td>-0.044063</td>\n",
       "      <td>-0.005229</td>\n",
       "    </tr>\n",
       "    <tr>\n",
       "      <th>Minimum Nights</th>\n",
       "      <td>-0.041048</td>\n",
       "      <td>-0.016872</td>\n",
       "      <td>0.009804</td>\n",
       "      <td>0.009804</td>\n",
       "      <td>-0.013184</td>\n",
       "      <td>0.010810</td>\n",
       "      <td>0.006396</td>\n",
       "      <td>-0.003099</td>\n",
       "      <td>0.008585</td>\n",
       "      <td>0.007067</td>\n",
       "      <td>0.015522</td>\n",
       "      <td>0.022863</td>\n",
       "      <td>0.093176</td>\n",
       "      <td>0.073311</td>\n",
       "      <td>-0.007700</td>\n",
       "      <td>0.002255</td>\n",
       "      <td>1.000000</td>\n",
       "      <td>-0.001396</td>\n",
       "      <td>-0.000594</td>\n",
       "      <td>-0.003835</td>\n",
       "      <td>-0.006946</td>\n",
       "      <td>0.013771</td>\n",
       "      <td>-0.039001</td>\n",
       "      <td>-0.009587</td>\n",
       "      <td>-0.011629</td>\n",
       "      <td>-0.018180</td>\n",
       "      <td>-0.018319</td>\n",
       "      <td>-0.012255</td>\n",
       "      <td>-0.006780</td>\n",
       "      <td>-0.016931</td>\n",
       "      <td>0.009774</td>\n",
       "      <td>-0.081109</td>\n",
       "    </tr>\n",
       "    <tr>\n",
       "      <th>Maximum Nights</th>\n",
       "      <td>-0.003867</td>\n",
       "      <td>0.000440</td>\n",
       "      <td>-0.000664</td>\n",
       "      <td>-0.000664</td>\n",
       "      <td>0.002631</td>\n",
       "      <td>-0.001158</td>\n",
       "      <td>-0.001609</td>\n",
       "      <td>0.001462</td>\n",
       "      <td>0.012937</td>\n",
       "      <td>-0.001747</td>\n",
       "      <td>-0.000437</td>\n",
       "      <td>-0.001214</td>\n",
       "      <td>-0.001664</td>\n",
       "      <td>-0.001921</td>\n",
       "      <td>0.002803</td>\n",
       "      <td>0.003043</td>\n",
       "      <td>-0.001396</td>\n",
       "      <td>1.000000</td>\n",
       "      <td>0.003360</td>\n",
       "      <td>0.002535</td>\n",
       "      <td>0.002213</td>\n",
       "      <td>0.002664</td>\n",
       "      <td>0.005318</td>\n",
       "      <td>-0.012284</td>\n",
       "      <td>-0.012240</td>\n",
       "      <td>-0.006772</td>\n",
       "      <td>-0.008877</td>\n",
       "      <td>-0.012564</td>\n",
       "      <td>-0.009442</td>\n",
       "      <td>-0.008425</td>\n",
       "      <td>0.000535</td>\n",
       "      <td>0.000643</td>\n",
       "    </tr>\n",
       "    <tr>\n",
       "      <th>Availability 30</th>\n",
       "      <td>0.079566</td>\n",
       "      <td>-0.118264</td>\n",
       "      <td>0.093963</td>\n",
       "      <td>0.093963</td>\n",
       "      <td>0.062951</td>\n",
       "      <td>0.085725</td>\n",
       "      <td>0.047984</td>\n",
       "      <td>0.067173</td>\n",
       "      <td>0.082414</td>\n",
       "      <td>0.055300</td>\n",
       "      <td>-0.032819</td>\n",
       "      <td>0.110427</td>\n",
       "      <td>-0.005488</td>\n",
       "      <td>0.076277</td>\n",
       "      <td>0.037825</td>\n",
       "      <td>0.089476</td>\n",
       "      <td>-0.000594</td>\n",
       "      <td>0.003360</td>\n",
       "      <td>1.000000</td>\n",
       "      <td>0.934622</td>\n",
       "      <td>0.872976</td>\n",
       "      <td>0.566107</td>\n",
       "      <td>-0.016504</td>\n",
       "      <td>-0.060299</td>\n",
       "      <td>-0.076503</td>\n",
       "      <td>-0.003007</td>\n",
       "      <td>-0.047224</td>\n",
       "      <td>-0.063451</td>\n",
       "      <td>-0.050282</td>\n",
       "      <td>-0.080212</td>\n",
       "      <td>0.114231</td>\n",
       "      <td>-0.010398</td>\n",
       "    </tr>\n",
       "    <tr>\n",
       "      <th>Availability 60</th>\n",
       "      <td>0.080437</td>\n",
       "      <td>-0.108882</td>\n",
       "      <td>0.094660</td>\n",
       "      <td>0.094660</td>\n",
       "      <td>0.060037</td>\n",
       "      <td>0.072767</td>\n",
       "      <td>0.038125</td>\n",
       "      <td>0.059781</td>\n",
       "      <td>0.070334</td>\n",
       "      <td>0.041263</td>\n",
       "      <td>-0.032534</td>\n",
       "      <td>0.101528</td>\n",
       "      <td>-0.013579</td>\n",
       "      <td>0.070558</td>\n",
       "      <td>0.042111</td>\n",
       "      <td>0.096825</td>\n",
       "      <td>-0.003835</td>\n",
       "      <td>0.002535</td>\n",
       "      <td>0.934622</td>\n",
       "      <td>1.000000</td>\n",
       "      <td>0.970554</td>\n",
       "      <td>0.637886</td>\n",
       "      <td>0.023145</td>\n",
       "      <td>-0.055568</td>\n",
       "      <td>-0.068882</td>\n",
       "      <td>0.008767</td>\n",
       "      <td>-0.039228</td>\n",
       "      <td>-0.059836</td>\n",
       "      <td>-0.047594</td>\n",
       "      <td>-0.073204</td>\n",
       "      <td>0.120636</td>\n",
       "      <td>0.033485</td>\n",
       "    </tr>\n",
       "    <tr>\n",
       "      <th>Availability 90</th>\n",
       "      <td>0.079576</td>\n",
       "      <td>-0.100809</td>\n",
       "      <td>0.092602</td>\n",
       "      <td>0.092602</td>\n",
       "      <td>0.061358</td>\n",
       "      <td>0.065451</td>\n",
       "      <td>0.033749</td>\n",
       "      <td>0.059253</td>\n",
       "      <td>0.060742</td>\n",
       "      <td>0.033300</td>\n",
       "      <td>-0.025720</td>\n",
       "      <td>0.092656</td>\n",
       "      <td>-0.016585</td>\n",
       "      <td>0.066165</td>\n",
       "      <td>0.048885</td>\n",
       "      <td>0.100463</td>\n",
       "      <td>-0.006946</td>\n",
       "      <td>0.002213</td>\n",
       "      <td>0.872976</td>\n",
       "      <td>0.970554</td>\n",
       "      <td>1.000000</td>\n",
       "      <td>0.673744</td>\n",
       "      <td>0.052016</td>\n",
       "      <td>-0.049119</td>\n",
       "      <td>-0.060839</td>\n",
       "      <td>0.018739</td>\n",
       "      <td>-0.031874</td>\n",
       "      <td>-0.055046</td>\n",
       "      <td>-0.044386</td>\n",
       "      <td>-0.065390</td>\n",
       "      <td>0.122611</td>\n",
       "      <td>0.066662</td>\n",
       "    </tr>\n",
       "    <tr>\n",
       "      <th>Availability 365</th>\n",
       "      <td>-0.031647</td>\n",
       "      <td>-0.049582</td>\n",
       "      <td>0.065147</td>\n",
       "      <td>0.065147</td>\n",
       "      <td>0.114517</td>\n",
       "      <td>0.083277</td>\n",
       "      <td>0.072451</td>\n",
       "      <td>0.109790</td>\n",
       "      <td>0.048838</td>\n",
       "      <td>0.041561</td>\n",
       "      <td>0.001325</td>\n",
       "      <td>0.062963</td>\n",
       "      <td>0.021058</td>\n",
       "      <td>0.123944</td>\n",
       "      <td>0.104418</td>\n",
       "      <td>0.109941</td>\n",
       "      <td>0.013771</td>\n",
       "      <td>0.002664</td>\n",
       "      <td>0.566107</td>\n",
       "      <td>0.637886</td>\n",
       "      <td>0.673744</td>\n",
       "      <td>1.000000</td>\n",
       "      <td>0.166465</td>\n",
       "      <td>-0.051464</td>\n",
       "      <td>-0.060130</td>\n",
       "      <td>0.016197</td>\n",
       "      <td>-0.029800</td>\n",
       "      <td>-0.049426</td>\n",
       "      <td>-0.052034</td>\n",
       "      <td>-0.068075</td>\n",
       "      <td>0.116411</td>\n",
       "      <td>0.070786</td>\n",
       "    </tr>\n",
       "    <tr>\n",
       "      <th>Number of Reviews</th>\n",
       "      <td>-0.205953</td>\n",
       "      <td>0.125492</td>\n",
       "      <td>-0.043581</td>\n",
       "      <td>-0.043581</td>\n",
       "      <td>0.000070</td>\n",
       "      <td>-0.071277</td>\n",
       "      <td>-0.066527</td>\n",
       "      <td>-0.004796</td>\n",
       "      <td>-0.137314</td>\n",
       "      <td>-0.093251</td>\n",
       "      <td>0.093156</td>\n",
       "      <td>-0.038923</td>\n",
       "      <td>-0.091177</td>\n",
       "      <td>-0.110295</td>\n",
       "      <td>0.082451</td>\n",
       "      <td>0.060544</td>\n",
       "      <td>-0.039001</td>\n",
       "      <td>0.005318</td>\n",
       "      <td>-0.016504</td>\n",
       "      <td>0.023145</td>\n",
       "      <td>0.052016</td>\n",
       "      <td>0.166465</td>\n",
       "      <td>1.000000</td>\n",
       "      <td>0.022169</td>\n",
       "      <td>0.049164</td>\n",
       "      <td>0.063777</td>\n",
       "      <td>0.066311</td>\n",
       "      <td>0.056793</td>\n",
       "      <td>-0.007561</td>\n",
       "      <td>0.029855</td>\n",
       "      <td>-0.023981</td>\n",
       "      <td>0.518180</td>\n",
       "    </tr>\n",
       "    <tr>\n",
       "      <th>Review Scores Rating</th>\n",
       "      <td>-0.040012</td>\n",
       "      <td>0.104776</td>\n",
       "      <td>-0.060522</td>\n",
       "      <td>-0.060522</td>\n",
       "      <td>0.008480</td>\n",
       "      <td>0.028460</td>\n",
       "      <td>0.032569</td>\n",
       "      <td>-0.003821</td>\n",
       "      <td>0.086473</td>\n",
       "      <td>0.072650</td>\n",
       "      <td>0.076847</td>\n",
       "      <td>0.051356</td>\n",
       "      <td>0.054085</td>\n",
       "      <td>0.028564</td>\n",
       "      <td>0.024715</td>\n",
       "      <td>0.012555</td>\n",
       "      <td>-0.009587</td>\n",
       "      <td>-0.012284</td>\n",
       "      <td>-0.060299</td>\n",
       "      <td>-0.055568</td>\n",
       "      <td>-0.049119</td>\n",
       "      <td>-0.051464</td>\n",
       "      <td>0.022169</td>\n",
       "      <td>1.000000</td>\n",
       "      <td>0.718624</td>\n",
       "      <td>0.712272</td>\n",
       "      <td>0.577015</td>\n",
       "      <td>0.610250</td>\n",
       "      <td>0.469761</td>\n",
       "      <td>0.748752</td>\n",
       "      <td>-0.099893</td>\n",
       "      <td>0.058004</td>\n",
       "    </tr>\n",
       "    <tr>\n",
       "      <th>Review Scores Accuracy</th>\n",
       "      <td>-0.034476</td>\n",
       "      <td>0.096393</td>\n",
       "      <td>-0.060454</td>\n",
       "      <td>-0.060454</td>\n",
       "      <td>-0.010973</td>\n",
       "      <td>0.001894</td>\n",
       "      <td>0.004814</td>\n",
       "      <td>-0.024587</td>\n",
       "      <td>0.038346</td>\n",
       "      <td>0.031185</td>\n",
       "      <td>0.082717</td>\n",
       "      <td>0.030501</td>\n",
       "      <td>0.032347</td>\n",
       "      <td>-0.003704</td>\n",
       "      <td>0.016808</td>\n",
       "      <td>-0.002012</td>\n",
       "      <td>-0.011629</td>\n",
       "      <td>-0.012240</td>\n",
       "      <td>-0.076503</td>\n",
       "      <td>-0.068882</td>\n",
       "      <td>-0.060839</td>\n",
       "      <td>-0.060130</td>\n",
       "      <td>0.049164</td>\n",
       "      <td>0.718624</td>\n",
       "      <td>1.000000</td>\n",
       "      <td>0.607143</td>\n",
       "      <td>0.508216</td>\n",
       "      <td>0.528993</td>\n",
       "      <td>0.390261</td>\n",
       "      <td>0.653509</td>\n",
       "      <td>-0.094264</td>\n",
       "      <td>0.088703</td>\n",
       "    </tr>\n",
       "    <tr>\n",
       "      <th>Review Scores Cleanliness</th>\n",
       "      <td>-0.017896</td>\n",
       "      <td>0.127586</td>\n",
       "      <td>-0.004263</td>\n",
       "      <td>-0.004263</td>\n",
       "      <td>0.034633</td>\n",
       "      <td>0.024378</td>\n",
       "      <td>0.033127</td>\n",
       "      <td>0.021502</td>\n",
       "      <td>0.052370</td>\n",
       "      <td>0.076713</td>\n",
       "      <td>0.109297</td>\n",
       "      <td>0.068606</td>\n",
       "      <td>0.049027</td>\n",
       "      <td>0.058281</td>\n",
       "      <td>0.045313</td>\n",
       "      <td>0.022397</td>\n",
       "      <td>-0.018180</td>\n",
       "      <td>-0.006772</td>\n",
       "      <td>-0.003007</td>\n",
       "      <td>0.008767</td>\n",
       "      <td>0.018739</td>\n",
       "      <td>0.016197</td>\n",
       "      <td>0.063777</td>\n",
       "      <td>0.712272</td>\n",
       "      <td>0.607143</td>\n",
       "      <td>1.000000</td>\n",
       "      <td>0.454079</td>\n",
       "      <td>0.450584</td>\n",
       "      <td>0.350731</td>\n",
       "      <td>0.612469</td>\n",
       "      <td>-0.028746</td>\n",
       "      <td>0.113769</td>\n",
       "    </tr>\n",
       "    <tr>\n",
       "      <th>Review Scores Checkin</th>\n",
       "      <td>-0.036844</td>\n",
       "      <td>0.098236</td>\n",
       "      <td>-0.075563</td>\n",
       "      <td>-0.075563</td>\n",
       "      <td>-0.000602</td>\n",
       "      <td>-0.002799</td>\n",
       "      <td>0.017319</td>\n",
       "      <td>-0.005353</td>\n",
       "      <td>0.030321</td>\n",
       "      <td>0.019687</td>\n",
       "      <td>0.070100</td>\n",
       "      <td>0.020217</td>\n",
       "      <td>0.024345</td>\n",
       "      <td>-0.014513</td>\n",
       "      <td>0.027662</td>\n",
       "      <td>0.008937</td>\n",
       "      <td>-0.018319</td>\n",
       "      <td>-0.008877</td>\n",
       "      <td>-0.047224</td>\n",
       "      <td>-0.039228</td>\n",
       "      <td>-0.031874</td>\n",
       "      <td>-0.029800</td>\n",
       "      <td>0.066311</td>\n",
       "      <td>0.577015</td>\n",
       "      <td>0.508216</td>\n",
       "      <td>0.454079</td>\n",
       "      <td>1.000000</td>\n",
       "      <td>0.663834</td>\n",
       "      <td>0.340420</td>\n",
       "      <td>0.505601</td>\n",
       "      <td>-0.099927</td>\n",
       "      <td>0.080330</td>\n",
       "    </tr>\n",
       "    <tr>\n",
       "      <th>Review Scores Communication</th>\n",
       "      <td>-0.054307</td>\n",
       "      <td>0.102136</td>\n",
       "      <td>-0.091507</td>\n",
       "      <td>-0.091507</td>\n",
       "      <td>-0.015284</td>\n",
       "      <td>-0.016186</td>\n",
       "      <td>0.002657</td>\n",
       "      <td>-0.019087</td>\n",
       "      <td>0.008062</td>\n",
       "      <td>0.014746</td>\n",
       "      <td>0.075602</td>\n",
       "      <td>0.002811</td>\n",
       "      <td>0.024495</td>\n",
       "      <td>-0.029434</td>\n",
       "      <td>0.019497</td>\n",
       "      <td>0.010015</td>\n",
       "      <td>-0.012255</td>\n",
       "      <td>-0.012564</td>\n",
       "      <td>-0.063451</td>\n",
       "      <td>-0.059836</td>\n",
       "      <td>-0.055046</td>\n",
       "      <td>-0.049426</td>\n",
       "      <td>0.056793</td>\n",
       "      <td>0.610250</td>\n",
       "      <td>0.528993</td>\n",
       "      <td>0.450584</td>\n",
       "      <td>0.663834</td>\n",
       "      <td>1.000000</td>\n",
       "      <td>0.359738</td>\n",
       "      <td>0.535809</td>\n",
       "      <td>-0.123697</td>\n",
       "      <td>0.066718</td>\n",
       "    </tr>\n",
       "    <tr>\n",
       "      <th>Review Scores Location</th>\n",
       "      <td>-0.009723</td>\n",
       "      <td>0.047434</td>\n",
       "      <td>-0.004385</td>\n",
       "      <td>-0.004385</td>\n",
       "      <td>-0.006308</td>\n",
       "      <td>0.000732</td>\n",
       "      <td>-0.005931</td>\n",
       "      <td>-0.021816</td>\n",
       "      <td>0.057208</td>\n",
       "      <td>0.119251</td>\n",
       "      <td>0.157819</td>\n",
       "      <td>0.129759</td>\n",
       "      <td>0.072278</td>\n",
       "      <td>0.071770</td>\n",
       "      <td>-0.010353</td>\n",
       "      <td>0.003366</td>\n",
       "      <td>-0.006780</td>\n",
       "      <td>-0.009442</td>\n",
       "      <td>-0.050282</td>\n",
       "      <td>-0.047594</td>\n",
       "      <td>-0.044386</td>\n",
       "      <td>-0.052034</td>\n",
       "      <td>-0.007561</td>\n",
       "      <td>0.469761</td>\n",
       "      <td>0.390261</td>\n",
       "      <td>0.350731</td>\n",
       "      <td>0.340420</td>\n",
       "      <td>0.359738</td>\n",
       "      <td>1.000000</td>\n",
       "      <td>0.462286</td>\n",
       "      <td>-0.034661</td>\n",
       "      <td>0.039849</td>\n",
       "    </tr>\n",
       "    <tr>\n",
       "      <th>Review Scores Value</th>\n",
       "      <td>0.007837</td>\n",
       "      <td>0.098995</td>\n",
       "      <td>-0.074479</td>\n",
       "      <td>-0.074479</td>\n",
       "      <td>-0.017974</td>\n",
       "      <td>0.004182</td>\n",
       "      <td>0.004798</td>\n",
       "      <td>-0.019151</td>\n",
       "      <td>0.028782</td>\n",
       "      <td>-0.011753</td>\n",
       "      <td>0.013728</td>\n",
       "      <td>-0.022972</td>\n",
       "      <td>0.001218</td>\n",
       "      <td>-0.039710</td>\n",
       "      <td>0.004349</td>\n",
       "      <td>-0.017643</td>\n",
       "      <td>-0.016931</td>\n",
       "      <td>-0.008425</td>\n",
       "      <td>-0.080212</td>\n",
       "      <td>-0.073204</td>\n",
       "      <td>-0.065390</td>\n",
       "      <td>-0.068075</td>\n",
       "      <td>0.029855</td>\n",
       "      <td>0.748752</td>\n",
       "      <td>0.653509</td>\n",
       "      <td>0.612469</td>\n",
       "      <td>0.505601</td>\n",
       "      <td>0.535809</td>\n",
       "      <td>0.462286</td>\n",
       "      <td>1.000000</td>\n",
       "      <td>-0.101240</td>\n",
       "      <td>0.103138</td>\n",
       "    </tr>\n",
       "    <tr>\n",
       "      <th>Calculated host listings count</th>\n",
       "      <td>-0.031805</td>\n",
       "      <td>0.023443</td>\n",
       "      <td>0.672248</td>\n",
       "      <td>0.672248</td>\n",
       "      <td>0.107087</td>\n",
       "      <td>0.117679</td>\n",
       "      <td>0.073946</td>\n",
       "      <td>0.102535</td>\n",
       "      <td>-0.002086</td>\n",
       "      <td>0.075582</td>\n",
       "      <td>-0.066931</td>\n",
       "      <td>0.111020</td>\n",
       "      <td>0.007661</td>\n",
       "      <td>0.187122</td>\n",
       "      <td>-0.013399</td>\n",
       "      <td>-0.044063</td>\n",
       "      <td>0.009774</td>\n",
       "      <td>0.000535</td>\n",
       "      <td>0.114231</td>\n",
       "      <td>0.120636</td>\n",
       "      <td>0.122611</td>\n",
       "      <td>0.116411</td>\n",
       "      <td>-0.023981</td>\n",
       "      <td>-0.099893</td>\n",
       "      <td>-0.094264</td>\n",
       "      <td>-0.028746</td>\n",
       "      <td>-0.099927</td>\n",
       "      <td>-0.123697</td>\n",
       "      <td>-0.034661</td>\n",
       "      <td>-0.101240</td>\n",
       "      <td>1.000000</td>\n",
       "      <td>-0.025730</td>\n",
       "    </tr>\n",
       "    <tr>\n",
       "      <th>Reviews per Month</th>\n",
       "      <td>0.132473</td>\n",
       "      <td>0.154960</td>\n",
       "      <td>-0.050122</td>\n",
       "      <td>-0.050122</td>\n",
       "      <td>0.016328</td>\n",
       "      <td>-0.064736</td>\n",
       "      <td>-0.076798</td>\n",
       "      <td>0.005775</td>\n",
       "      <td>-0.140297</td>\n",
       "      <td>-0.117306</td>\n",
       "      <td>0.050226</td>\n",
       "      <td>-0.056110</td>\n",
       "      <td>-0.124307</td>\n",
       "      <td>-0.155810</td>\n",
       "      <td>0.044736</td>\n",
       "      <td>-0.005229</td>\n",
       "      <td>-0.081109</td>\n",
       "      <td>0.000643</td>\n",
       "      <td>-0.010398</td>\n",
       "      <td>0.033485</td>\n",
       "      <td>0.066662</td>\n",
       "      <td>0.070786</td>\n",
       "      <td>0.518180</td>\n",
       "      <td>0.058004</td>\n",
       "      <td>0.088703</td>\n",
       "      <td>0.113769</td>\n",
       "      <td>0.080330</td>\n",
       "      <td>0.066718</td>\n",
       "      <td>0.039849</td>\n",
       "      <td>0.103138</td>\n",
       "      <td>-0.025730</td>\n",
       "      <td>1.000000</td>\n",
       "    </tr>\n",
       "  </tbody>\n",
       "</table>\n",
       "</div>"
      ],
      "text/plain": [
       "                                 Host ID  Host Response Rate  \\\n",
       "Host ID                         1.000000           -0.035971   \n",
       "Host Response Rate             -0.035971            1.000000   \n",
       "Host Listings Count            -0.028238            0.008005   \n",
       "Host Total Listings Count      -0.028238            0.008005   \n",
       "Accommodates                    0.003155            0.051454   \n",
       "Bathrooms                       0.013008            0.011511   \n",
       "Bedrooms                       -0.009545            0.022437   \n",
       "Beds                            0.012558            0.046141   \n",
       "Square Feet                    -0.122420           -0.060180   \n",
       "Price                          -0.030328           -0.004118   \n",
       "Weekly Price                   -0.113534            0.024620   \n",
       "Monthly Price                  -0.031489           -0.012756   \n",
       "Security Deposit               -0.070683           -0.004552   \n",
       "Cleaning Fee                   -0.035259           -0.021432   \n",
       "Guests Included                -0.037254            0.067583   \n",
       "Extra People                   -0.053147            0.028544   \n",
       "Minimum Nights                 -0.041048           -0.016872   \n",
       "Maximum Nights                 -0.003867            0.000440   \n",
       "Availability 30                 0.079566           -0.118264   \n",
       "Availability 60                 0.080437           -0.108882   \n",
       "Availability 90                 0.079576           -0.100809   \n",
       "Availability 365               -0.031647           -0.049582   \n",
       "Number of Reviews              -0.205953            0.125492   \n",
       "Review Scores Rating           -0.040012            0.104776   \n",
       "Review Scores Accuracy         -0.034476            0.096393   \n",
       "Review Scores Cleanliness      -0.017896            0.127586   \n",
       "Review Scores Checkin          -0.036844            0.098236   \n",
       "Review Scores Communication    -0.054307            0.102136   \n",
       "Review Scores Location         -0.009723            0.047434   \n",
       "Review Scores Value             0.007837            0.098995   \n",
       "Calculated host listings count -0.031805            0.023443   \n",
       "Reviews per Month               0.132473            0.154960   \n",
       "\n",
       "                                Host Listings Count  \\\n",
       "Host ID                                   -0.028238   \n",
       "Host Response Rate                         0.008005   \n",
       "Host Listings Count                        1.000000   \n",
       "Host Total Listings Count                  1.000000   \n",
       "Accommodates                               0.068160   \n",
       "Bathrooms                                  0.065867   \n",
       "Bedrooms                                   0.054351   \n",
       "Beds                                       0.043813   \n",
       "Square Feet                               -0.008762   \n",
       "Price                                      0.081473   \n",
       "Weekly Price                              -0.026917   \n",
       "Monthly Price                              0.133246   \n",
       "Security Deposit                           0.026786   \n",
       "Cleaning Fee                               0.135693   \n",
       "Guests Included                           -0.034214   \n",
       "Extra People                              -0.054684   \n",
       "Minimum Nights                             0.009804   \n",
       "Maximum Nights                            -0.000664   \n",
       "Availability 30                            0.093963   \n",
       "Availability 60                            0.094660   \n",
       "Availability 90                            0.092602   \n",
       "Availability 365                           0.065147   \n",
       "Number of Reviews                         -0.043581   \n",
       "Review Scores Rating                      -0.060522   \n",
       "Review Scores Accuracy                    -0.060454   \n",
       "Review Scores Cleanliness                 -0.004263   \n",
       "Review Scores Checkin                     -0.075563   \n",
       "Review Scores Communication               -0.091507   \n",
       "Review Scores Location                    -0.004385   \n",
       "Review Scores Value                       -0.074479   \n",
       "Calculated host listings count             0.672248   \n",
       "Reviews per Month                         -0.050122   \n",
       "\n",
       "                                Host Total Listings Count  Accommodates  \\\n",
       "Host ID                                         -0.028238      0.003155   \n",
       "Host Response Rate                               0.008005      0.051454   \n",
       "Host Listings Count                              1.000000      0.068160   \n",
       "Host Total Listings Count                        1.000000      0.068160   \n",
       "Accommodates                                     0.068160      1.000000   \n",
       "Bathrooms                                        0.065867      0.567732   \n",
       "Bedrooms                                         0.054351      0.753274   \n",
       "Beds                                             0.043813      0.820264   \n",
       "Square Feet                                     -0.008762      0.403363   \n",
       "Price                                            0.081473      0.573297   \n",
       "Weekly Price                                    -0.026917      0.350256   \n",
       "Monthly Price                                    0.133246      0.546158   \n",
       "Security Deposit                                 0.026786      0.280283   \n",
       "Cleaning Fee                                     0.135693      0.588749   \n",
       "Guests Included                                 -0.034214      0.531798   \n",
       "Extra People                                    -0.054684      0.140580   \n",
       "Minimum Nights                                   0.009804     -0.013184   \n",
       "Maximum Nights                                  -0.000664      0.002631   \n",
       "Availability 30                                  0.093963      0.062951   \n",
       "Availability 60                                  0.094660      0.060037   \n",
       "Availability 90                                  0.092602      0.061358   \n",
       "Availability 365                                 0.065147      0.114517   \n",
       "Number of Reviews                               -0.043581      0.000070   \n",
       "Review Scores Rating                            -0.060522      0.008480   \n",
       "Review Scores Accuracy                          -0.060454     -0.010973   \n",
       "Review Scores Cleanliness                       -0.004263      0.034633   \n",
       "Review Scores Checkin                           -0.075563     -0.000602   \n",
       "Review Scores Communication                     -0.091507     -0.015284   \n",
       "Review Scores Location                          -0.004385     -0.006308   \n",
       "Review Scores Value                             -0.074479     -0.017974   \n",
       "Calculated host listings count                   0.672248      0.107087   \n",
       "Reviews per Month                               -0.050122      0.016328   \n",
       "\n",
       "                                Bathrooms  Bedrooms      Beds  Square Feet  \\\n",
       "Host ID                          0.013008 -0.009545  0.012558    -0.122420   \n",
       "Host Response Rate               0.011511  0.022437  0.046141    -0.060180   \n",
       "Host Listings Count              0.065867  0.054351  0.043813    -0.008762   \n",
       "Host Total Listings Count        0.065867  0.054351  0.043813    -0.008762   \n",
       "Accommodates                     0.567732  0.753274  0.820264     0.403363   \n",
       "Bathrooms                        1.000000  0.650213  0.574975     0.459533   \n",
       "Bedrooms                         0.650213  1.000000  0.732731     0.445697   \n",
       "Beds                             0.574975  0.732731  1.000000     0.372535   \n",
       "Square Feet                      0.459533  0.445697  0.372535     1.000000   \n",
       "Price                            0.461025  0.546514  0.483930     0.358502   \n",
       "Weekly Price                    -0.013945  0.141301  0.234022     0.145995   \n",
       "Monthly Price                    0.538447  0.541316  0.492704     0.312412   \n",
       "Security Deposit                 0.256710  0.296909  0.256266     0.181723   \n",
       "Cleaning Fee                     0.563426  0.588801  0.541495     0.383602   \n",
       "Guests Included                  0.299669  0.447578  0.475747     0.266244   \n",
       "Extra People                     0.093780  0.108351  0.129884     0.111823   \n",
       "Minimum Nights                   0.010810  0.006396 -0.003099     0.008585   \n",
       "Maximum Nights                  -0.001158 -0.001609  0.001462     0.012937   \n",
       "Availability 30                  0.085725  0.047984  0.067173     0.082414   \n",
       "Availability 60                  0.072767  0.038125  0.059781     0.070334   \n",
       "Availability 90                  0.065451  0.033749  0.059253     0.060742   \n",
       "Availability 365                 0.083277  0.072451  0.109790     0.048838   \n",
       "Number of Reviews               -0.071277 -0.066527 -0.004796    -0.137314   \n",
       "Review Scores Rating             0.028460  0.032569 -0.003821     0.086473   \n",
       "Review Scores Accuracy           0.001894  0.004814 -0.024587     0.038346   \n",
       "Review Scores Cleanliness        0.024378  0.033127  0.021502     0.052370   \n",
       "Review Scores Checkin           -0.002799  0.017319 -0.005353     0.030321   \n",
       "Review Scores Communication     -0.016186  0.002657 -0.019087     0.008062   \n",
       "Review Scores Location           0.000732 -0.005931 -0.021816     0.057208   \n",
       "Review Scores Value              0.004182  0.004798 -0.019151     0.028782   \n",
       "Calculated host listings count   0.117679  0.073946  0.102535    -0.002086   \n",
       "Reviews per Month               -0.064736 -0.076798  0.005775    -0.140297   \n",
       "\n",
       "                                   Price  Weekly Price  Monthly Price  \\\n",
       "Host ID                        -0.030328     -0.113534      -0.031489   \n",
       "Host Response Rate             -0.004118      0.024620      -0.012756   \n",
       "Host Listings Count             0.081473     -0.026917       0.133246   \n",
       "Host Total Listings Count       0.081473     -0.026917       0.133246   \n",
       "Accommodates                    0.573297      0.350256       0.546158   \n",
       "Bathrooms                       0.461025     -0.013945       0.538447   \n",
       "Bedrooms                        0.546514      0.141301       0.541316   \n",
       "Beds                            0.483930      0.234022       0.492704   \n",
       "Square Feet                     0.358502      0.145995       0.312412   \n",
       "Price                           1.000000      0.634008       0.815957   \n",
       "Weekly Price                    0.634008      1.000000       0.836389   \n",
       "Monthly Price                   0.815957      0.836389       1.000000   \n",
       "Security Deposit                0.393314      0.197058       0.346880   \n",
       "Cleaning Fee                    0.649980      0.428990       0.653508   \n",
       "Guests Included                 0.312492      0.296316       0.364351   \n",
       "Extra People                    0.097365      0.086261       0.191415   \n",
       "Minimum Nights                  0.007067      0.015522       0.022863   \n",
       "Maximum Nights                 -0.001747     -0.000437      -0.001214   \n",
       "Availability 30                 0.055300     -0.032819       0.110427   \n",
       "Availability 60                 0.041263     -0.032534       0.101528   \n",
       "Availability 90                 0.033300     -0.025720       0.092656   \n",
       "Availability 365                0.041561      0.001325       0.062963   \n",
       "Number of Reviews              -0.093251      0.093156      -0.038923   \n",
       "Review Scores Rating            0.072650      0.076847       0.051356   \n",
       "Review Scores Accuracy          0.031185      0.082717       0.030501   \n",
       "Review Scores Cleanliness       0.076713      0.109297       0.068606   \n",
       "Review Scores Checkin           0.019687      0.070100       0.020217   \n",
       "Review Scores Communication     0.014746      0.075602       0.002811   \n",
       "Review Scores Location          0.119251      0.157819       0.129759   \n",
       "Review Scores Value            -0.011753      0.013728      -0.022972   \n",
       "Calculated host listings count  0.075582     -0.066931       0.111020   \n",
       "Reviews per Month              -0.117306      0.050226      -0.056110   \n",
       "\n",
       "                                Security Deposit  Cleaning Fee  \\\n",
       "Host ID                                -0.070683     -0.035259   \n",
       "Host Response Rate                     -0.004552     -0.021432   \n",
       "Host Listings Count                     0.026786      0.135693   \n",
       "Host Total Listings Count               0.026786      0.135693   \n",
       "Accommodates                            0.280283      0.588749   \n",
       "Bathrooms                               0.256710      0.563426   \n",
       "Bedrooms                                0.296909      0.588801   \n",
       "Beds                                    0.256266      0.541495   \n",
       "Square Feet                             0.181723      0.383602   \n",
       "Price                                   0.393314      0.649980   \n",
       "Weekly Price                            0.197058      0.428990   \n",
       "Monthly Price                           0.346880      0.653508   \n",
       "Security Deposit                        1.000000      0.470781   \n",
       "Cleaning Fee                            0.470781      1.000000   \n",
       "Guests Included                         0.195386      0.327253   \n",
       "Extra People                            0.103481      0.131306   \n",
       "Minimum Nights                          0.093176      0.073311   \n",
       "Maximum Nights                         -0.001664     -0.001921   \n",
       "Availability 30                        -0.005488      0.076277   \n",
       "Availability 60                        -0.013579      0.070558   \n",
       "Availability 90                        -0.016585      0.066165   \n",
       "Availability 365                        0.021058      0.123944   \n",
       "Number of Reviews                      -0.091177     -0.110295   \n",
       "Review Scores Rating                    0.054085      0.028564   \n",
       "Review Scores Accuracy                  0.032347     -0.003704   \n",
       "Review Scores Cleanliness               0.049027      0.058281   \n",
       "Review Scores Checkin                   0.024345     -0.014513   \n",
       "Review Scores Communication             0.024495     -0.029434   \n",
       "Review Scores Location                  0.072278      0.071770   \n",
       "Review Scores Value                     0.001218     -0.039710   \n",
       "Calculated host listings count          0.007661      0.187122   \n",
       "Reviews per Month                      -0.124307     -0.155810   \n",
       "\n",
       "                                Guests Included  Extra People  Minimum Nights  \\\n",
       "Host ID                               -0.037254     -0.053147       -0.041048   \n",
       "Host Response Rate                     0.067583      0.028544       -0.016872   \n",
       "Host Listings Count                   -0.034214     -0.054684        0.009804   \n",
       "Host Total Listings Count             -0.034214     -0.054684        0.009804   \n",
       "Accommodates                           0.531798      0.140580       -0.013184   \n",
       "Bathrooms                              0.299669      0.093780        0.010810   \n",
       "Bedrooms                               0.447578      0.108351        0.006396   \n",
       "Beds                                   0.475747      0.129884       -0.003099   \n",
       "Square Feet                            0.266244      0.111823        0.008585   \n",
       "Price                                  0.312492      0.097365        0.007067   \n",
       "Weekly Price                           0.296316      0.086261        0.015522   \n",
       "Monthly Price                          0.364351      0.191415        0.022863   \n",
       "Security Deposit                       0.195386      0.103481        0.093176   \n",
       "Cleaning Fee                           0.327253      0.131306        0.073311   \n",
       "Guests Included                        1.000000      0.381589       -0.007700   \n",
       "Extra People                           0.381589      1.000000        0.002255   \n",
       "Minimum Nights                        -0.007700      0.002255        1.000000   \n",
       "Maximum Nights                         0.002803      0.003043       -0.001396   \n",
       "Availability 30                        0.037825      0.089476       -0.000594   \n",
       "Availability 60                        0.042111      0.096825       -0.003835   \n",
       "Availability 90                        0.048885      0.100463       -0.006946   \n",
       "Availability 365                       0.104418      0.109941        0.013771   \n",
       "Number of Reviews                      0.082451      0.060544       -0.039001   \n",
       "Review Scores Rating                   0.024715      0.012555       -0.009587   \n",
       "Review Scores Accuracy                 0.016808     -0.002012       -0.011629   \n",
       "Review Scores Cleanliness              0.045313      0.022397       -0.018180   \n",
       "Review Scores Checkin                  0.027662      0.008937       -0.018319   \n",
       "Review Scores Communication            0.019497      0.010015       -0.012255   \n",
       "Review Scores Location                -0.010353      0.003366       -0.006780   \n",
       "Review Scores Value                    0.004349     -0.017643       -0.016931   \n",
       "Calculated host listings count        -0.013399     -0.044063        0.009774   \n",
       "Reviews per Month                      0.044736     -0.005229       -0.081109   \n",
       "\n",
       "                                Maximum Nights  Availability 30  \\\n",
       "Host ID                              -0.003867         0.079566   \n",
       "Host Response Rate                    0.000440        -0.118264   \n",
       "Host Listings Count                  -0.000664         0.093963   \n",
       "Host Total Listings Count            -0.000664         0.093963   \n",
       "Accommodates                          0.002631         0.062951   \n",
       "Bathrooms                            -0.001158         0.085725   \n",
       "Bedrooms                             -0.001609         0.047984   \n",
       "Beds                                  0.001462         0.067173   \n",
       "Square Feet                           0.012937         0.082414   \n",
       "Price                                -0.001747         0.055300   \n",
       "Weekly Price                         -0.000437        -0.032819   \n",
       "Monthly Price                        -0.001214         0.110427   \n",
       "Security Deposit                     -0.001664        -0.005488   \n",
       "Cleaning Fee                         -0.001921         0.076277   \n",
       "Guests Included                       0.002803         0.037825   \n",
       "Extra People                          0.003043         0.089476   \n",
       "Minimum Nights                       -0.001396        -0.000594   \n",
       "Maximum Nights                        1.000000         0.003360   \n",
       "Availability 30                       0.003360         1.000000   \n",
       "Availability 60                       0.002535         0.934622   \n",
       "Availability 90                       0.002213         0.872976   \n",
       "Availability 365                      0.002664         0.566107   \n",
       "Number of Reviews                     0.005318        -0.016504   \n",
       "Review Scores Rating                 -0.012284        -0.060299   \n",
       "Review Scores Accuracy               -0.012240        -0.076503   \n",
       "Review Scores Cleanliness            -0.006772        -0.003007   \n",
       "Review Scores Checkin                -0.008877        -0.047224   \n",
       "Review Scores Communication          -0.012564        -0.063451   \n",
       "Review Scores Location               -0.009442        -0.050282   \n",
       "Review Scores Value                  -0.008425        -0.080212   \n",
       "Calculated host listings count        0.000535         0.114231   \n",
       "Reviews per Month                     0.000643        -0.010398   \n",
       "\n",
       "                                Availability 60  Availability 90  \\\n",
       "Host ID                                0.080437         0.079576   \n",
       "Host Response Rate                    -0.108882        -0.100809   \n",
       "Host Listings Count                    0.094660         0.092602   \n",
       "Host Total Listings Count              0.094660         0.092602   \n",
       "Accommodates                           0.060037         0.061358   \n",
       "Bathrooms                              0.072767         0.065451   \n",
       "Bedrooms                               0.038125         0.033749   \n",
       "Beds                                   0.059781         0.059253   \n",
       "Square Feet                            0.070334         0.060742   \n",
       "Price                                  0.041263         0.033300   \n",
       "Weekly Price                          -0.032534        -0.025720   \n",
       "Monthly Price                          0.101528         0.092656   \n",
       "Security Deposit                      -0.013579        -0.016585   \n",
       "Cleaning Fee                           0.070558         0.066165   \n",
       "Guests Included                        0.042111         0.048885   \n",
       "Extra People                           0.096825         0.100463   \n",
       "Minimum Nights                        -0.003835        -0.006946   \n",
       "Maximum Nights                         0.002535         0.002213   \n",
       "Availability 30                        0.934622         0.872976   \n",
       "Availability 60                        1.000000         0.970554   \n",
       "Availability 90                        0.970554         1.000000   \n",
       "Availability 365                       0.637886         0.673744   \n",
       "Number of Reviews                      0.023145         0.052016   \n",
       "Review Scores Rating                  -0.055568        -0.049119   \n",
       "Review Scores Accuracy                -0.068882        -0.060839   \n",
       "Review Scores Cleanliness              0.008767         0.018739   \n",
       "Review Scores Checkin                 -0.039228        -0.031874   \n",
       "Review Scores Communication           -0.059836        -0.055046   \n",
       "Review Scores Location                -0.047594        -0.044386   \n",
       "Review Scores Value                   -0.073204        -0.065390   \n",
       "Calculated host listings count         0.120636         0.122611   \n",
       "Reviews per Month                      0.033485         0.066662   \n",
       "\n",
       "                                Availability 365  Number of Reviews  \\\n",
       "Host ID                                -0.031647          -0.205953   \n",
       "Host Response Rate                     -0.049582           0.125492   \n",
       "Host Listings Count                     0.065147          -0.043581   \n",
       "Host Total Listings Count               0.065147          -0.043581   \n",
       "Accommodates                            0.114517           0.000070   \n",
       "Bathrooms                               0.083277          -0.071277   \n",
       "Bedrooms                                0.072451          -0.066527   \n",
       "Beds                                    0.109790          -0.004796   \n",
       "Square Feet                             0.048838          -0.137314   \n",
       "Price                                   0.041561          -0.093251   \n",
       "Weekly Price                            0.001325           0.093156   \n",
       "Monthly Price                           0.062963          -0.038923   \n",
       "Security Deposit                        0.021058          -0.091177   \n",
       "Cleaning Fee                            0.123944          -0.110295   \n",
       "Guests Included                         0.104418           0.082451   \n",
       "Extra People                            0.109941           0.060544   \n",
       "Minimum Nights                          0.013771          -0.039001   \n",
       "Maximum Nights                          0.002664           0.005318   \n",
       "Availability 30                         0.566107          -0.016504   \n",
       "Availability 60                         0.637886           0.023145   \n",
       "Availability 90                         0.673744           0.052016   \n",
       "Availability 365                        1.000000           0.166465   \n",
       "Number of Reviews                       0.166465           1.000000   \n",
       "Review Scores Rating                   -0.051464           0.022169   \n",
       "Review Scores Accuracy                 -0.060130           0.049164   \n",
       "Review Scores Cleanliness               0.016197           0.063777   \n",
       "Review Scores Checkin                  -0.029800           0.066311   \n",
       "Review Scores Communication            -0.049426           0.056793   \n",
       "Review Scores Location                 -0.052034          -0.007561   \n",
       "Review Scores Value                    -0.068075           0.029855   \n",
       "Calculated host listings count          0.116411          -0.023981   \n",
       "Reviews per Month                       0.070786           0.518180   \n",
       "\n",
       "                                Review Scores Rating  Review Scores Accuracy  \\\n",
       "Host ID                                    -0.040012               -0.034476   \n",
       "Host Response Rate                          0.104776                0.096393   \n",
       "Host Listings Count                        -0.060522               -0.060454   \n",
       "Host Total Listings Count                  -0.060522               -0.060454   \n",
       "Accommodates                                0.008480               -0.010973   \n",
       "Bathrooms                                   0.028460                0.001894   \n",
       "Bedrooms                                    0.032569                0.004814   \n",
       "Beds                                       -0.003821               -0.024587   \n",
       "Square Feet                                 0.086473                0.038346   \n",
       "Price                                       0.072650                0.031185   \n",
       "Weekly Price                                0.076847                0.082717   \n",
       "Monthly Price                               0.051356                0.030501   \n",
       "Security Deposit                            0.054085                0.032347   \n",
       "Cleaning Fee                                0.028564               -0.003704   \n",
       "Guests Included                             0.024715                0.016808   \n",
       "Extra People                                0.012555               -0.002012   \n",
       "Minimum Nights                             -0.009587               -0.011629   \n",
       "Maximum Nights                             -0.012284               -0.012240   \n",
       "Availability 30                            -0.060299               -0.076503   \n",
       "Availability 60                            -0.055568               -0.068882   \n",
       "Availability 90                            -0.049119               -0.060839   \n",
       "Availability 365                           -0.051464               -0.060130   \n",
       "Number of Reviews                           0.022169                0.049164   \n",
       "Review Scores Rating                        1.000000                0.718624   \n",
       "Review Scores Accuracy                      0.718624                1.000000   \n",
       "Review Scores Cleanliness                   0.712272                0.607143   \n",
       "Review Scores Checkin                       0.577015                0.508216   \n",
       "Review Scores Communication                 0.610250                0.528993   \n",
       "Review Scores Location                      0.469761                0.390261   \n",
       "Review Scores Value                         0.748752                0.653509   \n",
       "Calculated host listings count             -0.099893               -0.094264   \n",
       "Reviews per Month                           0.058004                0.088703   \n",
       "\n",
       "                                Review Scores Cleanliness  \\\n",
       "Host ID                                         -0.017896   \n",
       "Host Response Rate                               0.127586   \n",
       "Host Listings Count                             -0.004263   \n",
       "Host Total Listings Count                       -0.004263   \n",
       "Accommodates                                     0.034633   \n",
       "Bathrooms                                        0.024378   \n",
       "Bedrooms                                         0.033127   \n",
       "Beds                                             0.021502   \n",
       "Square Feet                                      0.052370   \n",
       "Price                                            0.076713   \n",
       "Weekly Price                                     0.109297   \n",
       "Monthly Price                                    0.068606   \n",
       "Security Deposit                                 0.049027   \n",
       "Cleaning Fee                                     0.058281   \n",
       "Guests Included                                  0.045313   \n",
       "Extra People                                     0.022397   \n",
       "Minimum Nights                                  -0.018180   \n",
       "Maximum Nights                                  -0.006772   \n",
       "Availability 30                                 -0.003007   \n",
       "Availability 60                                  0.008767   \n",
       "Availability 90                                  0.018739   \n",
       "Availability 365                                 0.016197   \n",
       "Number of Reviews                                0.063777   \n",
       "Review Scores Rating                             0.712272   \n",
       "Review Scores Accuracy                           0.607143   \n",
       "Review Scores Cleanliness                        1.000000   \n",
       "Review Scores Checkin                            0.454079   \n",
       "Review Scores Communication                      0.450584   \n",
       "Review Scores Location                           0.350731   \n",
       "Review Scores Value                              0.612469   \n",
       "Calculated host listings count                  -0.028746   \n",
       "Reviews per Month                                0.113769   \n",
       "\n",
       "                                Review Scores Checkin  \\\n",
       "Host ID                                     -0.036844   \n",
       "Host Response Rate                           0.098236   \n",
       "Host Listings Count                         -0.075563   \n",
       "Host Total Listings Count                   -0.075563   \n",
       "Accommodates                                -0.000602   \n",
       "Bathrooms                                   -0.002799   \n",
       "Bedrooms                                     0.017319   \n",
       "Beds                                        -0.005353   \n",
       "Square Feet                                  0.030321   \n",
       "Price                                        0.019687   \n",
       "Weekly Price                                 0.070100   \n",
       "Monthly Price                                0.020217   \n",
       "Security Deposit                             0.024345   \n",
       "Cleaning Fee                                -0.014513   \n",
       "Guests Included                              0.027662   \n",
       "Extra People                                 0.008937   \n",
       "Minimum Nights                              -0.018319   \n",
       "Maximum Nights                              -0.008877   \n",
       "Availability 30                             -0.047224   \n",
       "Availability 60                             -0.039228   \n",
       "Availability 90                             -0.031874   \n",
       "Availability 365                            -0.029800   \n",
       "Number of Reviews                            0.066311   \n",
       "Review Scores Rating                         0.577015   \n",
       "Review Scores Accuracy                       0.508216   \n",
       "Review Scores Cleanliness                    0.454079   \n",
       "Review Scores Checkin                        1.000000   \n",
       "Review Scores Communication                  0.663834   \n",
       "Review Scores Location                       0.340420   \n",
       "Review Scores Value                          0.505601   \n",
       "Calculated host listings count              -0.099927   \n",
       "Reviews per Month                            0.080330   \n",
       "\n",
       "                                Review Scores Communication  \\\n",
       "Host ID                                           -0.054307   \n",
       "Host Response Rate                                 0.102136   \n",
       "Host Listings Count                               -0.091507   \n",
       "Host Total Listings Count                         -0.091507   \n",
       "Accommodates                                      -0.015284   \n",
       "Bathrooms                                         -0.016186   \n",
       "Bedrooms                                           0.002657   \n",
       "Beds                                              -0.019087   \n",
       "Square Feet                                        0.008062   \n",
       "Price                                              0.014746   \n",
       "Weekly Price                                       0.075602   \n",
       "Monthly Price                                      0.002811   \n",
       "Security Deposit                                   0.024495   \n",
       "Cleaning Fee                                      -0.029434   \n",
       "Guests Included                                    0.019497   \n",
       "Extra People                                       0.010015   \n",
       "Minimum Nights                                    -0.012255   \n",
       "Maximum Nights                                    -0.012564   \n",
       "Availability 30                                   -0.063451   \n",
       "Availability 60                                   -0.059836   \n",
       "Availability 90                                   -0.055046   \n",
       "Availability 365                                  -0.049426   \n",
       "Number of Reviews                                  0.056793   \n",
       "Review Scores Rating                               0.610250   \n",
       "Review Scores Accuracy                             0.528993   \n",
       "Review Scores Cleanliness                          0.450584   \n",
       "Review Scores Checkin                              0.663834   \n",
       "Review Scores Communication                        1.000000   \n",
       "Review Scores Location                             0.359738   \n",
       "Review Scores Value                                0.535809   \n",
       "Calculated host listings count                    -0.123697   \n",
       "Reviews per Month                                  0.066718   \n",
       "\n",
       "                                Review Scores Location  Review Scores Value  \\\n",
       "Host ID                                      -0.009723             0.007837   \n",
       "Host Response Rate                            0.047434             0.098995   \n",
       "Host Listings Count                          -0.004385            -0.074479   \n",
       "Host Total Listings Count                    -0.004385            -0.074479   \n",
       "Accommodates                                 -0.006308            -0.017974   \n",
       "Bathrooms                                     0.000732             0.004182   \n",
       "Bedrooms                                     -0.005931             0.004798   \n",
       "Beds                                         -0.021816            -0.019151   \n",
       "Square Feet                                   0.057208             0.028782   \n",
       "Price                                         0.119251            -0.011753   \n",
       "Weekly Price                                  0.157819             0.013728   \n",
       "Monthly Price                                 0.129759            -0.022972   \n",
       "Security Deposit                              0.072278             0.001218   \n",
       "Cleaning Fee                                  0.071770            -0.039710   \n",
       "Guests Included                              -0.010353             0.004349   \n",
       "Extra People                                  0.003366            -0.017643   \n",
       "Minimum Nights                               -0.006780            -0.016931   \n",
       "Maximum Nights                               -0.009442            -0.008425   \n",
       "Availability 30                              -0.050282            -0.080212   \n",
       "Availability 60                              -0.047594            -0.073204   \n",
       "Availability 90                              -0.044386            -0.065390   \n",
       "Availability 365                             -0.052034            -0.068075   \n",
       "Number of Reviews                            -0.007561             0.029855   \n",
       "Review Scores Rating                          0.469761             0.748752   \n",
       "Review Scores Accuracy                        0.390261             0.653509   \n",
       "Review Scores Cleanliness                     0.350731             0.612469   \n",
       "Review Scores Checkin                         0.340420             0.505601   \n",
       "Review Scores Communication                   0.359738             0.535809   \n",
       "Review Scores Location                        1.000000             0.462286   \n",
       "Review Scores Value                           0.462286             1.000000   \n",
       "Calculated host listings count               -0.034661            -0.101240   \n",
       "Reviews per Month                             0.039849             0.103138   \n",
       "\n",
       "                                Calculated host listings count  \\\n",
       "Host ID                                              -0.031805   \n",
       "Host Response Rate                                    0.023443   \n",
       "Host Listings Count                                   0.672248   \n",
       "Host Total Listings Count                             0.672248   \n",
       "Accommodates                                          0.107087   \n",
       "Bathrooms                                             0.117679   \n",
       "Bedrooms                                              0.073946   \n",
       "Beds                                                  0.102535   \n",
       "Square Feet                                          -0.002086   \n",
       "Price                                                 0.075582   \n",
       "Weekly Price                                         -0.066931   \n",
       "Monthly Price                                         0.111020   \n",
       "Security Deposit                                      0.007661   \n",
       "Cleaning Fee                                          0.187122   \n",
       "Guests Included                                      -0.013399   \n",
       "Extra People                                         -0.044063   \n",
       "Minimum Nights                                        0.009774   \n",
       "Maximum Nights                                        0.000535   \n",
       "Availability 30                                       0.114231   \n",
       "Availability 60                                       0.120636   \n",
       "Availability 90                                       0.122611   \n",
       "Availability 365                                      0.116411   \n",
       "Number of Reviews                                    -0.023981   \n",
       "Review Scores Rating                                 -0.099893   \n",
       "Review Scores Accuracy                               -0.094264   \n",
       "Review Scores Cleanliness                            -0.028746   \n",
       "Review Scores Checkin                                -0.099927   \n",
       "Review Scores Communication                          -0.123697   \n",
       "Review Scores Location                               -0.034661   \n",
       "Review Scores Value                                  -0.101240   \n",
       "Calculated host listings count                        1.000000   \n",
       "Reviews per Month                                    -0.025730   \n",
       "\n",
       "                                Reviews per Month  \n",
       "Host ID                                  0.132473  \n",
       "Host Response Rate                       0.154960  \n",
       "Host Listings Count                     -0.050122  \n",
       "Host Total Listings Count               -0.050122  \n",
       "Accommodates                             0.016328  \n",
       "Bathrooms                               -0.064736  \n",
       "Bedrooms                                -0.076798  \n",
       "Beds                                     0.005775  \n",
       "Square Feet                             -0.140297  \n",
       "Price                                   -0.117306  \n",
       "Weekly Price                             0.050226  \n",
       "Monthly Price                           -0.056110  \n",
       "Security Deposit                        -0.124307  \n",
       "Cleaning Fee                            -0.155810  \n",
       "Guests Included                          0.044736  \n",
       "Extra People                            -0.005229  \n",
       "Minimum Nights                          -0.081109  \n",
       "Maximum Nights                           0.000643  \n",
       "Availability 30                         -0.010398  \n",
       "Availability 60                          0.033485  \n",
       "Availability 90                          0.066662  \n",
       "Availability 365                         0.070786  \n",
       "Number of Reviews                        0.518180  \n",
       "Review Scores Rating                     0.058004  \n",
       "Review Scores Accuracy                   0.088703  \n",
       "Review Scores Cleanliness                0.113769  \n",
       "Review Scores Checkin                    0.080330  \n",
       "Review Scores Communication              0.066718  \n",
       "Review Scores Location                   0.039849  \n",
       "Review Scores Value                      0.103138  \n",
       "Calculated host listings count          -0.025730  \n",
       "Reviews per Month                        1.000000  "
      ]
     },
     "execution_count": 15,
     "metadata": {},
     "output_type": "execute_result"
    }
   ],
   "source": [
    "new.corr()"
   ]
  },
  {
   "cell_type": "code",
   "execution_count": 142,
   "id": "fa54e0b5",
   "metadata": {},
   "outputs": [
    {
     "name": "stderr",
     "output_type": "stream",
     "text": [
      "C:\\Users\\sharm\\Anaconda3\\lib\\site-packages\\seaborn\\_decorators.py:36: FutureWarning: Pass the following variable as a keyword arg: x. From version 0.12, the only valid positional argument will be `data`, and passing other arguments without an explicit keyword will result in an error or misinterpretation.\n",
      "  warnings.warn(\n"
     ]
    },
    {
     "data": {
      "text/plain": [
       "<AxesSubplot:xlabel='Price'>"
      ]
     },
     "execution_count": 142,
     "metadata": {},
     "output_type": "execute_result"
    },
    {
     "data": {
      "image/png": "[encoded data removed]",
      "text/plain": [
       "<Figure size 432x288 with 1 Axes>"
      ]
     },
     "metadata": {
      "needs_background": "light"
     },
     "output_type": "display_data"
    }
   ],
   "source": [
    "sns.boxplot(new.Price)"
   ]
  },
  {
   "cell_type": "code",
   "execution_count": 143,
   "id": "27249e35",
   "metadata": {},
   "outputs": [
    {
     "name": "stderr",
     "output_type": "stream",
     "text": [
      "C:\\Users\\sharm\\Anaconda3\\lib\\site-packages\\seaborn\\distributions.py:2557: FutureWarning: `distplot` is a deprecated function and will be removed in a future version. Please adapt your code to use either `displot` (a figure-level function with similar flexibility) or `histplot` (an axes-level function for histograms).\n",
      "  warnings.warn(msg, FutureWarning)\n"
     ]
    },
    {
     "data": {
      "text/plain": [
       "<AxesSubplot:xlabel='Price', ylabel='Density'>"
      ]
     },
     "execution_count": 143,
     "metadata": {},
     "output_type": "execute_result"
    },
    {
     "data": {
      "image/png": "[encoded data removed]",
      "text/plain": [
       "<Figure size 432x288 with 1 Axes>"
      ]
     },
     "metadata": {
      "needs_background": "light"
     },
     "output_type": "display_data"
    }
   ],
   "source": [
    "sns.distplot(new.Price)"
   ]
  },
  {
   "cell_type": "code",
   "execution_count": 99,
   "id": "8d3d0aa1",
   "metadata": {},
   "outputs": [],
   "source": [
    "# price ko log laga ke halka sa normalize kro"
   ]
  },
  {
   "cell_type": "code",
   "execution_count": 101,
   "id": "9086d45d",
   "metadata": {},
   "outputs": [
    {
     "data": {
      "text/plain": [
       "(999.0, 0.0)"
      ]
     },
     "execution_count": 101,
     "metadata": {},
     "output_type": "execute_result"
    }
   ],
   "source": [
    "new.Price.max(),new.Price.min()"
   ]
  },
  {
   "cell_type": "code",
   "execution_count": 104,
   "id": "f6a51486",
   "metadata": {},
   "outputs": [
    {
     "data": {
      "text/plain": [
       "0.0       8\n",
       "3.0       1\n",
       "10.0     41\n",
       "11.0      3\n",
       "12.0     10\n",
       "         ..\n",
       "995.0    33\n",
       "996.0     1\n",
       "997.0     3\n",
       "998.0     3\n",
       "999.0    90\n",
       "Name: Price, Length: 797, dtype: int64"
      ]
     },
     "execution_count": 104,
     "metadata": {},
     "output_type": "execute_result"
    }
   ],
   "source": [
    "new.Price.value_counts().sort_index(ascending=True)"
   ]
  },
  {
   "cell_type": "code",
   "execution_count": 105,
   "id": "b3318178",
   "metadata": {},
   "outputs": [
    {
     "data": {
      "text/plain": [
       "2.6446920617683762"
      ]
     },
     "execution_count": 105,
     "metadata": {},
     "output_type": "execute_result"
    }
   ],
   "source": [
    "new.Price.skew()"
   ]
  },
  {
   "cell_type": "code",
   "execution_count": null,
   "id": "1415fb0c",
   "metadata": {},
   "outputs": [],
   "source": [
    "#zero drop kr na hai "
   ]
  },
  {
   "cell_type": "code",
   "execution_count": 91,
   "id": "daa0a81a",
   "metadata": {},
   "outputs": [],
   "source": [
    "#squarefeet hata diya hai\n",
    "# sirf vo column include kiyea hai jis mai corr 0.30 se upr aaya hai\n",
    "final=new.loc[:,['Price','Accommodates','Bathrooms','Bedrooms','Beds','Security Deposit','Cleaning Fee','Guests Included',\n",
    "                 \"City\",'Zipcode','Property Type','Room Type','Bed Type','Amenities','Cancellation Policy']]"
   ]
  },
  {
   "cell_type": "code",
   "execution_count": 123,
   "id": "a6afbafe",
   "metadata": {},
   "outputs": [
    {
     "data": {
      "text/plain": [
       "132454"
      ]
     },
     "execution_count": 123,
     "metadata": {},
     "output_type": "execute_result"
    }
   ],
   "source": [
    "new2['Square Feet'].isnull().sum()"
   ]
  },
  {
   "cell_type": "code",
   "execution_count": 92,
   "id": "b68b9e40",
   "metadata": {},
   "outputs": [
    {
     "data": {
      "text/plain": [
       "<AxesSubplot:>"
      ]
     },
     "execution_count": 92,
     "metadata": {},
     "output_type": "execute_result"
    },
    {
     "data": {
      "image/png": "[encoded data removed]",
      "text/plain": [
       "<Figure size 432x288 with 2 Axes>"
      ]
     },
     "metadata": {
      "needs_background": "light"
     },
     "output_type": "display_data"
    }
   ],
   "source": [
    "# sirf US ka data hai jis m abhi bhi null values hai \n",
    "sns.heatmap(final.isnull())"
   ]
  },
  {
   "cell_type": "code",
   "execution_count": 93,
   "id": "67679c32",
   "metadata": {},
   "outputs": [
    {
     "name": "stdout",
     "output_type": "stream",
     "text": [
      "<class 'pandas.core.frame.DataFrame'>\n",
      "Int64Index: 134545 entries, 409 to 494313\n",
      "Data columns (total 15 columns):\n",
      " #   Column               Non-Null Count   Dtype  \n",
      "---  ------               --------------   -----  \n",
      " 0   Price                132581 non-null  float64\n",
      " 1   Accommodates         134484 non-null  float64\n",
      " 2   Bathrooms            134116 non-null  float64\n",
      " 3   Bedrooms             134388 non-null  float64\n",
      " 4   Beds                 134316 non-null  float64\n",
      " 5   Security Deposit     57615 non-null   float64\n",
      " 6   Cleaning Fee         97234 non-null   float64\n",
      " 7   Guests Included      134545 non-null  float64\n",
      " 8   City                 134486 non-null  object \n",
      " 9   Zipcode              132845 non-null  object \n",
      " 10  Property Type        134539 non-null  object \n",
      " 11  Room Type            134545 non-null  object \n",
      " 12  Bed Type             134545 non-null  object \n",
      " 13  Amenities            133318 non-null  object \n",
      " 14  Cancellation Policy  134545 non-null  object \n",
      "dtypes: float64(8), object(7)\n",
      "memory usage: 20.5+ MB\n"
     ]
    }
   ],
   "source": [
    "final.info()"
   ]
  },
  {
   "cell_type": "code",
   "execution_count": 150,
   "id": "15cdf381",
   "metadata": {},
   "outputs": [
    {
     "data": {
      "text/plain": [
       "(134545, 8)"
      ]
     },
     "execution_count": 150,
     "metadata": {},
     "output_type": "execute_result"
    }
   ],
   "source": [
    "final.shape"
   ]
  },
  {
   "cell_type": "code",
   "execution_count": 152,
   "id": "4d6c64e6",
   "metadata": {},
   "outputs": [
    {
     "name": "stdout",
     "output_type": "stream",
     "text": [
      "null values in final dataset, which need to be removed :  1964\n"
     ]
    }
   ],
   "source": [
    "print('null values in final dataset, which need to be removed : ',134545-132581)"
   ]
  },
  {
   "cell_type": "code",
   "execution_count": 94,
   "id": "8a0e2615",
   "metadata": {},
   "outputs": [],
   "source": [
    "# df final data hai jis m sari null n disturbing values(0) hata diyea hai \n",
    "df=final[final.Price>0]"
   ]
  },
  {
   "cell_type": "code",
   "execution_count": 130,
   "id": "3062ceaf",
   "metadata": {},
   "outputs": [],
   "source": [
    "df.reset_index(inplace=True)"
   ]
  },
  {
   "cell_type": "code",
   "execution_count": 132,
   "id": "c5afbc7c",
   "metadata": {},
   "outputs": [],
   "source": [
    "df.drop('index',axis=1,inplace=True)"
   ]
  },
  {
   "cell_type": "code",
   "execution_count": 133,
   "id": "8270793b",
   "metadata": {},
   "outputs": [
    {
     "data": {
      "text/html": [
       "<div>\n",
       "<style scoped>\n",
       "    .dataframe tbody tr th:only-of-type {\n",
       "        vertical-align: middle;\n",
       "    }\n",
       "\n",
       "    .dataframe tbody tr th {\n",
       "        vertical-align: top;\n",
       "    }\n",
       "\n",
       "    .dataframe thead th {\n",
       "        text-align: right;\n",
       "    }\n",
       "</style>\n",
       "<table border=\"1\" class=\"dataframe\">\n",
       "  <thead>\n",
       "    <tr style=\"text-align: right;\">\n",
       "      <th></th>\n",
       "      <th>Price</th>\n",
       "      <th>Accommodates</th>\n",
       "      <th>Bathrooms</th>\n",
       "      <th>Bedrooms</th>\n",
       "      <th>Beds</th>\n",
       "      <th>Security Deposit</th>\n",
       "      <th>Cleaning Fee</th>\n",
       "      <th>Guests Included</th>\n",
       "      <th>City</th>\n",
       "      <th>Zipcode</th>\n",
       "      <th>Property Type</th>\n",
       "      <th>Room Type</th>\n",
       "      <th>Bed Type</th>\n",
       "      <th>Amenities</th>\n",
       "      <th>Cancellation Policy</th>\n",
       "      <th>price_log</th>\n",
       "      <th>price_sqrt</th>\n",
       "    </tr>\n",
       "  </thead>\n",
       "  <tbody>\n",
       "    <tr>\n",
       "      <th>0</th>\n",
       "      <td>150.0</td>\n",
       "      <td>2.0</td>\n",
       "      <td>1.0</td>\n",
       "      <td>1.0</td>\n",
       "      <td>1.0</td>\n",
       "      <td>NaN</td>\n",
       "      <td>NaN</td>\n",
       "      <td>1.0</td>\n",
       "      <td>Los Angeles</td>\n",
       "      <td>91364</td>\n",
       "      <td>Apartment</td>\n",
       "      <td>Private room</td>\n",
       "      <td>Real Bed</td>\n",
       "      <td>TV,Wireless Internet,Air conditioning,Free par...</td>\n",
       "      <td>flexible</td>\n",
       "      <td>5.010635</td>\n",
       "      <td>12.247449</td>\n",
       "    </tr>\n",
       "    <tr>\n",
       "      <th>1</th>\n",
       "      <td>175.0</td>\n",
       "      <td>8.0</td>\n",
       "      <td>3.5</td>\n",
       "      <td>4.0</td>\n",
       "      <td>4.0</td>\n",
       "      <td>300.0</td>\n",
       "      <td>150.0</td>\n",
       "      <td>8.0</td>\n",
       "      <td>Los Angeles</td>\n",
       "      <td>91364</td>\n",
       "      <td>House</td>\n",
       "      <td>Entire home/apt</td>\n",
       "      <td>Real Bed</td>\n",
       "      <td>Wireless Internet,Air conditioning,Pool,Kitche...</td>\n",
       "      <td>flexible</td>\n",
       "      <td>5.164786</td>\n",
       "      <td>13.228757</td>\n",
       "    </tr>\n",
       "    <tr>\n",
       "      <th>2</th>\n",
       "      <td>79.0</td>\n",
       "      <td>3.0</td>\n",
       "      <td>1.0</td>\n",
       "      <td>1.0</td>\n",
       "      <td>1.0</td>\n",
       "      <td>NaN</td>\n",
       "      <td>55.0</td>\n",
       "      <td>1.0</td>\n",
       "      <td>Los Angeles</td>\n",
       "      <td>91367</td>\n",
       "      <td>Guesthouse</td>\n",
       "      <td>Entire home/apt</td>\n",
       "      <td>Real Bed</td>\n",
       "      <td>TV,Wireless Internet,Air conditioning,Kitchen,...</td>\n",
       "      <td>flexible</td>\n",
       "      <td>4.369448</td>\n",
       "      <td>8.888194</td>\n",
       "    </tr>\n",
       "    <tr>\n",
       "      <th>3</th>\n",
       "      <td>175.0</td>\n",
       "      <td>2.0</td>\n",
       "      <td>1.5</td>\n",
       "      <td>1.0</td>\n",
       "      <td>1.0</td>\n",
       "      <td>500.0</td>\n",
       "      <td>100.0</td>\n",
       "      <td>1.0</td>\n",
       "      <td>Woodland Hills</td>\n",
       "      <td>91364</td>\n",
       "      <td>Other</td>\n",
       "      <td>Entire home/apt</td>\n",
       "      <td>Real Bed</td>\n",
       "      <td>TV,Cable TV,Wireless Internet,Air conditioning...</td>\n",
       "      <td>strict</td>\n",
       "      <td>5.164786</td>\n",
       "      <td>13.228757</td>\n",
       "    </tr>\n",
       "    <tr>\n",
       "      <th>4</th>\n",
       "      <td>450.0</td>\n",
       "      <td>6.0</td>\n",
       "      <td>2.5</td>\n",
       "      <td>3.0</td>\n",
       "      <td>4.0</td>\n",
       "      <td>NaN</td>\n",
       "      <td>200.0</td>\n",
       "      <td>6.0</td>\n",
       "      <td>Los Angeles</td>\n",
       "      <td>91367</td>\n",
       "      <td>Townhouse</td>\n",
       "      <td>Entire home/apt</td>\n",
       "      <td>Real Bed</td>\n",
       "      <td>TV,Cable TV,Internet,Wireless Internet,Air con...</td>\n",
       "      <td>moderate</td>\n",
       "      <td>6.109248</td>\n",
       "      <td>21.213203</td>\n",
       "    </tr>\n",
       "  </tbody>\n",
       "</table>\n",
       "</div>"
      ],
      "text/plain": [
       "   Price  Accommodates  Bathrooms  Bedrooms  Beds  Security Deposit  \\\n",
       "0  150.0           2.0        1.0       1.0   1.0               NaN   \n",
       "1  175.0           8.0        3.5       4.0   4.0             300.0   \n",
       "2   79.0           3.0        1.0       1.0   1.0               NaN   \n",
       "3  175.0           2.0        1.5       1.0   1.0             500.0   \n",
       "4  450.0           6.0        2.5       3.0   4.0               NaN   \n",
       "\n",
       "   Cleaning Fee  Guests Included            City Zipcode Property Type  \\\n",
       "0           NaN              1.0     Los Angeles   91364     Apartment   \n",
       "1         150.0              8.0     Los Angeles   91364         House   \n",
       "2          55.0              1.0     Los Angeles   91367    Guesthouse   \n",
       "3         100.0              1.0  Woodland Hills   91364         Other   \n",
       "4         200.0              6.0     Los Angeles   91367     Townhouse   \n",
       "\n",
       "         Room Type  Bed Type  \\\n",
       "0     Private room  Real Bed   \n",
       "1  Entire home/apt  Real Bed   \n",
       "2  Entire home/apt  Real Bed   \n",
       "3  Entire home/apt  Real Bed   \n",
       "4  Entire home/apt  Real Bed   \n",
       "\n",
       "                                           Amenities Cancellation Policy  \\\n",
       "0  TV,Wireless Internet,Air conditioning,Free par...            flexible   \n",
       "1  Wireless Internet,Air conditioning,Pool,Kitche...            flexible   \n",
       "2  TV,Wireless Internet,Air conditioning,Kitchen,...            flexible   \n",
       "3  TV,Cable TV,Wireless Internet,Air conditioning...              strict   \n",
       "4  TV,Cable TV,Internet,Wireless Internet,Air con...            moderate   \n",
       "\n",
       "   price_log  price_sqrt  \n",
       "0   5.010635   12.247449  \n",
       "1   5.164786   13.228757  \n",
       "2   4.369448    8.888194  \n",
       "3   5.164786   13.228757  \n",
       "4   6.109248   21.213203  "
      ]
     },
     "execution_count": 133,
     "metadata": {},
     "output_type": "execute_result"
    }
   ],
   "source": [
    "df.head()"
   ]
  },
  {
   "cell_type": "code",
   "execution_count": 134,
   "id": "6dc2f7e3",
   "metadata": {},
   "outputs": [
    {
     "data": {
      "text/plain": [
       "(132573, 17)"
      ]
     },
     "execution_count": 134,
     "metadata": {},
     "output_type": "execute_result"
    }
   ],
   "source": [
    "df.shape"
   ]
  },
  {
   "cell_type": "code",
   "execution_count": 96,
   "id": "9dd9c41e",
   "metadata": {},
   "outputs": [
    {
     "data": {
      "text/plain": [
       "Price                      0\n",
       "Accommodates              61\n",
       "Bathrooms                419\n",
       "Bedrooms                 156\n",
       "Beds                     220\n",
       "Security Deposit       75256\n",
       "Cleaning Fee           36504\n",
       "Guests Included            0\n",
       "City                      58\n",
       "Zipcode                 1665\n",
       "Property Type              6\n",
       "Room Type                  0\n",
       "Bed Type                   0\n",
       "Amenities               1176\n",
       "Cancellation Policy        0\n",
       "dtype: int64"
      ]
     },
     "execution_count": 96,
     "metadata": {},
     "output_type": "execute_result"
    }
   ],
   "source": [
    "df.isnull().sum()"
   ]
  },
  {
   "cell_type": "code",
   "execution_count": 97,
   "id": "8b9fa842",
   "metadata": {},
   "outputs": [
    {
     "name": "stdout",
     "output_type": "stream",
     "text": [
      "<class 'pandas.core.frame.DataFrame'>\n",
      "Int64Index: 132573 entries, 409 to 494313\n",
      "Data columns (total 15 columns):\n",
      " #   Column               Non-Null Count   Dtype  \n",
      "---  ------               --------------   -----  \n",
      " 0   Price                132573 non-null  float64\n",
      " 1   Accommodates         132512 non-null  float64\n",
      " 2   Bathrooms            132154 non-null  float64\n",
      " 3   Bedrooms             132417 non-null  float64\n",
      " 4   Beds                 132353 non-null  float64\n",
      " 5   Security Deposit     57317 non-null   float64\n",
      " 6   Cleaning Fee         96069 non-null   float64\n",
      " 7   Guests Included      132573 non-null  float64\n",
      " 8   City                 132515 non-null  object \n",
      " 9   Zipcode              130908 non-null  object \n",
      " 10  Property Type        132567 non-null  object \n",
      " 11  Room Type            132573 non-null  object \n",
      " 12  Bed Type             132573 non-null  object \n",
      " 13  Amenities            131397 non-null  object \n",
      " 14  Cancellation Policy  132573 non-null  object \n",
      "dtypes: float64(8), object(7)\n",
      "memory usage: 16.2+ MB\n"
     ]
    }
   ],
   "source": [
    "df.info()"
   ]
  },
  {
   "cell_type": "code",
   "execution_count": 98,
   "id": "aee97d13",
   "metadata": {},
   "outputs": [
    {
     "data": {
      "text/plain": [
       "<AxesSubplot:>"
      ]
     },
     "execution_count": 98,
     "metadata": {},
     "output_type": "execute_result"
    },
    {
     "data": {
      "image/png": "[encoded data removed]",
      "text/plain": [
       "<Figure size 432x288 with 2 Axes>"
      ]
     },
     "metadata": {
      "needs_background": "light"
     },
     "output_type": "display_data"
    }
   ],
   "source": [
    "sns.heatmap(df.isnull())"
   ]
  },
  {
   "cell_type": "code",
   "execution_count": 196,
   "id": "61405f0d",
   "metadata": {},
   "outputs": [],
   "source": [
    "dfnum=df.select_dtypes(include=np.number)"
   ]
  },
  {
   "cell_type": "code",
   "execution_count": 199,
   "id": "94c0933f",
   "metadata": {},
   "outputs": [
    {
     "data": {
      "image/png": "[encoded data removed]",
      "text/plain": [
       "<Figure size 1080x576 with 1 Axes>"
      ]
     },
     "metadata": {
      "needs_background": "light"
     },
     "output_type": "display_data"
    }
   ],
   "source": [
    "plt.figure(figsize=[15,8])\n",
    "dfnum.boxplot()\n",
    "plt.xticks(rotation=90)\n",
    "plt.show()"
   ]
  },
  {
   "cell_type": "code",
   "execution_count": 200,
   "id": "dc10ad23",
   "metadata": {},
   "outputs": [],
   "source": [
    "dfcat=df.select_dtypes(include='O')"
   ]
  },
  {
   "cell_type": "code",
   "execution_count": 203,
   "id": "d49d3f93",
   "metadata": {},
   "outputs": [
    {
     "data": {
      "image/png": "[encoded data removed]",
      "text/plain": [
       "<Figure size 432x288 with 1 Axes>"
      ]
     },
     "metadata": {
      "needs_background": "light"
     },
     "output_type": "display_data"
    },
    {
     "data": {
      "image/png": "[encoded data removed]",
      "text/plain": [
       "<Figure size 432x288 with 1 Axes>"
      ]
     },
     "metadata": {
      "needs_background": "light"
     },
     "output_type": "display_data"
    },
    {
     "data": {
      "image/png": "[encoded data removed]",
      "text/plain": [
       "<Figure size 432x288 with 1 Axes>"
      ]
     },
     "metadata": {
      "needs_background": "light"
     },
     "output_type": "display_data"
    },
    {
     "data": {
      "image/png": "[encoded data removed]",
      "text/plain": [
       "<Figure size 432x288 with 1 Axes>"
      ]
     },
     "metadata": {
      "needs_background": "light"
     },
     "output_type": "display_data"
    },
    {
     "data": {
      "image/png": "[encoded data removed]",
      "text/plain": [
       "<Figure size 432x288 with 1 Axes>"
      ]
     },
     "metadata": {
      "needs_background": "light"
     },
     "output_type": "display_data"
    },
    {
     "ename": "KeyboardInterrupt",
     "evalue": "",
     "output_type": "error",
     "traceback": [
      "\u001b[1;31m---------------------------------------------------------------------------\u001b[0m",
      "\u001b[1;31mKeyboardInterrupt\u001b[0m                         Traceback (most recent call last)",
      "\u001b[1;32m<ipython-input-203-e0fdc10cb1e7>\u001b[0m in \u001b[0;36m<module>\u001b[1;34m\u001b[0m\n\u001b[0;32m      1\u001b[0m \u001b[1;32mfor\u001b[0m \u001b[0mi\u001b[0m \u001b[1;32min\u001b[0m \u001b[0mdfcat\u001b[0m\u001b[1;33m:\u001b[0m\u001b[1;33m\u001b[0m\u001b[1;33m\u001b[0m\u001b[0m\n\u001b[1;32m----> 2\u001b[1;33m     \u001b[0msns\u001b[0m\u001b[1;33m.\u001b[0m\u001b[0mcountplot\u001b[0m\u001b[1;33m(\u001b[0m\u001b[0mdfcat\u001b[0m\u001b[1;33m[\u001b[0m\u001b[0mi\u001b[0m\u001b[1;33m]\u001b[0m\u001b[1;33m)\u001b[0m\u001b[1;33m\u001b[0m\u001b[1;33m\u001b[0m\u001b[0m\n\u001b[0m\u001b[0;32m      3\u001b[0m     \u001b[0mplt\u001b[0m\u001b[1;33m.\u001b[0m\u001b[0mshow\u001b[0m\u001b[1;33m(\u001b[0m\u001b[1;33m)\u001b[0m\u001b[1;33m\u001b[0m\u001b[1;33m\u001b[0m\u001b[0m\n",
      "\u001b[1;32m~\\Anaconda3\\lib\\site-packages\\seaborn\\_decorators.py\u001b[0m in \u001b[0;36minner_f\u001b[1;34m(*args, **kwargs)\u001b[0m\n\u001b[0;32m     44\u001b[0m             )\n\u001b[0;32m     45\u001b[0m         \u001b[0mkwargs\u001b[0m\u001b[1;33m.\u001b[0m\u001b[0mupdate\u001b[0m\u001b[1;33m(\u001b[0m\u001b[1;33m{\u001b[0m\u001b[0mk\u001b[0m\u001b[1;33m:\u001b[0m \u001b[0marg\u001b[0m \u001b[1;32mfor\u001b[0m \u001b[0mk\u001b[0m\u001b[1;33m,\u001b[0m \u001b[0marg\u001b[0m \u001b[1;32min\u001b[0m \u001b[0mzip\u001b[0m\u001b[1;33m(\u001b[0m\u001b[0msig\u001b[0m\u001b[1;33m.\u001b[0m\u001b[0mparameters\u001b[0m\u001b[1;33m,\u001b[0m \u001b[0margs\u001b[0m\u001b[1;33m)\u001b[0m\u001b[1;33m}\u001b[0m\u001b[1;33m)\u001b[0m\u001b[1;33m\u001b[0m\u001b[1;33m\u001b[0m\u001b[0m\n\u001b[1;32m---> 46\u001b[1;33m         \u001b[1;32mreturn\u001b[0m \u001b[0mf\u001b[0m\u001b[1;33m(\u001b[0m\u001b[1;33m**\u001b[0m\u001b[0mkwargs\u001b[0m\u001b[1;33m)\u001b[0m\u001b[1;33m\u001b[0m\u001b[1;33m\u001b[0m\u001b[0m\n\u001b[0m\u001b[0;32m     47\u001b[0m     \u001b[1;32mreturn\u001b[0m \u001b[0minner_f\u001b[0m\u001b[1;33m\u001b[0m\u001b[1;33m\u001b[0m\u001b[0m\n\u001b[0;32m     48\u001b[0m \u001b[1;33m\u001b[0m\u001b[0m\n",
      "\u001b[1;32m~\\Anaconda3\\lib\\site-packages\\seaborn\\categorical.py\u001b[0m in \u001b[0;36mcountplot\u001b[1;34m(x, y, hue, data, order, hue_order, orient, color, palette, saturation, dodge, ax, **kwargs)\u001b[0m\n\u001b[0;32m   3605\u001b[0m         \u001b[0max\u001b[0m \u001b[1;33m=\u001b[0m \u001b[0mplt\u001b[0m\u001b[1;33m.\u001b[0m\u001b[0mgca\u001b[0m\u001b[1;33m(\u001b[0m\u001b[1;33m)\u001b[0m\u001b[1;33m\u001b[0m\u001b[1;33m\u001b[0m\u001b[0m\n\u001b[0;32m   3606\u001b[0m \u001b[1;33m\u001b[0m\u001b[0m\n\u001b[1;32m-> 3607\u001b[1;33m     \u001b[0mplotter\u001b[0m\u001b[1;33m.\u001b[0m\u001b[0mplot\u001b[0m\u001b[1;33m(\u001b[0m\u001b[0max\u001b[0m\u001b[1;33m,\u001b[0m \u001b[0mkwargs\u001b[0m\u001b[1;33m)\u001b[0m\u001b[1;33m\u001b[0m\u001b[1;33m\u001b[0m\u001b[0m\n\u001b[0m\u001b[0;32m   3608\u001b[0m     \u001b[1;32mreturn\u001b[0m \u001b[0max\u001b[0m\u001b[1;33m\u001b[0m\u001b[1;33m\u001b[0m\u001b[0m\n\u001b[0;32m   3609\u001b[0m \u001b[1;33m\u001b[0m\u001b[0m\n",
      "\u001b[1;32m~\\Anaconda3\\lib\\site-packages\\seaborn\\categorical.py\u001b[0m in \u001b[0;36mplot\u001b[1;34m(self, ax, bar_kws)\u001b[0m\n\u001b[0;32m   1638\u001b[0m         \u001b[1;34m\"\"\"Make the plot.\"\"\"\u001b[0m\u001b[1;33m\u001b[0m\u001b[1;33m\u001b[0m\u001b[0m\n\u001b[0;32m   1639\u001b[0m         \u001b[0mself\u001b[0m\u001b[1;33m.\u001b[0m\u001b[0mdraw_bars\u001b[0m\u001b[1;33m(\u001b[0m\u001b[0max\u001b[0m\u001b[1;33m,\u001b[0m \u001b[0mbar_kws\u001b[0m\u001b[1;33m)\u001b[0m\u001b[1;33m\u001b[0m\u001b[1;33m\u001b[0m\u001b[0m\n\u001b[1;32m-> 1640\u001b[1;33m         \u001b[0mself\u001b[0m\u001b[1;33m.\u001b[0m\u001b[0mannotate_axes\u001b[0m\u001b[1;33m(\u001b[0m\u001b[0max\u001b[0m\u001b[1;33m)\u001b[0m\u001b[1;33m\u001b[0m\u001b[1;33m\u001b[0m\u001b[0m\n\u001b[0m\u001b[0;32m   1641\u001b[0m         \u001b[1;32mif\u001b[0m \u001b[0mself\u001b[0m\u001b[1;33m.\u001b[0m\u001b[0morient\u001b[0m \u001b[1;33m==\u001b[0m \u001b[1;34m\"h\"\u001b[0m\u001b[1;33m:\u001b[0m\u001b[1;33m\u001b[0m\u001b[1;33m\u001b[0m\u001b[0m\n\u001b[0;32m   1642\u001b[0m             \u001b[0max\u001b[0m\u001b[1;33m.\u001b[0m\u001b[0minvert_yaxis\u001b[0m\u001b[1;33m(\u001b[0m\u001b[1;33m)\u001b[0m\u001b[1;33m\u001b[0m\u001b[1;33m\u001b[0m\u001b[0m\n",
      "\u001b[1;32m~\\Anaconda3\\lib\\site-packages\\seaborn\\categorical.py\u001b[0m in \u001b[0;36mannotate_axes\u001b[1;34m(self, ax)\u001b[0m\n\u001b[0;32m    363\u001b[0m \u001b[1;33m\u001b[0m\u001b[0m\n\u001b[0;32m    364\u001b[0m         \u001b[1;32mif\u001b[0m \u001b[0mself\u001b[0m\u001b[1;33m.\u001b[0m\u001b[0morient\u001b[0m \u001b[1;33m==\u001b[0m \u001b[1;34m\"v\"\u001b[0m\u001b[1;33m:\u001b[0m\u001b[1;33m\u001b[0m\u001b[1;33m\u001b[0m\u001b[0m\n\u001b[1;32m--> 365\u001b[1;33m             \u001b[0max\u001b[0m\u001b[1;33m.\u001b[0m\u001b[0mset_xticks\u001b[0m\u001b[1;33m(\u001b[0m\u001b[0mnp\u001b[0m\u001b[1;33m.\u001b[0m\u001b[0marange\u001b[0m\u001b[1;33m(\u001b[0m\u001b[0mlen\u001b[0m\u001b[1;33m(\u001b[0m\u001b[0mself\u001b[0m\u001b[1;33m.\u001b[0m\u001b[0mplot_data\u001b[0m\u001b[1;33m)\u001b[0m\u001b[1;33m)\u001b[0m\u001b[1;33m)\u001b[0m\u001b[1;33m\u001b[0m\u001b[1;33m\u001b[0m\u001b[0m\n\u001b[0m\u001b[0;32m    366\u001b[0m             \u001b[0max\u001b[0m\u001b[1;33m.\u001b[0m\u001b[0mset_xticklabels\u001b[0m\u001b[1;33m(\u001b[0m\u001b[0mgroup_names\u001b[0m\u001b[1;33m)\u001b[0m\u001b[1;33m\u001b[0m\u001b[1;33m\u001b[0m\u001b[0m\n\u001b[0;32m    367\u001b[0m         \u001b[1;32melse\u001b[0m\u001b[1;33m:\u001b[0m\u001b[1;33m\u001b[0m\u001b[1;33m\u001b[0m\u001b[0m\n",
      "\u001b[1;32m~\\Anaconda3\\lib\\site-packages\\matplotlib\\axes\\_base.py\u001b[0m in \u001b[0;36mwrapper\u001b[1;34m(self, *args, **kwargs)\u001b[0m\n\u001b[0;32m     61\u001b[0m \u001b[1;33m\u001b[0m\u001b[0m\n\u001b[0;32m     62\u001b[0m         \u001b[1;32mdef\u001b[0m \u001b[0mwrapper\u001b[0m\u001b[1;33m(\u001b[0m\u001b[0mself\u001b[0m\u001b[1;33m,\u001b[0m \u001b[1;33m*\u001b[0m\u001b[0margs\u001b[0m\u001b[1;33m,\u001b[0m \u001b[1;33m**\u001b[0m\u001b[0mkwargs\u001b[0m\u001b[1;33m)\u001b[0m\u001b[1;33m:\u001b[0m\u001b[1;33m\u001b[0m\u001b[1;33m\u001b[0m\u001b[0m\n\u001b[1;32m---> 63\u001b[1;33m             \u001b[1;32mreturn\u001b[0m \u001b[0mget_method\u001b[0m\u001b[1;33m(\u001b[0m\u001b[0mself\u001b[0m\u001b[1;33m)\u001b[0m\u001b[1;33m(\u001b[0m\u001b[1;33m*\u001b[0m\u001b[0margs\u001b[0m\u001b[1;33m,\u001b[0m \u001b[1;33m**\u001b[0m\u001b[0mkwargs\u001b[0m\u001b[1;33m)\u001b[0m\u001b[1;33m\u001b[0m\u001b[1;33m\u001b[0m\u001b[0m\n\u001b[0m\u001b[0;32m     64\u001b[0m \u001b[1;33m\u001b[0m\u001b[0m\n\u001b[0;32m     65\u001b[0m         \u001b[0mwrapper\u001b[0m\u001b[1;33m.\u001b[0m\u001b[0m__module__\u001b[0m \u001b[1;33m=\u001b[0m \u001b[0mowner\u001b[0m\u001b[1;33m.\u001b[0m\u001b[0m__module__\u001b[0m\u001b[1;33m\u001b[0m\u001b[1;33m\u001b[0m\u001b[0m\n",
      "\u001b[1;32m~\\Anaconda3\\lib\\site-packages\\matplotlib\\cbook\\deprecation.py\u001b[0m in \u001b[0;36mwrapper\u001b[1;34m(*args, **kwargs)\u001b[0m\n\u001b[0;32m    449\u001b[0m                 \u001b[1;34m\"parameter will become keyword-only %(removal)s.\"\u001b[0m\u001b[1;33m,\u001b[0m\u001b[1;33m\u001b[0m\u001b[1;33m\u001b[0m\u001b[0m\n\u001b[0;32m    450\u001b[0m                 name=name, obj_type=f\"parameter of {func.__name__}()\")\n\u001b[1;32m--> 451\u001b[1;33m         \u001b[1;32mreturn\u001b[0m \u001b[0mfunc\u001b[0m\u001b[1;33m(\u001b[0m\u001b[1;33m*\u001b[0m\u001b[0margs\u001b[0m\u001b[1;33m,\u001b[0m \u001b[1;33m**\u001b[0m\u001b[0mkwargs\u001b[0m\u001b[1;33m)\u001b[0m\u001b[1;33m\u001b[0m\u001b[1;33m\u001b[0m\u001b[0m\n\u001b[0m\u001b[0;32m    452\u001b[0m \u001b[1;33m\u001b[0m\u001b[0m\n\u001b[0;32m    453\u001b[0m     \u001b[1;32mreturn\u001b[0m \u001b[0mwrapper\u001b[0m\u001b[1;33m\u001b[0m\u001b[1;33m\u001b[0m\u001b[0m\n",
      "\u001b[1;32m~\\Anaconda3\\lib\\site-packages\\matplotlib\\axis.py\u001b[0m in \u001b[0;36mset_ticks\u001b[1;34m(self, ticks, minor)\u001b[0m\n\u001b[0;32m   1822\u001b[0m         \u001b[1;32melse\u001b[0m\u001b[1;33m:\u001b[0m\u001b[1;33m\u001b[0m\u001b[1;33m\u001b[0m\u001b[0m\n\u001b[0;32m   1823\u001b[0m             \u001b[0mself\u001b[0m\u001b[1;33m.\u001b[0m\u001b[0mset_major_locator\u001b[0m\u001b[1;33m(\u001b[0m\u001b[0mmticker\u001b[0m\u001b[1;33m.\u001b[0m\u001b[0mFixedLocator\u001b[0m\u001b[1;33m(\u001b[0m\u001b[0mticks\u001b[0m\u001b[1;33m)\u001b[0m\u001b[1;33m)\u001b[0m\u001b[1;33m\u001b[0m\u001b[1;33m\u001b[0m\u001b[0m\n\u001b[1;32m-> 1824\u001b[1;33m             \u001b[1;32mreturn\u001b[0m \u001b[0mself\u001b[0m\u001b[1;33m.\u001b[0m\u001b[0mget_major_ticks\u001b[0m\u001b[1;33m(\u001b[0m\u001b[0mlen\u001b[0m\u001b[1;33m(\u001b[0m\u001b[0mticks\u001b[0m\u001b[1;33m)\u001b[0m\u001b[1;33m)\u001b[0m\u001b[1;33m\u001b[0m\u001b[1;33m\u001b[0m\u001b[0m\n\u001b[0m\u001b[0;32m   1825\u001b[0m \u001b[1;33m\u001b[0m\u001b[0m\n\u001b[0;32m   1826\u001b[0m     \u001b[1;32mdef\u001b[0m \u001b[0m_get_tick_boxes_siblings\u001b[0m\u001b[1;33m(\u001b[0m\u001b[0mself\u001b[0m\u001b[1;33m,\u001b[0m \u001b[0mxdir\u001b[0m\u001b[1;33m,\u001b[0m \u001b[0mrenderer\u001b[0m\u001b[1;33m)\u001b[0m\u001b[1;33m:\u001b[0m\u001b[1;33m\u001b[0m\u001b[1;33m\u001b[0m\u001b[0m\n",
      "\u001b[1;32m~\\Anaconda3\\lib\\site-packages\\matplotlib\\axis.py\u001b[0m in \u001b[0;36mget_major_ticks\u001b[1;34m(self, numticks)\u001b[0m\n\u001b[0;32m   1380\u001b[0m         \u001b[1;32mwhile\u001b[0m \u001b[0mlen\u001b[0m\u001b[1;33m(\u001b[0m\u001b[0mself\u001b[0m\u001b[1;33m.\u001b[0m\u001b[0mmajorTicks\u001b[0m\u001b[1;33m)\u001b[0m \u001b[1;33m<\u001b[0m \u001b[0mnumticks\u001b[0m\u001b[1;33m:\u001b[0m\u001b[1;33m\u001b[0m\u001b[1;33m\u001b[0m\u001b[0m\n\u001b[0;32m   1381\u001b[0m             \u001b[1;31m# Update the new tick label properties from the old.\u001b[0m\u001b[1;33m\u001b[0m\u001b[1;33m\u001b[0m\u001b[1;33m\u001b[0m\u001b[0m\n\u001b[1;32m-> 1382\u001b[1;33m             \u001b[0mtick\u001b[0m \u001b[1;33m=\u001b[0m \u001b[0mself\u001b[0m\u001b[1;33m.\u001b[0m\u001b[0m_get_tick\u001b[0m\u001b[1;33m(\u001b[0m\u001b[0mmajor\u001b[0m\u001b[1;33m=\u001b[0m\u001b[1;32mTrue\u001b[0m\u001b[1;33m)\u001b[0m\u001b[1;33m\u001b[0m\u001b[1;33m\u001b[0m\u001b[0m\n\u001b[0m\u001b[0;32m   1383\u001b[0m             \u001b[0mself\u001b[0m\u001b[1;33m.\u001b[0m\u001b[0mmajorTicks\u001b[0m\u001b[1;33m.\u001b[0m\u001b[0mappend\u001b[0m\u001b[1;33m(\u001b[0m\u001b[0mtick\u001b[0m\u001b[1;33m)\u001b[0m\u001b[1;33m\u001b[0m\u001b[1;33m\u001b[0m\u001b[0m\n\u001b[0;32m   1384\u001b[0m             \u001b[0mself\u001b[0m\u001b[1;33m.\u001b[0m\u001b[0m_copy_tick_props\u001b[0m\u001b[1;33m(\u001b[0m\u001b[0mself\u001b[0m\u001b[1;33m.\u001b[0m\u001b[0mmajorTicks\u001b[0m\u001b[1;33m[\u001b[0m\u001b[1;36m0\u001b[0m\u001b[1;33m]\u001b[0m\u001b[1;33m,\u001b[0m \u001b[0mtick\u001b[0m\u001b[1;33m)\u001b[0m\u001b[1;33m\u001b[0m\u001b[1;33m\u001b[0m\u001b[0m\n",
      "\u001b[1;32m~\\Anaconda3\\lib\\site-packages\\matplotlib\\axis.py\u001b[0m in \u001b[0;36m_get_tick\u001b[1;34m(self, major)\u001b[0m\n\u001b[0;32m   2014\u001b[0m         \u001b[1;32melse\u001b[0m\u001b[1;33m:\u001b[0m\u001b[1;33m\u001b[0m\u001b[1;33m\u001b[0m\u001b[0m\n\u001b[0;32m   2015\u001b[0m             \u001b[0mtick_kw\u001b[0m \u001b[1;33m=\u001b[0m \u001b[0mself\u001b[0m\u001b[1;33m.\u001b[0m\u001b[0m_minor_tick_kw\u001b[0m\u001b[1;33m\u001b[0m\u001b[1;33m\u001b[0m\u001b[0m\n\u001b[1;32m-> 2016\u001b[1;33m         \u001b[1;32mreturn\u001b[0m \u001b[0mXTick\u001b[0m\u001b[1;33m(\u001b[0m\u001b[0mself\u001b[0m\u001b[1;33m.\u001b[0m\u001b[0maxes\u001b[0m\u001b[1;33m,\u001b[0m \u001b[1;36m0\u001b[0m\u001b[1;33m,\u001b[0m \u001b[0mmajor\u001b[0m\u001b[1;33m=\u001b[0m\u001b[0mmajor\u001b[0m\u001b[1;33m,\u001b[0m \u001b[1;33m**\u001b[0m\u001b[0mtick_kw\u001b[0m\u001b[1;33m)\u001b[0m\u001b[1;33m\u001b[0m\u001b[1;33m\u001b[0m\u001b[0m\n\u001b[0m\u001b[0;32m   2017\u001b[0m \u001b[1;33m\u001b[0m\u001b[0m\n\u001b[0;32m   2018\u001b[0m     \u001b[1;32mdef\u001b[0m \u001b[0mset_label_position\u001b[0m\u001b[1;33m(\u001b[0m\u001b[0mself\u001b[0m\u001b[1;33m,\u001b[0m \u001b[0mposition\u001b[0m\u001b[1;33m)\u001b[0m\u001b[1;33m:\u001b[0m\u001b[1;33m\u001b[0m\u001b[1;33m\u001b[0m\u001b[0m\n",
      "\u001b[1;32m~\\Anaconda3\\lib\\site-packages\\matplotlib\\axis.py\u001b[0m in \u001b[0;36m__init__\u001b[1;34m(self, *args, **kwargs)\u001b[0m\n\u001b[0;32m    417\u001b[0m         \u001b[0msuper\u001b[0m\u001b[1;33m(\u001b[0m\u001b[1;33m)\u001b[0m\u001b[1;33m.\u001b[0m\u001b[0m__init__\u001b[0m\u001b[1;33m(\u001b[0m\u001b[1;33m*\u001b[0m\u001b[0margs\u001b[0m\u001b[1;33m,\u001b[0m \u001b[1;33m**\u001b[0m\u001b[0mkwargs\u001b[0m\u001b[1;33m)\u001b[0m\u001b[1;33m\u001b[0m\u001b[1;33m\u001b[0m\u001b[0m\n\u001b[0;32m    418\u001b[0m         \u001b[1;31m# x in data coords, y in axes coords\u001b[0m\u001b[1;33m\u001b[0m\u001b[1;33m\u001b[0m\u001b[1;33m\u001b[0m\u001b[0m\n\u001b[1;32m--> 419\u001b[1;33m         self.tick1line.set(\n\u001b[0m\u001b[0;32m    420\u001b[0m             \u001b[0mxdata\u001b[0m\u001b[1;33m=\u001b[0m\u001b[1;33m[\u001b[0m\u001b[1;36m0\u001b[0m\u001b[1;33m]\u001b[0m\u001b[1;33m,\u001b[0m \u001b[0mydata\u001b[0m\u001b[1;33m=\u001b[0m\u001b[1;33m[\u001b[0m\u001b[1;36m0\u001b[0m\u001b[1;33m]\u001b[0m\u001b[1;33m,\u001b[0m\u001b[1;33m\u001b[0m\u001b[1;33m\u001b[0m\u001b[0m\n\u001b[0;32m    421\u001b[0m             \u001b[0mtransform\u001b[0m\u001b[1;33m=\u001b[0m\u001b[0mself\u001b[0m\u001b[1;33m.\u001b[0m\u001b[0maxes\u001b[0m\u001b[1;33m.\u001b[0m\u001b[0mget_xaxis_transform\u001b[0m\u001b[1;33m(\u001b[0m\u001b[0mwhich\u001b[0m\u001b[1;33m=\u001b[0m\u001b[1;34m\"tick1\"\u001b[0m\u001b[1;33m)\u001b[0m\u001b[1;33m,\u001b[0m\u001b[1;33m\u001b[0m\u001b[1;33m\u001b[0m\u001b[0m\n",
      "\u001b[1;32m~\\Anaconda3\\lib\\site-packages\\matplotlib\\artist.py\u001b[0m in \u001b[0;36mset\u001b[1;34m(self, **kwargs)\u001b[0m\n\u001b[0;32m   1111\u001b[0m         \u001b[1;32mif\u001b[0m \u001b[0mmove_color_to_start\u001b[0m\u001b[1;33m:\u001b[0m\u001b[1;33m\u001b[0m\u001b[1;33m\u001b[0m\u001b[0m\n\u001b[0;32m   1112\u001b[0m             \u001b[0mkwargs\u001b[0m \u001b[1;33m=\u001b[0m \u001b[1;33m{\u001b[0m\u001b[1;34m\"color\"\u001b[0m\u001b[1;33m:\u001b[0m \u001b[0mkwargs\u001b[0m\u001b[1;33m.\u001b[0m\u001b[0mpop\u001b[0m\u001b[1;33m(\u001b[0m\u001b[1;34m\"color\"\u001b[0m\u001b[1;33m)\u001b[0m\u001b[1;33m,\u001b[0m \u001b[1;33m**\u001b[0m\u001b[0mkwargs\u001b[0m\u001b[1;33m}\u001b[0m\u001b[1;33m\u001b[0m\u001b[1;33m\u001b[0m\u001b[0m\n\u001b[1;32m-> 1113\u001b[1;33m         \u001b[1;32mreturn\u001b[0m \u001b[0mself\u001b[0m\u001b[1;33m.\u001b[0m\u001b[0mupdate\u001b[0m\u001b[1;33m(\u001b[0m\u001b[0mkwargs\u001b[0m\u001b[1;33m)\u001b[0m\u001b[1;33m\u001b[0m\u001b[1;33m\u001b[0m\u001b[0m\n\u001b[0m\u001b[0;32m   1114\u001b[0m \u001b[1;33m\u001b[0m\u001b[0m\n\u001b[0;32m   1115\u001b[0m     \u001b[1;32mdef\u001b[0m \u001b[0mfindobj\u001b[0m\u001b[1;33m(\u001b[0m\u001b[0mself\u001b[0m\u001b[1;33m,\u001b[0m \u001b[0mmatch\u001b[0m\u001b[1;33m=\u001b[0m\u001b[1;32mNone\u001b[0m\u001b[1;33m,\u001b[0m \u001b[0minclude_self\u001b[0m\u001b[1;33m=\u001b[0m\u001b[1;32mTrue\u001b[0m\u001b[1;33m)\u001b[0m\u001b[1;33m:\u001b[0m\u001b[1;33m\u001b[0m\u001b[1;33m\u001b[0m\u001b[0m\n",
      "\u001b[1;32m~\\Anaconda3\\lib\\site-packages\\matplotlib\\artist.py\u001b[0m in \u001b[0;36mupdate\u001b[1;34m(self, props)\u001b[0m\n\u001b[0;32m    996\u001b[0m                         raise AttributeError(f\"{type(self).__name__!r} object \"\n\u001b[0;32m    997\u001b[0m                                              f\"has no property {k!r}\")\n\u001b[1;32m--> 998\u001b[1;33m                     \u001b[0mret\u001b[0m\u001b[1;33m.\u001b[0m\u001b[0mappend\u001b[0m\u001b[1;33m(\u001b[0m\u001b[0mfunc\u001b[0m\u001b[1;33m(\u001b[0m\u001b[0mv\u001b[0m\u001b[1;33m)\u001b[0m\u001b[1;33m)\u001b[0m\u001b[1;33m\u001b[0m\u001b[1;33m\u001b[0m\u001b[0m\n\u001b[0m\u001b[0;32m    999\u001b[0m         \u001b[1;32mif\u001b[0m \u001b[0mret\u001b[0m\u001b[1;33m:\u001b[0m\u001b[1;33m\u001b[0m\u001b[1;33m\u001b[0m\u001b[0m\n\u001b[0;32m   1000\u001b[0m             \u001b[0mself\u001b[0m\u001b[1;33m.\u001b[0m\u001b[0mpchanged\u001b[0m\u001b[1;33m(\u001b[0m\u001b[1;33m)\u001b[0m\u001b[1;33m\u001b[0m\u001b[1;33m\u001b[0m\u001b[0m\n",
      "\u001b[1;32m~\\Anaconda3\\lib\\site-packages\\matplotlib\\lines.py\u001b[0m in \u001b[0;36mset_marker\u001b[1;34m(self, marker)\u001b[0m\n\u001b[0;32m   1155\u001b[0m             \u001b[0marguments\u001b[0m\u001b[1;33m.\u001b[0m\u001b[1;33m\u001b[0m\u001b[1;33m\u001b[0m\u001b[0m\n\u001b[0;32m   1156\u001b[0m         \"\"\"\n\u001b[1;32m-> 1157\u001b[1;33m         \u001b[0mself\u001b[0m\u001b[1;33m.\u001b[0m\u001b[0m_marker\u001b[0m\u001b[1;33m.\u001b[0m\u001b[0mset_marker\u001b[0m\u001b[1;33m(\u001b[0m\u001b[0mmarker\u001b[0m\u001b[1;33m)\u001b[0m\u001b[1;33m\u001b[0m\u001b[1;33m\u001b[0m\u001b[0m\n\u001b[0m\u001b[0;32m   1158\u001b[0m         \u001b[0mself\u001b[0m\u001b[1;33m.\u001b[0m\u001b[0mstale\u001b[0m \u001b[1;33m=\u001b[0m \u001b[1;32mTrue\u001b[0m\u001b[1;33m\u001b[0m\u001b[1;33m\u001b[0m\u001b[0m\n\u001b[0;32m   1159\u001b[0m \u001b[1;33m\u001b[0m\u001b[0m\n",
      "\u001b[1;32m~\\Anaconda3\\lib\\site-packages\\matplotlib\\markers.py\u001b[0m in \u001b[0;36mset_marker\u001b[1;34m(self, marker)\u001b[0m\n\u001b[0;32m    311\u001b[0m         \u001b[1;32mif\u001b[0m \u001b[1;32mnot\u001b[0m \u001b[0misinstance\u001b[0m\u001b[1;33m(\u001b[0m\u001b[0mmarker\u001b[0m\u001b[1;33m,\u001b[0m \u001b[0mMarkerStyle\u001b[0m\u001b[1;33m)\u001b[0m\u001b[1;33m:\u001b[0m\u001b[1;33m\u001b[0m\u001b[1;33m\u001b[0m\u001b[0m\n\u001b[0;32m    312\u001b[0m             \u001b[0mself\u001b[0m\u001b[1;33m.\u001b[0m\u001b[0m_marker\u001b[0m \u001b[1;33m=\u001b[0m \u001b[0mmarker\u001b[0m\u001b[1;33m\u001b[0m\u001b[1;33m\u001b[0m\u001b[0m\n\u001b[1;32m--> 313\u001b[1;33m             \u001b[0mself\u001b[0m\u001b[1;33m.\u001b[0m\u001b[0m_recache\u001b[0m\u001b[1;33m(\u001b[0m\u001b[1;33m)\u001b[0m\u001b[1;33m\u001b[0m\u001b[1;33m\u001b[0m\u001b[0m\n\u001b[0m\u001b[0;32m    314\u001b[0m \u001b[1;33m\u001b[0m\u001b[0m\n\u001b[0;32m    315\u001b[0m     \u001b[1;32mdef\u001b[0m \u001b[0mget_path\u001b[0m\u001b[1;33m(\u001b[0m\u001b[0mself\u001b[0m\u001b[1;33m)\u001b[0m\u001b[1;33m:\u001b[0m\u001b[1;33m\u001b[0m\u001b[1;33m\u001b[0m\u001b[0m\n",
      "\u001b[1;32m~\\Anaconda3\\lib\\site-packages\\matplotlib\\markers.py\u001b[0m in \u001b[0;36m_recache\u001b[1;34m(self)\u001b[0m\n\u001b[0;32m    239\u001b[0m         \u001b[0mself\u001b[0m\u001b[1;33m.\u001b[0m\u001b[0m_capstyle\u001b[0m \u001b[1;33m=\u001b[0m \u001b[1;34m'butt'\u001b[0m\u001b[1;33m\u001b[0m\u001b[1;33m\u001b[0m\u001b[0m\n\u001b[0;32m    240\u001b[0m         \u001b[0mself\u001b[0m\u001b[1;33m.\u001b[0m\u001b[0m_filled\u001b[0m \u001b[1;33m=\u001b[0m \u001b[1;32mTrue\u001b[0m\u001b[1;33m\u001b[0m\u001b[1;33m\u001b[0m\u001b[0m\n\u001b[1;32m--> 241\u001b[1;33m         \u001b[0mself\u001b[0m\u001b[1;33m.\u001b[0m\u001b[0m_marker_function\u001b[0m\u001b[1;33m(\u001b[0m\u001b[1;33m)\u001b[0m\u001b[1;33m\u001b[0m\u001b[1;33m\u001b[0m\u001b[0m\n\u001b[0m\u001b[0;32m    242\u001b[0m \u001b[1;33m\u001b[0m\u001b[0m\n\u001b[0;32m    243\u001b[0m     \u001b[1;32mdef\u001b[0m \u001b[0m__bool__\u001b[0m\u001b[1;33m(\u001b[0m\u001b[0mself\u001b[0m\u001b[1;33m)\u001b[0m\u001b[1;33m:\u001b[0m\u001b[1;33m\u001b[0m\u001b[1;33m\u001b[0m\u001b[0m\n",
      "\u001b[1;32m~\\Anaconda3\\lib\\site-packages\\matplotlib\\markers.py\u001b[0m in \u001b[0;36m_set_tickdown\u001b[1;34m(self)\u001b[0m\n\u001b[0;32m    752\u001b[0m \u001b[1;33m\u001b[0m\u001b[0m\n\u001b[0;32m    753\u001b[0m     \u001b[1;32mdef\u001b[0m \u001b[0m_set_tickdown\u001b[0m\u001b[1;33m(\u001b[0m\u001b[0mself\u001b[0m\u001b[1;33m)\u001b[0m\u001b[1;33m:\u001b[0m\u001b[1;33m\u001b[0m\u001b[1;33m\u001b[0m\u001b[0m\n\u001b[1;32m--> 754\u001b[1;33m         \u001b[0mself\u001b[0m\u001b[1;33m.\u001b[0m\u001b[0m_transform\u001b[0m \u001b[1;33m=\u001b[0m \u001b[0mAffine2D\u001b[0m\u001b[1;33m(\u001b[0m\u001b[1;33m)\u001b[0m\u001b[1;33m.\u001b[0m\u001b[0mscale\u001b[0m\u001b[1;33m(\u001b[0m\u001b[1;36m1.0\u001b[0m\u001b[1;33m,\u001b[0m \u001b[1;33m-\u001b[0m\u001b[1;36m1.0\u001b[0m\u001b[1;33m)\u001b[0m\u001b[1;33m\u001b[0m\u001b[1;33m\u001b[0m\u001b[0m\n\u001b[0m\u001b[0;32m    755\u001b[0m         \u001b[0mself\u001b[0m\u001b[1;33m.\u001b[0m\u001b[0m_snap_threshold\u001b[0m \u001b[1;33m=\u001b[0m \u001b[1;36m1.0\u001b[0m\u001b[1;33m\u001b[0m\u001b[1;33m\u001b[0m\u001b[0m\n\u001b[0;32m    756\u001b[0m         \u001b[0mself\u001b[0m\u001b[1;33m.\u001b[0m\u001b[0m_filled\u001b[0m \u001b[1;33m=\u001b[0m \u001b[1;32mFalse\u001b[0m\u001b[1;33m\u001b[0m\u001b[1;33m\u001b[0m\u001b[0m\n",
      "\u001b[1;32m~\\Anaconda3\\lib\\site-packages\\matplotlib\\transforms.py\u001b[0m in \u001b[0;36m__init__\u001b[1;34m(self, matrix, **kwargs)\u001b[0m\n\u001b[0;32m   1844\u001b[0m             \u001b[1;31m# A bit faster than np.identity(3).\u001b[0m\u001b[1;33m\u001b[0m\u001b[1;33m\u001b[0m\u001b[1;33m\u001b[0m\u001b[0m\n\u001b[0;32m   1845\u001b[0m             \u001b[0mmatrix\u001b[0m \u001b[1;33m=\u001b[0m \u001b[0mIdentityTransform\u001b[0m\u001b[1;33m.\u001b[0m\u001b[0m_mtx\u001b[0m\u001b[1;33m.\u001b[0m\u001b[0mcopy\u001b[0m\u001b[1;33m(\u001b[0m\u001b[1;33m)\u001b[0m\u001b[1;33m\u001b[0m\u001b[1;33m\u001b[0m\u001b[0m\n\u001b[1;32m-> 1846\u001b[1;33m         \u001b[0mself\u001b[0m\u001b[1;33m.\u001b[0m\u001b[0m_mtx\u001b[0m \u001b[1;33m=\u001b[0m \u001b[0mmatrix\u001b[0m\u001b[1;33m.\u001b[0m\u001b[0mcopy\u001b[0m\u001b[1;33m(\u001b[0m\u001b[1;33m)\u001b[0m\u001b[1;33m\u001b[0m\u001b[1;33m\u001b[0m\u001b[0m\n\u001b[0m\u001b[0;32m   1847\u001b[0m         \u001b[0mself\u001b[0m\u001b[1;33m.\u001b[0m\u001b[0m_invalid\u001b[0m \u001b[1;33m=\u001b[0m \u001b[1;36m0\u001b[0m\u001b[1;33m\u001b[0m\u001b[1;33m\u001b[0m\u001b[0m\n\u001b[0;32m   1848\u001b[0m \u001b[1;33m\u001b[0m\u001b[0m\n",
      "\u001b[1;31mKeyboardInterrupt\u001b[0m: "
     ]
    },
    {
     "name": "stdout",
     "output_type": "stream",
     "text": [
      "Error in callback <function flush_figures at 0x00000175B2F98280> (for post_execute):\n"
     ]
    },
    {
     "ename": "KeyboardInterrupt",
     "evalue": "",
     "output_type": "error",
     "traceback": [
      "\u001b[1;31m---------------------------------------------------------------------------\u001b[0m",
      "\u001b[1;31mKeyboardInterrupt\u001b[0m                         Traceback (most recent call last)",
      "\u001b[1;32m~\\Anaconda3\\lib\\site-packages\\ipykernel\\pylab\\backend_inline.py\u001b[0m in \u001b[0;36mflush_figures\u001b[1;34m()\u001b[0m\n\u001b[0;32m    119\u001b[0m         \u001b[1;31m# ignore the tracking, just draw and close all figures\u001b[0m\u001b[1;33m\u001b[0m\u001b[1;33m\u001b[0m\u001b[1;33m\u001b[0m\u001b[0m\n\u001b[0;32m    120\u001b[0m         \u001b[1;32mtry\u001b[0m\u001b[1;33m:\u001b[0m\u001b[1;33m\u001b[0m\u001b[1;33m\u001b[0m\u001b[0m\n\u001b[1;32m--> 121\u001b[1;33m             \u001b[1;32mreturn\u001b[0m \u001b[0mshow\u001b[0m\u001b[1;33m(\u001b[0m\u001b[1;32mTrue\u001b[0m\u001b[1;33m)\u001b[0m\u001b[1;33m\u001b[0m\u001b[1;33m\u001b[0m\u001b[0m\n\u001b[0m\u001b[0;32m    122\u001b[0m         \u001b[1;32mexcept\u001b[0m \u001b[0mException\u001b[0m \u001b[1;32mas\u001b[0m \u001b[0me\u001b[0m\u001b[1;33m:\u001b[0m\u001b[1;33m\u001b[0m\u001b[1;33m\u001b[0m\u001b[0m\n\u001b[0;32m    123\u001b[0m             \u001b[1;31m# safely show traceback if in IPython, else raise\u001b[0m\u001b[1;33m\u001b[0m\u001b[1;33m\u001b[0m\u001b[1;33m\u001b[0m\u001b[0m\n",
      "\u001b[1;32m~\\Anaconda3\\lib\\site-packages\\ipykernel\\pylab\\backend_inline.py\u001b[0m in \u001b[0;36mshow\u001b[1;34m(close, block)\u001b[0m\n\u001b[0;32m     39\u001b[0m     \u001b[1;32mtry\u001b[0m\u001b[1;33m:\u001b[0m\u001b[1;33m\u001b[0m\u001b[1;33m\u001b[0m\u001b[0m\n\u001b[0;32m     40\u001b[0m         \u001b[1;32mfor\u001b[0m \u001b[0mfigure_manager\u001b[0m \u001b[1;32min\u001b[0m \u001b[0mGcf\u001b[0m\u001b[1;33m.\u001b[0m\u001b[0mget_all_fig_managers\u001b[0m\u001b[1;33m(\u001b[0m\u001b[1;33m)\u001b[0m\u001b[1;33m:\u001b[0m\u001b[1;33m\u001b[0m\u001b[1;33m\u001b[0m\u001b[0m\n\u001b[1;32m---> 41\u001b[1;33m             display(\n\u001b[0m\u001b[0;32m     42\u001b[0m                 \u001b[0mfigure_manager\u001b[0m\u001b[1;33m.\u001b[0m\u001b[0mcanvas\u001b[0m\u001b[1;33m.\u001b[0m\u001b[0mfigure\u001b[0m\u001b[1;33m,\u001b[0m\u001b[1;33m\u001b[0m\u001b[1;33m\u001b[0m\u001b[0m\n\u001b[0;32m     43\u001b[0m                 \u001b[0mmetadata\u001b[0m\u001b[1;33m=\u001b[0m\u001b[0m_fetch_figure_metadata\u001b[0m\u001b[1;33m(\u001b[0m\u001b[0mfigure_manager\u001b[0m\u001b[1;33m.\u001b[0m\u001b[0mcanvas\u001b[0m\u001b[1;33m.\u001b[0m\u001b[0mfigure\u001b[0m\u001b[1;33m)\u001b[0m\u001b[1;33m\u001b[0m\u001b[1;33m\u001b[0m\u001b[0m\n",
      "\u001b[1;32m~\\Anaconda3\\lib\\site-packages\\IPython\\core\\display.py\u001b[0m in \u001b[0;36mdisplay\u001b[1;34m(include, exclude, metadata, transient, display_id, *objs, **kwargs)\u001b[0m\n\u001b[0;32m    311\u001b[0m             \u001b[0mpublish_display_data\u001b[0m\u001b[1;33m(\u001b[0m\u001b[0mdata\u001b[0m\u001b[1;33m=\u001b[0m\u001b[0mobj\u001b[0m\u001b[1;33m,\u001b[0m \u001b[0mmetadata\u001b[0m\u001b[1;33m=\u001b[0m\u001b[0mmetadata\u001b[0m\u001b[1;33m,\u001b[0m \u001b[1;33m**\u001b[0m\u001b[0mkwargs\u001b[0m\u001b[1;33m)\u001b[0m\u001b[1;33m\u001b[0m\u001b[1;33m\u001b[0m\u001b[0m\n\u001b[0;32m    312\u001b[0m         \u001b[1;32melse\u001b[0m\u001b[1;33m:\u001b[0m\u001b[1;33m\u001b[0m\u001b[1;33m\u001b[0m\u001b[0m\n\u001b[1;32m--> 313\u001b[1;33m             \u001b[0mformat_dict\u001b[0m\u001b[1;33m,\u001b[0m \u001b[0mmd_dict\u001b[0m \u001b[1;33m=\u001b[0m \u001b[0mformat\u001b[0m\u001b[1;33m(\u001b[0m\u001b[0mobj\u001b[0m\u001b[1;33m,\u001b[0m \u001b[0minclude\u001b[0m\u001b[1;33m=\u001b[0m\u001b[0minclude\u001b[0m\u001b[1;33m,\u001b[0m \u001b[0mexclude\u001b[0m\u001b[1;33m=\u001b[0m\u001b[0mexclude\u001b[0m\u001b[1;33m)\u001b[0m\u001b[1;33m\u001b[0m\u001b[1;33m\u001b[0m\u001b[0m\n\u001b[0m\u001b[0;32m    314\u001b[0m             \u001b[1;32mif\u001b[0m \u001b[1;32mnot\u001b[0m \u001b[0mformat_dict\u001b[0m\u001b[1;33m:\u001b[0m\u001b[1;33m\u001b[0m\u001b[1;33m\u001b[0m\u001b[0m\n\u001b[0;32m    315\u001b[0m                 \u001b[1;31m# nothing to display (e.g. _ipython_display_ took over)\u001b[0m\u001b[1;33m\u001b[0m\u001b[1;33m\u001b[0m\u001b[1;33m\u001b[0m\u001b[0m\n",
      "\u001b[1;32m~\\Anaconda3\\lib\\site-packages\\IPython\\core\\formatters.py\u001b[0m in \u001b[0;36mformat\u001b[1;34m(self, obj, include, exclude)\u001b[0m\n\u001b[0;32m    178\u001b[0m             \u001b[0mmd\u001b[0m \u001b[1;33m=\u001b[0m \u001b[1;32mNone\u001b[0m\u001b[1;33m\u001b[0m\u001b[1;33m\u001b[0m\u001b[0m\n\u001b[0;32m    179\u001b[0m             \u001b[1;32mtry\u001b[0m\u001b[1;33m:\u001b[0m\u001b[1;33m\u001b[0m\u001b[1;33m\u001b[0m\u001b[0m\n\u001b[1;32m--> 180\u001b[1;33m                 \u001b[0mdata\u001b[0m \u001b[1;33m=\u001b[0m \u001b[0mformatter\u001b[0m\u001b[1;33m(\u001b[0m\u001b[0mobj\u001b[0m\u001b[1;33m)\u001b[0m\u001b[1;33m\u001b[0m\u001b[1;33m\u001b[0m\u001b[0m\n\u001b[0m\u001b[0;32m    181\u001b[0m             \u001b[1;32mexcept\u001b[0m\u001b[1;33m:\u001b[0m\u001b[1;33m\u001b[0m\u001b[1;33m\u001b[0m\u001b[0m\n\u001b[0;32m    182\u001b[0m                 \u001b[1;31m# FIXME: log the exception\u001b[0m\u001b[1;33m\u001b[0m\u001b[1;33m\u001b[0m\u001b[1;33m\u001b[0m\u001b[0m\n",
      "\u001b[1;32m~\\Anaconda3\\lib\\site-packages\\decorator.py\u001b[0m in \u001b[0;36mfun\u001b[1;34m(*args, **kw)\u001b[0m\n\u001b[0;32m    229\u001b[0m             \u001b[1;32mif\u001b[0m \u001b[1;32mnot\u001b[0m \u001b[0mkwsyntax\u001b[0m\u001b[1;33m:\u001b[0m\u001b[1;33m\u001b[0m\u001b[1;33m\u001b[0m\u001b[0m\n\u001b[0;32m    230\u001b[0m                 \u001b[0margs\u001b[0m\u001b[1;33m,\u001b[0m \u001b[0mkw\u001b[0m \u001b[1;33m=\u001b[0m \u001b[0mfix\u001b[0m\u001b[1;33m(\u001b[0m\u001b[0margs\u001b[0m\u001b[1;33m,\u001b[0m \u001b[0mkw\u001b[0m\u001b[1;33m,\u001b[0m \u001b[0msig\u001b[0m\u001b[1;33m)\u001b[0m\u001b[1;33m\u001b[0m\u001b[1;33m\u001b[0m\u001b[0m\n\u001b[1;32m--> 231\u001b[1;33m             \u001b[1;32mreturn\u001b[0m \u001b[0mcaller\u001b[0m\u001b[1;33m(\u001b[0m\u001b[0mfunc\u001b[0m\u001b[1;33m,\u001b[0m \u001b[1;33m*\u001b[0m\u001b[1;33m(\u001b[0m\u001b[0mextras\u001b[0m \u001b[1;33m+\u001b[0m \u001b[0margs\u001b[0m\u001b[1;33m)\u001b[0m\u001b[1;33m,\u001b[0m \u001b[1;33m**\u001b[0m\u001b[0mkw\u001b[0m\u001b[1;33m)\u001b[0m\u001b[1;33m\u001b[0m\u001b[1;33m\u001b[0m\u001b[0m\n\u001b[0m\u001b[0;32m    232\u001b[0m     \u001b[0mfun\u001b[0m\u001b[1;33m.\u001b[0m\u001b[0m__name__\u001b[0m \u001b[1;33m=\u001b[0m \u001b[0mfunc\u001b[0m\u001b[1;33m.\u001b[0m\u001b[0m__name__\u001b[0m\u001b[1;33m\u001b[0m\u001b[1;33m\u001b[0m\u001b[0m\n\u001b[0;32m    233\u001b[0m     \u001b[0mfun\u001b[0m\u001b[1;33m.\u001b[0m\u001b[0m__doc__\u001b[0m \u001b[1;33m=\u001b[0m \u001b[0mfunc\u001b[0m\u001b[1;33m.\u001b[0m\u001b[0m__doc__\u001b[0m\u001b[1;33m\u001b[0m\u001b[1;33m\u001b[0m\u001b[0m\n",
      "\u001b[1;32m~\\Anaconda3\\lib\\site-packages\\IPython\\core\\formatters.py\u001b[0m in \u001b[0;36mcatch_format_error\u001b[1;34m(method, self, *args, **kwargs)\u001b[0m\n\u001b[0;32m    222\u001b[0m     \u001b[1;34m\"\"\"show traceback on failed format call\"\"\"\u001b[0m\u001b[1;33m\u001b[0m\u001b[1;33m\u001b[0m\u001b[0m\n\u001b[0;32m    223\u001b[0m     \u001b[1;32mtry\u001b[0m\u001b[1;33m:\u001b[0m\u001b[1;33m\u001b[0m\u001b[1;33m\u001b[0m\u001b[0m\n\u001b[1;32m--> 224\u001b[1;33m         \u001b[0mr\u001b[0m \u001b[1;33m=\u001b[0m \u001b[0mmethod\u001b[0m\u001b[1;33m(\u001b[0m\u001b[0mself\u001b[0m\u001b[1;33m,\u001b[0m \u001b[1;33m*\u001b[0m\u001b[0margs\u001b[0m\u001b[1;33m,\u001b[0m \u001b[1;33m**\u001b[0m\u001b[0mkwargs\u001b[0m\u001b[1;33m)\u001b[0m\u001b[1;33m\u001b[0m\u001b[1;33m\u001b[0m\u001b[0m\n\u001b[0m\u001b[0;32m    225\u001b[0m     \u001b[1;32mexcept\u001b[0m \u001b[0mNotImplementedError\u001b[0m\u001b[1;33m:\u001b[0m\u001b[1;33m\u001b[0m\u001b[1;33m\u001b[0m\u001b[0m\n\u001b[0;32m    226\u001b[0m         \u001b[1;31m# don't warn on NotImplementedErrors\u001b[0m\u001b[1;33m\u001b[0m\u001b[1;33m\u001b[0m\u001b[1;33m\u001b[0m\u001b[0m\n",
      "\u001b[1;32m~\\Anaconda3\\lib\\site-packages\\IPython\\core\\formatters.py\u001b[0m in \u001b[0;36m__call__\u001b[1;34m(self, obj)\u001b[0m\n\u001b[0;32m    339\u001b[0m                 \u001b[1;32mpass\u001b[0m\u001b[1;33m\u001b[0m\u001b[1;33m\u001b[0m\u001b[0m\n\u001b[0;32m    340\u001b[0m             \u001b[1;32melse\u001b[0m\u001b[1;33m:\u001b[0m\u001b[1;33m\u001b[0m\u001b[1;33m\u001b[0m\u001b[0m\n\u001b[1;32m--> 341\u001b[1;33m                 \u001b[1;32mreturn\u001b[0m \u001b[0mprinter\u001b[0m\u001b[1;33m(\u001b[0m\u001b[0mobj\u001b[0m\u001b[1;33m)\u001b[0m\u001b[1;33m\u001b[0m\u001b[1;33m\u001b[0m\u001b[0m\n\u001b[0m\u001b[0;32m    342\u001b[0m             \u001b[1;31m# Finally look for special method names\u001b[0m\u001b[1;33m\u001b[0m\u001b[1;33m\u001b[0m\u001b[1;33m\u001b[0m\u001b[0m\n\u001b[0;32m    343\u001b[0m             \u001b[0mmethod\u001b[0m \u001b[1;33m=\u001b[0m \u001b[0mget_real_method\u001b[0m\u001b[1;33m(\u001b[0m\u001b[0mobj\u001b[0m\u001b[1;33m,\u001b[0m \u001b[0mself\u001b[0m\u001b[1;33m.\u001b[0m\u001b[0mprint_method\u001b[0m\u001b[1;33m)\u001b[0m\u001b[1;33m\u001b[0m\u001b[1;33m\u001b[0m\u001b[0m\n",
      "\u001b[1;32m~\\Anaconda3\\lib\\site-packages\\IPython\\core\\pylabtools.py\u001b[0m in \u001b[0;36m<lambda>\u001b[1;34m(fig)\u001b[0m\n\u001b[0;32m    246\u001b[0m \u001b[1;33m\u001b[0m\u001b[0m\n\u001b[0;32m    247\u001b[0m     \u001b[1;32mif\u001b[0m \u001b[1;34m'png'\u001b[0m \u001b[1;32min\u001b[0m \u001b[0mformats\u001b[0m\u001b[1;33m:\u001b[0m\u001b[1;33m\u001b[0m\u001b[1;33m\u001b[0m\u001b[0m\n\u001b[1;32m--> 248\u001b[1;33m         \u001b[0mpng_formatter\u001b[0m\u001b[1;33m.\u001b[0m\u001b[0mfor_type\u001b[0m\u001b[1;33m(\u001b[0m\u001b[0mFigure\u001b[0m\u001b[1;33m,\u001b[0m \u001b[1;32mlambda\u001b[0m \u001b[0mfig\u001b[0m\u001b[1;33m:\u001b[0m \u001b[0mprint_figure\u001b[0m\u001b[1;33m(\u001b[0m\u001b[0mfig\u001b[0m\u001b[1;33m,\u001b[0m \u001b[1;34m'png'\u001b[0m\u001b[1;33m,\u001b[0m \u001b[1;33m**\u001b[0m\u001b[0mkwargs\u001b[0m\u001b[1;33m)\u001b[0m\u001b[1;33m)\u001b[0m\u001b[1;33m\u001b[0m\u001b[1;33m\u001b[0m\u001b[0m\n\u001b[0m\u001b[0;32m    249\u001b[0m     \u001b[1;32mif\u001b[0m \u001b[1;34m'retina'\u001b[0m \u001b[1;32min\u001b[0m \u001b[0mformats\u001b[0m \u001b[1;32mor\u001b[0m \u001b[1;34m'png2x'\u001b[0m \u001b[1;32min\u001b[0m \u001b[0mformats\u001b[0m\u001b[1;33m:\u001b[0m\u001b[1;33m\u001b[0m\u001b[1;33m\u001b[0m\u001b[0m\n\u001b[0;32m    250\u001b[0m         \u001b[0mpng_formatter\u001b[0m\u001b[1;33m.\u001b[0m\u001b[0mfor_type\u001b[0m\u001b[1;33m(\u001b[0m\u001b[0mFigure\u001b[0m\u001b[1;33m,\u001b[0m \u001b[1;32mlambda\u001b[0m \u001b[0mfig\u001b[0m\u001b[1;33m:\u001b[0m \u001b[0mretina_figure\u001b[0m\u001b[1;33m(\u001b[0m\u001b[0mfig\u001b[0m\u001b[1;33m,\u001b[0m \u001b[1;33m**\u001b[0m\u001b[0mkwargs\u001b[0m\u001b[1;33m)\u001b[0m\u001b[1;33m)\u001b[0m\u001b[1;33m\u001b[0m\u001b[1;33m\u001b[0m\u001b[0m\n",
      "\u001b[1;32m~\\Anaconda3\\lib\\site-packages\\IPython\\core\\pylabtools.py\u001b[0m in \u001b[0;36mprint_figure\u001b[1;34m(fig, fmt, bbox_inches, **kwargs)\u001b[0m\n\u001b[0;32m    130\u001b[0m         \u001b[0mFigureCanvasBase\u001b[0m\u001b[1;33m(\u001b[0m\u001b[0mfig\u001b[0m\u001b[1;33m)\u001b[0m\u001b[1;33m\u001b[0m\u001b[1;33m\u001b[0m\u001b[0m\n\u001b[0;32m    131\u001b[0m \u001b[1;33m\u001b[0m\u001b[0m\n\u001b[1;32m--> 132\u001b[1;33m     \u001b[0mfig\u001b[0m\u001b[1;33m.\u001b[0m\u001b[0mcanvas\u001b[0m\u001b[1;33m.\u001b[0m\u001b[0mprint_figure\u001b[0m\u001b[1;33m(\u001b[0m\u001b[0mbytes_io\u001b[0m\u001b[1;33m,\u001b[0m \u001b[1;33m**\u001b[0m\u001b[0mkw\u001b[0m\u001b[1;33m)\u001b[0m\u001b[1;33m\u001b[0m\u001b[1;33m\u001b[0m\u001b[0m\n\u001b[0m\u001b[0;32m    133\u001b[0m     \u001b[0mdata\u001b[0m \u001b[1;33m=\u001b[0m \u001b[0mbytes_io\u001b[0m\u001b[1;33m.\u001b[0m\u001b[0mgetvalue\u001b[0m\u001b[1;33m(\u001b[0m\u001b[1;33m)\u001b[0m\u001b[1;33m\u001b[0m\u001b[1;33m\u001b[0m\u001b[0m\n\u001b[0;32m    134\u001b[0m     \u001b[1;32mif\u001b[0m \u001b[0mfmt\u001b[0m \u001b[1;33m==\u001b[0m \u001b[1;34m'svg'\u001b[0m\u001b[1;33m:\u001b[0m\u001b[1;33m\u001b[0m\u001b[1;33m\u001b[0m\u001b[0m\n",
      "\u001b[1;32m~\\Anaconda3\\lib\\site-packages\\matplotlib\\backend_bases.py\u001b[0m in \u001b[0;36mprint_figure\u001b[1;34m(self, filename, dpi, facecolor, edgecolor, orientation, format, bbox_inches, pad_inches, bbox_extra_artists, backend, **kwargs)\u001b[0m\n\u001b[0;32m   2191\u001b[0m                            else suppress())\n\u001b[0;32m   2192\u001b[0m                     \u001b[1;32mwith\u001b[0m \u001b[0mctx\u001b[0m\u001b[1;33m:\u001b[0m\u001b[1;33m\u001b[0m\u001b[1;33m\u001b[0m\u001b[0m\n\u001b[1;32m-> 2193\u001b[1;33m                         \u001b[0mself\u001b[0m\u001b[1;33m.\u001b[0m\u001b[0mfigure\u001b[0m\u001b[1;33m.\u001b[0m\u001b[0mdraw\u001b[0m\u001b[1;33m(\u001b[0m\u001b[0mrenderer\u001b[0m\u001b[1;33m)\u001b[0m\u001b[1;33m\u001b[0m\u001b[1;33m\u001b[0m\u001b[0m\n\u001b[0m\u001b[0;32m   2194\u001b[0m \u001b[1;33m\u001b[0m\u001b[0m\n\u001b[0;32m   2195\u001b[0m                     bbox_inches = self.figure.get_tightbbox(\n",
      "\u001b[1;32m~\\Anaconda3\\lib\\site-packages\\matplotlib\\artist.py\u001b[0m in \u001b[0;36mdraw_wrapper\u001b[1;34m(artist, renderer, *args, **kwargs)\u001b[0m\n\u001b[0;32m     39\u001b[0m                 \u001b[0mrenderer\u001b[0m\u001b[1;33m.\u001b[0m\u001b[0mstart_filter\u001b[0m\u001b[1;33m(\u001b[0m\u001b[1;33m)\u001b[0m\u001b[1;33m\u001b[0m\u001b[1;33m\u001b[0m\u001b[0m\n\u001b[0;32m     40\u001b[0m \u001b[1;33m\u001b[0m\u001b[0m\n\u001b[1;32m---> 41\u001b[1;33m             \u001b[1;32mreturn\u001b[0m \u001b[0mdraw\u001b[0m\u001b[1;33m(\u001b[0m\u001b[0martist\u001b[0m\u001b[1;33m,\u001b[0m \u001b[0mrenderer\u001b[0m\u001b[1;33m,\u001b[0m \u001b[1;33m*\u001b[0m\u001b[0margs\u001b[0m\u001b[1;33m,\u001b[0m \u001b[1;33m**\u001b[0m\u001b[0mkwargs\u001b[0m\u001b[1;33m)\u001b[0m\u001b[1;33m\u001b[0m\u001b[1;33m\u001b[0m\u001b[0m\n\u001b[0m\u001b[0;32m     42\u001b[0m         \u001b[1;32mfinally\u001b[0m\u001b[1;33m:\u001b[0m\u001b[1;33m\u001b[0m\u001b[1;33m\u001b[0m\u001b[0m\n\u001b[0;32m     43\u001b[0m             \u001b[1;32mif\u001b[0m \u001b[0martist\u001b[0m\u001b[1;33m.\u001b[0m\u001b[0mget_agg_filter\u001b[0m\u001b[1;33m(\u001b[0m\u001b[1;33m)\u001b[0m \u001b[1;32mis\u001b[0m \u001b[1;32mnot\u001b[0m \u001b[1;32mNone\u001b[0m\u001b[1;33m:\u001b[0m\u001b[1;33m\u001b[0m\u001b[1;33m\u001b[0m\u001b[0m\n",
      "\u001b[1;32m~\\Anaconda3\\lib\\site-packages\\matplotlib\\figure.py\u001b[0m in \u001b[0;36mdraw\u001b[1;34m(self, renderer)\u001b[0m\n\u001b[0;32m   1861\u001b[0m \u001b[1;33m\u001b[0m\u001b[0m\n\u001b[0;32m   1862\u001b[0m             \u001b[0mself\u001b[0m\u001b[1;33m.\u001b[0m\u001b[0mpatch\u001b[0m\u001b[1;33m.\u001b[0m\u001b[0mdraw\u001b[0m\u001b[1;33m(\u001b[0m\u001b[0mrenderer\u001b[0m\u001b[1;33m)\u001b[0m\u001b[1;33m\u001b[0m\u001b[1;33m\u001b[0m\u001b[0m\n\u001b[1;32m-> 1863\u001b[1;33m             mimage._draw_list_compositing_images(\n\u001b[0m\u001b[0;32m   1864\u001b[0m                 renderer, self, artists, self.suppressComposite)\n\u001b[0;32m   1865\u001b[0m \u001b[1;33m\u001b[0m\u001b[0m\n",
      "\u001b[1;32m~\\Anaconda3\\lib\\site-packages\\matplotlib\\image.py\u001b[0m in \u001b[0;36m_draw_list_compositing_images\u001b[1;34m(renderer, parent, artists, suppress_composite)\u001b[0m\n\u001b[0;32m    129\u001b[0m     \u001b[1;32mif\u001b[0m \u001b[0mnot_composite\u001b[0m \u001b[1;32mor\u001b[0m \u001b[1;32mnot\u001b[0m \u001b[0mhas_images\u001b[0m\u001b[1;33m:\u001b[0m\u001b[1;33m\u001b[0m\u001b[1;33m\u001b[0m\u001b[0m\n\u001b[0;32m    130\u001b[0m         \u001b[1;32mfor\u001b[0m \u001b[0ma\u001b[0m \u001b[1;32min\u001b[0m \u001b[0martists\u001b[0m\u001b[1;33m:\u001b[0m\u001b[1;33m\u001b[0m\u001b[1;33m\u001b[0m\u001b[0m\n\u001b[1;32m--> 131\u001b[1;33m             \u001b[0ma\u001b[0m\u001b[1;33m.\u001b[0m\u001b[0mdraw\u001b[0m\u001b[1;33m(\u001b[0m\u001b[0mrenderer\u001b[0m\u001b[1;33m)\u001b[0m\u001b[1;33m\u001b[0m\u001b[1;33m\u001b[0m\u001b[0m\n\u001b[0m\u001b[0;32m    132\u001b[0m     \u001b[1;32melse\u001b[0m\u001b[1;33m:\u001b[0m\u001b[1;33m\u001b[0m\u001b[1;33m\u001b[0m\u001b[0m\n\u001b[0;32m    133\u001b[0m         \u001b[1;31m# Composite any adjacent images together\u001b[0m\u001b[1;33m\u001b[0m\u001b[1;33m\u001b[0m\u001b[1;33m\u001b[0m\u001b[0m\n",
      "\u001b[1;32m~\\Anaconda3\\lib\\site-packages\\matplotlib\\artist.py\u001b[0m in \u001b[0;36mdraw_wrapper\u001b[1;34m(artist, renderer, *args, **kwargs)\u001b[0m\n\u001b[0;32m     39\u001b[0m                 \u001b[0mrenderer\u001b[0m\u001b[1;33m.\u001b[0m\u001b[0mstart_filter\u001b[0m\u001b[1;33m(\u001b[0m\u001b[1;33m)\u001b[0m\u001b[1;33m\u001b[0m\u001b[1;33m\u001b[0m\u001b[0m\n\u001b[0;32m     40\u001b[0m \u001b[1;33m\u001b[0m\u001b[0m\n\u001b[1;32m---> 41\u001b[1;33m             \u001b[1;32mreturn\u001b[0m \u001b[0mdraw\u001b[0m\u001b[1;33m(\u001b[0m\u001b[0martist\u001b[0m\u001b[1;33m,\u001b[0m \u001b[0mrenderer\u001b[0m\u001b[1;33m,\u001b[0m \u001b[1;33m*\u001b[0m\u001b[0margs\u001b[0m\u001b[1;33m,\u001b[0m \u001b[1;33m**\u001b[0m\u001b[0mkwargs\u001b[0m\u001b[1;33m)\u001b[0m\u001b[1;33m\u001b[0m\u001b[1;33m\u001b[0m\u001b[0m\n\u001b[0m\u001b[0;32m     42\u001b[0m         \u001b[1;32mfinally\u001b[0m\u001b[1;33m:\u001b[0m\u001b[1;33m\u001b[0m\u001b[1;33m\u001b[0m\u001b[0m\n\u001b[0;32m     43\u001b[0m             \u001b[1;32mif\u001b[0m \u001b[0martist\u001b[0m\u001b[1;33m.\u001b[0m\u001b[0mget_agg_filter\u001b[0m\u001b[1;33m(\u001b[0m\u001b[1;33m)\u001b[0m \u001b[1;32mis\u001b[0m \u001b[1;32mnot\u001b[0m \u001b[1;32mNone\u001b[0m\u001b[1;33m:\u001b[0m\u001b[1;33m\u001b[0m\u001b[1;33m\u001b[0m\u001b[0m\n",
      "\u001b[1;32m~\\Anaconda3\\lib\\site-packages\\matplotlib\\cbook\\deprecation.py\u001b[0m in \u001b[0;36mwrapper\u001b[1;34m(*inner_args, **inner_kwargs)\u001b[0m\n\u001b[0;32m    409\u001b[0m                          \u001b[1;32melse\u001b[0m \u001b[0mdeprecation_addendum\u001b[0m\u001b[1;33m,\u001b[0m\u001b[1;33m\u001b[0m\u001b[1;33m\u001b[0m\u001b[0m\n\u001b[0;32m    410\u001b[0m                 **kwargs)\n\u001b[1;32m--> 411\u001b[1;33m         \u001b[1;32mreturn\u001b[0m \u001b[0mfunc\u001b[0m\u001b[1;33m(\u001b[0m\u001b[1;33m*\u001b[0m\u001b[0minner_args\u001b[0m\u001b[1;33m,\u001b[0m \u001b[1;33m**\u001b[0m\u001b[0minner_kwargs\u001b[0m\u001b[1;33m)\u001b[0m\u001b[1;33m\u001b[0m\u001b[1;33m\u001b[0m\u001b[0m\n\u001b[0m\u001b[0;32m    412\u001b[0m \u001b[1;33m\u001b[0m\u001b[0m\n\u001b[0;32m    413\u001b[0m     \u001b[1;32mreturn\u001b[0m \u001b[0mwrapper\u001b[0m\u001b[1;33m\u001b[0m\u001b[1;33m\u001b[0m\u001b[0m\n",
      "\u001b[1;32m~\\Anaconda3\\lib\\site-packages\\matplotlib\\axes\\_base.py\u001b[0m in \u001b[0;36mdraw\u001b[1;34m(self, renderer, inframe)\u001b[0m\n\u001b[0;32m   2745\u001b[0m             \u001b[0mrenderer\u001b[0m\u001b[1;33m.\u001b[0m\u001b[0mstop_rasterizing\u001b[0m\u001b[1;33m(\u001b[0m\u001b[1;33m)\u001b[0m\u001b[1;33m\u001b[0m\u001b[1;33m\u001b[0m\u001b[0m\n\u001b[0;32m   2746\u001b[0m \u001b[1;33m\u001b[0m\u001b[0m\n\u001b[1;32m-> 2747\u001b[1;33m         \u001b[0mmimage\u001b[0m\u001b[1;33m.\u001b[0m\u001b[0m_draw_list_compositing_images\u001b[0m\u001b[1;33m(\u001b[0m\u001b[0mrenderer\u001b[0m\u001b[1;33m,\u001b[0m \u001b[0mself\u001b[0m\u001b[1;33m,\u001b[0m \u001b[0martists\u001b[0m\u001b[1;33m)\u001b[0m\u001b[1;33m\u001b[0m\u001b[1;33m\u001b[0m\u001b[0m\n\u001b[0m\u001b[0;32m   2748\u001b[0m \u001b[1;33m\u001b[0m\u001b[0m\n\u001b[0;32m   2749\u001b[0m         \u001b[0mrenderer\u001b[0m\u001b[1;33m.\u001b[0m\u001b[0mclose_group\u001b[0m\u001b[1;33m(\u001b[0m\u001b[1;34m'axes'\u001b[0m\u001b[1;33m)\u001b[0m\u001b[1;33m\u001b[0m\u001b[1;33m\u001b[0m\u001b[0m\n",
      "\u001b[1;32m~\\Anaconda3\\lib\\site-packages\\matplotlib\\image.py\u001b[0m in \u001b[0;36m_draw_list_compositing_images\u001b[1;34m(renderer, parent, artists, suppress_composite)\u001b[0m\n\u001b[0;32m    129\u001b[0m     \u001b[1;32mif\u001b[0m \u001b[0mnot_composite\u001b[0m \u001b[1;32mor\u001b[0m \u001b[1;32mnot\u001b[0m \u001b[0mhas_images\u001b[0m\u001b[1;33m:\u001b[0m\u001b[1;33m\u001b[0m\u001b[1;33m\u001b[0m\u001b[0m\n\u001b[0;32m    130\u001b[0m         \u001b[1;32mfor\u001b[0m \u001b[0ma\u001b[0m \u001b[1;32min\u001b[0m \u001b[0martists\u001b[0m\u001b[1;33m:\u001b[0m\u001b[1;33m\u001b[0m\u001b[1;33m\u001b[0m\u001b[0m\n\u001b[1;32m--> 131\u001b[1;33m             \u001b[0ma\u001b[0m\u001b[1;33m.\u001b[0m\u001b[0mdraw\u001b[0m\u001b[1;33m(\u001b[0m\u001b[0mrenderer\u001b[0m\u001b[1;33m)\u001b[0m\u001b[1;33m\u001b[0m\u001b[1;33m\u001b[0m\u001b[0m\n\u001b[0m\u001b[0;32m    132\u001b[0m     \u001b[1;32melse\u001b[0m\u001b[1;33m:\u001b[0m\u001b[1;33m\u001b[0m\u001b[1;33m\u001b[0m\u001b[0m\n\u001b[0;32m    133\u001b[0m         \u001b[1;31m# Composite any adjacent images together\u001b[0m\u001b[1;33m\u001b[0m\u001b[1;33m\u001b[0m\u001b[1;33m\u001b[0m\u001b[0m\n",
      "\u001b[1;32m~\\Anaconda3\\lib\\site-packages\\matplotlib\\artist.py\u001b[0m in \u001b[0;36mdraw_wrapper\u001b[1;34m(artist, renderer, *args, **kwargs)\u001b[0m\n\u001b[0;32m     39\u001b[0m                 \u001b[0mrenderer\u001b[0m\u001b[1;33m.\u001b[0m\u001b[0mstart_filter\u001b[0m\u001b[1;33m(\u001b[0m\u001b[1;33m)\u001b[0m\u001b[1;33m\u001b[0m\u001b[1;33m\u001b[0m\u001b[0m\n\u001b[0;32m     40\u001b[0m \u001b[1;33m\u001b[0m\u001b[0m\n\u001b[1;32m---> 41\u001b[1;33m             \u001b[1;32mreturn\u001b[0m \u001b[0mdraw\u001b[0m\u001b[1;33m(\u001b[0m\u001b[0martist\u001b[0m\u001b[1;33m,\u001b[0m \u001b[0mrenderer\u001b[0m\u001b[1;33m,\u001b[0m \u001b[1;33m*\u001b[0m\u001b[0margs\u001b[0m\u001b[1;33m,\u001b[0m \u001b[1;33m**\u001b[0m\u001b[0mkwargs\u001b[0m\u001b[1;33m)\u001b[0m\u001b[1;33m\u001b[0m\u001b[1;33m\u001b[0m\u001b[0m\n\u001b[0m\u001b[0;32m     42\u001b[0m         \u001b[1;32mfinally\u001b[0m\u001b[1;33m:\u001b[0m\u001b[1;33m\u001b[0m\u001b[1;33m\u001b[0m\u001b[0m\n\u001b[0;32m     43\u001b[0m             \u001b[1;32mif\u001b[0m \u001b[0martist\u001b[0m\u001b[1;33m.\u001b[0m\u001b[0mget_agg_filter\u001b[0m\u001b[1;33m(\u001b[0m\u001b[1;33m)\u001b[0m \u001b[1;32mis\u001b[0m \u001b[1;32mnot\u001b[0m \u001b[1;32mNone\u001b[0m\u001b[1;33m:\u001b[0m\u001b[1;33m\u001b[0m\u001b[1;33m\u001b[0m\u001b[0m\n",
      "\u001b[1;32m~\\Anaconda3\\lib\\site-packages\\matplotlib\\patches.py\u001b[0m in \u001b[0;36mdraw\u001b[1;34m(self, renderer)\u001b[0m\n\u001b[0;32m    582\u001b[0m                 \u001b[0mself\u001b[0m\u001b[1;33m.\u001b[0m\u001b[0m_bind_draw_path_function\u001b[0m\u001b[1;33m(\u001b[0m\u001b[0mrenderer\u001b[0m\u001b[1;33m)\u001b[0m \u001b[1;32mas\u001b[0m \u001b[0mdraw_path\u001b[0m\u001b[1;33m:\u001b[0m\u001b[1;33m\u001b[0m\u001b[1;33m\u001b[0m\u001b[0m\n\u001b[0;32m    583\u001b[0m             \u001b[0mpath\u001b[0m \u001b[1;33m=\u001b[0m \u001b[0mself\u001b[0m\u001b[1;33m.\u001b[0m\u001b[0mget_path\u001b[0m\u001b[1;33m(\u001b[0m\u001b[1;33m)\u001b[0m\u001b[1;33m\u001b[0m\u001b[1;33m\u001b[0m\u001b[0m\n\u001b[1;32m--> 584\u001b[1;33m             \u001b[0mtransform\u001b[0m \u001b[1;33m=\u001b[0m \u001b[0mself\u001b[0m\u001b[1;33m.\u001b[0m\u001b[0mget_transform\u001b[0m\u001b[1;33m(\u001b[0m\u001b[1;33m)\u001b[0m\u001b[1;33m\u001b[0m\u001b[1;33m\u001b[0m\u001b[0m\n\u001b[0m\u001b[0;32m    585\u001b[0m             \u001b[0mtpath\u001b[0m \u001b[1;33m=\u001b[0m \u001b[0mtransform\u001b[0m\u001b[1;33m.\u001b[0m\u001b[0mtransform_path_non_affine\u001b[0m\u001b[1;33m(\u001b[0m\u001b[0mpath\u001b[0m\u001b[1;33m)\u001b[0m\u001b[1;33m\u001b[0m\u001b[1;33m\u001b[0m\u001b[0m\n\u001b[0;32m    586\u001b[0m             \u001b[0maffine\u001b[0m \u001b[1;33m=\u001b[0m \u001b[0mtransform\u001b[0m\u001b[1;33m.\u001b[0m\u001b[0mget_affine\u001b[0m\u001b[1;33m(\u001b[0m\u001b[1;33m)\u001b[0m\u001b[1;33m\u001b[0m\u001b[1;33m\u001b[0m\u001b[0m\n",
      "\u001b[1;32m~\\Anaconda3\\lib\\site-packages\\matplotlib\\patches.py\u001b[0m in \u001b[0;36mget_transform\u001b[1;34m(self)\u001b[0m\n\u001b[0;32m    258\u001b[0m     \u001b[1;32mdef\u001b[0m \u001b[0mget_transform\u001b[0m\u001b[1;33m(\u001b[0m\u001b[0mself\u001b[0m\u001b[1;33m)\u001b[0m\u001b[1;33m:\u001b[0m\u001b[1;33m\u001b[0m\u001b[1;33m\u001b[0m\u001b[0m\n\u001b[0;32m    259\u001b[0m         \u001b[1;34m\"\"\"Return the `~.transforms.Transform` applied to the `Patch`.\"\"\"\u001b[0m\u001b[1;33m\u001b[0m\u001b[1;33m\u001b[0m\u001b[0m\n\u001b[1;32m--> 260\u001b[1;33m         \u001b[1;32mreturn\u001b[0m \u001b[0mself\u001b[0m\u001b[1;33m.\u001b[0m\u001b[0mget_patch_transform\u001b[0m\u001b[1;33m(\u001b[0m\u001b[1;33m)\u001b[0m \u001b[1;33m+\u001b[0m \u001b[0martist\u001b[0m\u001b[1;33m.\u001b[0m\u001b[0mArtist\u001b[0m\u001b[1;33m.\u001b[0m\u001b[0mget_transform\u001b[0m\u001b[1;33m(\u001b[0m\u001b[0mself\u001b[0m\u001b[1;33m)\u001b[0m\u001b[1;33m\u001b[0m\u001b[1;33m\u001b[0m\u001b[0m\n\u001b[0m\u001b[0;32m    261\u001b[0m \u001b[1;33m\u001b[0m\u001b[0m\n\u001b[0;32m    262\u001b[0m     \u001b[1;32mdef\u001b[0m \u001b[0mget_data_transform\u001b[0m\u001b[1;33m(\u001b[0m\u001b[0mself\u001b[0m\u001b[1;33m)\u001b[0m\u001b[1;33m:\u001b[0m\u001b[1;33m\u001b[0m\u001b[1;33m\u001b[0m\u001b[0m\n",
      "\u001b[1;32m~\\Anaconda3\\lib\\site-packages\\matplotlib\\patches.py\u001b[0m in \u001b[0;36mget_patch_transform\u001b[1;34m(self)\u001b[0m\n\u001b[0;32m    790\u001b[0m \u001b[1;33m\u001b[0m\u001b[0m\n\u001b[0;32m    791\u001b[0m     \u001b[1;32mdef\u001b[0m \u001b[0mget_patch_transform\u001b[0m\u001b[1;33m(\u001b[0m\u001b[0mself\u001b[0m\u001b[1;33m)\u001b[0m\u001b[1;33m:\u001b[0m\u001b[1;33m\u001b[0m\u001b[1;33m\u001b[0m\u001b[0m\n\u001b[1;32m--> 792\u001b[1;33m         \u001b[0mself\u001b[0m\u001b[1;33m.\u001b[0m\u001b[0m_update_patch_transform\u001b[0m\u001b[1;33m(\u001b[0m\u001b[1;33m)\u001b[0m\u001b[1;33m\u001b[0m\u001b[1;33m\u001b[0m\u001b[0m\n\u001b[0m\u001b[0;32m    793\u001b[0m         \u001b[1;32mreturn\u001b[0m \u001b[0mself\u001b[0m\u001b[1;33m.\u001b[0m\u001b[0m_rect_transform\u001b[0m\u001b[1;33m\u001b[0m\u001b[1;33m\u001b[0m\u001b[0m\n\u001b[0;32m    794\u001b[0m \u001b[1;33m\u001b[0m\u001b[0m\n",
      "\u001b[1;32m~\\Anaconda3\\lib\\site-packages\\matplotlib\\patches.py\u001b[0m in \u001b[0;36m_update_patch_transform\u001b[1;34m(self)\u001b[0m\n\u001b[0;32m    771\u001b[0m         \u001b[0mbbox\u001b[0m \u001b[1;33m=\u001b[0m \u001b[0mtransforms\u001b[0m\u001b[1;33m.\u001b[0m\u001b[0mBbox\u001b[0m\u001b[1;33m.\u001b[0m\u001b[0mfrom_extents\u001b[0m\u001b[1;33m(\u001b[0m\u001b[0mx0\u001b[0m\u001b[1;33m,\u001b[0m \u001b[0my0\u001b[0m\u001b[1;33m,\u001b[0m \u001b[0mx1\u001b[0m\u001b[1;33m,\u001b[0m \u001b[0my1\u001b[0m\u001b[1;33m)\u001b[0m\u001b[1;33m\u001b[0m\u001b[1;33m\u001b[0m\u001b[0m\n\u001b[0;32m    772\u001b[0m         \u001b[0mrot_trans\u001b[0m \u001b[1;33m=\u001b[0m \u001b[0mtransforms\u001b[0m\u001b[1;33m.\u001b[0m\u001b[0mAffine2D\u001b[0m\u001b[1;33m(\u001b[0m\u001b[1;33m)\u001b[0m\u001b[1;33m\u001b[0m\u001b[1;33m\u001b[0m\u001b[0m\n\u001b[1;32m--> 773\u001b[1;33m         \u001b[0mrot_trans\u001b[0m\u001b[1;33m.\u001b[0m\u001b[0mrotate_deg_around\u001b[0m\u001b[1;33m(\u001b[0m\u001b[0mx0\u001b[0m\u001b[1;33m,\u001b[0m \u001b[0my0\u001b[0m\u001b[1;33m,\u001b[0m \u001b[0mself\u001b[0m\u001b[1;33m.\u001b[0m\u001b[0mangle\u001b[0m\u001b[1;33m)\u001b[0m\u001b[1;33m\u001b[0m\u001b[1;33m\u001b[0m\u001b[0m\n\u001b[0m\u001b[0;32m    774\u001b[0m         \u001b[0mself\u001b[0m\u001b[1;33m.\u001b[0m\u001b[0m_rect_transform\u001b[0m \u001b[1;33m=\u001b[0m \u001b[0mtransforms\u001b[0m\u001b[1;33m.\u001b[0m\u001b[0mBboxTransformTo\u001b[0m\u001b[1;33m(\u001b[0m\u001b[0mbbox\u001b[0m\u001b[1;33m)\u001b[0m\u001b[1;33m\u001b[0m\u001b[1;33m\u001b[0m\u001b[0m\n\u001b[0;32m    775\u001b[0m         \u001b[0mself\u001b[0m\u001b[1;33m.\u001b[0m\u001b[0m_rect_transform\u001b[0m \u001b[1;33m+=\u001b[0m \u001b[0mrot_trans\u001b[0m\u001b[1;33m\u001b[0m\u001b[1;33m\u001b[0m\u001b[0m\n",
      "\u001b[1;32m~\\Anaconda3\\lib\\site-packages\\matplotlib\\transforms.py\u001b[0m in \u001b[0;36mrotate_deg_around\u001b[1;34m(self, x, y, degrees)\u001b[0m\n\u001b[0;32m   1965\u001b[0m         \u001b[1;31m# Cast to float to avoid wraparound issues with uint8's\u001b[0m\u001b[1;33m\u001b[0m\u001b[1;33m\u001b[0m\u001b[1;33m\u001b[0m\u001b[0m\n\u001b[0;32m   1966\u001b[0m         \u001b[0mx\u001b[0m\u001b[1;33m,\u001b[0m \u001b[0my\u001b[0m \u001b[1;33m=\u001b[0m \u001b[0mfloat\u001b[0m\u001b[1;33m(\u001b[0m\u001b[0mx\u001b[0m\u001b[1;33m)\u001b[0m\u001b[1;33m,\u001b[0m \u001b[0mfloat\u001b[0m\u001b[1;33m(\u001b[0m\u001b[0my\u001b[0m\u001b[1;33m)\u001b[0m\u001b[1;33m\u001b[0m\u001b[1;33m\u001b[0m\u001b[0m\n\u001b[1;32m-> 1967\u001b[1;33m         \u001b[1;32mreturn\u001b[0m \u001b[0mself\u001b[0m\u001b[1;33m.\u001b[0m\u001b[0mtranslate\u001b[0m\u001b[1;33m(\u001b[0m\u001b[1;33m-\u001b[0m\u001b[0mx\u001b[0m\u001b[1;33m,\u001b[0m \u001b[1;33m-\u001b[0m\u001b[0my\u001b[0m\u001b[1;33m)\u001b[0m\u001b[1;33m.\u001b[0m\u001b[0mrotate_deg\u001b[0m\u001b[1;33m(\u001b[0m\u001b[0mdegrees\u001b[0m\u001b[1;33m)\u001b[0m\u001b[1;33m.\u001b[0m\u001b[0mtranslate\u001b[0m\u001b[1;33m(\u001b[0m\u001b[0mx\u001b[0m\u001b[1;33m,\u001b[0m \u001b[0my\u001b[0m\u001b[1;33m)\u001b[0m\u001b[1;33m\u001b[0m\u001b[1;33m\u001b[0m\u001b[0m\n\u001b[0m\u001b[0;32m   1968\u001b[0m \u001b[1;33m\u001b[0m\u001b[0m\n\u001b[0;32m   1969\u001b[0m     \u001b[1;32mdef\u001b[0m \u001b[0mtranslate\u001b[0m\u001b[1;33m(\u001b[0m\u001b[0mself\u001b[0m\u001b[1;33m,\u001b[0m \u001b[0mtx\u001b[0m\u001b[1;33m,\u001b[0m \u001b[0mty\u001b[0m\u001b[1;33m)\u001b[0m\u001b[1;33m:\u001b[0m\u001b[1;33m\u001b[0m\u001b[1;33m\u001b[0m\u001b[0m\n",
      "\u001b[1;32m~\\Anaconda3\\lib\\site-packages\\matplotlib\\transforms.py\u001b[0m in \u001b[0;36mrotate_deg\u001b[1;34m(self, degrees)\u001b[0m\n\u001b[0;32m   1943\u001b[0m         \u001b[1;32mand\u001b[0m \u001b[1;33m:\u001b[0m\u001b[0mmeth\u001b[0m\u001b[1;33m:\u001b[0m\u001b[0;31m`\u001b[0m\u001b[0mscale\u001b[0m\u001b[0;31m`\u001b[0m\u001b[1;33m.\u001b[0m\u001b[1;33m\u001b[0m\u001b[1;33m\u001b[0m\u001b[0m\n\u001b[0;32m   1944\u001b[0m         \"\"\"\n\u001b[1;32m-> 1945\u001b[1;33m         \u001b[1;32mreturn\u001b[0m \u001b[0mself\u001b[0m\u001b[1;33m.\u001b[0m\u001b[0mrotate\u001b[0m\u001b[1;33m(\u001b[0m\u001b[0mmath\u001b[0m\u001b[1;33m.\u001b[0m\u001b[0mradians\u001b[0m\u001b[1;33m(\u001b[0m\u001b[0mdegrees\u001b[0m\u001b[1;33m)\u001b[0m\u001b[1;33m)\u001b[0m\u001b[1;33m\u001b[0m\u001b[1;33m\u001b[0m\u001b[0m\n\u001b[0m\u001b[0;32m   1946\u001b[0m \u001b[1;33m\u001b[0m\u001b[0m\n\u001b[0;32m   1947\u001b[0m     \u001b[1;32mdef\u001b[0m \u001b[0mrotate_around\u001b[0m\u001b[1;33m(\u001b[0m\u001b[0mself\u001b[0m\u001b[1;33m,\u001b[0m \u001b[0mx\u001b[0m\u001b[1;33m,\u001b[0m \u001b[0my\u001b[0m\u001b[1;33m,\u001b[0m \u001b[0mtheta\u001b[0m\u001b[1;33m)\u001b[0m\u001b[1;33m:\u001b[0m\u001b[1;33m\u001b[0m\u001b[1;33m\u001b[0m\u001b[0m\n",
      "\u001b[1;32m~\\Anaconda3\\lib\\site-packages\\matplotlib\\transforms.py\u001b[0m in \u001b[0;36mrotate\u001b[1;34m(self, theta)\u001b[0m\n\u001b[0;32m   1931\u001b[0m         rotate_mtx = np.array([[a, -b, 0.0], [b, a, 0.0], [0.0, 0.0, 1.0]],\n\u001b[0;32m   1932\u001b[0m                               float)\n\u001b[1;32m-> 1933\u001b[1;33m         \u001b[0mself\u001b[0m\u001b[1;33m.\u001b[0m\u001b[0m_mtx\u001b[0m \u001b[1;33m=\u001b[0m \u001b[0mnp\u001b[0m\u001b[1;33m.\u001b[0m\u001b[0mdot\u001b[0m\u001b[1;33m(\u001b[0m\u001b[0mrotate_mtx\u001b[0m\u001b[1;33m,\u001b[0m \u001b[0mself\u001b[0m\u001b[1;33m.\u001b[0m\u001b[0m_mtx\u001b[0m\u001b[1;33m)\u001b[0m\u001b[1;33m\u001b[0m\u001b[1;33m\u001b[0m\u001b[0m\n\u001b[0m\u001b[0;32m   1934\u001b[0m         \u001b[0mself\u001b[0m\u001b[1;33m.\u001b[0m\u001b[0minvalidate\u001b[0m\u001b[1;33m(\u001b[0m\u001b[1;33m)\u001b[0m\u001b[1;33m\u001b[0m\u001b[1;33m\u001b[0m\u001b[0m\n\u001b[0;32m   1935\u001b[0m         \u001b[1;32mreturn\u001b[0m \u001b[0mself\u001b[0m\u001b[1;33m\u001b[0m\u001b[1;33m\u001b[0m\u001b[0m\n",
      "\u001b[1;32m<__array_function__ internals>\u001b[0m in \u001b[0;36mdot\u001b[1;34m(*args, **kwargs)\u001b[0m\n",
      "\u001b[1;31mKeyboardInterrupt\u001b[0m: "
     ]
    }
   ],
   "source": [
    "for i in dfcat:\n",
    "    sns.countplot(dfcat[i])\n",
    "    plt.show()"
   ]
  },
  {
   "cell_type": "code",
   "execution_count": 99,
   "id": "4129d888",
   "metadata": {},
   "outputs": [
    {
     "data": {
      "text/html": [
       "<div>\n",
       "<style scoped>\n",
       "    .dataframe tbody tr th:only-of-type {\n",
       "        vertical-align: middle;\n",
       "    }\n",
       "\n",
       "    .dataframe tbody tr th {\n",
       "        vertical-align: top;\n",
       "    }\n",
       "\n",
       "    .dataframe thead th {\n",
       "        text-align: right;\n",
       "    }\n",
       "</style>\n",
       "<table border=\"1\" class=\"dataframe\">\n",
       "  <thead>\n",
       "    <tr style=\"text-align: right;\">\n",
       "      <th></th>\n",
       "      <th>Price</th>\n",
       "      <th>Accommodates</th>\n",
       "      <th>Bathrooms</th>\n",
       "      <th>Bedrooms</th>\n",
       "      <th>Beds</th>\n",
       "      <th>Security Deposit</th>\n",
       "      <th>Cleaning Fee</th>\n",
       "      <th>Guests Included</th>\n",
       "    </tr>\n",
       "  </thead>\n",
       "  <tbody>\n",
       "    <tr>\n",
       "      <th>Price</th>\n",
       "      <td>1.000000</td>\n",
       "      <td>0.573342</td>\n",
       "      <td>0.461046</td>\n",
       "      <td>0.546549</td>\n",
       "      <td>0.483943</td>\n",
       "      <td>0.393305</td>\n",
       "      <td>0.649982</td>\n",
       "      <td>0.312529</td>\n",
       "    </tr>\n",
       "    <tr>\n",
       "      <th>Accommodates</th>\n",
       "      <td>0.573342</td>\n",
       "      <td>1.000000</td>\n",
       "      <td>0.532973</td>\n",
       "      <td>0.740949</td>\n",
       "      <td>0.817657</td>\n",
       "      <td>0.273326</td>\n",
       "      <td>0.569495</td>\n",
       "      <td>0.548028</td>\n",
       "    </tr>\n",
       "    <tr>\n",
       "      <th>Bathrooms</th>\n",
       "      <td>0.461046</td>\n",
       "      <td>0.532973</td>\n",
       "      <td>1.000000</td>\n",
       "      <td>0.606899</td>\n",
       "      <td>0.541856</td>\n",
       "      <td>0.248785</td>\n",
       "      <td>0.492053</td>\n",
       "      <td>0.304631</td>\n",
       "    </tr>\n",
       "    <tr>\n",
       "      <th>Bedrooms</th>\n",
       "      <td>0.546549</td>\n",
       "      <td>0.740949</td>\n",
       "      <td>0.606899</td>\n",
       "      <td>1.000000</td>\n",
       "      <td>0.714407</td>\n",
       "      <td>0.290139</td>\n",
       "      <td>0.556659</td>\n",
       "      <td>0.461101</td>\n",
       "    </tr>\n",
       "    <tr>\n",
       "      <th>Beds</th>\n",
       "      <td>0.483943</td>\n",
       "      <td>0.817657</td>\n",
       "      <td>0.541856</td>\n",
       "      <td>0.714407</td>\n",
       "      <td>1.000000</td>\n",
       "      <td>0.249977</td>\n",
       "      <td>0.522600</td>\n",
       "      <td>0.485538</td>\n",
       "    </tr>\n",
       "    <tr>\n",
       "      <th>Security Deposit</th>\n",
       "      <td>0.393305</td>\n",
       "      <td>0.273326</td>\n",
       "      <td>0.248785</td>\n",
       "      <td>0.290139</td>\n",
       "      <td>0.249977</td>\n",
       "      <td>1.000000</td>\n",
       "      <td>0.469606</td>\n",
       "      <td>0.192362</td>\n",
       "    </tr>\n",
       "    <tr>\n",
       "      <th>Cleaning Fee</th>\n",
       "      <td>0.649982</td>\n",
       "      <td>0.569495</td>\n",
       "      <td>0.492053</td>\n",
       "      <td>0.556659</td>\n",
       "      <td>0.522600</td>\n",
       "      <td>0.469606</td>\n",
       "      <td>1.000000</td>\n",
       "      <td>0.339336</td>\n",
       "    </tr>\n",
       "    <tr>\n",
       "      <th>Guests Included</th>\n",
       "      <td>0.312529</td>\n",
       "      <td>0.548028</td>\n",
       "      <td>0.304631</td>\n",
       "      <td>0.461101</td>\n",
       "      <td>0.485538</td>\n",
       "      <td>0.192362</td>\n",
       "      <td>0.339336</td>\n",
       "      <td>1.000000</td>\n",
       "    </tr>\n",
       "  </tbody>\n",
       "</table>\n",
       "</div>"
      ],
      "text/plain": [
       "                     Price  Accommodates  Bathrooms  Bedrooms      Beds  \\\n",
       "Price             1.000000      0.573342   0.461046  0.546549  0.483943   \n",
       "Accommodates      0.573342      1.000000   0.532973  0.740949  0.817657   \n",
       "Bathrooms         0.461046      0.532973   1.000000  0.606899  0.541856   \n",
       "Bedrooms          0.546549      0.740949   0.606899  1.000000  0.714407   \n",
       "Beds              0.483943      0.817657   0.541856  0.714407  1.000000   \n",
       "Security Deposit  0.393305      0.273326   0.248785  0.290139  0.249977   \n",
       "Cleaning Fee      0.649982      0.569495   0.492053  0.556659  0.522600   \n",
       "Guests Included   0.312529      0.548028   0.304631  0.461101  0.485538   \n",
       "\n",
       "                  Security Deposit  Cleaning Fee  Guests Included  \n",
       "Price                     0.393305      0.649982         0.312529  \n",
       "Accommodates              0.273326      0.569495         0.548028  \n",
       "Bathrooms                 0.248785      0.492053         0.304631  \n",
       "Bedrooms                  0.290139      0.556659         0.461101  \n",
       "Beds                      0.249977      0.522600         0.485538  \n",
       "Security Deposit          1.000000      0.469606         0.192362  \n",
       "Cleaning Fee              0.469606      1.000000         0.339336  \n",
       "Guests Included           0.192362      0.339336         1.000000  "
      ]
     },
     "execution_count": 99,
     "metadata": {},
     "output_type": "execute_result"
    }
   ],
   "source": [
    "df.corr()"
   ]
  },
  {
   "cell_type": "code",
   "execution_count": 204,
   "id": "9311e1bd",
   "metadata": {},
   "outputs": [
    {
     "data": {
      "text/plain": [
       "Price               2.644807\n",
       "Accommodates        1.991670\n",
       "Bathrooms           3.104939\n",
       "Bedrooms            1.740916\n",
       "Beds                3.119863\n",
       "Security Deposit    1.825943\n",
       "Cleaning Fee        2.848526\n",
       "Guests Included     3.241969\n",
       "price_log           0.332779\n",
       "price_sqrt          1.417326\n",
       "dtype: float64"
      ]
     },
     "execution_count": 204,
     "metadata": {},
     "output_type": "execute_result"
    }
   ],
   "source": [
    "dfnum.skew()"
   ]
  },
  {
   "cell_type": "code",
   "execution_count": 100,
   "id": "d55ed004",
   "metadata": {},
   "outputs": [
    {
     "data": {
      "text/plain": [
       "<AxesSubplot:xlabel='Price'>"
      ]
     },
     "execution_count": 100,
     "metadata": {},
     "output_type": "execute_result"
    },
    {
     "data": {
      "image/png": "[encoded data removed]",
      "text/plain": [
       "<Figure size 432x288 with 1 Axes>"
      ]
     },
     "metadata": {
      "needs_background": "light"
     },
     "output_type": "display_data"
    }
   ],
   "source": [
    "sns.boxplot(df.Price)"
   ]
  },
  {
   "cell_type": "code",
   "execution_count": 101,
   "id": "179a3699",
   "metadata": {},
   "outputs": [],
   "source": [
    "df['price_log']=np.log(df.Price)\n",
    "df['price_sqrt']=np.sqrt(df.Price)"
   ]
  },
  {
   "cell_type": "code",
   "execution_count": 37,
   "id": "8d198663",
   "metadata": {},
   "outputs": [
    {
     "name": "stderr",
     "output_type": "stream",
     "text": [
      "C:\\Users\\sharm\\Anaconda3\\lib\\site-packages\\seaborn\\_decorators.py:36: FutureWarning: Pass the following variable as a keyword arg: x. From version 0.12, the only valid positional argument will be `data`, and passing other arguments without an explicit keyword will result in an error or misinterpretation.\n",
      "  warnings.warn(\n"
     ]
    },
    {
     "data": {
      "image/png": "[encoded data removed]",
      "text/plain": [
       "<Figure size 432x288 with 1 Axes>"
      ]
     },
     "metadata": {
      "needs_background": "light"
     },
     "output_type": "display_data"
    },
    {
     "name": "stderr",
     "output_type": "stream",
     "text": [
      "C:\\Users\\sharm\\Anaconda3\\lib\\site-packages\\seaborn\\_decorators.py:36: FutureWarning: Pass the following variable as a keyword arg: x. From version 0.12, the only valid positional argument will be `data`, and passing other arguments without an explicit keyword will result in an error or misinterpretation.\n",
      "  warnings.warn(\n"
     ]
    },
    {
     "data": {
      "image/png": "[encoded data removed]",
      "text/plain": [
       "<Figure size 432x288 with 1 Axes>"
      ]
     },
     "metadata": {
      "needs_background": "light"
     },
     "output_type": "display_data"
    }
   ],
   "source": [
    "sns.boxplot(df.price_log)\n",
    "plt.show()\n",
    "sns.boxplot(df.price_sqrt)\n",
    "plt.show()"
   ]
  },
  {
   "cell_type": "code",
   "execution_count": 35,
   "id": "82fc6b4a",
   "metadata": {},
   "outputs": [],
   "source": [
    "import matplotlib.pyplot as plt"
   ]
  },
  {
   "cell_type": "code",
   "execution_count": 102,
   "id": "d3850472",
   "metadata": {},
   "outputs": [
    {
     "name": "stdout",
     "output_type": "stream",
     "text": [
      "original : 2.6448069090698776\n",
      "log : 0.33277923686169236\n",
      "sqrt : 1.4173257845100555\n"
     ]
    }
   ],
   "source": [
    "print('original :',df.Price.skew())\n",
    "print('log :',df.price_log.skew())\n",
    "print('sqrt :',df.price_sqrt.skew())"
   ]
  },
  {
   "cell_type": "code",
   "execution_count": 103,
   "id": "ed0eb680",
   "metadata": {},
   "outputs": [
    {
     "data": {
      "text/plain": [
       "<AxesSubplot:xlabel='price_log', ylabel='Density'>"
      ]
     },
     "execution_count": 103,
     "metadata": {},
     "output_type": "execute_result"
    },
    {
     "data": {
      "image/png": "[encoded data removed]",
      "text/plain": [
       "<Figure size 432x288 with 1 Axes>"
      ]
     },
     "metadata": {
      "needs_background": "light"
     },
     "output_type": "display_data"
    }
   ],
   "source": [
    "sns.distplot(df.price_log)"
   ]
  },
  {
   "cell_type": "code",
   "execution_count": 41,
   "id": "4b2b030e",
   "metadata": {},
   "outputs": [
    {
     "data": {
      "text/plain": [
       "<AxesSubplot:xlabel='Price', ylabel='Security Deposit'>"
      ]
     },
     "execution_count": 41,
     "metadata": {},
     "output_type": "execute_result"
    },
    {
     "data": {
      "image/png": "[encoded data removed]",
      "text/plain": [
       "<Figure size 432x288 with 1 Axes>"
      ]
     },
     "metadata": {
      "needs_background": "light"
     },
     "output_type": "display_data"
    }
   ],
   "source": [
    "sns.scatterplot(x='Price',y='Security Deposit',data=df)"
   ]
  },
  {
   "cell_type": "code",
   "execution_count": 42,
   "id": "5912b829",
   "metadata": {},
   "outputs": [
    {
     "data": {
      "text/plain": [
       "<AxesSubplot:xlabel='price_log', ylabel='Security Deposit'>"
      ]
     },
     "execution_count": 42,
     "metadata": {},
     "output_type": "execute_result"
    },
    {
     "data": {
      "image/png": "[encoded data removed]",
      "text/plain": [
       "<Figure size 432x288 with 1 Axes>"
      ]
     },
     "metadata": {
      "needs_background": "light"
     },
     "output_type": "display_data"
    }
   ],
   "source": [
    "sns.scatterplot(x='price_log',y='Security Deposit',data=df)"
   ]
  },
  {
   "cell_type": "code",
   "execution_count": 47,
   "id": "8fcfd1cd",
   "metadata": {},
   "outputs": [
    {
     "data": {
      "text/plain": [
       "100.0    11270\n",
       "500.0     9966\n",
       "200.0     8771\n",
       "300.0     6111\n",
       "250.0     6042\n",
       "         ...  \n",
       "749.0        1\n",
       "397.0        1\n",
       "969.0        1\n",
       "680.0        1\n",
       "522.0        1\n",
       "Name: Security Deposit, Length: 281, dtype: int64"
      ]
     },
     "execution_count": 47,
     "metadata": {},
     "output_type": "execute_result"
    }
   ],
   "source": [
    "df['Security Deposit'].value_counts()"
   ]
  },
  {
   "cell_type": "code",
   "execution_count": 104,
   "id": "0cf49e98",
   "metadata": {},
   "outputs": [
    {
     "data": {
      "text/plain": [
       "(250.0, 273.8550691766841)"
      ]
     },
     "execution_count": 104,
     "metadata": {},
     "output_type": "execute_result"
    }
   ],
   "source": [
    "df['Security Deposit'].median(),df['Security Deposit'].mean()"
   ]
  },
  {
   "cell_type": "code",
   "execution_count": 105,
   "id": "5b09deb1",
   "metadata": {},
   "outputs": [
    {
     "data": {
      "text/plain": [
       "Price                      0\n",
       "Accommodates              61\n",
       "Bathrooms                419\n",
       "Bedrooms                 156\n",
       "Beds                     220\n",
       "Security Deposit       75256\n",
       "Cleaning Fee           36504\n",
       "Guests Included            0\n",
       "City                      58\n",
       "Zipcode                 1665\n",
       "Property Type              6\n",
       "Room Type                  0\n",
       "Bed Type                   0\n",
       "Amenities               1176\n",
       "Cancellation Policy        0\n",
       "price_log                  0\n",
       "price_sqrt                 0\n",
       "dtype: int64"
      ]
     },
     "execution_count": 105,
     "metadata": {},
     "output_type": "execute_result"
    }
   ],
   "source": [
    "df.isnull().sum()"
   ]
  },
  {
   "cell_type": "code",
   "execution_count": 106,
   "id": "ae9f5129",
   "metadata": {},
   "outputs": [],
   "source": [
    "#imputing median of security into missing values of security deposit"
   ]
  },
  {
   "cell_type": "code",
   "execution_count": 138,
   "id": "c54d5173",
   "metadata": {},
   "outputs": [],
   "source": [
    "df['Security Deposit'].fillna(df['Security Deposit'].median(),inplace=True)"
   ]
  },
  {
   "cell_type": "code",
   "execution_count": 139,
   "id": "451158d4",
   "metadata": {},
   "outputs": [
    {
     "data": {
      "text/plain": [
       "0"
      ]
     },
     "execution_count": 139,
     "metadata": {},
     "output_type": "execute_result"
    }
   ],
   "source": [
    "df['Security Deposit'].isnull().sum()"
   ]
  },
  {
   "cell_type": "code",
   "execution_count": 140,
   "id": "5bc5773d",
   "metadata": {},
   "outputs": [
    {
     "data": {
      "text/plain": [
       "Price                      0\n",
       "Accommodates              61\n",
       "Bathrooms                419\n",
       "Bedrooms                 156\n",
       "Beds                     220\n",
       "Security Deposit           0\n",
       "Cleaning Fee           36504\n",
       "Guests Included            0\n",
       "City                      58\n",
       "Zipcode                 1665\n",
       "Property Type              6\n",
       "Room Type                  0\n",
       "Bed Type                   0\n",
       "Amenities               1176\n",
       "Cancellation Policy        0\n",
       "price_log                  0\n",
       "price_sqrt                 0\n",
       "dtype: int64"
      ]
     },
     "execution_count": 140,
     "metadata": {},
     "output_type": "execute_result"
    }
   ],
   "source": [
    "df.isnull().sum()"
   ]
  },
  {
   "cell_type": "code",
   "execution_count": null,
   "id": "f08076c7",
   "metadata": {},
   "outputs": [],
   "source": []
  },
  {
   "cell_type": "code",
   "execution_count": 136,
   "id": "4e66a62b",
   "metadata": {},
   "outputs": [
    {
     "data": {
      "text/plain": [
       "36504"
      ]
     },
     "execution_count": 136,
     "metadata": {},
     "output_type": "execute_result"
    }
   ],
   "source": [
    "df['Cleaning Fee'].isnull().sum()"
   ]
  },
  {
   "cell_type": "code",
   "execution_count": 142,
   "id": "46af2356",
   "metadata": {},
   "outputs": [
    {
     "data": {
      "text/plain": [
       "50.0"
      ]
     },
     "execution_count": 142,
     "metadata": {},
     "output_type": "execute_result"
    }
   ],
   "source": [
    "df['Cleaning Fee'].median()"
   ]
  },
  {
   "cell_type": "code",
   "execution_count": 143,
   "id": "cd74d22a",
   "metadata": {},
   "outputs": [],
   "source": [
    "##imputing median of cleaning fee into missing values of cleaning fee"
   ]
  },
  {
   "cell_type": "code",
   "execution_count": 144,
   "id": "86066529",
   "metadata": {},
   "outputs": [],
   "source": [
    "df['Cleaning Fee'].fillna(df['Cleaning Fee'].median(),inplace=True)"
   ]
  },
  {
   "cell_type": "code",
   "execution_count": 145,
   "id": "9ebfcf34",
   "metadata": {},
   "outputs": [
    {
     "data": {
      "text/plain": [
       "Price                     0\n",
       "Accommodates             61\n",
       "Bathrooms               419\n",
       "Bedrooms                156\n",
       "Beds                    220\n",
       "Security Deposit          0\n",
       "Cleaning Fee              0\n",
       "Guests Included           0\n",
       "City                     58\n",
       "Zipcode                1665\n",
       "Property Type             6\n",
       "Room Type                 0\n",
       "Bed Type                  0\n",
       "Amenities              1176\n",
       "Cancellation Policy       0\n",
       "price_log                 0\n",
       "price_sqrt                0\n",
       "dtype: int64"
      ]
     },
     "execution_count": 145,
     "metadata": {},
     "output_type": "execute_result"
    }
   ],
   "source": [
    "df.isnull().sum()"
   ]
  },
  {
   "cell_type": "code",
   "execution_count": null,
   "id": "689716a9",
   "metadata": {},
   "outputs": [],
   "source": []
  },
  {
   "cell_type": "code",
   "execution_count": null,
   "id": "c32c7abf",
   "metadata": {},
   "outputs": [],
   "source": []
  },
  {
   "cell_type": "code",
   "execution_count": 153,
   "id": "76185dc5",
   "metadata": {},
   "outputs": [
    {
     "data": {
      "image/png": "[encoded data removed]",
      "text/plain": [
       "<Figure size 432x288 with 1 Axes>"
      ]
     },
     "metadata": {
      "needs_background": "light"
     },
     "output_type": "display_data"
    },
    {
     "data": {
      "image/png": "[encoded data removed]",
      "text/plain": [
       "<Figure size 432x288 with 1 Axes>"
      ]
     },
     "metadata": {
      "needs_background": "light"
     },
     "output_type": "display_data"
    },
    {
     "data": {
      "image/png": "[encoded data removed]",
      "text/plain": [
       "<Figure size 432x288 with 1 Axes>"
      ]
     },
     "metadata": {
      "needs_background": "light"
     },
     "output_type": "display_data"
    },
    {
     "data": {
      "image/png": "[encoded data removed]",
      "text/plain": [
       "<Figure size 432x288 with 1 Axes>"
      ]
     },
     "metadata": {
      "needs_background": "light"
     },
     "output_type": "display_data"
    }
   ],
   "source": [
    "sns.boxplot(df['Cleaning Fee'])\n",
    "plt.show()\n",
    "sns.boxplot(df['Security Deposit'])\n",
    "plt.show()\n",
    "\n",
    "sns.boxplot(np.log(df['Cleaning Fee']))\n",
    "plt.show()\n",
    "sns.boxplot(np.sqrt(df['Security Deposit']))\n",
    "plt.show()"
   ]
  },
  {
   "cell_type": "code",
   "execution_count": 54,
   "id": "41916f29",
   "metadata": {},
   "outputs": [
    {
     "data": {
      "text/plain": [
       "2.268063527657322"
      ]
     },
     "execution_count": 54,
     "metadata": {},
     "output_type": "execute_result"
    }
   ],
   "source": [
    "df['Cleaning Fee'].skew()"
   ]
  },
  {
   "cell_type": "code",
   "execution_count": 154,
   "id": "63b59d20",
   "metadata": {},
   "outputs": [
    {
     "data": {
      "text/plain": [
       "<AxesSubplot:xlabel='Security Deposit', ylabel='Density'>"
      ]
     },
     "execution_count": 154,
     "metadata": {},
     "output_type": "execute_result"
    },
    {
     "data": {
      "image/png": "[encoded data removed]",
      "text/plain": [
       "<Figure size 432x288 with 1 Axes>"
      ]
     },
     "metadata": {
      "needs_background": "light"
     },
     "output_type": "display_data"
    }
   ],
   "source": [
    "sns.distplot(df['Security Deposit'])"
   ]
  },
  {
   "cell_type": "code",
   "execution_count": 57,
   "id": "795b8300",
   "metadata": {},
   "outputs": [
    {
     "data": {
      "text/plain": [
       "50.0     11104\n",
       "100.0     8176\n",
       "25.0      6825\n",
       "20.0      5794\n",
       "75.0      5590\n",
       "         ...  \n",
       "274.0        1\n",
       "333.0        1\n",
       "259.0        1\n",
       "151.0        1\n",
       "305.0        1\n",
       "Name: Cleaning Fee, Length: 294, dtype: int64"
      ]
     },
     "execution_count": 57,
     "metadata": {},
     "output_type": "execute_result"
    }
   ],
   "source": [
    "df['Cleaning Fee'].value_counts()"
   ]
  },
  {
   "cell_type": "code",
   "execution_count": 58,
   "id": "ec5a842f",
   "metadata": {},
   "outputs": [
    {
     "data": {
      "text/plain": [
       "(50.0, 67.45978411350175)"
      ]
     },
     "execution_count": 58,
     "metadata": {},
     "output_type": "execute_result"
    }
   ],
   "source": [
    "df['Cleaning Fee'].median(),df['Cleaning Fee'].mean()"
   ]
  },
  {
   "cell_type": "code",
   "execution_count": 155,
   "id": "3eed1824",
   "metadata": {},
   "outputs": [
    {
     "data": {
      "text/plain": [
       "Price                     0\n",
       "Accommodates             61\n",
       "Bathrooms               419\n",
       "Bedrooms                156\n",
       "Beds                    220\n",
       "Security Deposit          0\n",
       "Cleaning Fee              0\n",
       "Guests Included           0\n",
       "City                     58\n",
       "Zipcode                1665\n",
       "Property Type             6\n",
       "Room Type                 0\n",
       "Bed Type                  0\n",
       "Amenities              1176\n",
       "Cancellation Policy       0\n",
       "price_log                 0\n",
       "price_sqrt                0\n",
       "dtype: int64"
      ]
     },
     "execution_count": 155,
     "metadata": {},
     "output_type": "execute_result"
    }
   ],
   "source": [
    "df.isnull().sum()"
   ]
  },
  {
   "cell_type": "code",
   "execution_count": 163,
   "id": "731735dc",
   "metadata": {},
   "outputs": [],
   "source": [
    "df1=df.dropna(subset=['Accommodates','Bathrooms','Bedrooms','Beds','City'])"
   ]
  },
  {
   "cell_type": "code",
   "execution_count": 158,
   "id": "22caba05",
   "metadata": {},
   "outputs": [
    {
     "data": {
      "text/plain": [
       "(132573, 17)"
      ]
     },
     "execution_count": 158,
     "metadata": {},
     "output_type": "execute_result"
    }
   ],
   "source": [
    "df.shape"
   ]
  },
  {
   "cell_type": "code",
   "execution_count": 164,
   "id": "934c757e",
   "metadata": {},
   "outputs": [
    {
     "data": {
      "text/plain": [
       "Price                     0\n",
       "Accommodates              0\n",
       "Bathrooms                 0\n",
       "Bedrooms                  0\n",
       "Beds                      0\n",
       "Security Deposit          0\n",
       "Cleaning Fee              0\n",
       "Guests Included           0\n",
       "City                      0\n",
       "Zipcode                1607\n",
       "Property Type             5\n",
       "Room Type                 0\n",
       "Bed Type                  0\n",
       "Amenities              1082\n",
       "Cancellation Policy       0\n",
       "price_log                 0\n",
       "price_sqrt                0\n",
       "dtype: int64"
      ]
     },
     "execution_count": 164,
     "metadata": {},
     "output_type": "execute_result"
    }
   ],
   "source": [
    "df1.isnull().sum()"
   ]
  },
  {
   "cell_type": "code",
   "execution_count": null,
   "id": "1b84812c",
   "metadata": {},
   "outputs": [],
   "source": []
  },
  {
   "cell_type": "code",
   "execution_count": null,
   "id": "958229de",
   "metadata": {},
   "outputs": [],
   "source": []
  },
  {
   "cell_type": "code",
   "execution_count": 165,
   "id": "7604663e",
   "metadata": {},
   "outputs": [
    {
     "data": {
      "text/plain": [
       "City\n",
       "New York         3203983.0\n",
       "Los Angeles      2600220.0\n",
       "Austin           2063794.0\n",
       "Brooklyn         1839736.0\n",
       "San Francisco    1730725.0\n",
       "                   ...    \n",
       "TORRANCE              29.0\n",
       "Manchaca              27.0\n",
       "longbeach             26.0\n",
       "hollis                21.0\n",
       "波摩纳                   20.0\n",
       "Name: Price, Length: 760, dtype: float64"
      ]
     },
     "execution_count": 165,
     "metadata": {},
     "output_type": "execute_result"
    }
   ],
   "source": [
    "df1.groupby('City')['Price'].sum().sort_values(ascending=False)"
   ]
  },
  {
   "cell_type": "code",
   "execution_count": 170,
   "id": "b9b1d43e",
   "metadata": {},
   "outputs": [
    {
     "data": {
      "text/plain": [
       "array(['flexible', 'strict', 'moderate', 'super_strict_30',\n",
       "       'super_strict_60', 'no_refunds', 'long_term'], dtype=object)"
      ]
     },
     "execution_count": 170,
     "metadata": {},
     "output_type": "execute_result"
    }
   ],
   "source": [
    "df1['Cancellation Policy'].unique()"
   ]
  },
  {
   "cell_type": "code",
   "execution_count": 166,
   "id": "916b881e",
   "metadata": {},
   "outputs": [
    {
     "data": {
      "text/html": [
       "<div>\n",
       "<style scoped>\n",
       "    .dataframe tbody tr th:only-of-type {\n",
       "        vertical-align: middle;\n",
       "    }\n",
       "\n",
       "    .dataframe tbody tr th {\n",
       "        vertical-align: top;\n",
       "    }\n",
       "\n",
       "    .dataframe thead th {\n",
       "        text-align: right;\n",
       "    }\n",
       "</style>\n",
       "<table border=\"1\" class=\"dataframe\">\n",
       "  <thead>\n",
       "    <tr style=\"text-align: right;\">\n",
       "      <th></th>\n",
       "      <th>Price</th>\n",
       "      <th>Accommodates</th>\n",
       "      <th>Bathrooms</th>\n",
       "      <th>Bedrooms</th>\n",
       "      <th>Beds</th>\n",
       "      <th>Security Deposit</th>\n",
       "      <th>Cleaning Fee</th>\n",
       "      <th>Guests Included</th>\n",
       "      <th>City</th>\n",
       "      <th>Zipcode</th>\n",
       "      <th>Property Type</th>\n",
       "      <th>Room Type</th>\n",
       "      <th>Bed Type</th>\n",
       "      <th>Amenities</th>\n",
       "      <th>Cancellation Policy</th>\n",
       "      <th>price_log</th>\n",
       "      <th>price_sqrt</th>\n",
       "    </tr>\n",
       "  </thead>\n",
       "  <tbody>\n",
       "    <tr>\n",
       "      <th>0</th>\n",
       "      <td>150.0</td>\n",
       "      <td>2.0</td>\n",
       "      <td>1.0</td>\n",
       "      <td>1.0</td>\n",
       "      <td>1.0</td>\n",
       "      <td>250.0</td>\n",
       "      <td>50.0</td>\n",
       "      <td>1.0</td>\n",
       "      <td>Los Angeles</td>\n",
       "      <td>91364</td>\n",
       "      <td>Apartment</td>\n",
       "      <td>Private room</td>\n",
       "      <td>Real Bed</td>\n",
       "      <td>TV,Wireless Internet,Air conditioning,Free par...</td>\n",
       "      <td>flexible</td>\n",
       "      <td>5.010635</td>\n",
       "      <td>12.247449</td>\n",
       "    </tr>\n",
       "    <tr>\n",
       "      <th>1</th>\n",
       "      <td>175.0</td>\n",
       "      <td>8.0</td>\n",
       "      <td>3.5</td>\n",
       "      <td>4.0</td>\n",
       "      <td>4.0</td>\n",
       "      <td>300.0</td>\n",
       "      <td>150.0</td>\n",
       "      <td>8.0</td>\n",
       "      <td>Los Angeles</td>\n",
       "      <td>91364</td>\n",
       "      <td>House</td>\n",
       "      <td>Entire home/apt</td>\n",
       "      <td>Real Bed</td>\n",
       "      <td>Wireless Internet,Air conditioning,Pool,Kitche...</td>\n",
       "      <td>flexible</td>\n",
       "      <td>5.164786</td>\n",
       "      <td>13.228757</td>\n",
       "    </tr>\n",
       "    <tr>\n",
       "      <th>2</th>\n",
       "      <td>79.0</td>\n",
       "      <td>3.0</td>\n",
       "      <td>1.0</td>\n",
       "      <td>1.0</td>\n",
       "      <td>1.0</td>\n",
       "      <td>250.0</td>\n",
       "      <td>55.0</td>\n",
       "      <td>1.0</td>\n",
       "      <td>Los Angeles</td>\n",
       "      <td>91367</td>\n",
       "      <td>Guesthouse</td>\n",
       "      <td>Entire home/apt</td>\n",
       "      <td>Real Bed</td>\n",
       "      <td>TV,Wireless Internet,Air conditioning,Kitchen,...</td>\n",
       "      <td>flexible</td>\n",
       "      <td>4.369448</td>\n",
       "      <td>8.888194</td>\n",
       "    </tr>\n",
       "    <tr>\n",
       "      <th>3</th>\n",
       "      <td>175.0</td>\n",
       "      <td>2.0</td>\n",
       "      <td>1.5</td>\n",
       "      <td>1.0</td>\n",
       "      <td>1.0</td>\n",
       "      <td>500.0</td>\n",
       "      <td>100.0</td>\n",
       "      <td>1.0</td>\n",
       "      <td>Woodland Hills</td>\n",
       "      <td>91364</td>\n",
       "      <td>Other</td>\n",
       "      <td>Entire home/apt</td>\n",
       "      <td>Real Bed</td>\n",
       "      <td>TV,Cable TV,Wireless Internet,Air conditioning...</td>\n",
       "      <td>strict</td>\n",
       "      <td>5.164786</td>\n",
       "      <td>13.228757</td>\n",
       "    </tr>\n",
       "    <tr>\n",
       "      <th>4</th>\n",
       "      <td>450.0</td>\n",
       "      <td>6.0</td>\n",
       "      <td>2.5</td>\n",
       "      <td>3.0</td>\n",
       "      <td>4.0</td>\n",
       "      <td>250.0</td>\n",
       "      <td>200.0</td>\n",
       "      <td>6.0</td>\n",
       "      <td>Los Angeles</td>\n",
       "      <td>91367</td>\n",
       "      <td>Townhouse</td>\n",
       "      <td>Entire home/apt</td>\n",
       "      <td>Real Bed</td>\n",
       "      <td>TV,Cable TV,Internet,Wireless Internet,Air con...</td>\n",
       "      <td>moderate</td>\n",
       "      <td>6.109248</td>\n",
       "      <td>21.213203</td>\n",
       "    </tr>\n",
       "  </tbody>\n",
       "</table>\n",
       "</div>"
      ],
      "text/plain": [
       "   Price  Accommodates  Bathrooms  Bedrooms  Beds  Security Deposit  \\\n",
       "0  150.0           2.0        1.0       1.0   1.0             250.0   \n",
       "1  175.0           8.0        3.5       4.0   4.0             300.0   \n",
       "2   79.0           3.0        1.0       1.0   1.0             250.0   \n",
       "3  175.0           2.0        1.5       1.0   1.0             500.0   \n",
       "4  450.0           6.0        2.5       3.0   4.0             250.0   \n",
       "\n",
       "   Cleaning Fee  Guests Included            City Zipcode Property Type  \\\n",
       "0          50.0              1.0     Los Angeles   91364     Apartment   \n",
       "1         150.0              8.0     Los Angeles   91364         House   \n",
       "2          55.0              1.0     Los Angeles   91367    Guesthouse   \n",
       "3         100.0              1.0  Woodland Hills   91364         Other   \n",
       "4         200.0              6.0     Los Angeles   91367     Townhouse   \n",
       "\n",
       "         Room Type  Bed Type  \\\n",
       "0     Private room  Real Bed   \n",
       "1  Entire home/apt  Real Bed   \n",
       "2  Entire home/apt  Real Bed   \n",
       "3  Entire home/apt  Real Bed   \n",
       "4  Entire home/apt  Real Bed   \n",
       "\n",
       "                                           Amenities Cancellation Policy  \\\n",
       "0  TV,Wireless Internet,Air conditioning,Free par...            flexible   \n",
       "1  Wireless Internet,Air conditioning,Pool,Kitche...            flexible   \n",
       "2  TV,Wireless Internet,Air conditioning,Kitchen,...            flexible   \n",
       "3  TV,Cable TV,Wireless Internet,Air conditioning...              strict   \n",
       "4  TV,Cable TV,Internet,Wireless Internet,Air con...            moderate   \n",
       "\n",
       "   price_log  price_sqrt  \n",
       "0   5.010635   12.247449  \n",
       "1   5.164786   13.228757  \n",
       "2   4.369448    8.888194  \n",
       "3   5.164786   13.228757  \n",
       "4   6.109248   21.213203  "
      ]
     },
     "execution_count": 166,
     "metadata": {},
     "output_type": "execute_result"
    }
   ],
   "source": [
    "df1.head()"
   ]
  },
  {
   "cell_type": "code",
   "execution_count": 172,
   "id": "81e0cff0",
   "metadata": {},
   "outputs": [
    {
     "data": {
      "text/plain": [
       "array(['Apartment', 'House', 'Guesthouse', 'Other', 'Townhouse',\n",
       "       'Condominium', 'Loft', 'Bed & Breakfast', 'Bungalow', 'Hostel',\n",
       "       'Serviced apartment', 'Boat', 'Dorm', 'Villa', 'Castle',\n",
       "       'Boutique hotel', 'Cabin', 'Guest suite', 'Camper/RV', 'Tent',\n",
       "       'Entire Floor', 'Timeshare', 'Lighthouse', 'Treehouse',\n",
       "       'Vacation home', 'Hut', nan, 'Yurt', 'Cave', 'Train', 'In-law',\n",
       "       'Chalet', 'Tipi', 'Earth House', 'Plane', 'Island', 'Nature lodge',\n",
       "       'Casa particular', 'Pension (Korea)'], dtype=object)"
      ]
     },
     "execution_count": 172,
     "metadata": {},
     "output_type": "execute_result"
    }
   ],
   "source": [
    "df1['Property Type'].unique()"
   ]
  },
  {
   "cell_type": "code",
   "execution_count": 175,
   "id": "55f6e744",
   "metadata": {},
   "outputs": [
    {
     "data": {
      "text/plain": [
       "array(['TV,Wireless Internet,Air conditioning,Free parking on premises,Hot tub,Heating,Smoke detector,Carbon monoxide detector,Essentials,Shampoo',\n",
       "       'Wireless Internet,Air conditioning,Pool,Kitchen,Free parking on premises,Pets allowed,Indoor fireplace,Heating,Family/kid friendly,Washer,Dryer,Smoke detector,Carbon monoxide detector,First aid kit,Safety card,Essentials,Shampoo,Hangers,Hair dryer,Iron,Laptop friendly workspace,TV',\n",
       "       'TV,Wireless Internet,Air conditioning,Kitchen,Free parking on premises,Heating,Family/kid friendly,Washer,Dryer,Smoke detector,Carbon monoxide detector,Essentials,Hangers,Laptop friendly workspace',\n",
       "       ...,\n",
       "       'TV,Internet,Wireless Internet,Air conditioning,Kitchen,Free parking on premises,Heating,Washer,Dryer,Hair dryer,translation missing: en.hosting_amenity_50',\n",
       "       'TV,Wireless Internet,Air conditioning,Kitchen,Free parking on premises,Pets allowed,Hot tub,Indoor fireplace,Heating,Family/kid friendly,Washer,Dryer,Smoke detector,Carbon monoxide detector,Essentials,Hangers,Laptop friendly workspace',\n",
       "       'TV,Cable TV,Internet,Wireless Internet,Air conditioning,Kitchen,Free parking on premises,Heating,Washer,Dryer,Smoke detector,Essentials,Shampoo,Hangers,Hair dryer,Iron'],\n",
       "      dtype=object)"
      ]
     },
     "execution_count": 175,
     "metadata": {},
     "output_type": "execute_result"
    }
   ],
   "source": [
    "df1.Amenities.unique()"
   ]
  },
  {
   "cell_type": "code",
   "execution_count": 176,
   "id": "8da31fb4",
   "metadata": {},
   "outputs": [
    {
     "data": {
      "text/plain": [
       "array(['Private room', 'Entire home/apt', 'Shared room'], dtype=object)"
      ]
     },
     "execution_count": 176,
     "metadata": {},
     "output_type": "execute_result"
    }
   ],
   "source": [
    "df1['Room Type'].unique()"
   ]
  },
  {
   "cell_type": "code",
   "execution_count": 177,
   "id": "c368c979",
   "metadata": {},
   "outputs": [
    {
     "data": {
      "text/plain": [
       "array(['Real Bed', 'Pull-out Sofa', 'Futon', 'Airbed', 'Couch'],\n",
       "      dtype=object)"
      ]
     },
     "execution_count": 177,
     "metadata": {},
     "output_type": "execute_result"
    }
   ],
   "source": [
    "df1['Bed Type'].unique()"
   ]
  },
  {
   "cell_type": "code",
   "execution_count": 178,
   "id": "1f60c342",
   "metadata": {},
   "outputs": [
    {
     "data": {
      "text/html": [
       "<div>\n",
       "<style scoped>\n",
       "    .dataframe tbody tr th:only-of-type {\n",
       "        vertical-align: middle;\n",
       "    }\n",
       "\n",
       "    .dataframe tbody tr th {\n",
       "        vertical-align: top;\n",
       "    }\n",
       "\n",
       "    .dataframe thead th {\n",
       "        text-align: right;\n",
       "    }\n",
       "</style>\n",
       "<table border=\"1\" class=\"dataframe\">\n",
       "  <thead>\n",
       "    <tr style=\"text-align: right;\">\n",
       "      <th></th>\n",
       "      <th>Price</th>\n",
       "      <th>Accommodates</th>\n",
       "      <th>Bathrooms</th>\n",
       "      <th>Bedrooms</th>\n",
       "      <th>Beds</th>\n",
       "      <th>Security Deposit</th>\n",
       "      <th>Cleaning Fee</th>\n",
       "      <th>Guests Included</th>\n",
       "      <th>City</th>\n",
       "      <th>Zipcode</th>\n",
       "      <th>Property Type</th>\n",
       "      <th>Room Type</th>\n",
       "      <th>Bed Type</th>\n",
       "      <th>Amenities</th>\n",
       "      <th>Cancellation Policy</th>\n",
       "      <th>price_log</th>\n",
       "      <th>price_sqrt</th>\n",
       "    </tr>\n",
       "  </thead>\n",
       "  <tbody>\n",
       "    <tr>\n",
       "      <th>0</th>\n",
       "      <td>150.0</td>\n",
       "      <td>2.0</td>\n",
       "      <td>1.0</td>\n",
       "      <td>1.0</td>\n",
       "      <td>1.0</td>\n",
       "      <td>250.0</td>\n",
       "      <td>50.0</td>\n",
       "      <td>1.0</td>\n",
       "      <td>Los Angeles</td>\n",
       "      <td>91364</td>\n",
       "      <td>Apartment</td>\n",
       "      <td>Private room</td>\n",
       "      <td>Real Bed</td>\n",
       "      <td>TV,Wireless Internet,Air conditioning,Free par...</td>\n",
       "      <td>flexible</td>\n",
       "      <td>5.010635</td>\n",
       "      <td>12.247449</td>\n",
       "    </tr>\n",
       "    <tr>\n",
       "      <th>1</th>\n",
       "      <td>175.0</td>\n",
       "      <td>8.0</td>\n",
       "      <td>3.5</td>\n",
       "      <td>4.0</td>\n",
       "      <td>4.0</td>\n",
       "      <td>300.0</td>\n",
       "      <td>150.0</td>\n",
       "      <td>8.0</td>\n",
       "      <td>Los Angeles</td>\n",
       "      <td>91364</td>\n",
       "      <td>House</td>\n",
       "      <td>Entire home/apt</td>\n",
       "      <td>Real Bed</td>\n",
       "      <td>Wireless Internet,Air conditioning,Pool,Kitche...</td>\n",
       "      <td>flexible</td>\n",
       "      <td>5.164786</td>\n",
       "      <td>13.228757</td>\n",
       "    </tr>\n",
       "    <tr>\n",
       "      <th>2</th>\n",
       "      <td>79.0</td>\n",
       "      <td>3.0</td>\n",
       "      <td>1.0</td>\n",
       "      <td>1.0</td>\n",
       "      <td>1.0</td>\n",
       "      <td>250.0</td>\n",
       "      <td>55.0</td>\n",
       "      <td>1.0</td>\n",
       "      <td>Los Angeles</td>\n",
       "      <td>91367</td>\n",
       "      <td>Guesthouse</td>\n",
       "      <td>Entire home/apt</td>\n",
       "      <td>Real Bed</td>\n",
       "      <td>TV,Wireless Internet,Air conditioning,Kitchen,...</td>\n",
       "      <td>flexible</td>\n",
       "      <td>4.369448</td>\n",
       "      <td>8.888194</td>\n",
       "    </tr>\n",
       "    <tr>\n",
       "      <th>3</th>\n",
       "      <td>175.0</td>\n",
       "      <td>2.0</td>\n",
       "      <td>1.5</td>\n",
       "      <td>1.0</td>\n",
       "      <td>1.0</td>\n",
       "      <td>500.0</td>\n",
       "      <td>100.0</td>\n",
       "      <td>1.0</td>\n",
       "      <td>Woodland Hills</td>\n",
       "      <td>91364</td>\n",
       "      <td>Other</td>\n",
       "      <td>Entire home/apt</td>\n",
       "      <td>Real Bed</td>\n",
       "      <td>TV,Cable TV,Wireless Internet,Air conditioning...</td>\n",
       "      <td>strict</td>\n",
       "      <td>5.164786</td>\n",
       "      <td>13.228757</td>\n",
       "    </tr>\n",
       "    <tr>\n",
       "      <th>4</th>\n",
       "      <td>450.0</td>\n",
       "      <td>6.0</td>\n",
       "      <td>2.5</td>\n",
       "      <td>3.0</td>\n",
       "      <td>4.0</td>\n",
       "      <td>250.0</td>\n",
       "      <td>200.0</td>\n",
       "      <td>6.0</td>\n",
       "      <td>Los Angeles</td>\n",
       "      <td>91367</td>\n",
       "      <td>Townhouse</td>\n",
       "      <td>Entire home/apt</td>\n",
       "      <td>Real Bed</td>\n",
       "      <td>TV,Cable TV,Internet,Wireless Internet,Air con...</td>\n",
       "      <td>moderate</td>\n",
       "      <td>6.109248</td>\n",
       "      <td>21.213203</td>\n",
       "    </tr>\n",
       "  </tbody>\n",
       "</table>\n",
       "</div>"
      ],
      "text/plain": [
       "   Price  Accommodates  Bathrooms  Bedrooms  Beds  Security Deposit  \\\n",
       "0  150.0           2.0        1.0       1.0   1.0             250.0   \n",
       "1  175.0           8.0        3.5       4.0   4.0             300.0   \n",
       "2   79.0           3.0        1.0       1.0   1.0             250.0   \n",
       "3  175.0           2.0        1.5       1.0   1.0             500.0   \n",
       "4  450.0           6.0        2.5       3.0   4.0             250.0   \n",
       "\n",
       "   Cleaning Fee  Guests Included            City Zipcode Property Type  \\\n",
       "0          50.0              1.0     Los Angeles   91364     Apartment   \n",
       "1         150.0              8.0     Los Angeles   91364         House   \n",
       "2          55.0              1.0     Los Angeles   91367    Guesthouse   \n",
       "3         100.0              1.0  Woodland Hills   91364         Other   \n",
       "4         200.0              6.0     Los Angeles   91367     Townhouse   \n",
       "\n",
       "         Room Type  Bed Type  \\\n",
       "0     Private room  Real Bed   \n",
       "1  Entire home/apt  Real Bed   \n",
       "2  Entire home/apt  Real Bed   \n",
       "3  Entire home/apt  Real Bed   \n",
       "4  Entire home/apt  Real Bed   \n",
       "\n",
       "                                           Amenities Cancellation Policy  \\\n",
       "0  TV,Wireless Internet,Air conditioning,Free par...            flexible   \n",
       "1  Wireless Internet,Air conditioning,Pool,Kitche...            flexible   \n",
       "2  TV,Wireless Internet,Air conditioning,Kitchen,...            flexible   \n",
       "3  TV,Cable TV,Wireless Internet,Air conditioning...              strict   \n",
       "4  TV,Cable TV,Internet,Wireless Internet,Air con...            moderate   \n",
       "\n",
       "   price_log  price_sqrt  \n",
       "0   5.010635   12.247449  \n",
       "1   5.164786   13.228757  \n",
       "2   4.369448    8.888194  \n",
       "3   5.164786   13.228757  \n",
       "4   6.109248   21.213203  "
      ]
     },
     "execution_count": 178,
     "metadata": {},
     "output_type": "execute_result"
    }
   ],
   "source": [
    "df1.head()"
   ]
  },
  {
   "cell_type": "code",
   "execution_count": 181,
   "id": "c17dfe1b",
   "metadata": {},
   "outputs": [
    {
     "data": {
      "text/plain": [
       "(131806, 17)"
      ]
     },
     "execution_count": 181,
     "metadata": {},
     "output_type": "execute_result"
    }
   ],
   "source": [
    "df1.shape"
   ]
  },
  {
   "cell_type": "code",
   "execution_count": 185,
   "id": "d7d0da2a",
   "metadata": {},
   "outputs": [],
   "source": [
    "#df2 is made to keep df1 safe and encoding can be done on df2, df2 has city, property type and amenities left to be encoded \n",
    "df2=pd.get_dummies(data=df1,columns=['Cancellation Policy','Room Type','Bed Type'])"
   ]
  },
  {
   "cell_type": "code",
   "execution_count": 186,
   "id": "f80ade51",
   "metadata": {},
   "outputs": [
    {
     "data": {
      "text/html": [
       "<div>\n",
       "<style scoped>\n",
       "    .dataframe tbody tr th:only-of-type {\n",
       "        vertical-align: middle;\n",
       "    }\n",
       "\n",
       "    .dataframe tbody tr th {\n",
       "        vertical-align: top;\n",
       "    }\n",
       "\n",
       "    .dataframe thead th {\n",
       "        text-align: right;\n",
       "    }\n",
       "</style>\n",
       "<table border=\"1\" class=\"dataframe\">\n",
       "  <thead>\n",
       "    <tr style=\"text-align: right;\">\n",
       "      <th></th>\n",
       "      <th>Price</th>\n",
       "      <th>Accommodates</th>\n",
       "      <th>Bathrooms</th>\n",
       "      <th>Bedrooms</th>\n",
       "      <th>Beds</th>\n",
       "      <th>Security Deposit</th>\n",
       "      <th>Cleaning Fee</th>\n",
       "      <th>Guests Included</th>\n",
       "      <th>City</th>\n",
       "      <th>Zipcode</th>\n",
       "      <th>Property Type</th>\n",
       "      <th>Amenities</th>\n",
       "      <th>price_log</th>\n",
       "      <th>price_sqrt</th>\n",
       "      <th>Cancellation Policy_flexible</th>\n",
       "      <th>Cancellation Policy_long_term</th>\n",
       "      <th>Cancellation Policy_moderate</th>\n",
       "      <th>Cancellation Policy_no_refunds</th>\n",
       "      <th>Cancellation Policy_strict</th>\n",
       "      <th>Cancellation Policy_super_strict_30</th>\n",
       "      <th>Cancellation Policy_super_strict_60</th>\n",
       "      <th>Room Type_Entire home/apt</th>\n",
       "      <th>Room Type_Private room</th>\n",
       "      <th>Room Type_Shared room</th>\n",
       "      <th>Bed Type_Airbed</th>\n",
       "      <th>Bed Type_Couch</th>\n",
       "      <th>Bed Type_Futon</th>\n",
       "      <th>Bed Type_Pull-out Sofa</th>\n",
       "      <th>Bed Type_Real Bed</th>\n",
       "    </tr>\n",
       "  </thead>\n",
       "  <tbody>\n",
       "    <tr>\n",
       "      <th>0</th>\n",
       "      <td>150.0</td>\n",
       "      <td>2.0</td>\n",
       "      <td>1.0</td>\n",
       "      <td>1.0</td>\n",
       "      <td>1.0</td>\n",
       "      <td>250.0</td>\n",
       "      <td>50.0</td>\n",
       "      <td>1.0</td>\n",
       "      <td>Los Angeles</td>\n",
       "      <td>91364</td>\n",
       "      <td>Apartment</td>\n",
       "      <td>TV,Wireless Internet,Air conditioning,Free par...</td>\n",
       "      <td>5.010635</td>\n",
       "      <td>12.247449</td>\n",
       "      <td>1</td>\n",
       "      <td>0</td>\n",
       "      <td>0</td>\n",
       "      <td>0</td>\n",
       "      <td>0</td>\n",
       "      <td>0</td>\n",
       "      <td>0</td>\n",
       "      <td>0</td>\n",
       "      <td>1</td>\n",
       "      <td>0</td>\n",
       "      <td>0</td>\n",
       "      <td>0</td>\n",
       "      <td>0</td>\n",
       "      <td>0</td>\n",
       "      <td>1</td>\n",
       "    </tr>\n",
       "    <tr>\n",
       "      <th>1</th>\n",
       "      <td>175.0</td>\n",
       "      <td>8.0</td>\n",
       "      <td>3.5</td>\n",
       "      <td>4.0</td>\n",
       "      <td>4.0</td>\n",
       "      <td>300.0</td>\n",
       "      <td>150.0</td>\n",
       "      <td>8.0</td>\n",
       "      <td>Los Angeles</td>\n",
       "      <td>91364</td>\n",
       "      <td>House</td>\n",
       "      <td>Wireless Internet,Air conditioning,Pool,Kitche...</td>\n",
       "      <td>5.164786</td>\n",
       "      <td>13.228757</td>\n",
       "      <td>1</td>\n",
       "      <td>0</td>\n",
       "      <td>0</td>\n",
       "      <td>0</td>\n",
       "      <td>0</td>\n",
       "      <td>0</td>\n",
       "      <td>0</td>\n",
       "      <td>1</td>\n",
       "      <td>0</td>\n",
       "      <td>0</td>\n",
       "      <td>0</td>\n",
       "      <td>0</td>\n",
       "      <td>0</td>\n",
       "      <td>0</td>\n",
       "      <td>1</td>\n",
       "    </tr>\n",
       "    <tr>\n",
       "      <th>2</th>\n",
       "      <td>79.0</td>\n",
       "      <td>3.0</td>\n",
       "      <td>1.0</td>\n",
       "      <td>1.0</td>\n",
       "      <td>1.0</td>\n",
       "      <td>250.0</td>\n",
       "      <td>55.0</td>\n",
       "      <td>1.0</td>\n",
       "      <td>Los Angeles</td>\n",
       "      <td>91367</td>\n",
       "      <td>Guesthouse</td>\n",
       "      <td>TV,Wireless Internet,Air conditioning,Kitchen,...</td>\n",
       "      <td>4.369448</td>\n",
       "      <td>8.888194</td>\n",
       "      <td>1</td>\n",
       "      <td>0</td>\n",
       "      <td>0</td>\n",
       "      <td>0</td>\n",
       "      <td>0</td>\n",
       "      <td>0</td>\n",
       "      <td>0</td>\n",
       "      <td>1</td>\n",
       "      <td>0</td>\n",
       "      <td>0</td>\n",
       "      <td>0</td>\n",
       "      <td>0</td>\n",
       "      <td>0</td>\n",
       "      <td>0</td>\n",
       "      <td>1</td>\n",
       "    </tr>\n",
       "    <tr>\n",
       "      <th>3</th>\n",
       "      <td>175.0</td>\n",
       "      <td>2.0</td>\n",
       "      <td>1.5</td>\n",
       "      <td>1.0</td>\n",
       "      <td>1.0</td>\n",
       "      <td>500.0</td>\n",
       "      <td>100.0</td>\n",
       "      <td>1.0</td>\n",
       "      <td>Woodland Hills</td>\n",
       "      <td>91364</td>\n",
       "      <td>Other</td>\n",
       "      <td>TV,Cable TV,Wireless Internet,Air conditioning...</td>\n",
       "      <td>5.164786</td>\n",
       "      <td>13.228757</td>\n",
       "      <td>0</td>\n",
       "      <td>0</td>\n",
       "      <td>0</td>\n",
       "      <td>0</td>\n",
       "      <td>1</td>\n",
       "      <td>0</td>\n",
       "      <td>0</td>\n",
       "      <td>1</td>\n",
       "      <td>0</td>\n",
       "      <td>0</td>\n",
       "      <td>0</td>\n",
       "      <td>0</td>\n",
       "      <td>0</td>\n",
       "      <td>0</td>\n",
       "      <td>1</td>\n",
       "    </tr>\n",
       "    <tr>\n",
       "      <th>4</th>\n",
       "      <td>450.0</td>\n",
       "      <td>6.0</td>\n",
       "      <td>2.5</td>\n",
       "      <td>3.0</td>\n",
       "      <td>4.0</td>\n",
       "      <td>250.0</td>\n",
       "      <td>200.0</td>\n",
       "      <td>6.0</td>\n",
       "      <td>Los Angeles</td>\n",
       "      <td>91367</td>\n",
       "      <td>Townhouse</td>\n",
       "      <td>TV,Cable TV,Internet,Wireless Internet,Air con...</td>\n",
       "      <td>6.109248</td>\n",
       "      <td>21.213203</td>\n",
       "      <td>0</td>\n",
       "      <td>0</td>\n",
       "      <td>1</td>\n",
       "      <td>0</td>\n",
       "      <td>0</td>\n",
       "      <td>0</td>\n",
       "      <td>0</td>\n",
       "      <td>1</td>\n",
       "      <td>0</td>\n",
       "      <td>0</td>\n",
       "      <td>0</td>\n",
       "      <td>0</td>\n",
       "      <td>0</td>\n",
       "      <td>0</td>\n",
       "      <td>1</td>\n",
       "    </tr>\n",
       "  </tbody>\n",
       "</table>\n",
       "</div>"
      ],
      "text/plain": [
       "   Price  Accommodates  Bathrooms  Bedrooms  Beds  Security Deposit  \\\n",
       "0  150.0           2.0        1.0       1.0   1.0             250.0   \n",
       "1  175.0           8.0        3.5       4.0   4.0             300.0   \n",
       "2   79.0           3.0        1.0       1.0   1.0             250.0   \n",
       "3  175.0           2.0        1.5       1.0   1.0             500.0   \n",
       "4  450.0           6.0        2.5       3.0   4.0             250.0   \n",
       "\n",
       "   Cleaning Fee  Guests Included            City Zipcode Property Type  \\\n",
       "0          50.0              1.0     Los Angeles   91364     Apartment   \n",
       "1         150.0              8.0     Los Angeles   91364         House   \n",
       "2          55.0              1.0     Los Angeles   91367    Guesthouse   \n",
       "3         100.0              1.0  Woodland Hills   91364         Other   \n",
       "4         200.0              6.0     Los Angeles   91367     Townhouse   \n",
       "\n",
       "                                           Amenities  price_log  price_sqrt  \\\n",
       "0  TV,Wireless Internet,Air conditioning,Free par...   5.010635   12.247449   \n",
       "1  Wireless Internet,Air conditioning,Pool,Kitche...   5.164786   13.228757   \n",
       "2  TV,Wireless Internet,Air conditioning,Kitchen,...   4.369448    8.888194   \n",
       "3  TV,Cable TV,Wireless Internet,Air conditioning...   5.164786   13.228757   \n",
       "4  TV,Cable TV,Internet,Wireless Internet,Air con...   6.109248   21.213203   \n",
       "\n",
       "   Cancellation Policy_flexible  Cancellation Policy_long_term  \\\n",
       "0                             1                              0   \n",
       "1                             1                              0   \n",
       "2                             1                              0   \n",
       "3                             0                              0   \n",
       "4                             0                              0   \n",
       "\n",
       "   Cancellation Policy_moderate  Cancellation Policy_no_refunds  \\\n",
       "0                             0                               0   \n",
       "1                             0                               0   \n",
       "2                             0                               0   \n",
       "3                             0                               0   \n",
       "4                             1                               0   \n",
       "\n",
       "   Cancellation Policy_strict  Cancellation Policy_super_strict_30  \\\n",
       "0                           0                                    0   \n",
       "1                           0                                    0   \n",
       "2                           0                                    0   \n",
       "3                           1                                    0   \n",
       "4                           0                                    0   \n",
       "\n",
       "   Cancellation Policy_super_strict_60  Room Type_Entire home/apt  \\\n",
       "0                                    0                          0   \n",
       "1                                    0                          1   \n",
       "2                                    0                          1   \n",
       "3                                    0                          1   \n",
       "4                                    0                          1   \n",
       "\n",
       "   Room Type_Private room  Room Type_Shared room  Bed Type_Airbed  \\\n",
       "0                       1                      0                0   \n",
       "1                       0                      0                0   \n",
       "2                       0                      0                0   \n",
       "3                       0                      0                0   \n",
       "4                       0                      0                0   \n",
       "\n",
       "   Bed Type_Couch  Bed Type_Futon  Bed Type_Pull-out Sofa  Bed Type_Real Bed  \n",
       "0               0               0                       0                  1  \n",
       "1               0               0                       0                  1  \n",
       "2               0               0                       0                  1  \n",
       "3               0               0                       0                  1  \n",
       "4               0               0                       0                  1  "
      ]
     },
     "execution_count": 186,
     "metadata": {},
     "output_type": "execute_result"
    }
   ],
   "source": [
    "df2.head()"
   ]
  },
  {
   "cell_type": "code",
   "execution_count": 187,
   "id": "82dd6fbe",
   "metadata": {},
   "outputs": [
    {
     "data": {
      "text/plain": [
       "Price                                     0\n",
       "Accommodates                              0\n",
       "Bathrooms                                 0\n",
       "Bedrooms                                  0\n",
       "Beds                                      0\n",
       "Security Deposit                          0\n",
       "Cleaning Fee                              0\n",
       "Guests Included                           0\n",
       "City                                      0\n",
       "Zipcode                                1607\n",
       "Property Type                             5\n",
       "Amenities                              1082\n",
       "price_log                                 0\n",
       "price_sqrt                                0\n",
       "Cancellation Policy_flexible              0\n",
       "Cancellation Policy_long_term             0\n",
       "Cancellation Policy_moderate              0\n",
       "Cancellation Policy_no_refunds            0\n",
       "Cancellation Policy_strict                0\n",
       "Cancellation Policy_super_strict_30       0\n",
       "Cancellation Policy_super_strict_60       0\n",
       "Room Type_Entire home/apt                 0\n",
       "Room Type_Private room                    0\n",
       "Room Type_Shared room                     0\n",
       "Bed Type_Airbed                           0\n",
       "Bed Type_Couch                            0\n",
       "Bed Type_Futon                            0\n",
       "Bed Type_Pull-out Sofa                    0\n",
       "Bed Type_Real Bed                         0\n",
       "dtype: int64"
      ]
     },
     "execution_count": 187,
     "metadata": {},
     "output_type": "execute_result"
    }
   ],
   "source": [
    "df2.isnull().sum()"
   ]
  },
  {
   "cell_type": "code",
   "execution_count": 194,
   "id": "338f8842",
   "metadata": {},
   "outputs": [
    {
     "data": {
      "text/plain": [
       "(131806, 29)"
      ]
     },
     "execution_count": 194,
     "metadata": {},
     "output_type": "execute_result"
    }
   ],
   "source": [
    "df2.shape"
   ]
  },
  {
   "cell_type": "code",
   "execution_count": 195,
   "id": "c129046e",
   "metadata": {},
   "outputs": [
    {
     "data": {
      "text/html": [
       "<div>\n",
       "<style scoped>\n",
       "    .dataframe tbody tr th:only-of-type {\n",
       "        vertical-align: middle;\n",
       "    }\n",
       "\n",
       "    .dataframe tbody tr th {\n",
       "        vertical-align: top;\n",
       "    }\n",
       "\n",
       "    .dataframe thead th {\n",
       "        text-align: right;\n",
       "    }\n",
       "</style>\n",
       "<table border=\"1\" class=\"dataframe\">\n",
       "  <thead>\n",
       "    <tr style=\"text-align: right;\">\n",
       "      <th></th>\n",
       "      <th>Price</th>\n",
       "      <th>Accommodates</th>\n",
       "      <th>Bathrooms</th>\n",
       "      <th>Bedrooms</th>\n",
       "      <th>Beds</th>\n",
       "      <th>Security Deposit</th>\n",
       "      <th>Cleaning Fee</th>\n",
       "      <th>Guests Included</th>\n",
       "      <th>City</th>\n",
       "      <th>Zipcode</th>\n",
       "      <th>Property Type</th>\n",
       "      <th>Room Type</th>\n",
       "      <th>Bed Type</th>\n",
       "      <th>Amenities</th>\n",
       "      <th>Cancellation Policy</th>\n",
       "      <th>price_log</th>\n",
       "      <th>price_sqrt</th>\n",
       "    </tr>\n",
       "  </thead>\n",
       "  <tbody>\n",
       "    <tr>\n",
       "      <th>0</th>\n",
       "      <td>150.0</td>\n",
       "      <td>2.0</td>\n",
       "      <td>1.0</td>\n",
       "      <td>1.0</td>\n",
       "      <td>1.0</td>\n",
       "      <td>250.0</td>\n",
       "      <td>50.0</td>\n",
       "      <td>1.0</td>\n",
       "      <td>Los Angeles</td>\n",
       "      <td>91364</td>\n",
       "      <td>Apartment</td>\n",
       "      <td>Private room</td>\n",
       "      <td>Real Bed</td>\n",
       "      <td>TV,Wireless Internet,Air conditioning,Free par...</td>\n",
       "      <td>flexible</td>\n",
       "      <td>5.010635</td>\n",
       "      <td>12.247449</td>\n",
       "    </tr>\n",
       "    <tr>\n",
       "      <th>1</th>\n",
       "      <td>175.0</td>\n",
       "      <td>8.0</td>\n",
       "      <td>3.5</td>\n",
       "      <td>4.0</td>\n",
       "      <td>4.0</td>\n",
       "      <td>300.0</td>\n",
       "      <td>150.0</td>\n",
       "      <td>8.0</td>\n",
       "      <td>Los Angeles</td>\n",
       "      <td>91364</td>\n",
       "      <td>House</td>\n",
       "      <td>Entire home/apt</td>\n",
       "      <td>Real Bed</td>\n",
       "      <td>Wireless Internet,Air conditioning,Pool,Kitche...</td>\n",
       "      <td>flexible</td>\n",
       "      <td>5.164786</td>\n",
       "      <td>13.228757</td>\n",
       "    </tr>\n",
       "    <tr>\n",
       "      <th>2</th>\n",
       "      <td>79.0</td>\n",
       "      <td>3.0</td>\n",
       "      <td>1.0</td>\n",
       "      <td>1.0</td>\n",
       "      <td>1.0</td>\n",
       "      <td>250.0</td>\n",
       "      <td>55.0</td>\n",
       "      <td>1.0</td>\n",
       "      <td>Los Angeles</td>\n",
       "      <td>91367</td>\n",
       "      <td>Guesthouse</td>\n",
       "      <td>Entire home/apt</td>\n",
       "      <td>Real Bed</td>\n",
       "      <td>TV,Wireless Internet,Air conditioning,Kitchen,...</td>\n",
       "      <td>flexible</td>\n",
       "      <td>4.369448</td>\n",
       "      <td>8.888194</td>\n",
       "    </tr>\n",
       "    <tr>\n",
       "      <th>3</th>\n",
       "      <td>175.0</td>\n",
       "      <td>2.0</td>\n",
       "      <td>1.5</td>\n",
       "      <td>1.0</td>\n",
       "      <td>1.0</td>\n",
       "      <td>500.0</td>\n",
       "      <td>100.0</td>\n",
       "      <td>1.0</td>\n",
       "      <td>Woodland Hills</td>\n",
       "      <td>91364</td>\n",
       "      <td>Other</td>\n",
       "      <td>Entire home/apt</td>\n",
       "      <td>Real Bed</td>\n",
       "      <td>TV,Cable TV,Wireless Internet,Air conditioning...</td>\n",
       "      <td>strict</td>\n",
       "      <td>5.164786</td>\n",
       "      <td>13.228757</td>\n",
       "    </tr>\n",
       "    <tr>\n",
       "      <th>4</th>\n",
       "      <td>450.0</td>\n",
       "      <td>6.0</td>\n",
       "      <td>2.5</td>\n",
       "      <td>3.0</td>\n",
       "      <td>4.0</td>\n",
       "      <td>250.0</td>\n",
       "      <td>200.0</td>\n",
       "      <td>6.0</td>\n",
       "      <td>Los Angeles</td>\n",
       "      <td>91367</td>\n",
       "      <td>Townhouse</td>\n",
       "      <td>Entire home/apt</td>\n",
       "      <td>Real Bed</td>\n",
       "      <td>TV,Cable TV,Internet,Wireless Internet,Air con...</td>\n",
       "      <td>moderate</td>\n",
       "      <td>6.109248</td>\n",
       "      <td>21.213203</td>\n",
       "    </tr>\n",
       "  </tbody>\n",
       "</table>\n",
       "</div>"
      ],
      "text/plain": [
       "   Price  Accommodates  Bathrooms  Bedrooms  Beds  Security Deposit  \\\n",
       "0  150.0           2.0        1.0       1.0   1.0             250.0   \n",
       "1  175.0           8.0        3.5       4.0   4.0             300.0   \n",
       "2   79.0           3.0        1.0       1.0   1.0             250.0   \n",
       "3  175.0           2.0        1.5       1.0   1.0             500.0   \n",
       "4  450.0           6.0        2.5       3.0   4.0             250.0   \n",
       "\n",
       "   Cleaning Fee  Guests Included            City Zipcode Property Type  \\\n",
       "0          50.0              1.0     Los Angeles   91364     Apartment   \n",
       "1         150.0              8.0     Los Angeles   91364         House   \n",
       "2          55.0              1.0     Los Angeles   91367    Guesthouse   \n",
       "3         100.0              1.0  Woodland Hills   91364         Other   \n",
       "4         200.0              6.0     Los Angeles   91367     Townhouse   \n",
       "\n",
       "         Room Type  Bed Type  \\\n",
       "0     Private room  Real Bed   \n",
       "1  Entire home/apt  Real Bed   \n",
       "2  Entire home/apt  Real Bed   \n",
       "3  Entire home/apt  Real Bed   \n",
       "4  Entire home/apt  Real Bed   \n",
       "\n",
       "                                           Amenities Cancellation Policy  \\\n",
       "0  TV,Wireless Internet,Air conditioning,Free par...            flexible   \n",
       "1  Wireless Internet,Air conditioning,Pool,Kitche...            flexible   \n",
       "2  TV,Wireless Internet,Air conditioning,Kitchen,...            flexible   \n",
       "3  TV,Cable TV,Wireless Internet,Air conditioning...              strict   \n",
       "4  TV,Cable TV,Internet,Wireless Internet,Air con...            moderate   \n",
       "\n",
       "   price_log  price_sqrt  \n",
       "0   5.010635   12.247449  \n",
       "1   5.164786   13.228757  \n",
       "2   4.369448    8.888194  \n",
       "3   5.164786   13.228757  \n",
       "4   6.109248   21.213203  "
      ]
     },
     "execution_count": 195,
     "metadata": {},
     "output_type": "execute_result"
    }
   ],
   "source": [
    "df1.head(5)"
   ]
  },
  {
   "cell_type": "code",
   "execution_count": null,
   "id": "21dd1ac0",
   "metadata": {},
   "outputs": [],
   "source": []
  },
  {
   "cell_type": "code",
   "execution_count": 210,
   "id": "756a3bb0",
   "metadata": {},
   "outputs": [
    {
     "data": {
      "image/png": "[encoded data removed]",
      "text/plain": [
       "<Figure size 432x288 with 1 Axes>"
      ]
     },
     "metadata": {
      "needs_background": "light"
     },
     "output_type": "display_data"
    },
    {
     "data": {
      "image/png": "[encoded data removed]",
      "text/plain": [
       "<Figure size 432x288 with 1 Axes>"
      ]
     },
     "metadata": {
      "needs_background": "light"
     },
     "output_type": "display_data"
    },
    {
     "data": {
      "image/png": "[encoded data removed]",
      "text/plain": [
       "<Figure size 432x288 with 1 Axes>"
      ]
     },
     "metadata": {
      "needs_background": "light"
     },
     "output_type": "display_data"
    },
    {
     "data": {
      "image/png": "[encoded data removed]",
      "text/plain": [
       "<Figure size 432x288 with 1 Axes>"
      ]
     },
     "metadata": {
      "needs_background": "light"
     },
     "output_type": "display_data"
    },
    {
     "data": {
      "image/png": "[encoded data removed]",
      "text/plain": [
       "<Figure size 432x288 with 1 Axes>"
      ]
     },
     "metadata": {
      "needs_background": "light"
     },
     "output_type": "display_data"
    },
    {
     "data": {
      "image/png": "[encoded data removed]",
      "text/plain": [
       "<Figure size 432x288 with 1 Axes>"
      ]
     },
     "metadata": {
      "needs_background": "light"
     },
     "output_type": "display_data"
    },
    {
     "data": {
      "image/png": "[encoded data removed]",
      "text/plain": [
       "<Figure size 432x288 with 1 Axes>"
      ]
     },
     "metadata": {
      "needs_background": "light"
     },
     "output_type": "display_data"
    },
    {
     "data": {
      "image/png": "[encoded data removed]",
      "text/plain": [
       "<Figure size 432x288 with 1 Axes>"
      ]
     },
     "metadata": {
      "needs_background": "light"
     },
     "output_type": "display_data"
    },
    {
     "data": {
      "image/png": "[encoded data removed]",
      "text/plain": [
       "<Figure size 432x288 with 1 Axes>"
      ]
     },
     "metadata": {
      "needs_background": "light"
     },
     "output_type": "display_data"
    },
    {
     "data": {
      "image/png": "[encoded data removed]",
      "text/plain": [
       "<Figure size 432x288 with 1 Axes>"
      ]
     },
     "metadata": {
      "needs_background": "light"
     },
     "output_type": "display_data"
    }
   ],
   "source": [
    "df1num=df1.select_dtypes(include=np.number)\n",
    "plt.plot(subplots=True)\n",
    "for i in df1num:\n",
    "    sns.distplot(df1num[i])\n",
    "    plt.title(df1num[i].skew())\n",
    "    plt.show()"
   ]
  },
  {
   "cell_type": "code",
   "execution_count": null,
   "id": "397eca77",
   "metadata": {},
   "outputs": [],
   "source": []
  }
 ],
 "metadata": {
  "kernelspec": {
   "display_name": "Python 3",
   "language": "python",
   "name": "python3"
  },
  "language_info": {
   "codemirror_mode": {
    "name": "ipython",
    "version": 3
   },
   "file_extension": ".py",
   "mimetype": "text/x-python",
   "name": "python",
   "nbconvert_exporter": "python",
   "pygments_lexer": "ipython3",
   "version": "3.8.8"
  }
 },
 "nbformat": 4,
 "nbformat_minor": 5
}
