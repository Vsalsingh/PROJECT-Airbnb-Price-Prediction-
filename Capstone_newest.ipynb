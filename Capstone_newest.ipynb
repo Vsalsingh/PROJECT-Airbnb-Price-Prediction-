{
 "cells": [
  {
   "cell_type": "code",
   "execution_count": 1,
   "id": "569b1c25",
   "metadata": {},
   "outputs": [],
   "source": [
    "import pandas as pd\n",
    "import numpy as np\n"
   ]
  },
  {
   "cell_type": "code",
   "execution_count": 171,
   "id": "b1c63556",
   "metadata": {},
   "outputs": [],
   "source": [
    "a = pd.read_csv('~/Downloads/airbnb-listings.csv', delimiter = ';', low_memory = False)"
   ]
  },
  {
   "cell_type": "code",
   "execution_count": 516,
   "id": "ba41a4c5",
   "metadata": {},
   "outputs": [
    {
     "data": {
      "text/plain": [
       "17"
      ]
     },
     "execution_count": 516,
     "metadata": {},
     "output_type": "execute_result"
    }
   ],
   "source": [
    "df1['Accommodates'].nunique()"
   ]
  },
  {
   "cell_type": "code",
   "execution_count": 518,
   "id": "3b6ffeac",
   "metadata": {},
   "outputs": [
    {
     "data": {
      "text/plain": [
       "array([1.0, 3.0, 5.0, 2.0, 8.0, 4.0, 10.0, 16.0, 6.0, 12.0, 11.0, 7.0,\n",
       "       14.0, nan, 9.0, 13.0, 15.0, 0.0], dtype=object)"
      ]
     },
     "execution_count": 518,
     "metadata": {},
     "output_type": "execute_result"
    }
   ],
   "source": [
    "df1['Beds'].unique()"
   ]
  },
  {
   "cell_type": "code",
   "execution_count": 521,
   "id": "5d92ca99",
   "metadata": {},
   "outputs": [
    {
     "data": {
      "text/plain": [
       "6"
      ]
     },
     "execution_count": 521,
     "metadata": {},
     "output_type": "execute_result"
    }
   ],
   "source": [
    "df1['Property Type'].isnull().sum()"
   ]
  },
  {
   "cell_type": "code",
   "execution_count": 172,
   "id": "f531f978",
   "metadata": {},
   "outputs": [
    {
     "data": {
      "text/plain": [
       "Index(['ID', 'Listing Url', 'Scrape ID', 'Last Scraped', 'Name', 'Summary',\n",
       "       'Space', 'Description', 'Experiences Offered', 'Neighborhood Overview',\n",
       "       'Notes', 'Transit', 'Access', 'Interaction', 'House Rules',\n",
       "       'Thumbnail Url', 'Medium Url', 'Picture Url', 'XL Picture Url',\n",
       "       'Host ID', 'Host URL', 'Host Name', 'Host Since', 'Host Location',\n",
       "       'Host About', 'Host Response Time', 'Host Response Rate',\n",
       "       'Host Acceptance Rate', 'Host Thumbnail Url', 'Host Picture Url',\n",
       "       'Host Neighbourhood', 'Host Listings Count',\n",
       "       'Host Total Listings Count', 'Host Verifications', 'Street',\n",
       "       'Neighbourhood', 'Neighbourhood Cleansed',\n",
       "       'Neighbourhood Group Cleansed', 'City', 'State', 'Zipcode', 'Market',\n",
       "       'Smart Location', 'Country Code', 'Country', 'Latitude', 'Longitude',\n",
       "       'Property Type', 'Room Type', 'Accommodates', 'Bathrooms', 'Bedrooms',\n",
       "       'Beds', 'Bed Type', 'Amenities', 'Square Feet', 'Price', 'Weekly Price',\n",
       "       'Monthly Price', 'Security Deposit', 'Cleaning Fee', 'Guests Included',\n",
       "       'Extra People', 'Minimum Nights', 'Maximum Nights', 'Calendar Updated',\n",
       "       'Has Availability', 'Availability 30', 'Availability 60',\n",
       "       'Availability 90', 'Availability 365', 'Calendar last Scraped',\n",
       "       'Number of Reviews', 'First Review', 'Last Review',\n",
       "       'Review Scores Rating', 'Review Scores Accuracy',\n",
       "       'Review Scores Cleanliness', 'Review Scores Checkin',\n",
       "       'Review Scores Communication', 'Review Scores Location',\n",
       "       'Review Scores Value', 'License', 'Jurisdiction Names',\n",
       "       'Cancellation Policy', 'Calculated host listings count',\n",
       "       'Reviews per Month', 'Geolocation', 'Features'],\n",
       "      dtype='object')"
      ]
     },
     "execution_count": 172,
     "metadata": {},
     "output_type": "execute_result"
    }
   ],
   "source": [
    "a.columns\n",
    "\n"
   ]
  },
  {
   "cell_type": "code",
   "execution_count": 173,
   "id": "59cc0059",
   "metadata": {},
   "outputs": [],
   "source": [
    "df = a[a['Country'] == 'United States']"
   ]
  },
  {
   "cell_type": "code",
   "execution_count": 174,
   "id": "85bf4ebe",
   "metadata": {},
   "outputs": [
    {
     "data": {
      "text/html": [
       "<div>\n",
       "<style scoped>\n",
       "    .dataframe tbody tr th:only-of-type {\n",
       "        vertical-align: middle;\n",
       "    }\n",
       "\n",
       "    .dataframe tbody tr th {\n",
       "        vertical-align: top;\n",
       "    }\n",
       "\n",
       "    .dataframe thead th {\n",
       "        text-align: right;\n",
       "    }\n",
       "</style>\n",
       "<table border=\"1\" class=\"dataframe\">\n",
       "  <thead>\n",
       "    <tr style=\"text-align: right;\">\n",
       "      <th></th>\n",
       "      <th>ID</th>\n",
       "      <th>Listing Url</th>\n",
       "      <th>Scrape ID</th>\n",
       "      <th>Last Scraped</th>\n",
       "      <th>Name</th>\n",
       "      <th>Summary</th>\n",
       "      <th>Space</th>\n",
       "      <th>Description</th>\n",
       "      <th>Experiences Offered</th>\n",
       "      <th>Neighborhood Overview</th>\n",
       "      <th>...</th>\n",
       "      <th>Review Scores Communication</th>\n",
       "      <th>Review Scores Location</th>\n",
       "      <th>Review Scores Value</th>\n",
       "      <th>License</th>\n",
       "      <th>Jurisdiction Names</th>\n",
       "      <th>Cancellation Policy</th>\n",
       "      <th>Calculated host listings count</th>\n",
       "      <th>Reviews per Month</th>\n",
       "      <th>Geolocation</th>\n",
       "      <th>Features</th>\n",
       "    </tr>\n",
       "  </thead>\n",
       "  <tbody>\n",
       "    <tr>\n",
       "      <th>241</th>\n",
       "      <td>16163330</td>\n",
       "      <td>https://www.airbnb.com/rooms/16163330</td>\n",
       "      <td>20170510102046</td>\n",
       "      <td>2017-05-10</td>\n",
       "      <td>Quiet Space to sleep &amp; rest</td>\n",
       "      <td>Hello.  Small bedroom with twin bed, chair, ni...</td>\n",
       "      <td>NaN</td>\n",
       "      <td>Hello.  Small bedroom with twin bed, chair, ni...</td>\n",
       "      <td>none</td>\n",
       "      <td>NaN</td>\n",
       "      <td>...</td>\n",
       "      <td>10.0</td>\n",
       "      <td>9.0</td>\n",
       "      <td>10.0</td>\n",
       "      <td>NaN</td>\n",
       "      <td>Illinois State, Cook County, IL, CHICAGO</td>\n",
       "      <td>strict</td>\n",
       "      <td>2.0</td>\n",
       "      <td>3.49</td>\n",
       "      <td>41.91128175345432,-87.70246313637992</td>\n",
       "      <td>Host Has Profile Pic,Is Location Exact,Require...</td>\n",
       "    </tr>\n",
       "    <tr>\n",
       "      <th>242</th>\n",
       "      <td>6846209</td>\n",
       "      <td>https://www.airbnb.com/rooms/6846209</td>\n",
       "      <td>20170510102046</td>\n",
       "      <td>2017-05-10</td>\n",
       "      <td>Rogue Philanthropy Manor</td>\n",
       "      <td>Our Humboldt Park home features 1.5 bathrooms ...</td>\n",
       "      <td>Old 120-year-old farm house appeal.  Not a typ...</td>\n",
       "      <td>Our Humboldt Park home features 1.5 bathrooms ...</td>\n",
       "      <td>none</td>\n",
       "      <td>Humboldt Park is an emerging Chicago neighborh...</td>\n",
       "      <td>...</td>\n",
       "      <td>10.0</td>\n",
       "      <td>9.0</td>\n",
       "      <td>10.0</td>\n",
       "      <td>City registration pending</td>\n",
       "      <td>Illinois State, Cook County, IL, CHICAGO</td>\n",
       "      <td>flexible</td>\n",
       "      <td>1.0</td>\n",
       "      <td>1.82</td>\n",
       "      <td>41.90666965800253,-87.71429140769317</td>\n",
       "      <td>Host Is Superhost,Host Has Profile Pic,Host Id...</td>\n",
       "    </tr>\n",
       "    <tr>\n",
       "      <th>243</th>\n",
       "      <td>6448745</td>\n",
       "      <td>https://www.airbnb.com/rooms/6448745</td>\n",
       "      <td>20170510102046</td>\n",
       "      <td>2017-05-10</td>\n",
       "      <td>1 Bedroom in Beautiful Humboldt Park</td>\n",
       "      <td>Come stay in the beautiful Humboldt Park Neigh...</td>\n",
       "      <td>This is a private room with a queen bed locate...</td>\n",
       "      <td>Come stay in the beautiful Humboldt Park Neigh...</td>\n",
       "      <td>none</td>\n",
       "      <td>The park has a lot to offer. -tennis courts / ...</td>\n",
       "      <td>...</td>\n",
       "      <td>10.0</td>\n",
       "      <td>10.0</td>\n",
       "      <td>10.0</td>\n",
       "      <td>City registration pending</td>\n",
       "      <td>Illinois State, Cook County, IL, CHICAGO</td>\n",
       "      <td>moderate</td>\n",
       "      <td>1.0</td>\n",
       "      <td>2.00</td>\n",
       "      <td>41.905263970734715,-87.710297490264</td>\n",
       "      <td>Host Has Profile Pic,Host Identity Verified,Is...</td>\n",
       "    </tr>\n",
       "    <tr>\n",
       "      <th>244</th>\n",
       "      <td>18139782</td>\n",
       "      <td>https://www.airbnb.com/rooms/18139782</td>\n",
       "      <td>20170510102046</td>\n",
       "      <td>2017-05-10</td>\n",
       "      <td>Private Entry 2 Bdrm near Transit</td>\n",
       "      <td>This sunny 2nd floor 2 bedroom unit is newly r...</td>\n",
       "      <td>A private, locked remodeled 2 bedroom, 1 bathr...</td>\n",
       "      <td>This sunny 2nd floor 2 bedroom unit is newly r...</td>\n",
       "      <td>none</td>\n",
       "      <td>Humboldt Park is a diverse and vibrant communi...</td>\n",
       "      <td>...</td>\n",
       "      <td>10.0</td>\n",
       "      <td>9.0</td>\n",
       "      <td>10.0</td>\n",
       "      <td>City registration pending</td>\n",
       "      <td>Illinois State, Cook County, IL, CHICAGO</td>\n",
       "      <td>flexible</td>\n",
       "      <td>2.0</td>\n",
       "      <td>6.00</td>\n",
       "      <td>41.89635191197846,-87.72976298046008</td>\n",
       "      <td>Host Has Profile Pic,Host Identity Verified,Re...</td>\n",
       "    </tr>\n",
       "    <tr>\n",
       "      <th>245</th>\n",
       "      <td>12467112</td>\n",
       "      <td>https://www.airbnb.com/rooms/12467112</td>\n",
       "      <td>20170510102046</td>\n",
       "      <td>2017-05-10</td>\n",
       "      <td>Beautiful Eco-Friendly Room in Garfield Park</td>\n",
       "      <td>Come stay with us in our beautiful home in Chi...</td>\n",
       "      <td>The house is beautifully refurbished with dark...</td>\n",
       "      <td>Come stay with us in our beautiful home in Chi...</td>\n",
       "      <td>none</td>\n",
       "      <td>Historically, this neighborhood was a retreat ...</td>\n",
       "      <td>...</td>\n",
       "      <td>10.0</td>\n",
       "      <td>8.0</td>\n",
       "      <td>9.0</td>\n",
       "      <td>City registration pending</td>\n",
       "      <td>Illinois State, Cook County, IL, CHICAGO</td>\n",
       "      <td>strict</td>\n",
       "      <td>3.0</td>\n",
       "      <td>6.58</td>\n",
       "      <td>41.887172332630705,-87.70764984198293</td>\n",
       "      <td>Host Has Profile Pic,Host Identity Verified,Is...</td>\n",
       "    </tr>\n",
       "  </tbody>\n",
       "</table>\n",
       "<p>5 rows × 89 columns</p>\n",
       "</div>"
      ],
      "text/plain": [
       "           ID                            Listing Url       Scrape ID  \\\n",
       "241  16163330  https://www.airbnb.com/rooms/16163330  20170510102046   \n",
       "242   6846209   https://www.airbnb.com/rooms/6846209  20170510102046   \n",
       "243   6448745   https://www.airbnb.com/rooms/6448745  20170510102046   \n",
       "244  18139782  https://www.airbnb.com/rooms/18139782  20170510102046   \n",
       "245  12467112  https://www.airbnb.com/rooms/12467112  20170510102046   \n",
       "\n",
       "    Last Scraped                                          Name  \\\n",
       "241   2017-05-10                   Quiet Space to sleep & rest   \n",
       "242   2017-05-10                      Rogue Philanthropy Manor   \n",
       "243   2017-05-10          1 Bedroom in Beautiful Humboldt Park   \n",
       "244   2017-05-10             Private Entry 2 Bdrm near Transit   \n",
       "245   2017-05-10  Beautiful Eco-Friendly Room in Garfield Park   \n",
       "\n",
       "                                               Summary  \\\n",
       "241  Hello.  Small bedroom with twin bed, chair, ni...   \n",
       "242  Our Humboldt Park home features 1.5 bathrooms ...   \n",
       "243  Come stay in the beautiful Humboldt Park Neigh...   \n",
       "244  This sunny 2nd floor 2 bedroom unit is newly r...   \n",
       "245  Come stay with us in our beautiful home in Chi...   \n",
       "\n",
       "                                                 Space  \\\n",
       "241                                                NaN   \n",
       "242  Old 120-year-old farm house appeal.  Not a typ...   \n",
       "243  This is a private room with a queen bed locate...   \n",
       "244  A private, locked remodeled 2 bedroom, 1 bathr...   \n",
       "245  The house is beautifully refurbished with dark...   \n",
       "\n",
       "                                           Description Experiences Offered  \\\n",
       "241  Hello.  Small bedroom with twin bed, chair, ni...                none   \n",
       "242  Our Humboldt Park home features 1.5 bathrooms ...                none   \n",
       "243  Come stay in the beautiful Humboldt Park Neigh...                none   \n",
       "244  This sunny 2nd floor 2 bedroom unit is newly r...                none   \n",
       "245  Come stay with us in our beautiful home in Chi...                none   \n",
       "\n",
       "                                 Neighborhood Overview  ...  \\\n",
       "241                                                NaN  ...   \n",
       "242  Humboldt Park is an emerging Chicago neighborh...  ...   \n",
       "243  The park has a lot to offer. -tennis courts / ...  ...   \n",
       "244  Humboldt Park is a diverse and vibrant communi...  ...   \n",
       "245  Historically, this neighborhood was a retreat ...  ...   \n",
       "\n",
       "    Review Scores Communication Review Scores Location Review Scores Value  \\\n",
       "241                        10.0                    9.0                10.0   \n",
       "242                        10.0                    9.0                10.0   \n",
       "243                        10.0                   10.0                10.0   \n",
       "244                        10.0                    9.0                10.0   \n",
       "245                        10.0                    8.0                 9.0   \n",
       "\n",
       "                       License                        Jurisdiction Names  \\\n",
       "241                        NaN  Illinois State, Cook County, IL, CHICAGO   \n",
       "242  City registration pending  Illinois State, Cook County, IL, CHICAGO   \n",
       "243  City registration pending  Illinois State, Cook County, IL, CHICAGO   \n",
       "244  City registration pending  Illinois State, Cook County, IL, CHICAGO   \n",
       "245  City registration pending  Illinois State, Cook County, IL, CHICAGO   \n",
       "\n",
       "    Cancellation Policy Calculated host listings count Reviews per Month  \\\n",
       "241              strict                            2.0              3.49   \n",
       "242            flexible                            1.0              1.82   \n",
       "243            moderate                            1.0              2.00   \n",
       "244            flexible                            2.0              6.00   \n",
       "245              strict                            3.0              6.58   \n",
       "\n",
       "                               Geolocation  \\\n",
       "241   41.91128175345432,-87.70246313637992   \n",
       "242   41.90666965800253,-87.71429140769317   \n",
       "243    41.905263970734715,-87.710297490264   \n",
       "244   41.89635191197846,-87.72976298046008   \n",
       "245  41.887172332630705,-87.70764984198293   \n",
       "\n",
       "                                              Features  \n",
       "241  Host Has Profile Pic,Is Location Exact,Require...  \n",
       "242  Host Is Superhost,Host Has Profile Pic,Host Id...  \n",
       "243  Host Has Profile Pic,Host Identity Verified,Is...  \n",
       "244  Host Has Profile Pic,Host Identity Verified,Re...  \n",
       "245  Host Has Profile Pic,Host Identity Verified,Is...  \n",
       "\n",
       "[5 rows x 89 columns]"
      ]
     },
     "execution_count": 174,
     "metadata": {},
     "output_type": "execute_result"
    }
   ],
   "source": [
    "df.head()"
   ]
  },
  {
   "cell_type": "code",
   "execution_count": null,
   "id": "99941ca5",
   "metadata": {},
   "outputs": [],
   "source": []
  },
  {
   "cell_type": "code",
   "execution_count": null,
   "id": "959c5ae4",
   "metadata": {},
   "outputs": [],
   "source": []
  },
  {
   "cell_type": "code",
   "execution_count": null,
   "id": "aeecf1f3",
   "metadata": {},
   "outputs": [],
   "source": []
  },
  {
   "cell_type": "code",
   "execution_count": null,
   "id": "8b998680",
   "metadata": {},
   "outputs": [],
   "source": []
  },
  {
   "cell_type": "code",
   "execution_count": null,
   "id": "74dc9b61",
   "metadata": {},
   "outputs": [],
   "source": []
  },
  {
   "cell_type": "code",
   "execution_count": null,
   "id": "558aa8b2",
   "metadata": {},
   "outputs": [],
   "source": []
  },
  {
   "cell_type": "code",
   "execution_count": null,
   "id": "fc14c923",
   "metadata": {},
   "outputs": [],
   "source": []
  },
  {
   "cell_type": "code",
   "execution_count": null,
   "id": "c07283d4",
   "metadata": {},
   "outputs": [],
   "source": []
  },
  {
   "cell_type": "code",
   "execution_count": null,
   "id": "92004ce9",
   "metadata": {},
   "outputs": [],
   "source": []
  },
  {
   "cell_type": "code",
   "execution_count": null,
   "id": "f4d37589",
   "metadata": {},
   "outputs": [],
   "source": []
  },
  {
   "cell_type": "code",
   "execution_count": null,
   "id": "5d14460d",
   "metadata": {},
   "outputs": [],
   "source": []
  },
  {
   "cell_type": "code",
   "execution_count": null,
   "id": "acbbad57",
   "metadata": {},
   "outputs": [],
   "source": []
  },
  {
   "cell_type": "code",
   "execution_count": null,
   "id": "6db00cc9",
   "metadata": {},
   "outputs": [],
   "source": []
  },
  {
   "cell_type": "code",
   "execution_count": 175,
   "id": "73cca93b",
   "metadata": {},
   "outputs": [
    {
     "name": "stderr",
     "output_type": "stream",
     "text": [
      "C:\\Users\\SIDDHA~1\\AppData\\Local\\Temp/ipykernel_7696/2224001441.py:1: SettingWithCopyWarning: \n",
      "A value is trying to be set on a copy of a slice from a DataFrame.\n",
      "Try using .loc[row_indexer,col_indexer] = value instead\n",
      "\n",
      "See the caveats in the documentation: https://pandas.pydata.org/pandas-docs/stable/user_guide/indexing.html#returning-a-view-versus-a-copy\n",
      "  df['Bathrooms']=df['Bathrooms'].astype('object')\n",
      "C:\\Users\\SIDDHA~1\\AppData\\Local\\Temp/ipykernel_7696/2224001441.py:2: SettingWithCopyWarning: \n",
      "A value is trying to be set on a copy of a slice from a DataFrame.\n",
      "Try using .loc[row_indexer,col_indexer] = value instead\n",
      "\n",
      "See the caveats in the documentation: https://pandas.pydata.org/pandas-docs/stable/user_guide/indexing.html#returning-a-view-versus-a-copy\n",
      "  df['Beds']=df['Beds'].astype('object')\n",
      "C:\\Users\\SIDDHA~1\\AppData\\Local\\Temp/ipykernel_7696/2224001441.py:3: SettingWithCopyWarning: \n",
      "A value is trying to be set on a copy of a slice from a DataFrame.\n",
      "Try using .loc[row_indexer,col_indexer] = value instead\n",
      "\n",
      "See the caveats in the documentation: https://pandas.pydata.org/pandas-docs/stable/user_guide/indexing.html#returning-a-view-versus-a-copy\n",
      "  df['Accommodates']=df['Accommodates'].astype('object')\n",
      "C:\\Users\\SIDDHA~1\\AppData\\Local\\Temp/ipykernel_7696/2224001441.py:4: SettingWithCopyWarning: \n",
      "A value is trying to be set on a copy of a slice from a DataFrame.\n",
      "Try using .loc[row_indexer,col_indexer] = value instead\n",
      "\n",
      "See the caveats in the documentation: https://pandas.pydata.org/pandas-docs/stable/user_guide/indexing.html#returning-a-view-versus-a-copy\n",
      "  df['Bedrooms']=df['Bedrooms'].astype('object')\n"
     ]
    }
   ],
   "source": [
    "df['Bathrooms']=df['Bathrooms'].astype('object')\n",
    "df['Beds']=df['Beds'].astype('object')\n",
    "df['Accommodates']=df['Accommodates'].astype('object')\n",
    "df['Bedrooms']=df['Bedrooms'].astype('object')\n"
   ]
  },
  {
   "cell_type": "code",
   "execution_count": 176,
   "id": "6115a7a6",
   "metadata": {},
   "outputs": [
    {
     "data": {
      "text/plain": [
       "Host ID                                0\n",
       "Host Response Rate                 30778\n",
       "Host Listings Count                  287\n",
       "Host Total Listings Count            287\n",
       "Latitude                               0\n",
       "Longitude                              0\n",
       "Square Feet                       132454\n",
       "Price                               1964\n",
       "Weekly Price                      111619\n",
       "Monthly Price                     107090\n",
       "Security Deposit                   76930\n",
       "Cleaning Fee                       37311\n",
       "Guests Included                        0\n",
       "Extra People                           0\n",
       "Minimum Nights                         0\n",
       "Maximum Nights                         0\n",
       "Availability 30                        0\n",
       "Availability 60                        0\n",
       "Availability 90                        0\n",
       "Availability 365                       0\n",
       "Number of Reviews                      0\n",
       "Review Scores Rating               32475\n",
       "Review Scores Accuracy             32700\n",
       "Review Scores Cleanliness          32651\n",
       "Review Scores Checkin              32782\n",
       "Review Scores Communication        32650\n",
       "Review Scores Location             32781\n",
       "Review Scores Value                32807\n",
       "Calculated host listings count         0\n",
       "Reviews per Month                  30989\n",
       "dtype: int64"
      ]
     },
     "execution_count": 176,
     "metadata": {},
     "output_type": "execute_result"
    }
   ],
   "source": [
    "df.select_dtypes(include=np.number).isnull().sum()"
   ]
  },
  {
   "cell_type": "code",
   "execution_count": 177,
   "id": "674c0bc0",
   "metadata": {},
   "outputs": [],
   "source": [
    "df = df[df['Price'].notna()]"
   ]
  },
  {
   "cell_type": "code",
   "execution_count": 178,
   "id": "4a267a5a",
   "metadata": {},
   "outputs": [],
   "source": [
    "df1 = df.drop(['Listing Url','Thumbnail Url', 'Medium Url', 'Picture Url', 'XL Picture Url','Host URL','Host Thumbnail Url', \n",
    "              'Host Picture Url','Latitude', 'Longitude'], axis = 1)"
   ]
  },
  {
   "cell_type": "code",
   "execution_count": 179,
   "id": "b44213a4",
   "metadata": {},
   "outputs": [
    {
     "data": {
      "text/plain": [
       "(132581, 79)"
      ]
     },
     "execution_count": 179,
     "metadata": {},
     "output_type": "execute_result"
    }
   ],
   "source": [
    "df1.shape"
   ]
  },
  {
   "cell_type": "code",
   "execution_count": 180,
   "id": "ec2dada1",
   "metadata": {},
   "outputs": [],
   "source": [
    "df_num = df1.select_dtypes(include = np.number)"
   ]
  },
  {
   "cell_type": "code",
   "execution_count": 181,
   "id": "fe4bfee3",
   "metadata": {},
   "outputs": [
    {
     "data": {
      "text/plain": [
       "Index(['Host ID', 'Host Response Rate', 'Host Listings Count',\n",
       "       'Host Total Listings Count', 'Square Feet', 'Price', 'Weekly Price',\n",
       "       'Monthly Price', 'Security Deposit', 'Cleaning Fee', 'Guests Included',\n",
       "       'Extra People', 'Minimum Nights', 'Maximum Nights', 'Availability 30',\n",
       "       'Availability 60', 'Availability 90', 'Availability 365',\n",
       "       'Number of Reviews', 'Review Scores Rating', 'Review Scores Accuracy',\n",
       "       'Review Scores Cleanliness', 'Review Scores Checkin',\n",
       "       'Review Scores Communication', 'Review Scores Location',\n",
       "       'Review Scores Value', 'Calculated host listings count',\n",
       "       'Reviews per Month'],\n",
       "      dtype='object')"
      ]
     },
     "execution_count": 181,
     "metadata": {},
     "output_type": "execute_result"
    }
   ],
   "source": [
    "df_num.columns"
   ]
  },
  {
   "cell_type": "code",
   "execution_count": 182,
   "id": "e26dd387",
   "metadata": {},
   "outputs": [],
   "source": [
    "df_num1 = df_num.drop(['Host Listings Count','Host Total Listings Count','Square Feet','Weekly Price','Monthly Price'], axis = 1)"
   ]
  },
  {
   "cell_type": "code",
   "execution_count": 183,
   "id": "04cc7ee5",
   "metadata": {},
   "outputs": [
    {
     "data": {
      "text/plain": [
       "(132581, 28)"
      ]
     },
     "execution_count": 183,
     "metadata": {},
     "output_type": "execute_result"
    }
   ],
   "source": [
    "df_num.shape"
   ]
  },
  {
   "cell_type": "code",
   "execution_count": 184,
   "id": "9dcf7fc6",
   "metadata": {},
   "outputs": [
    {
     "data": {
      "text/plain": [
       "(132581, 23)"
      ]
     },
     "execution_count": 184,
     "metadata": {},
     "output_type": "execute_result"
    }
   ],
   "source": [
    "df_num1.shape"
   ]
  },
  {
   "cell_type": "code",
   "execution_count": 185,
   "id": "115c796b",
   "metadata": {},
   "outputs": [
    {
     "data": {
      "text/plain": [
       "Index(['Host ID', 'Host Response Rate', 'Price', 'Security Deposit',\n",
       "       'Cleaning Fee', 'Guests Included', 'Extra People', 'Minimum Nights',\n",
       "       'Maximum Nights', 'Availability 30', 'Availability 60',\n",
       "       'Availability 90', 'Availability 365', 'Number of Reviews',\n",
       "       'Review Scores Rating', 'Review Scores Accuracy',\n",
       "       'Review Scores Cleanliness', 'Review Scores Checkin',\n",
       "       'Review Scores Communication', 'Review Scores Location',\n",
       "       'Review Scores Value', 'Calculated host listings count',\n",
       "       'Reviews per Month'],\n",
       "      dtype='object')"
      ]
     },
     "execution_count": 185,
     "metadata": {},
     "output_type": "execute_result"
    }
   ],
   "source": [
    "df_num1.columns"
   ]
  },
  {
   "cell_type": "code",
   "execution_count": null,
   "id": "1538000c",
   "metadata": {},
   "outputs": [],
   "source": []
  },
  {
   "cell_type": "code",
   "execution_count": 186,
   "id": "e7d5fa1f",
   "metadata": {},
   "outputs": [
    {
     "data": {
      "text/plain": [
       "array([1.0, 3.0, 5.0, 2.0, 8.0, 4.0, 10.0, 16.0, 6.0, 12.0, 11.0, 7.0,\n",
       "       14.0, nan, 9.0, 13.0, 15.0, 0.0], dtype=object)"
      ]
     },
     "execution_count": 186,
     "metadata": {},
     "output_type": "execute_result"
    }
   ],
   "source": [
    "df['Beds'].unique()"
   ]
  },
  {
   "cell_type": "code",
   "execution_count": 187,
   "id": "8c62955c",
   "metadata": {},
   "outputs": [],
   "source": [
    "df_cat=df1.select_dtypes(include='object')"
   ]
  },
  {
   "cell_type": "code",
   "execution_count": 188,
   "id": "08ed0529",
   "metadata": {},
   "outputs": [
    {
     "data": {
      "text/plain": [
       "Index(['ID', 'Scrape ID', 'Last Scraped', 'Name', 'Summary', 'Space',\n",
       "       'Description', 'Experiences Offered', 'Neighborhood Overview', 'Notes',\n",
       "       'Transit', 'Access', 'Interaction', 'House Rules', 'Host Name',\n",
       "       'Host Since', 'Host Location', 'Host About', 'Host Response Time',\n",
       "       'Host Acceptance Rate', 'Host Neighbourhood', 'Host Verifications',\n",
       "       'Street', 'Neighbourhood', 'Neighbourhood Cleansed',\n",
       "       'Neighbourhood Group Cleansed', 'City', 'State', 'Zipcode', 'Market',\n",
       "       'Smart Location', 'Country Code', 'Country', 'Property Type',\n",
       "       'Room Type', 'Accommodates', 'Bathrooms', 'Bedrooms', 'Beds',\n",
       "       'Bed Type', 'Amenities', 'Calendar Updated', 'Has Availability',\n",
       "       'Calendar last Scraped', 'First Review', 'Last Review', 'License',\n",
       "       'Jurisdiction Names', 'Cancellation Policy', 'Geolocation', 'Features'],\n",
       "      dtype='object')"
      ]
     },
     "execution_count": 188,
     "metadata": {},
     "output_type": "execute_result"
    }
   ],
   "source": [
    "df_cat.columns"
   ]
  },
  {
   "cell_type": "code",
   "execution_count": null,
   "id": "130d04ab",
   "metadata": {},
   "outputs": [],
   "source": []
  },
  {
   "cell_type": "code",
   "execution_count": 523,
   "id": "5bc11366",
   "metadata": {},
   "outputs": [
    {
     "ename": "KeyboardInterrupt",
     "evalue": "",
     "output_type": "error",
     "traceback": [
      "\u001b[1;31m---------------------------------------------------------------------------\u001b[0m",
      "\u001b[1;31mKeyboardInterrupt\u001b[0m                         Traceback (most recent call last)",
      "\u001b[1;31mKeyboardInterrupt\u001b[0m: "
     ]
    }
   ],
   "source": [
    "df2= df1.drop(['Scrape ID','ID','Name','Summary','Description','Experiences Offered','Neighborhood Overview','Notes','Transit','Access',\n",
    "           'Interaction','House Rules','Host Name','Host About','Host Verifications','Amenities','Calendar Updated',\n",
    "            'Has Availability','Geolocation','Features','License','Host Acceptance Rate',\n",
    "                  'Neighbourhood Group Cleansed','Space','Host Location','First Review','Last Review',\n",
    "                 'Jurisdiction Names','Last Scraped','Smart Location','Country Code','Country',\n",
    "                  'Calendar last Scraped','City','Street'], axis = 1)"
   ]
  },
  {
   "cell_type": "code",
   "execution_count": 190,
   "id": "7746462d",
   "metadata": {},
   "outputs": [
    {
     "data": {
      "text/plain": [
       "(132581, 51)"
      ]
     },
     "execution_count": 190,
     "metadata": {},
     "output_type": "execute_result"
    }
   ],
   "source": [
    "df_cat.shape"
   ]
  },
  {
   "cell_type": "code",
   "execution_count": 191,
   "id": "2c5ff077",
   "metadata": {},
   "outputs": [],
   "source": [
    "df_cat1=df2.select_dtypes(include='object')"
   ]
  },
  {
   "cell_type": "code",
   "execution_count": 192,
   "id": "2519f2e4",
   "metadata": {},
   "outputs": [
    {
     "data": {
      "text/plain": [
       "(132581, 15)"
      ]
     },
     "execution_count": 192,
     "metadata": {},
     "output_type": "execute_result"
    }
   ],
   "source": [
    "df_cat1.shape"
   ]
  },
  {
   "cell_type": "code",
   "execution_count": 193,
   "id": "561cc966",
   "metadata": {},
   "outputs": [
    {
     "data": {
      "text/plain": [
       "(132581, 23)"
      ]
     },
     "execution_count": 193,
     "metadata": {},
     "output_type": "execute_result"
    }
   ],
   "source": [
    "df_num1.shape"
   ]
  },
  {
   "cell_type": "code",
   "execution_count": 194,
   "id": "997d8a46",
   "metadata": {},
   "outputs": [],
   "source": [
    "#### this is the final"
   ]
  },
  {
   "cell_type": "code",
   "execution_count": 195,
   "id": "102e24b5",
   "metadata": {},
   "outputs": [
    {
     "data": {
      "text/plain": [
       "Security Deposit                  56.767561\n",
       "Cleaning Fee                      27.537128\n",
       "Review Scores Value               23.702491\n",
       "Review Scores Location            23.682881\n",
       "Review Scores Checkin             23.682881\n",
       "Review Scores Accuracy            23.622540\n",
       "Review Scores Cleanliness         23.585582\n",
       "Review Scores Communication       23.584827\n",
       "Review Scores Rating              23.454341\n",
       "Host Response Rate                22.580913\n",
       "Reviews per Month                 22.350865\n",
       "Number of Reviews                  0.000000\n",
       "Calculated host listings count     0.000000\n",
       "Host ID                            0.000000\n",
       "Availability 365                   0.000000\n",
       "Availability 60                    0.000000\n",
       "Availability 30                    0.000000\n",
       "Maximum Nights                     0.000000\n",
       "Minimum Nights                     0.000000\n",
       "Extra People                       0.000000\n",
       "Guests Included                    0.000000\n",
       "Price                              0.000000\n",
       "Availability 90                    0.000000\n",
       "dtype: float64"
      ]
     },
     "execution_count": 195,
     "metadata": {},
     "output_type": "execute_result"
    }
   ],
   "source": [
    "((df_num1.isnull().sum()/len(df_num1))*100).sort_values(ascending=False)"
   ]
  },
  {
   "cell_type": "code",
   "execution_count": 196,
   "id": "cfc39842",
   "metadata": {},
   "outputs": [
    {
     "data": {
      "text/plain": [
       "Index(['Host Response Time', 'Host Neighbourhood', 'Neighbourhood',\n",
       "       'Neighbourhood Cleansed', 'State', 'Zipcode', 'Market', 'Property Type',\n",
       "       'Room Type', 'Accommodates', 'Bathrooms', 'Bedrooms', 'Beds',\n",
       "       'Bed Type', 'Cancellation Policy'],\n",
       "      dtype='object')"
      ]
     },
     "execution_count": 196,
     "metadata": {},
     "output_type": "execute_result"
    }
   ],
   "source": [
    "df_cat1.columns"
   ]
  },
  {
   "cell_type": "code",
   "execution_count": 197,
   "id": "888ef578",
   "metadata": {},
   "outputs": [
    {
     "data": {
      "text/plain": [
       "500.0"
      ]
     },
     "execution_count": 197,
     "metadata": {},
     "output_type": "execute_result"
    }
   ],
   "source": [
    "df['Extra People'].max()"
   ]
  },
  {
   "cell_type": "code",
   "execution_count": 130,
   "id": "209a3aeb",
   "metadata": {},
   "outputs": [
    {
     "data": {
      "text/html": [
       "<div>\n",
       "<style scoped>\n",
       "    .dataframe tbody tr th:only-of-type {\n",
       "        vertical-align: middle;\n",
       "    }\n",
       "\n",
       "    .dataframe tbody tr th {\n",
       "        vertical-align: top;\n",
       "    }\n",
       "\n",
       "    .dataframe thead th {\n",
       "        text-align: right;\n",
       "    }\n",
       "</style>\n",
       "<table border=\"1\" class=\"dataframe\">\n",
       "  <thead>\n",
       "    <tr style=\"text-align: right;\">\n",
       "      <th></th>\n",
       "      <th>Extra People</th>\n",
       "      <th>Price</th>\n",
       "    </tr>\n",
       "  </thead>\n",
       "  <tbody>\n",
       "    <tr>\n",
       "      <th>Extra People</th>\n",
       "      <td>1.000000</td>\n",
       "      <td>0.097365</td>\n",
       "    </tr>\n",
       "    <tr>\n",
       "      <th>Price</th>\n",
       "      <td>0.097365</td>\n",
       "      <td>1.000000</td>\n",
       "    </tr>\n",
       "  </tbody>\n",
       "</table>\n",
       "</div>"
      ],
      "text/plain": [
       "              Extra People     Price\n",
       "Extra People      1.000000  0.097365\n",
       "Price             0.097365  1.000000"
      ]
     },
     "execution_count": 130,
     "metadata": {},
     "output_type": "execute_result"
    }
   ],
   "source": [
    "df.loc[:,['Extra People','Price']].corr()"
   ]
  },
  {
   "cell_type": "code",
   "execution_count": 134,
   "id": "d7e2fb7c",
   "metadata": {},
   "outputs": [
    {
     "data": {
      "text/plain": [
       "Ttest_indResult(statistic=-376.7669006300162, pvalue=0.0)"
      ]
     },
     "execution_count": 134,
     "metadata": {},
     "output_type": "execute_result"
    }
   ],
   "source": [
    "import scipy.stats as stats\n",
    "stats.ttest_ind(df1['Extra People'],df1['Price'])"
   ]
  },
  {
   "cell_type": "code",
   "execution_count": 135,
   "id": "0e325d44",
   "metadata": {},
   "outputs": [
    {
     "data": {
      "text/plain": [
       "<AxesSubplot:xlabel='Extra People', ylabel='Price'>"
      ]
     },
     "execution_count": 135,
     "metadata": {},
     "output_type": "execute_result"
    },
    {
     "data": {
      "image/png": "[encoded data removed]",
      "text/plain": [
       "<Figure size 432x288 with 1 Axes>"
      ]
     },
     "metadata": {
      "needs_background": "light"
     },
     "output_type": "display_data"
    }
   ],
   "source": [
    "import seaborn as sns\n",
    "sns.barplot(x='Extra People',y='Price',data=df1)"
   ]
  },
  {
   "cell_type": "code",
   "execution_count": 143,
   "id": "0067d7fb",
   "metadata": {},
   "outputs": [],
   "source": [
    "#(df_num1,df_cat1).columns()"
   ]
  },
  {
   "cell_type": "code",
   "execution_count": 144,
   "id": "d52c77af",
   "metadata": {},
   "outputs": [
    {
     "data": {
      "text/plain": [
       "Index(['Host ID', 'Host Response Rate', 'Price', 'Security Deposit',\n",
       "       'Cleaning Fee', 'Guests Included', 'Extra People', 'Minimum Nights',\n",
       "       'Maximum Nights', 'Availability 30', 'Availability 60',\n",
       "       'Availability 90', 'Availability 365', 'Number of Reviews',\n",
       "       'Review Scores Rating', 'Review Scores Accuracy',\n",
       "       'Review Scores Cleanliness', 'Review Scores Checkin',\n",
       "       'Review Scores Communication', 'Review Scores Location',\n",
       "       'Review Scores Value', 'Calculated host listings count',\n",
       "       'Reviews per Month'],\n",
       "      dtype='object')"
      ]
     },
     "execution_count": 144,
     "metadata": {},
     "output_type": "execute_result"
    }
   ],
   "source": [
    "df_num1.columns                 # 23 "
   ]
  },
  {
   "cell_type": "code",
   "execution_count": 146,
   "id": "690187db",
   "metadata": {},
   "outputs": [
    {
     "data": {
      "text/plain": [
       "Index(['Host Response Time', 'Host Neighbourhood', 'Neighbourhood',\n",
       "       'Neighbourhood Cleansed', 'State', 'Zipcode', 'Market', 'Property Type',\n",
       "       'Room Type', 'Accommodates', 'Bathrooms', 'Bedrooms', 'Beds',\n",
       "       'Bed Type', 'Cancellation Policy'],\n",
       "      dtype='object')"
      ]
     },
     "execution_count": 146,
     "metadata": {},
     "output_type": "execute_result"
    }
   ],
   "source": [
    "df_cat1.columns                 #15"
   ]
  },
  {
   "cell_type": "code",
   "execution_count": 148,
   "id": "4feab172",
   "metadata": {},
   "outputs": [
    {
     "data": {
      "text/plain": [
       "Security Deposit                  56.767561\n",
       "Cleaning Fee                      27.537128\n",
       "Review Scores Value               23.702491\n",
       "Review Scores Location            23.682881\n",
       "Review Scores Checkin             23.682881\n",
       "Review Scores Accuracy            23.622540\n",
       "Review Scores Cleanliness         23.585582\n",
       "Review Scores Communication       23.584827\n",
       "Review Scores Rating              23.454341\n",
       "Host Response Rate                22.580913\n",
       "Reviews per Month                 22.350865\n",
       "Number of Reviews                  0.000000\n",
       "Calculated host listings count     0.000000\n",
       "Host ID                            0.000000\n",
       "Availability 365                   0.000000\n",
       "Availability 60                    0.000000\n",
       "Availability 30                    0.000000\n",
       "Maximum Nights                     0.000000\n",
       "Minimum Nights                     0.000000\n",
       "Extra People                       0.000000\n",
       "Guests Included                    0.000000\n",
       "Price                              0.000000\n",
       "Availability 90                    0.000000\n",
       "dtype: float64"
      ]
     },
     "execution_count": 148,
     "metadata": {},
     "output_type": "execute_result"
    }
   ],
   "source": [
    "((df_num1.isnull().sum()/len(df_num1))*100).sort_values(ascending=False)"
   ]
  },
  {
   "cell_type": "code",
   "execution_count": 150,
   "id": "9926f7df",
   "metadata": {},
   "outputs": [
    {
     "data": {
      "text/html": [
       "<div>\n",
       "<style scoped>\n",
       "    .dataframe tbody tr th:only-of-type {\n",
       "        vertical-align: middle;\n",
       "    }\n",
       "\n",
       "    .dataframe tbody tr th {\n",
       "        vertical-align: top;\n",
       "    }\n",
       "\n",
       "    .dataframe thead th {\n",
       "        text-align: right;\n",
       "    }\n",
       "</style>\n",
       "<table border=\"1\" class=\"dataframe\">\n",
       "  <thead>\n",
       "    <tr style=\"text-align: right;\">\n",
       "      <th></th>\n",
       "      <th>Security Deposit</th>\n",
       "      <th>Price</th>\n",
       "    </tr>\n",
       "  </thead>\n",
       "  <tbody>\n",
       "    <tr>\n",
       "      <th>Security Deposit</th>\n",
       "      <td>1.000000</td>\n",
       "      <td>0.393314</td>\n",
       "    </tr>\n",
       "    <tr>\n",
       "      <th>Price</th>\n",
       "      <td>0.393314</td>\n",
       "      <td>1.000000</td>\n",
       "    </tr>\n",
       "  </tbody>\n",
       "</table>\n",
       "</div>"
      ],
      "text/plain": [
       "                  Security Deposit     Price\n",
       "Security Deposit          1.000000  0.393314\n",
       "Price                     0.393314  1.000000"
      ]
     },
     "execution_count": 150,
     "metadata": {},
     "output_type": "execute_result"
    }
   ],
   "source": [
    "df.loc[:,['Security Deposit','Price']].corr()"
   ]
  },
  {
   "cell_type": "code",
   "execution_count": 151,
   "id": "7e645a33",
   "metadata": {},
   "outputs": [
    {
     "data": {
      "text/plain": [
       "Ttest_indResult(statistic=nan, pvalue=nan)"
      ]
     },
     "execution_count": 151,
     "metadata": {},
     "output_type": "execute_result"
    }
   ],
   "source": [
    "import scipy.stats as stats\n",
    "stats.ttest_ind(df1['Security Deposit'],df1['Price'])"
   ]
  },
  {
   "cell_type": "code",
   "execution_count": 198,
   "id": "1dc1ee5d",
   "metadata": {},
   "outputs": [],
   "source": [
    "from sklearn.impute import SimpleImputer\n",
    "imputer=SimpleImputer(missing_values=np.nan,strategy='median')\n",
    "imputer=imputer.fit(df_num1)\n",
    "df_num2=imputer.transform(df_num1)"
   ]
  },
  {
   "cell_type": "code",
   "execution_count": 202,
   "id": "6f24ba60",
   "metadata": {},
   "outputs": [
    {
     "data": {
      "text/plain": [
       "Host ID                           0\n",
       "Host Response Rate                0\n",
       "Price                             0\n",
       "Security Deposit                  0\n",
       "Cleaning Fee                      0\n",
       "Guests Included                   0\n",
       "Extra People                      0\n",
       "Minimum Nights                    0\n",
       "Maximum Nights                    0\n",
       "Availability 30                   0\n",
       "Availability 60                   0\n",
       "Availability 90                   0\n",
       "Availability 365                  0\n",
       "Number of Reviews                 0\n",
       "Review Scores Rating              0\n",
       "Review Scores Accuracy            0\n",
       "Review Scores Cleanliness         0\n",
       "Review Scores Checkin             0\n",
       "Review Scores Communication       0\n",
       "Review Scores Location            0\n",
       "Review Scores Value               0\n",
       "Calculated host listings count    0\n",
       "Reviews per Month                 0\n",
       "dtype: int64"
      ]
     },
     "execution_count": 202,
     "metadata": {},
     "output_type": "execute_result"
    }
   ],
   "source": [
    "df_num3=pd.DataFrame(df_num2,columns=df_num1.columns)   # df_num3  final num column jisme null ada di h sari\n",
    "df_num3.isnull().sum()"
   ]
  },
  {
   "cell_type": "code",
   "execution_count": 157,
   "id": "0a0ced12",
   "metadata": {},
   "outputs": [
    {
     "data": {
      "text/plain": [
       "0    100.0\n",
       "dtype: float64"
      ]
     },
     "execution_count": 157,
     "metadata": {},
     "output_type": "execute_result"
    }
   ],
   "source": [
    "df1['Review Scores Rating'].mode()"
   ]
  },
  {
   "cell_type": "code",
   "execution_count": 160,
   "id": "caeb2f99",
   "metadata": {},
   "outputs": [
    {
     "data": {
      "text/plain": [
       "96.0"
      ]
     },
     "execution_count": 160,
     "metadata": {},
     "output_type": "execute_result"
    }
   ],
   "source": [
    "df1['Review Scores Rating'].median()"
   ]
  },
  {
   "cell_type": "code",
   "execution_count": 155,
   "id": "f3e908b6",
   "metadata": {},
   "outputs": [
    {
     "data": {
      "text/plain": [
       "Index(['Host ID', 'Host Response Rate', 'Price', 'Security Deposit',\n",
       "       'Cleaning Fee', 'Guests Included', 'Extra People', 'Minimum Nights',\n",
       "       'Maximum Nights', 'Availability 30', 'Availability 60',\n",
       "       'Availability 90', 'Availability 365', 'Number of Reviews',\n",
       "       'Review Scores Rating', 'Review Scores Accuracy',\n",
       "       'Review Scores Cleanliness', 'Review Scores Checkin',\n",
       "       'Review Scores Communication', 'Review Scores Location',\n",
       "       'Review Scores Value', 'Calculated host listings count',\n",
       "       'Reviews per Month'],\n",
       "      dtype='object')"
      ]
     },
     "execution_count": 155,
     "metadata": {},
     "output_type": "execute_result"
    }
   ],
   "source": [
    "df_num1.columns"
   ]
  },
  {
   "cell_type": "code",
   "execution_count": 162,
   "id": "1568886d",
   "metadata": {},
   "outputs": [
    {
     "data": {
      "text/plain": [
       "0    10.0\n",
       "dtype: float64"
      ]
     },
     "execution_count": 162,
     "metadata": {},
     "output_type": "execute_result"
    }
   ],
   "source": [
    "df1['Review Scores Communication'].mode()"
   ]
  },
  {
   "cell_type": "code",
   "execution_count": 210,
   "id": "f7576874",
   "metadata": {},
   "outputs": [],
   "source": [
    "from sklearn.impute import SimpleImputer\n",
    "imputer=SimpleImputer(missing_values=np.nan,strategy='most_frequent')\n",
    "imputer=imputer.fit(df_cat1)\n",
    "df_cat2=imputer.transform(df_cat1)"
   ]
  },
  {
   "cell_type": "code",
   "execution_count": 212,
   "id": "6365b505",
   "metadata": {},
   "outputs": [],
   "source": [
    "df_cat3=pd.DataFrame(df_cat2,columns=df_cat1.columns)"
   ]
  },
  {
   "cell_type": "code",
   "execution_count": 213,
   "id": "323ca8d7",
   "metadata": {},
   "outputs": [
    {
     "data": {
      "text/plain": [
       "Host Response Time        0\n",
       "Host Neighbourhood        0\n",
       "Neighbourhood             0\n",
       "Neighbourhood Cleansed    0\n",
       "State                     0\n",
       "Zipcode                   0\n",
       "Market                    0\n",
       "Property Type             0\n",
       "Room Type                 0\n",
       "Accommodates              0\n",
       "Bathrooms                 0\n",
       "Bedrooms                  0\n",
       "Beds                      0\n",
       "Bed Type                  0\n",
       "Cancellation Policy       0\n",
       "dtype: int64"
      ]
     },
     "execution_count": 213,
     "metadata": {},
     "output_type": "execute_result"
    }
   ],
   "source": [
    "df_cat3.isnull().sum()"
   ]
  },
  {
   "cell_type": "code",
   "execution_count": 203,
   "id": "b352e6f5",
   "metadata": {},
   "outputs": [
    {
     "data": {
      "text/html": [
       "<div>\n",
       "<style scoped>\n",
       "    .dataframe tbody tr th:only-of-type {\n",
       "        vertical-align: middle;\n",
       "    }\n",
       "\n",
       "    .dataframe tbody tr th {\n",
       "        vertical-align: top;\n",
       "    }\n",
       "\n",
       "    .dataframe thead th {\n",
       "        text-align: right;\n",
       "    }\n",
       "</style>\n",
       "<table border=\"1\" class=\"dataframe\">\n",
       "  <thead>\n",
       "    <tr style=\"text-align: right;\">\n",
       "      <th></th>\n",
       "      <th>Host Response Time</th>\n",
       "      <th>Host Neighbourhood</th>\n",
       "      <th>Neighbourhood</th>\n",
       "      <th>Neighbourhood Cleansed</th>\n",
       "      <th>State</th>\n",
       "      <th>Zipcode</th>\n",
       "      <th>Market</th>\n",
       "      <th>Property Type</th>\n",
       "      <th>Room Type</th>\n",
       "      <th>Accommodates</th>\n",
       "      <th>Bathrooms</th>\n",
       "      <th>Bedrooms</th>\n",
       "      <th>Beds</th>\n",
       "      <th>Bed Type</th>\n",
       "      <th>Cancellation Policy</th>\n",
       "    </tr>\n",
       "  </thead>\n",
       "  <tbody>\n",
       "    <tr>\n",
       "      <th>241</th>\n",
       "      <td>within an hour</td>\n",
       "      <td>Humboldt Park</td>\n",
       "      <td>Humboldt Park</td>\n",
       "      <td>Humboldt Park</td>\n",
       "      <td>IL</td>\n",
       "      <td>60647</td>\n",
       "      <td>Chicago</td>\n",
       "      <td>Apartment</td>\n",
       "      <td>Private room</td>\n",
       "      <td>1.0</td>\n",
       "      <td>1.0</td>\n",
       "      <td>1.0</td>\n",
       "      <td>1.0</td>\n",
       "      <td>Real Bed</td>\n",
       "      <td>strict</td>\n",
       "    </tr>\n",
       "    <tr>\n",
       "      <th>242</th>\n",
       "      <td>within a day</td>\n",
       "      <td>Humboldt Park</td>\n",
       "      <td>Humboldt Park</td>\n",
       "      <td>Humboldt Park</td>\n",
       "      <td>IL</td>\n",
       "      <td>60651</td>\n",
       "      <td>Chicago</td>\n",
       "      <td>House</td>\n",
       "      <td>Private room</td>\n",
       "      <td>2.0</td>\n",
       "      <td>1.5</td>\n",
       "      <td>1.0</td>\n",
       "      <td>1.0</td>\n",
       "      <td>Real Bed</td>\n",
       "      <td>flexible</td>\n",
       "    </tr>\n",
       "    <tr>\n",
       "      <th>243</th>\n",
       "      <td>within an hour</td>\n",
       "      <td>Humboldt Park</td>\n",
       "      <td>Humboldt Park</td>\n",
       "      <td>Humboldt Park</td>\n",
       "      <td>IL</td>\n",
       "      <td>60651</td>\n",
       "      <td>Chicago</td>\n",
       "      <td>Apartment</td>\n",
       "      <td>Private room</td>\n",
       "      <td>2.0</td>\n",
       "      <td>1.0</td>\n",
       "      <td>1.0</td>\n",
       "      <td>1.0</td>\n",
       "      <td>Real Bed</td>\n",
       "      <td>moderate</td>\n",
       "    </tr>\n",
       "    <tr>\n",
       "      <th>244</th>\n",
       "      <td>within an hour</td>\n",
       "      <td>Humboldt Park</td>\n",
       "      <td>NaN</td>\n",
       "      <td>Humboldt Park</td>\n",
       "      <td>IL</td>\n",
       "      <td>60651</td>\n",
       "      <td>Chicago</td>\n",
       "      <td>Apartment</td>\n",
       "      <td>Entire home/apt</td>\n",
       "      <td>6.0</td>\n",
       "      <td>1.0</td>\n",
       "      <td>2.0</td>\n",
       "      <td>3.0</td>\n",
       "      <td>Real Bed</td>\n",
       "      <td>flexible</td>\n",
       "    </tr>\n",
       "    <tr>\n",
       "      <th>245</th>\n",
       "      <td>within an hour</td>\n",
       "      <td>Garfield Park</td>\n",
       "      <td>Garfield Park</td>\n",
       "      <td>East Garfield Park</td>\n",
       "      <td>IL</td>\n",
       "      <td>60624</td>\n",
       "      <td>Chicago</td>\n",
       "      <td>House</td>\n",
       "      <td>Private room</td>\n",
       "      <td>2.0</td>\n",
       "      <td>1.0</td>\n",
       "      <td>1.0</td>\n",
       "      <td>1.0</td>\n",
       "      <td>Real Bed</td>\n",
       "      <td>strict</td>\n",
       "    </tr>\n",
       "  </tbody>\n",
       "</table>\n",
       "</div>"
      ],
      "text/plain": [
       "    Host Response Time Host Neighbourhood  Neighbourhood  \\\n",
       "241     within an hour      Humboldt Park  Humboldt Park   \n",
       "242       within a day      Humboldt Park  Humboldt Park   \n",
       "243     within an hour      Humboldt Park  Humboldt Park   \n",
       "244     within an hour      Humboldt Park            NaN   \n",
       "245     within an hour      Garfield Park  Garfield Park   \n",
       "\n",
       "    Neighbourhood Cleansed State Zipcode   Market Property Type  \\\n",
       "241          Humboldt Park    IL   60647  Chicago     Apartment   \n",
       "242          Humboldt Park    IL   60651  Chicago         House   \n",
       "243          Humboldt Park    IL   60651  Chicago     Apartment   \n",
       "244          Humboldt Park    IL   60651  Chicago     Apartment   \n",
       "245     East Garfield Park    IL   60624  Chicago         House   \n",
       "\n",
       "           Room Type Accommodates Bathrooms Bedrooms Beds  Bed Type  \\\n",
       "241     Private room          1.0       1.0      1.0  1.0  Real Bed   \n",
       "242     Private room          2.0       1.5      1.0  1.0  Real Bed   \n",
       "243     Private room          2.0       1.0      1.0  1.0  Real Bed   \n",
       "244  Entire home/apt          6.0       1.0      2.0  3.0  Real Bed   \n",
       "245     Private room          2.0       1.0      1.0  1.0  Real Bed   \n",
       "\n",
       "    Cancellation Policy  \n",
       "241              strict  \n",
       "242            flexible  \n",
       "243            moderate  \n",
       "244            flexible  \n",
       "245              strict  "
      ]
     },
     "execution_count": 203,
     "metadata": {},
     "output_type": "execute_result"
    }
   ],
   "source": [
    "df_cat1.head()"
   ]
  },
  {
   "cell_type": "code",
   "execution_count": 206,
   "id": "d7a942d0",
   "metadata": {},
   "outputs": [
    {
     "data": {
      "text/plain": [
       "Host Response Time        22.580913\n",
       "Neighbourhood             19.881431\n",
       "Host Neighbourhood        16.144093\n",
       "Zipcode                    1.255836\n",
       "Market                     0.761044\n",
       "Bathrooms                  0.316033\n",
       "Beds                       0.165936\n",
       "Bedrooms                   0.117664\n",
       "Accommodates               0.046010\n",
       "Property Type              0.004526\n",
       "State                      0.002263\n",
       "Neighbourhood Cleansed     0.000000\n",
       "Room Type                  0.000000\n",
       "Bed Type                   0.000000\n",
       "Cancellation Policy        0.000000\n",
       "dtype: float64"
      ]
     },
     "execution_count": 206,
     "metadata": {},
     "output_type": "execute_result"
    }
   ],
   "source": [
    "(df_cat1.isnull().sum()/len(df_cat1)*100).sort_values(ascending=False)"
   ]
  },
  {
   "cell_type": "code",
   "execution_count": 208,
   "id": "a6c6b005",
   "metadata": {},
   "outputs": [
    {
     "data": {
      "text/plain": [
       "array(['within an hour', 'within a day', 'within a few hours', nan,\n",
       "       'a few days or more'], dtype=object)"
      ]
     },
     "execution_count": 208,
     "metadata": {},
     "output_type": "execute_result"
    }
   ],
   "source": [
    "df_cat1['Host Response Time'].unique()"
   ]
  },
  {
   "cell_type": "code",
   "execution_count": null,
   "id": "4f309b6c",
   "metadata": {},
   "outputs": [],
   "source": [
    "#df_cat3,df_num3 #  koi null ni h inme "
   ]
  },
  {
   "cell_type": "code",
   "execution_count": 217,
   "id": "f511a9a3",
   "metadata": {},
   "outputs": [],
   "source": [
    "from sklearn.preprocessing import StandardScaler\n",
    "sc=StandardScaler()\n",
    "df_scal=sc.fit_transform(df_num3)"
   ]
  },
  {
   "cell_type": "code",
   "execution_count": 219,
   "id": "13f02abf",
   "metadata": {},
   "outputs": [],
   "source": [
    "df_scal1=pd.DataFrame(df_scal,columns=df_num3.columns)"
   ]
  },
  {
   "cell_type": "code",
   "execution_count": 221,
   "id": "0692452d",
   "metadata": {},
   "outputs": [
    {
     "data": {
      "text/html": [
       "<div>\n",
       "<style scoped>\n",
       "    .dataframe tbody tr th:only-of-type {\n",
       "        vertical-align: middle;\n",
       "    }\n",
       "\n",
       "    .dataframe tbody tr th {\n",
       "        vertical-align: top;\n",
       "    }\n",
       "\n",
       "    .dataframe thead th {\n",
       "        text-align: right;\n",
       "    }\n",
       "</style>\n",
       "<table border=\"1\" class=\"dataframe\">\n",
       "  <thead>\n",
       "    <tr style=\"text-align: right;\">\n",
       "      <th></th>\n",
       "      <th>Host Response Time</th>\n",
       "      <th>Host Neighbourhood</th>\n",
       "      <th>Neighbourhood</th>\n",
       "      <th>Neighbourhood Cleansed</th>\n",
       "      <th>State</th>\n",
       "      <th>Zipcode</th>\n",
       "      <th>Market</th>\n",
       "      <th>Property Type</th>\n",
       "      <th>Room Type</th>\n",
       "      <th>Accommodates</th>\n",
       "      <th>Bathrooms</th>\n",
       "      <th>Bedrooms</th>\n",
       "      <th>Beds</th>\n",
       "      <th>Bed Type</th>\n",
       "      <th>Cancellation Policy</th>\n",
       "    </tr>\n",
       "  </thead>\n",
       "  <tbody>\n",
       "    <tr>\n",
       "      <th>0</th>\n",
       "      <td>within an hour</td>\n",
       "      <td>Humboldt Park</td>\n",
       "      <td>Humboldt Park</td>\n",
       "      <td>Humboldt Park</td>\n",
       "      <td>IL</td>\n",
       "      <td>60647</td>\n",
       "      <td>Chicago</td>\n",
       "      <td>Apartment</td>\n",
       "      <td>Private room</td>\n",
       "      <td>1.0</td>\n",
       "      <td>1.0</td>\n",
       "      <td>1.0</td>\n",
       "      <td>1.0</td>\n",
       "      <td>Real Bed</td>\n",
       "      <td>strict</td>\n",
       "    </tr>\n",
       "    <tr>\n",
       "      <th>1</th>\n",
       "      <td>within a day</td>\n",
       "      <td>Humboldt Park</td>\n",
       "      <td>Humboldt Park</td>\n",
       "      <td>Humboldt Park</td>\n",
       "      <td>IL</td>\n",
       "      <td>60651</td>\n",
       "      <td>Chicago</td>\n",
       "      <td>House</td>\n",
       "      <td>Private room</td>\n",
       "      <td>2.0</td>\n",
       "      <td>1.5</td>\n",
       "      <td>1.0</td>\n",
       "      <td>1.0</td>\n",
       "      <td>Real Bed</td>\n",
       "      <td>flexible</td>\n",
       "    </tr>\n",
       "    <tr>\n",
       "      <th>2</th>\n",
       "      <td>within an hour</td>\n",
       "      <td>Humboldt Park</td>\n",
       "      <td>Humboldt Park</td>\n",
       "      <td>Humboldt Park</td>\n",
       "      <td>IL</td>\n",
       "      <td>60651</td>\n",
       "      <td>Chicago</td>\n",
       "      <td>Apartment</td>\n",
       "      <td>Private room</td>\n",
       "      <td>2.0</td>\n",
       "      <td>1.0</td>\n",
       "      <td>1.0</td>\n",
       "      <td>1.0</td>\n",
       "      <td>Real Bed</td>\n",
       "      <td>moderate</td>\n",
       "    </tr>\n",
       "    <tr>\n",
       "      <th>3</th>\n",
       "      <td>within an hour</td>\n",
       "      <td>Humboldt Park</td>\n",
       "      <td>Williamsburg</td>\n",
       "      <td>Humboldt Park</td>\n",
       "      <td>IL</td>\n",
       "      <td>60651</td>\n",
       "      <td>Chicago</td>\n",
       "      <td>Apartment</td>\n",
       "      <td>Entire home/apt</td>\n",
       "      <td>6.0</td>\n",
       "      <td>1.0</td>\n",
       "      <td>2.0</td>\n",
       "      <td>3.0</td>\n",
       "      <td>Real Bed</td>\n",
       "      <td>flexible</td>\n",
       "    </tr>\n",
       "    <tr>\n",
       "      <th>4</th>\n",
       "      <td>within an hour</td>\n",
       "      <td>Garfield Park</td>\n",
       "      <td>Garfield Park</td>\n",
       "      <td>East Garfield Park</td>\n",
       "      <td>IL</td>\n",
       "      <td>60624</td>\n",
       "      <td>Chicago</td>\n",
       "      <td>House</td>\n",
       "      <td>Private room</td>\n",
       "      <td>2.0</td>\n",
       "      <td>1.0</td>\n",
       "      <td>1.0</td>\n",
       "      <td>1.0</td>\n",
       "      <td>Real Bed</td>\n",
       "      <td>strict</td>\n",
       "    </tr>\n",
       "    <tr>\n",
       "      <th>...</th>\n",
       "      <td>...</td>\n",
       "      <td>...</td>\n",
       "      <td>...</td>\n",
       "      <td>...</td>\n",
       "      <td>...</td>\n",
       "      <td>...</td>\n",
       "      <td>...</td>\n",
       "      <td>...</td>\n",
       "      <td>...</td>\n",
       "      <td>...</td>\n",
       "      <td>...</td>\n",
       "      <td>...</td>\n",
       "      <td>...</td>\n",
       "      <td>...</td>\n",
       "      <td>...</td>\n",
       "    </tr>\n",
       "    <tr>\n",
       "      <th>132576</th>\n",
       "      <td>within an hour</td>\n",
       "      <td>Barton Creek</td>\n",
       "      <td>Barton Creek</td>\n",
       "      <td>78735</td>\n",
       "      <td>TX</td>\n",
       "      <td>78735</td>\n",
       "      <td>Austin</td>\n",
       "      <td>Apartment</td>\n",
       "      <td>Entire home/apt</td>\n",
       "      <td>5.0</td>\n",
       "      <td>1.0</td>\n",
       "      <td>2.0</td>\n",
       "      <td>2.0</td>\n",
       "      <td>Real Bed</td>\n",
       "      <td>flexible</td>\n",
       "    </tr>\n",
       "    <tr>\n",
       "      <th>132577</th>\n",
       "      <td>within an hour</td>\n",
       "      <td>Barton Creek</td>\n",
       "      <td>Barton Creek</td>\n",
       "      <td>78735</td>\n",
       "      <td>TX</td>\n",
       "      <td>78735</td>\n",
       "      <td>Austin</td>\n",
       "      <td>House</td>\n",
       "      <td>Private room</td>\n",
       "      <td>2.0</td>\n",
       "      <td>1.0</td>\n",
       "      <td>1.0</td>\n",
       "      <td>1.0</td>\n",
       "      <td>Real Bed</td>\n",
       "      <td>flexible</td>\n",
       "    </tr>\n",
       "    <tr>\n",
       "      <th>132578</th>\n",
       "      <td>within an hour</td>\n",
       "      <td>MLK &amp; 183</td>\n",
       "      <td>MLK &amp; 183</td>\n",
       "      <td>78721</td>\n",
       "      <td>TX</td>\n",
       "      <td>78721</td>\n",
       "      <td>Austin</td>\n",
       "      <td>House</td>\n",
       "      <td>Private room</td>\n",
       "      <td>4.0</td>\n",
       "      <td>1.0</td>\n",
       "      <td>2.0</td>\n",
       "      <td>2.0</td>\n",
       "      <td>Real Bed</td>\n",
       "      <td>flexible</td>\n",
       "    </tr>\n",
       "    <tr>\n",
       "      <th>132579</th>\n",
       "      <td>within an hour</td>\n",
       "      <td>MLK &amp; 183</td>\n",
       "      <td>MLK &amp; 183</td>\n",
       "      <td>78721</td>\n",
       "      <td>TX</td>\n",
       "      <td>78721</td>\n",
       "      <td>Austin</td>\n",
       "      <td>House</td>\n",
       "      <td>Entire home/apt</td>\n",
       "      <td>6.0</td>\n",
       "      <td>2.0</td>\n",
       "      <td>3.0</td>\n",
       "      <td>3.0</td>\n",
       "      <td>Real Bed</td>\n",
       "      <td>moderate</td>\n",
       "    </tr>\n",
       "    <tr>\n",
       "      <th>132580</th>\n",
       "      <td>within an hour</td>\n",
       "      <td>MLK &amp; 183</td>\n",
       "      <td>MLK &amp; 183</td>\n",
       "      <td>78721</td>\n",
       "      <td>TX</td>\n",
       "      <td>78721</td>\n",
       "      <td>Austin</td>\n",
       "      <td>House</td>\n",
       "      <td>Entire home/apt</td>\n",
       "      <td>6.0</td>\n",
       "      <td>1.5</td>\n",
       "      <td>2.0</td>\n",
       "      <td>2.0</td>\n",
       "      <td>Real Bed</td>\n",
       "      <td>flexible</td>\n",
       "    </tr>\n",
       "  </tbody>\n",
       "</table>\n",
       "<p>132581 rows × 15 columns</p>\n",
       "</div>"
      ],
      "text/plain": [
       "       Host Response Time Host Neighbourhood  Neighbourhood  \\\n",
       "0          within an hour      Humboldt Park  Humboldt Park   \n",
       "1            within a day      Humboldt Park  Humboldt Park   \n",
       "2          within an hour      Humboldt Park  Humboldt Park   \n",
       "3          within an hour      Humboldt Park   Williamsburg   \n",
       "4          within an hour      Garfield Park  Garfield Park   \n",
       "...                   ...                ...            ...   \n",
       "132576     within an hour       Barton Creek   Barton Creek   \n",
       "132577     within an hour       Barton Creek   Barton Creek   \n",
       "132578     within an hour          MLK & 183      MLK & 183   \n",
       "132579     within an hour          MLK & 183      MLK & 183   \n",
       "132580     within an hour          MLK & 183      MLK & 183   \n",
       "\n",
       "       Neighbourhood Cleansed State Zipcode   Market Property Type  \\\n",
       "0               Humboldt Park    IL   60647  Chicago     Apartment   \n",
       "1               Humboldt Park    IL   60651  Chicago         House   \n",
       "2               Humboldt Park    IL   60651  Chicago     Apartment   \n",
       "3               Humboldt Park    IL   60651  Chicago     Apartment   \n",
       "4          East Garfield Park    IL   60624  Chicago         House   \n",
       "...                       ...   ...     ...      ...           ...   \n",
       "132576                  78735    TX   78735   Austin     Apartment   \n",
       "132577                  78735    TX   78735   Austin         House   \n",
       "132578                  78721    TX   78721   Austin         House   \n",
       "132579                  78721    TX   78721   Austin         House   \n",
       "132580                  78721    TX   78721   Austin         House   \n",
       "\n",
       "              Room Type Accommodates Bathrooms Bedrooms Beds  Bed Type  \\\n",
       "0          Private room          1.0       1.0      1.0  1.0  Real Bed   \n",
       "1          Private room          2.0       1.5      1.0  1.0  Real Bed   \n",
       "2          Private room          2.0       1.0      1.0  1.0  Real Bed   \n",
       "3       Entire home/apt          6.0       1.0      2.0  3.0  Real Bed   \n",
       "4          Private room          2.0       1.0      1.0  1.0  Real Bed   \n",
       "...                 ...          ...       ...      ...  ...       ...   \n",
       "132576  Entire home/apt          5.0       1.0      2.0  2.0  Real Bed   \n",
       "132577     Private room          2.0       1.0      1.0  1.0  Real Bed   \n",
       "132578     Private room          4.0       1.0      2.0  2.0  Real Bed   \n",
       "132579  Entire home/apt          6.0       2.0      3.0  3.0  Real Bed   \n",
       "132580  Entire home/apt          6.0       1.5      2.0  2.0  Real Bed   \n",
       "\n",
       "       Cancellation Policy  \n",
       "0                   strict  \n",
       "1                 flexible  \n",
       "2                 moderate  \n",
       "3                 flexible  \n",
       "4                   strict  \n",
       "...                    ...  \n",
       "132576            flexible  \n",
       "132577            flexible  \n",
       "132578            flexible  \n",
       "132579            moderate  \n",
       "132580            flexible  \n",
       "\n",
       "[132581 rows x 15 columns]"
      ]
     },
     "execution_count": 221,
     "metadata": {},
     "output_type": "execute_result"
    }
   ],
   "source": [
    "df_cat3"
   ]
  },
  {
   "cell_type": "code",
   "execution_count": 222,
   "id": "b1726f4d",
   "metadata": {},
   "outputs": [
    {
     "data": {
      "text/plain": [
       "Host ID                             1.232316\n",
       "Host Response Rate                 -4.465973\n",
       "Price                               2.644692\n",
       "Security Deposit                    1.826006\n",
       "Cleaning Fee                        2.848591\n",
       "Guests Included                     3.241829\n",
       "Extra People                        4.368263\n",
       "Minimum Nights                     49.269411\n",
       "Maximum Nights                    119.254883\n",
       "Availability 30                     0.598332\n",
       "Availability 60                     0.317987\n",
       "Availability 90                     0.111576\n",
       "Availability 365                    0.139534\n",
       "Number of Reviews                   3.869159\n",
       "Review Scores Rating               -3.922846\n",
       "Review Scores Accuracy             -4.155431\n",
       "Review Scores Cleanliness          -3.208793\n",
       "Review Scores Checkin              -5.757767\n",
       "Review Scores Communication        -5.853052\n",
       "Review Scores Location             -3.007104\n",
       "Review Scores Value                -3.229964\n",
       "Calculated host listings count     12.025081\n",
       "Reviews per Month                  19.025691\n",
       "dtype: float64"
      ]
     },
     "execution_count": 222,
     "metadata": {},
     "output_type": "execute_result"
    }
   ],
   "source": [
    "df_scal1.skew()"
   ]
  },
  {
   "cell_type": "code",
   "execution_count": 226,
   "id": "14714948",
   "metadata": {},
   "outputs": [],
   "source": [
    "\n",
    "from sklearn.preprocessing import PowerTransformer\n",
    "pc=PowerTransformer()\n",
    "df_scal2=pc.fit_transform(df_scal1)"
   ]
  },
  {
   "cell_type": "code",
   "execution_count": 231,
   "id": "56e9e550",
   "metadata": {},
   "outputs": [],
   "source": [
    "df_scal3=pd.DataFrame(df_scal2,columns=df_scal1.columns)"
   ]
  },
  {
   "cell_type": "code",
   "execution_count": 232,
   "id": "a4327eb0",
   "metadata": {},
   "outputs": [
    {
     "name": "stderr",
     "output_type": "stream",
     "text": [
      "C:\\Users\\siddharth\\anaconda3\\lib\\site-packages\\seaborn\\distributions.py:2619: FutureWarning: `distplot` is a deprecated function and will be removed in a future version. Please adapt your code to use either `displot` (a figure-level function with similar flexibility) or `histplot` (an axes-level function for histograms).\n",
      "  warnings.warn(msg, FutureWarning)\n"
     ]
    },
    {
     "data": {
      "text/plain": [
       "<AxesSubplot:ylabel='Density'>"
      ]
     },
     "execution_count": 232,
     "metadata": {},
     "output_type": "execute_result"
    },
    {
     "data": {
      "image/png": "[encoded data removed]",
      "text/plain": [
       "<Figure size 432x288 with 1 Axes>"
      ]
     },
     "metadata": {
      "needs_background": "light"
     },
     "output_type": "display_data"
    }
   ],
   "source": [
    "sns.distplot(df_scal3)"
   ]
  },
  {
   "cell_type": "code",
   "execution_count": 233,
   "id": "9cc6d4db",
   "metadata": {},
   "outputs": [],
   "source": [
    "log=np.log(df_scal3)\n",
    "reciprocal=np.log(df_scal3)"
   ]
  },
  {
   "cell_type": "code",
   "execution_count": 236,
   "id": "74c4c9bc",
   "metadata": {},
   "outputs": [
    {
     "data": {
      "text/plain": [
       "Host ID                            0.262653\n",
       "Host Response Rate                -1.666987\n",
       "Price                              0.183304\n",
       "Security Deposit                  -0.207835\n",
       "Cleaning Fee                      -0.023383\n",
       "Guests Included                    0.118813\n",
       "Extra People                       0.511292\n",
       "Minimum Nights                     0.592619\n",
       "Maximum Nights                    13.248301\n",
       "Availability 30                    0.237397\n",
       "Availability 60                    0.124189\n",
       "Availability 90                    0.047232\n",
       "Availability 365                   0.058981\n",
       "Number of Reviews                  0.594975\n",
       "Review Scores Rating              -0.108789\n",
       "Review Scores Accuracy            -1.394696\n",
       "Review Scores Cleanliness         -0.909198\n",
       "Review Scores Checkin             -2.261743\n",
       "Review Scores Communication       -2.345456\n",
       "Review Scores Location            -1.063237\n",
       "Review Scores Value               -0.802748\n",
       "Calculated host listings count     1.101208\n",
       "Reviews per Month                  0.187738\n",
       "dtype: float64"
      ]
     },
     "execution_count": 236,
     "metadata": {},
     "output_type": "execute_result"
    }
   ],
   "source": [
    "df_scal3.skew()"
   ]
  },
  {
   "cell_type": "code",
   "execution_count": 238,
   "id": "df358788",
   "metadata": {},
   "outputs": [
    {
     "data": {
      "text/plain": [
       "Index(['Host Response Time', 'Host Neighbourhood', 'Neighbourhood',\n",
       "       'Neighbourhood Cleansed', 'State', 'Zipcode', 'Market', 'Property Type',\n",
       "       'Room Type', 'Accommodates', 'Bathrooms', 'Bedrooms', 'Beds',\n",
       "       'Bed Type', 'Cancellation Policy'],\n",
       "      dtype='object')"
      ]
     },
     "execution_count": 238,
     "metadata": {},
     "output_type": "execute_result"
    }
   ],
   "source": [
    "df_cat3.columns"
   ]
  },
  {
   "cell_type": "code",
   "execution_count": 272,
   "id": "1e9fb652",
   "metadata": {},
   "outputs": [
    {
     "data": {
      "text/plain": [
       "array([1.0, 1.5, 2.0, 3.0, 3.5, 2.5, 5.0, 4.5, 0.5, 4.0, 0.0, 5.5, 8.0,\n",
       "       6.0, 6.5, 7.0, 7.5], dtype=object)"
      ]
     },
     "execution_count": 272,
     "metadata": {},
     "output_type": "execute_result"
    }
   ],
   "source": [
    "df_cat3['Bathrooms'].unique()"
   ]
  },
  {
   "cell_type": "code",
   "execution_count": 280,
   "id": "fcd31db3",
   "metadata": {},
   "outputs": [
    {
     "data": {
      "text/plain": [
       "array([1.0, 2.0, 0.5, 1.5, 3.0, 0.0, 2.5, 3.5, 4.0, 8.0, 4.5],\n",
       "      dtype=object)"
      ]
     },
     "execution_count": 280,
     "metadata": {},
     "output_type": "execute_result"
    }
   ],
   "source": [
    "a=pd.DataFrame(df_cat3.loc[df_cat3['Bedrooms']==0,'Bathrooms'] )\n",
    "a['Bathrooms'].unique()"
   ]
  },
  {
   "cell_type": "code",
   "execution_count": 281,
   "id": "0a65853e",
   "metadata": {},
   "outputs": [
    {
     "data": {
      "text/plain": [
       "Index(['Host Response Time', 'Host Neighbourhood', 'Neighbourhood',\n",
       "       'Neighbourhood Cleansed', 'State', 'Zipcode', 'Market', 'Property Type',\n",
       "       'Room Type', 'Accommodates', 'Bathrooms', 'Bedrooms', 'Beds',\n",
       "       'Bed Type', 'Cancellation Policy'],\n",
       "      dtype='object')"
      ]
     },
     "execution_count": 281,
     "metadata": {},
     "output_type": "execute_result"
    }
   ],
   "source": [
    "df_cat3.columns"
   ]
  },
  {
   "cell_type": "code",
   "execution_count": 289,
   "id": "98fd4325",
   "metadata": {},
   "outputs": [
    {
     "data": {
      "text/plain": [
       "1392"
      ]
     },
     "execution_count": 289,
     "metadata": {},
     "output_type": "execute_result"
    }
   ],
   "source": [
    "df_cat3['Host Neighbourhood'].nunique()"
   ]
  },
  {
   "cell_type": "code",
   "execution_count": 288,
   "id": "c06e07c7",
   "metadata": {},
   "outputs": [
    {
     "data": {
      "text/plain": [
       "1133"
      ]
     },
     "execution_count": 288,
     "metadata": {},
     "output_type": "execute_result"
    }
   ],
   "source": [
    "df_cat3['Neighbourhood'].nunique()"
   ]
  },
  {
   "cell_type": "code",
   "execution_count": 290,
   "id": "2da3e120",
   "metadata": {},
   "outputs": [
    {
     "data": {
      "text/plain": [
       "Index(['Host ID', 'Host Response Rate', 'Price', 'Security Deposit',\n",
       "       'Cleaning Fee', 'Guests Included', 'Extra People', 'Minimum Nights',\n",
       "       'Maximum Nights', 'Availability 30', 'Availability 60',\n",
       "       'Availability 90', 'Availability 365', 'Number of Reviews',\n",
       "       'Review Scores Rating', 'Review Scores Accuracy',\n",
       "       'Review Scores Cleanliness', 'Review Scores Checkin',\n",
       "       'Review Scores Communication', 'Review Scores Location',\n",
       "       'Review Scores Value', 'Calculated host listings count',\n",
       "       'Reviews per Month'],\n",
       "      dtype='object')"
      ]
     },
     "execution_count": 290,
     "metadata": {},
     "output_type": "execute_result"
    }
   ],
   "source": [
    "df_num3.columns"
   ]
  },
  {
   "cell_type": "code",
   "execution_count": 291,
   "id": "5beb5307",
   "metadata": {},
   "outputs": [
    {
     "data": {
      "text/plain": [
       "Index(['Host Response Time', 'Host Neighbourhood', 'Neighbourhood',\n",
       "       'Neighbourhood Cleansed', 'State', 'Zipcode', 'Market', 'Property Type',\n",
       "       'Room Type', 'Accommodates', 'Bathrooms', 'Bedrooms', 'Beds',\n",
       "       'Bed Type', 'Cancellation Policy'],\n",
       "      dtype='object')"
      ]
     },
     "execution_count": 291,
     "metadata": {},
     "output_type": "execute_result"
    }
   ],
   "source": [
    "df_cat3.columns"
   ]
  },
  {
   "cell_type": "code",
   "execution_count": 343,
   "id": "6cd69f2f",
   "metadata": {},
   "outputs": [],
   "source": [
    "df_cat4=df_cat3.loc[:,['Bedrooms','Bathrooms','State', 'Zipcode','Neighbourhood Cleansed','Property Type','Room Type','Bed Type','Cancellation Policy','Host Response Time']]"
   ]
  },
  {
   "cell_type": "markdown",
   "id": "df96ab62",
   "metadata": {},
   "source": [
    "#### "
   ]
  },
  {
   "cell_type": "code",
   "execution_count": 356,
   "id": "22218ea3",
   "metadata": {},
   "outputs": [
    {
     "data": {
      "text/plain": [
       "array(['IL', 'CA', 'CO', 'TN', 'LA', 'MA', 'TX', 'OR', 'WA', 'DC', 'NY',\n",
       "       'MP', 'MD', 'NJ', 'VT'], dtype=object)"
      ]
     },
     "execution_count": 356,
     "metadata": {},
     "output_type": "execute_result"
    }
   ],
   "source": [
    "df_cat4['State'].unique()"
   ]
  },
  {
   "cell_type": "code",
   "execution_count": 353,
   "id": "78474a02",
   "metadata": {},
   "outputs": [],
   "source": [
    "df_cat4.State.replace(to_replace=['wa','il','Il','ca','Ca'],value=['WA','IL','IL','CA','CA'],inplace=True)"
   ]
  },
  {
   "cell_type": "code",
   "execution_count": 355,
   "id": "fd2325b2",
   "metadata": {},
   "outputs": [],
   "source": [
    "df_cat4.State.replace(to_replace=['ny'],value=['NY'],inplace=True)"
   ]
  },
  {
   "cell_type": "code",
   "execution_count": 295,
   "id": "81d10049",
   "metadata": {},
   "outputs": [],
   "source": [
    "from sklearn.preprocessing import OrdinalEncoder\n"
   ]
  },
  {
   "cell_type": "code",
   "execution_count": 297,
   "id": "dfc95a13",
   "metadata": {},
   "outputs": [
    {
     "data": {
      "text/plain": [
       "array([1.0, 2.0, 3.0, 5.0, 0.0, 4.0, 6.0, 7.0, 8.0, 10.0, 9.0],\n",
       "      dtype=object)"
      ]
     },
     "execution_count": 297,
     "metadata": {},
     "output_type": "execute_result"
    }
   ],
   "source": [
    "df_cat4['Bedrooms'].unique()"
   ]
  },
  {
   "cell_type": "code",
   "execution_count": 298,
   "id": "9e2c9999",
   "metadata": {},
   "outputs": [
    {
     "data": {
      "text/plain": [
       "Bedrooms                  0\n",
       "Bathrooms                 0\n",
       "State                     0\n",
       "Zipcode                   0\n",
       "Neighbourhood Cleansed    0\n",
       "Property Type             0\n",
       "Room Type                 0\n",
       "Bed Type                  0\n",
       "Cancellation Policy       0\n",
       "Host Response Time        0\n",
       "dtype: int64"
      ]
     },
     "execution_count": 298,
     "metadata": {},
     "output_type": "execute_result"
    }
   ],
   "source": [
    "df_cat4.isnull().sum()"
   ]
  },
  {
   "cell_type": "code",
   "execution_count": 303,
   "id": "016ada66",
   "metadata": {},
   "outputs": [],
   "source": [
    "from sklearn.pipeline import Pipeline\n",
    "from sklearn.compose import ColumnTransformer"
   ]
  },
  {
   "cell_type": "code",
   "execution_count": 315,
   "id": "962b2688",
   "metadata": {},
   "outputs": [
    {
     "data": {
      "text/plain": [
       "Index(['Bedrooms', 'Bathrooms', 'State', 'Zipcode', 'Neighbourhood Cleansed',\n",
       "       'Property Type', 'Room Type', 'Bed Type', 'Cancellation Policy',\n",
       "       'Host Response Time'],\n",
       "      dtype='object')"
      ]
     },
     "execution_count": 315,
     "metadata": {},
     "output_type": "execute_result"
    }
   ],
   "source": [
    "df_cat4.columns"
   ]
  },
  {
   "cell_type": "code",
   "execution_count": 319,
   "id": "0a5c9a38",
   "metadata": {},
   "outputs": [],
   "source": [
    "from sklearn.preprocessing import OrdinalEncoder\n",
    "from sklearn.preprocessing import LabelEncoder\n",
    "oe=OrdinalEncoder()\n",
    "le=LabelEncoder()"
   ]
  },
  {
   "cell_type": "code",
   "execution_count": 326,
   "id": "39e556be",
   "metadata": {},
   "outputs": [
    {
     "data": {
      "text/plain": [
       "array([ 1,  2,  3,  5,  0,  4,  6,  7,  8, 10,  9])"
      ]
     },
     "execution_count": 326,
     "metadata": {},
     "output_type": "execute_result"
    }
   ],
   "source": [
    "a=le.fit_transform(df_cat4['Bedrooms'])\n",
    "b=pd.DataFrame(a,columns=['Bedrooms'])\n",
    "b['Bedrooms'].unique()"
   ]
  },
  {
   "cell_type": "code",
   "execution_count": 327,
   "id": "25ea5c98",
   "metadata": {},
   "outputs": [
    {
     "data": {
      "text/plain": [
       "array([1.0, 1.5, 2.0, 3.0, 3.5, 2.5, 5.0, 4.5, 0.5, 4.0, 0.0, 5.5, 8.0,\n",
       "       6.0, 6.5, 7.0, 7.5], dtype=object)"
      ]
     },
     "execution_count": 327,
     "metadata": {},
     "output_type": "execute_result"
    }
   ],
   "source": [
    "df_cat4['Bathrooms'].unique()"
   ]
  },
  {
   "cell_type": "code",
   "execution_count": 332,
   "id": "205be5b6",
   "metadata": {},
   "outputs": [],
   "source": [
    "c=le.fit_transform(df_cat4['Bathrooms'])\n",
    "d=pd.DataFrame(c,columns=['Bathrooms'])\n"
   ]
  },
  {
   "cell_type": "code",
   "execution_count": 359,
   "id": "7227838c",
   "metadata": {},
   "outputs": [],
   "source": [
    "e=le.fit_transform(df_cat4['State'])\n",
    "f=pd.DataFrame(e,columns=['State'])"
   ]
  },
  {
   "cell_type": "code",
   "execution_count": null,
   "id": "fef46382",
   "metadata": {},
   "outputs": [],
   "source": []
  },
  {
   "cell_type": "code",
   "execution_count": 525,
   "id": "94636630",
   "metadata": {},
   "outputs": [
    {
     "data": {
      "text/html": [
       "<div>\n",
       "<style scoped>\n",
       "    .dataframe tbody tr th:only-of-type {\n",
       "        vertical-align: middle;\n",
       "    }\n",
       "\n",
       "    .dataframe tbody tr th {\n",
       "        vertical-align: top;\n",
       "    }\n",
       "\n",
       "    .dataframe thead th {\n",
       "        text-align: right;\n",
       "    }\n",
       "</style>\n",
       "<table border=\"1\" class=\"dataframe\">\n",
       "  <thead>\n",
       "    <tr style=\"text-align: right;\">\n",
       "      <th></th>\n",
       "      <th>Zipcode</th>\n",
       "    </tr>\n",
       "  </thead>\n",
       "  <tbody>\n",
       "    <tr>\n",
       "      <th>0</th>\n",
       "      <td>364</td>\n",
       "    </tr>\n",
       "    <tr>\n",
       "      <th>1</th>\n",
       "      <td>366</td>\n",
       "    </tr>\n",
       "    <tr>\n",
       "      <th>2</th>\n",
       "      <td>366</td>\n",
       "    </tr>\n",
       "    <tr>\n",
       "      <th>3</th>\n",
       "      <td>366</td>\n",
       "    </tr>\n",
       "    <tr>\n",
       "      <th>4</th>\n",
       "      <td>343</td>\n",
       "    </tr>\n",
       "    <tr>\n",
       "      <th>...</th>\n",
       "      <td>...</td>\n",
       "    </tr>\n",
       "    <tr>\n",
       "      <th>132576</th>\n",
       "      <td>432</td>\n",
       "    </tr>\n",
       "    <tr>\n",
       "      <th>132577</th>\n",
       "      <td>432</td>\n",
       "    </tr>\n",
       "    <tr>\n",
       "      <th>132578</th>\n",
       "      <td>418</td>\n",
       "    </tr>\n",
       "    <tr>\n",
       "      <th>132579</th>\n",
       "      <td>418</td>\n",
       "    </tr>\n",
       "    <tr>\n",
       "      <th>132580</th>\n",
       "      <td>418</td>\n",
       "    </tr>\n",
       "  </tbody>\n",
       "</table>\n",
       "<p>132581 rows × 1 columns</p>\n",
       "</div>"
      ],
      "text/plain": [
       "        Zipcode\n",
       "0           364\n",
       "1           366\n",
       "2           366\n",
       "3           366\n",
       "4           343\n",
       "...         ...\n",
       "132576      432\n",
       "132577      432\n",
       "132578      418\n",
       "132579      418\n",
       "132580      418\n",
       "\n",
       "[132581 rows x 1 columns]"
      ]
     },
     "execution_count": 525,
     "metadata": {},
     "output_type": "execute_result"
    }
   ],
   "source": [
    "g=le.fit_transform(df_cat4['Zipcode'])\n",
    "h=pd.DataFrame(g,columns=['Zipcode'])\n",
    "h"
   ]
  },
  {
   "cell_type": "code",
   "execution_count": 362,
   "id": "d2b40d3f",
   "metadata": {},
   "outputs": [],
   "source": [
    "i=le.fit_transform(df_cat4['Neighbourhood Cleansed'])\n",
    "j=pd.DataFrame(i,columns=['Neighbourhood Cleansed'])"
   ]
  },
  {
   "cell_type": "code",
   "execution_count": 364,
   "id": "bf154608",
   "metadata": {},
   "outputs": [],
   "source": [
    "k=le.fit_transform(df_cat4['Property Type'])\n",
    "l=pd.DataFrame(k,columns=['Property Type'])"
   ]
  },
  {
   "cell_type": "code",
   "execution_count": 366,
   "id": "d105e886",
   "metadata": {},
   "outputs": [],
   "source": [
    "m=le.fit_transform(df_cat4['Room Type'])\n",
    "n=pd.DataFrame(m,columns=['Room Type'])"
   ]
  },
  {
   "cell_type": "code",
   "execution_count": 367,
   "id": "bad64641",
   "metadata": {},
   "outputs": [],
   "source": [
    "o=le.fit_transform(df_cat4['Bed Type'])\n",
    "p=pd.DataFrame(o,columns=['Bed Type'])"
   ]
  },
  {
   "cell_type": "code",
   "execution_count": 368,
   "id": "5da605b6",
   "metadata": {},
   "outputs": [],
   "source": [
    "q=le.fit_transform(df_cat4['Cancellation Policy'])\n",
    "r=pd.DataFrame(q,columns=['Cancellation Policy'])"
   ]
  },
  {
   "cell_type": "code",
   "execution_count": 369,
   "id": "1487f1d0",
   "metadata": {},
   "outputs": [],
   "source": [
    "s=le.fit_transform(df_cat4['Host Response Time'])\n",
    "t=pd.DataFrame(s,columns=['Host Response Time'])"
   ]
  },
  {
   "cell_type": "code",
   "execution_count": 370,
   "id": "768d16fc",
   "metadata": {},
   "outputs": [],
   "source": [
    "df_cat5=pd.concat([b,d,f,h,j,l,n,p,r,t],axis=1)"
   ]
  },
  {
   "cell_type": "code",
   "execution_count": 524,
   "id": "52b7c947",
   "metadata": {},
   "outputs": [
    {
     "data": {
      "text/html": [
       "<div>\n",
       "<style scoped>\n",
       "    .dataframe tbody tr th:only-of-type {\n",
       "        vertical-align: middle;\n",
       "    }\n",
       "\n",
       "    .dataframe tbody tr th {\n",
       "        vertical-align: top;\n",
       "    }\n",
       "\n",
       "    .dataframe thead th {\n",
       "        text-align: right;\n",
       "    }\n",
       "</style>\n",
       "<table border=\"1\" class=\"dataframe\">\n",
       "  <thead>\n",
       "    <tr style=\"text-align: right;\">\n",
       "      <th></th>\n",
       "      <th>Bedrooms</th>\n",
       "      <th>Bathrooms</th>\n",
       "      <th>State</th>\n",
       "      <th>Zipcode</th>\n",
       "      <th>Neighbourhood Cleansed</th>\n",
       "      <th>Property Type</th>\n",
       "      <th>Room Type</th>\n",
       "      <th>Bed Type</th>\n",
       "      <th>Cancellation Policy</th>\n",
       "      <th>Host Response Time</th>\n",
       "    </tr>\n",
       "  </thead>\n",
       "  <tbody>\n",
       "    <tr>\n",
       "      <th>0</th>\n",
       "      <td>1</td>\n",
       "      <td>2</td>\n",
       "      <td>3</td>\n",
       "      <td>364</td>\n",
       "      <td>543</td>\n",
       "      <td>0</td>\n",
       "      <td>1</td>\n",
       "      <td>4</td>\n",
       "      <td>4</td>\n",
       "      <td>3</td>\n",
       "    </tr>\n",
       "    <tr>\n",
       "      <th>1</th>\n",
       "      <td>1</td>\n",
       "      <td>3</td>\n",
       "      <td>3</td>\n",
       "      <td>366</td>\n",
       "      <td>543</td>\n",
       "      <td>18</td>\n",
       "      <td>1</td>\n",
       "      <td>4</td>\n",
       "      <td>0</td>\n",
       "      <td>1</td>\n",
       "    </tr>\n",
       "    <tr>\n",
       "      <th>2</th>\n",
       "      <td>1</td>\n",
       "      <td>2</td>\n",
       "      <td>3</td>\n",
       "      <td>366</td>\n",
       "      <td>543</td>\n",
       "      <td>0</td>\n",
       "      <td>1</td>\n",
       "      <td>4</td>\n",
       "      <td>2</td>\n",
       "      <td>3</td>\n",
       "    </tr>\n",
       "    <tr>\n",
       "      <th>3</th>\n",
       "      <td>2</td>\n",
       "      <td>2</td>\n",
       "      <td>3</td>\n",
       "      <td>366</td>\n",
       "      <td>543</td>\n",
       "      <td>0</td>\n",
       "      <td>0</td>\n",
       "      <td>4</td>\n",
       "      <td>0</td>\n",
       "      <td>3</td>\n",
       "    </tr>\n",
       "    <tr>\n",
       "      <th>4</th>\n",
       "      <td>1</td>\n",
       "      <td>2</td>\n",
       "      <td>3</td>\n",
       "      <td>343</td>\n",
       "      <td>353</td>\n",
       "      <td>18</td>\n",
       "      <td>1</td>\n",
       "      <td>4</td>\n",
       "      <td>4</td>\n",
       "      <td>3</td>\n",
       "    </tr>\n",
       "    <tr>\n",
       "      <th>...</th>\n",
       "      <td>...</td>\n",
       "      <td>...</td>\n",
       "      <td>...</td>\n",
       "      <td>...</td>\n",
       "      <td>...</td>\n",
       "      <td>...</td>\n",
       "      <td>...</td>\n",
       "      <td>...</td>\n",
       "      <td>...</td>\n",
       "      <td>...</td>\n",
       "    </tr>\n",
       "    <tr>\n",
       "      <th>132576</th>\n",
       "      <td>2</td>\n",
       "      <td>2</td>\n",
       "      <td>12</td>\n",
       "      <td>432</td>\n",
       "      <td>22</td>\n",
       "      <td>0</td>\n",
       "      <td>0</td>\n",
       "      <td>4</td>\n",
       "      <td>0</td>\n",
       "      <td>3</td>\n",
       "    </tr>\n",
       "    <tr>\n",
       "      <th>132577</th>\n",
       "      <td>1</td>\n",
       "      <td>2</td>\n",
       "      <td>12</td>\n",
       "      <td>432</td>\n",
       "      <td>22</td>\n",
       "      <td>18</td>\n",
       "      <td>1</td>\n",
       "      <td>4</td>\n",
       "      <td>0</td>\n",
       "      <td>3</td>\n",
       "    </tr>\n",
       "    <tr>\n",
       "      <th>132578</th>\n",
       "      <td>2</td>\n",
       "      <td>2</td>\n",
       "      <td>12</td>\n",
       "      <td>418</td>\n",
       "      <td>8</td>\n",
       "      <td>18</td>\n",
       "      <td>1</td>\n",
       "      <td>4</td>\n",
       "      <td>0</td>\n",
       "      <td>3</td>\n",
       "    </tr>\n",
       "    <tr>\n",
       "      <th>132579</th>\n",
       "      <td>3</td>\n",
       "      <td>4</td>\n",
       "      <td>12</td>\n",
       "      <td>418</td>\n",
       "      <td>8</td>\n",
       "      <td>18</td>\n",
       "      <td>0</td>\n",
       "      <td>4</td>\n",
       "      <td>2</td>\n",
       "      <td>3</td>\n",
       "    </tr>\n",
       "    <tr>\n",
       "      <th>132580</th>\n",
       "      <td>2</td>\n",
       "      <td>3</td>\n",
       "      <td>12</td>\n",
       "      <td>418</td>\n",
       "      <td>8</td>\n",
       "      <td>18</td>\n",
       "      <td>0</td>\n",
       "      <td>4</td>\n",
       "      <td>0</td>\n",
       "      <td>3</td>\n",
       "    </tr>\n",
       "  </tbody>\n",
       "</table>\n",
       "<p>132581 rows × 10 columns</p>\n",
       "</div>"
      ],
      "text/plain": [
       "        Bedrooms  Bathrooms  State  Zipcode  Neighbourhood Cleansed  \\\n",
       "0              1          2      3      364                     543   \n",
       "1              1          3      3      366                     543   \n",
       "2              1          2      3      366                     543   \n",
       "3              2          2      3      366                     543   \n",
       "4              1          2      3      343                     353   \n",
       "...          ...        ...    ...      ...                     ...   \n",
       "132576         2          2     12      432                      22   \n",
       "132577         1          2     12      432                      22   \n",
       "132578         2          2     12      418                       8   \n",
       "132579         3          4     12      418                       8   \n",
       "132580         2          3     12      418                       8   \n",
       "\n",
       "        Property Type  Room Type  Bed Type  Cancellation Policy  \\\n",
       "0                   0          1         4                    4   \n",
       "1                  18          1         4                    0   \n",
       "2                   0          1         4                    2   \n",
       "3                   0          0         4                    0   \n",
       "4                  18          1         4                    4   \n",
       "...               ...        ...       ...                  ...   \n",
       "132576              0          0         4                    0   \n",
       "132577             18          1         4                    0   \n",
       "132578             18          1         4                    0   \n",
       "132579             18          0         4                    2   \n",
       "132580             18          0         4                    0   \n",
       "\n",
       "        Host Response Time  \n",
       "0                        3  \n",
       "1                        1  \n",
       "2                        3  \n",
       "3                        3  \n",
       "4                        3  \n",
       "...                    ...  \n",
       "132576                   3  \n",
       "132577                   3  \n",
       "132578                   3  \n",
       "132579                   3  \n",
       "132580                   3  \n",
       "\n",
       "[132581 rows x 10 columns]"
      ]
     },
     "execution_count": 524,
     "metadata": {},
     "output_type": "execute_result"
    }
   ],
   "source": [
    "df_cat5"
   ]
  },
  {
   "cell_type": "code",
   "execution_count": 375,
   "id": "4c97afae",
   "metadata": {},
   "outputs": [],
   "source": [
    "df_scal3.drop('Host ID',inplace=True,axis=1)"
   ]
  },
  {
   "cell_type": "code",
   "execution_count": 377,
   "id": "eb0a9690",
   "metadata": {},
   "outputs": [],
   "source": [
    "df_finall=pd.concat([df_scal3,df_cat5],axis=1)"
   ]
  },
  {
   "cell_type": "code",
   "execution_count": 378,
   "id": "c739eefb",
   "metadata": {},
   "outputs": [],
   "source": [
    "from sklearn.model_selection import train_test_split"
   ]
  },
  {
   "cell_type": "code",
   "execution_count": 381,
   "id": "cce106b5",
   "metadata": {},
   "outputs": [
    {
     "data": {
      "text/plain": [
       "Index(['Host Response Rate', 'Price', 'Security Deposit', 'Cleaning Fee',\n",
       "       'Guests Included', 'Extra People', 'Minimum Nights', 'Maximum Nights',\n",
       "       'Availability 30', 'Availability 60', 'Availability 90',\n",
       "       'Availability 365', 'Number of Reviews', 'Review Scores Rating',\n",
       "       'Review Scores Accuracy', 'Review Scores Cleanliness',\n",
       "       'Review Scores Checkin', 'Review Scores Communication',\n",
       "       'Review Scores Location', 'Review Scores Value',\n",
       "       'Calculated host listings count', 'Reviews per Month', 'Bedrooms',\n",
       "       'Bathrooms', 'State', 'Zipcode', 'Neighbourhood Cleansed',\n",
       "       'Property Type', 'Room Type', 'Bed Type', 'Cancellation Policy',\n",
       "       'Host Response Time'],\n",
       "      dtype='object')"
      ]
     },
     "execution_count": 381,
     "metadata": {},
     "output_type": "execute_result"
    }
   ],
   "source": [
    "df_finall.columns"
   ]
  },
  {
   "cell_type": "code",
   "execution_count": 386,
   "id": "fb7a46bd",
   "metadata": {},
   "outputs": [],
   "source": [
    "x=df_finall.drop('Price',axis=1)\n",
    "y=df_finall['Price']"
   ]
  },
  {
   "cell_type": "code",
   "execution_count": 532,
   "id": "b49998b3",
   "metadata": {},
   "outputs": [
    {
     "data": {
      "text/html": [
       "<div>\n",
       "<style scoped>\n",
       "    .dataframe tbody tr th:only-of-type {\n",
       "        vertical-align: middle;\n",
       "    }\n",
       "\n",
       "    .dataframe tbody tr th {\n",
       "        vertical-align: top;\n",
       "    }\n",
       "\n",
       "    .dataframe thead th {\n",
       "        text-align: right;\n",
       "    }\n",
       "</style>\n",
       "<table border=\"1\" class=\"dataframe\">\n",
       "  <thead>\n",
       "    <tr style=\"text-align: right;\">\n",
       "      <th></th>\n",
       "      <th>Host Response Rate</th>\n",
       "      <th>Price</th>\n",
       "      <th>Security Deposit</th>\n",
       "      <th>Cleaning Fee</th>\n",
       "      <th>Guests Included</th>\n",
       "      <th>Extra People</th>\n",
       "      <th>Minimum Nights</th>\n",
       "      <th>Maximum Nights</th>\n",
       "      <th>Availability 30</th>\n",
       "      <th>Availability 60</th>\n",
       "      <th>...</th>\n",
       "      <th>Bedrooms</th>\n",
       "      <th>Bathrooms</th>\n",
       "      <th>State</th>\n",
       "      <th>Zipcode</th>\n",
       "      <th>Neighbourhood Cleansed</th>\n",
       "      <th>Property Type</th>\n",
       "      <th>Room Type</th>\n",
       "      <th>Bed Type</th>\n",
       "      <th>Cancellation Policy</th>\n",
       "      <th>Host Response Time</th>\n",
       "    </tr>\n",
       "  </thead>\n",
       "  <tbody>\n",
       "    <tr>\n",
       "      <th>0</th>\n",
       "      <td>0.481716</td>\n",
       "      <td>-2.095774</td>\n",
       "      <td>0.089036</td>\n",
       "      <td>-2.167044</td>\n",
       "      <td>-0.586530</td>\n",
       "      <td>-0.849249</td>\n",
       "      <td>0.759623</td>\n",
       "      <td>0.595088</td>\n",
       "      <td>-0.775691</td>\n",
       "      <td>-1.053552</td>\n",
       "      <td>...</td>\n",
       "      <td>1</td>\n",
       "      <td>2</td>\n",
       "      <td>3</td>\n",
       "      <td>364</td>\n",
       "      <td>543</td>\n",
       "      <td>0</td>\n",
       "      <td>1</td>\n",
       "      <td>4</td>\n",
       "      <td>4</td>\n",
       "      <td>3</td>\n",
       "    </tr>\n",
       "    <tr>\n",
       "      <th>1</th>\n",
       "      <td>0.481716</td>\n",
       "      <td>-1.075218</td>\n",
       "      <td>0.089036</td>\n",
       "      <td>-1.979608</td>\n",
       "      <td>1.053096</td>\n",
       "      <td>1.182500</td>\n",
       "      <td>-1.017317</td>\n",
       "      <td>0.595088</td>\n",
       "      <td>1.497366</td>\n",
       "      <td>1.447391</td>\n",
       "      <td>...</td>\n",
       "      <td>1</td>\n",
       "      <td>3</td>\n",
       "      <td>3</td>\n",
       "      <td>366</td>\n",
       "      <td>543</td>\n",
       "      <td>18</td>\n",
       "      <td>1</td>\n",
       "      <td>4</td>\n",
       "      <td>0</td>\n",
       "      <td>1</td>\n",
       "    </tr>\n",
       "    <tr>\n",
       "      <th>2</th>\n",
       "      <td>0.481716</td>\n",
       "      <td>-1.581762</td>\n",
       "      <td>0.089036</td>\n",
       "      <td>-2.295312</td>\n",
       "      <td>1.053096</td>\n",
       "      <td>0.751315</td>\n",
       "      <td>-1.017317</td>\n",
       "      <td>0.595088</td>\n",
       "      <td>-0.100451</td>\n",
       "      <td>0.075115</td>\n",
       "      <td>...</td>\n",
       "      <td>1</td>\n",
       "      <td>2</td>\n",
       "      <td>3</td>\n",
       "      <td>366</td>\n",
       "      <td>543</td>\n",
       "      <td>0</td>\n",
       "      <td>1</td>\n",
       "      <td>4</td>\n",
       "      <td>2</td>\n",
       "      <td>3</td>\n",
       "    </tr>\n",
       "    <tr>\n",
       "      <th>3</th>\n",
       "      <td>0.481716</td>\n",
       "      <td>-1.075218</td>\n",
       "      <td>0.089036</td>\n",
       "      <td>-1.680426</td>\n",
       "      <td>1.053096</td>\n",
       "      <td>0.388443</td>\n",
       "      <td>-1.017317</td>\n",
       "      <td>0.595088</td>\n",
       "      <td>-0.223200</td>\n",
       "      <td>0.545365</td>\n",
       "      <td>...</td>\n",
       "      <td>2</td>\n",
       "      <td>2</td>\n",
       "      <td>3</td>\n",
       "      <td>366</td>\n",
       "      <td>543</td>\n",
       "      <td>0</td>\n",
       "      <td>0</td>\n",
       "      <td>4</td>\n",
       "      <td>0</td>\n",
       "      <td>3</td>\n",
       "    </tr>\n",
       "    <tr>\n",
       "      <th>4</th>\n",
       "      <td>-1.440080</td>\n",
       "      <td>-1.581762</td>\n",
       "      <td>0.089036</td>\n",
       "      <td>-2.041425</td>\n",
       "      <td>-0.586530</td>\n",
       "      <td>0.388443</td>\n",
       "      <td>0.049218</td>\n",
       "      <td>0.595088</td>\n",
       "      <td>0.125963</td>\n",
       "      <td>0.211564</td>\n",
       "      <td>...</td>\n",
       "      <td>1</td>\n",
       "      <td>2</td>\n",
       "      <td>3</td>\n",
       "      <td>343</td>\n",
       "      <td>353</td>\n",
       "      <td>18</td>\n",
       "      <td>1</td>\n",
       "      <td>4</td>\n",
       "      <td>4</td>\n",
       "      <td>3</td>\n",
       "    </tr>\n",
       "  </tbody>\n",
       "</table>\n",
       "<p>5 rows × 32 columns</p>\n",
       "</div>"
      ],
      "text/plain": [
       "   Host Response Rate     Price  Security Deposit  Cleaning Fee  \\\n",
       "0            0.481716 -2.095774          0.089036     -2.167044   \n",
       "1            0.481716 -1.075218          0.089036     -1.979608   \n",
       "2            0.481716 -1.581762          0.089036     -2.295312   \n",
       "3            0.481716 -1.075218          0.089036     -1.680426   \n",
       "4           -1.440080 -1.581762          0.089036     -2.041425   \n",
       "\n",
       "   Guests Included  Extra People  Minimum Nights  Maximum Nights  \\\n",
       "0        -0.586530     -0.849249        0.759623        0.595088   \n",
       "1         1.053096      1.182500       -1.017317        0.595088   \n",
       "2         1.053096      0.751315       -1.017317        0.595088   \n",
       "3         1.053096      0.388443       -1.017317        0.595088   \n",
       "4        -0.586530      0.388443        0.049218        0.595088   \n",
       "\n",
       "   Availability 30  Availability 60  ...  Bedrooms  Bathrooms  State  Zipcode  \\\n",
       "0        -0.775691        -1.053552  ...         1          2      3      364   \n",
       "1         1.497366         1.447391  ...         1          3      3      366   \n",
       "2        -0.100451         0.075115  ...         1          2      3      366   \n",
       "3        -0.223200         0.545365  ...         2          2      3      366   \n",
       "4         0.125963         0.211564  ...         1          2      3      343   \n",
       "\n",
       "   Neighbourhood Cleansed  Property Type  Room Type  Bed Type  \\\n",
       "0                     543              0          1         4   \n",
       "1                     543             18          1         4   \n",
       "2                     543              0          1         4   \n",
       "3                     543              0          0         4   \n",
       "4                     353             18          1         4   \n",
       "\n",
       "   Cancellation Policy  Host Response Time  \n",
       "0                    4                   3  \n",
       "1                    0                   1  \n",
       "2                    2                   3  \n",
       "3                    0                   3  \n",
       "4                    4                   3  \n",
       "\n",
       "[5 rows x 32 columns]"
      ]
     },
     "execution_count": 532,
     "metadata": {},
     "output_type": "execute_result"
    }
   ],
   "source": [
    "df_finall.head()"
   ]
  },
  {
   "cell_type": "code",
   "execution_count": 387,
   "id": "f70e02f0",
   "metadata": {},
   "outputs": [],
   "source": [
    "xtrain,xtest,ytrain,ytest=train_test_split(x,y,test_size=0.30,random_state=10)"
   ]
  },
  {
   "cell_type": "code",
   "execution_count": 389,
   "id": "f20559c3",
   "metadata": {},
   "outputs": [],
   "source": [
    "from sklearn.linear_model import LinearRegression\n",
    "lr=LinearRegression()\n",
    "model=lr.fit(xtrain,ytrain)\n",
    "pred=model.predict(xtest)"
   ]
  },
  {
   "cell_type": "code",
   "execution_count": 391,
   "id": "d44f93eb",
   "metadata": {},
   "outputs": [],
   "source": [
    "from sklearn.metrics import r2_score"
   ]
  },
  {
   "cell_type": "code",
   "execution_count": 409,
   "id": "ae0f8edc",
   "metadata": {},
   "outputs": [
    {
     "data": {
      "text/plain": [
       "0.5933980349828231"
      ]
     },
     "execution_count": 409,
     "metadata": {},
     "output_type": "execute_result"
    }
   ],
   "source": [
    "r_sq=r2_score(ytest,pred)\n",
    "r_sq"
   ]
  },
  {
   "cell_type": "code",
   "execution_count": 395,
   "id": "09a785ec",
   "metadata": {},
   "outputs": [],
   "source": [
    "from mlxtend.feature_selection import SequentialFeatureSelector as sfs"
   ]
  },
  {
   "cell_type": "code",
   "execution_count": 408,
   "id": "c700e427",
   "metadata": {},
   "outputs": [
    {
     "name": "stdout",
     "output_type": "stream",
     "text": [
      "r2 score 0.595534825564234\n"
     ]
    }
   ],
   "source": [
    "sfsmodel=sfs(estimator=lr,k_features='best',forward=True,cv=5,scoring='r2')\n",
    "sfsmodel.fit(x,y)\n",
    "#print('best features',sfsmodel.k_feature_names)\n",
    "print('r2 score',sfsmodel.k_score_)"
   ]
  },
  {
   "cell_type": "code",
   "execution_count": 438,
   "id": "59b1bce4",
   "metadata": {},
   "outputs": [
    {
     "data": {
      "text/plain": [
       "Ridge()"
      ]
     },
     "execution_count": 438,
     "metadata": {},
     "output_type": "execute_result"
    }
   ],
   "source": [
    "from sklearn.linear_model import Ridge\n",
    "\n",
    "clf = Ridge(alpha=1.0)\n",
    "clf.fit(x,y)\n",
    "Ridge()"
   ]
  },
  {
   "cell_type": "code",
   "execution_count": 440,
   "id": "45a60ebf",
   "metadata": {},
   "outputs": [],
   "source": [
    "from statsmodels.stats.outliers_influence import variance_inflation_factor\n",
    "\n",
    "\n",
    "\n",
    "vif = pd.DataFrame()\n",
    "\n",
    "mylist = []\n",
    "\n",
    "for i in range(x.shape[1]):\n",
    "    mylist.append(variance_inflation_factor(x.values, i))"
   ]
  },
  {
   "cell_type": "code",
   "execution_count": 441,
   "id": "7864f13a",
   "metadata": {},
   "outputs": [
    {
     "data": {
      "text/html": [
       "<div>\n",
       "<style scoped>\n",
       "    .dataframe tbody tr th:only-of-type {\n",
       "        vertical-align: middle;\n",
       "    }\n",
       "\n",
       "    .dataframe tbody tr th {\n",
       "        vertical-align: top;\n",
       "    }\n",
       "\n",
       "    .dataframe thead th {\n",
       "        text-align: right;\n",
       "    }\n",
       "</style>\n",
       "<table border=\"1\" class=\"dataframe\">\n",
       "  <thead>\n",
       "    <tr style=\"text-align: right;\">\n",
       "      <th></th>\n",
       "      <th>Feat</th>\n",
       "      <th>VIF</th>\n",
       "    </tr>\n",
       "  </thead>\n",
       "  <tbody>\n",
       "    <tr>\n",
       "      <th>29</th>\n",
       "      <td>Bed Type</td>\n",
       "      <td>1.030999</td>\n",
       "    </tr>\n",
       "    <tr>\n",
       "      <th>7</th>\n",
       "      <td>Maximum Nights</td>\n",
       "      <td>1.042597</td>\n",
       "    </tr>\n",
       "    <tr>\n",
       "      <th>26</th>\n",
       "      <td>Neighbourhood Cleansed</td>\n",
       "      <td>1.107471</td>\n",
       "    </tr>\n",
       "    <tr>\n",
       "      <th>2</th>\n",
       "      <td>Security Deposit</td>\n",
       "      <td>1.111200</td>\n",
       "    </tr>\n",
       "    <tr>\n",
       "      <th>6</th>\n",
       "      <td>Minimum Nights</td>\n",
       "      <td>1.210726</td>\n",
       "    </tr>\n",
       "    <tr>\n",
       "      <th>27</th>\n",
       "      <td>Property Type</td>\n",
       "      <td>1.261074</td>\n",
       "    </tr>\n",
       "    <tr>\n",
       "      <th>20</th>\n",
       "      <td>Calculated host listings count</td>\n",
       "      <td>1.274105</td>\n",
       "    </tr>\n",
       "    <tr>\n",
       "      <th>30</th>\n",
       "      <td>Cancellation Policy</td>\n",
       "      <td>1.315421</td>\n",
       "    </tr>\n",
       "    <tr>\n",
       "      <th>24</th>\n",
       "      <td>State</td>\n",
       "      <td>1.376350</td>\n",
       "    </tr>\n",
       "    <tr>\n",
       "      <th>18</th>\n",
       "      <td>Review Scores Location</td>\n",
       "      <td>1.380165</td>\n",
       "    </tr>\n",
       "    <tr>\n",
       "      <th>25</th>\n",
       "      <td>Zipcode</td>\n",
       "      <td>1.412957</td>\n",
       "    </tr>\n",
       "    <tr>\n",
       "      <th>1</th>\n",
       "      <td>Host Response Rate</td>\n",
       "      <td>1.493785</td>\n",
       "    </tr>\n",
       "    <tr>\n",
       "      <th>31</th>\n",
       "      <td>Host Response Time</td>\n",
       "      <td>1.520753</td>\n",
       "    </tr>\n",
       "    <tr>\n",
       "      <th>28</th>\n",
       "      <td>Room Type</td>\n",
       "      <td>1.540313</td>\n",
       "    </tr>\n",
       "    <tr>\n",
       "      <th>5</th>\n",
       "      <td>Extra People</td>\n",
       "      <td>1.569452</td>\n",
       "    </tr>\n",
       "    <tr>\n",
       "      <th>23</th>\n",
       "      <td>Bathrooms</td>\n",
       "      <td>1.660662</td>\n",
       "    </tr>\n",
       "    <tr>\n",
       "      <th>3</th>\n",
       "      <td>Cleaning Fee</td>\n",
       "      <td>1.712317</td>\n",
       "    </tr>\n",
       "    <tr>\n",
       "      <th>4</th>\n",
       "      <td>Guests Included</td>\n",
       "      <td>1.733345</td>\n",
       "    </tr>\n",
       "    <tr>\n",
       "      <th>16</th>\n",
       "      <td>Review Scores Checkin</td>\n",
       "      <td>1.747619</td>\n",
       "    </tr>\n",
       "    <tr>\n",
       "      <th>17</th>\n",
       "      <td>Review Scores Communication</td>\n",
       "      <td>1.771573</td>\n",
       "    </tr>\n",
       "    <tr>\n",
       "      <th>13</th>\n",
       "      <td>Review Scores Rating</td>\n",
       "      <td>1.878676</td>\n",
       "    </tr>\n",
       "    <tr>\n",
       "      <th>15</th>\n",
       "      <td>Review Scores Cleanliness</td>\n",
       "      <td>1.905092</td>\n",
       "    </tr>\n",
       "    <tr>\n",
       "      <th>22</th>\n",
       "      <td>Bedrooms</td>\n",
       "      <td>1.920028</td>\n",
       "    </tr>\n",
       "    <tr>\n",
       "      <th>14</th>\n",
       "      <td>Review Scores Accuracy</td>\n",
       "      <td>1.962505</td>\n",
       "    </tr>\n",
       "    <tr>\n",
       "      <th>21</th>\n",
       "      <td>Reviews per Month</td>\n",
       "      <td>1.978345</td>\n",
       "    </tr>\n",
       "    <tr>\n",
       "      <th>11</th>\n",
       "      <td>Availability 365</td>\n",
       "      <td>2.099037</td>\n",
       "    </tr>\n",
       "    <tr>\n",
       "      <th>19</th>\n",
       "      <td>Review Scores Value</td>\n",
       "      <td>2.175127</td>\n",
       "    </tr>\n",
       "    <tr>\n",
       "      <th>12</th>\n",
       "      <td>Number of Reviews</td>\n",
       "      <td>2.258671</td>\n",
       "    </tr>\n",
       "    <tr>\n",
       "      <th>8</th>\n",
       "      <td>Availability 30</td>\n",
       "      <td>8.305158</td>\n",
       "    </tr>\n",
       "    <tr>\n",
       "      <th>10</th>\n",
       "      <td>Availability 90</td>\n",
       "      <td>21.612267</td>\n",
       "    </tr>\n",
       "    <tr>\n",
       "      <th>9</th>\n",
       "      <td>Availability 60</td>\n",
       "      <td>34.510001</td>\n",
       "    </tr>\n",
       "    <tr>\n",
       "      <th>0</th>\n",
       "      <td>const</td>\n",
       "      <td>121.041940</td>\n",
       "    </tr>\n",
       "  </tbody>\n",
       "</table>\n",
       "</div>"
      ],
      "text/plain": [
       "                              Feat         VIF\n",
       "29                        Bed Type    1.030999\n",
       "7                   Maximum Nights    1.042597\n",
       "26          Neighbourhood Cleansed    1.107471\n",
       "2                 Security Deposit    1.111200\n",
       "6                   Minimum Nights    1.210726\n",
       "27                   Property Type    1.261074\n",
       "20  Calculated host listings count    1.274105\n",
       "30             Cancellation Policy    1.315421\n",
       "24                           State    1.376350\n",
       "18          Review Scores Location    1.380165\n",
       "25                         Zipcode    1.412957\n",
       "1               Host Response Rate    1.493785\n",
       "31              Host Response Time    1.520753\n",
       "28                       Room Type    1.540313\n",
       "5                     Extra People    1.569452\n",
       "23                       Bathrooms    1.660662\n",
       "3                     Cleaning Fee    1.712317\n",
       "4                  Guests Included    1.733345\n",
       "16           Review Scores Checkin    1.747619\n",
       "17     Review Scores Communication    1.771573\n",
       "13            Review Scores Rating    1.878676\n",
       "15       Review Scores Cleanliness    1.905092\n",
       "22                        Bedrooms    1.920028\n",
       "14          Review Scores Accuracy    1.962505\n",
       "21               Reviews per Month    1.978345\n",
       "11                Availability 365    2.099037\n",
       "19             Review Scores Value    2.175127\n",
       "12               Number of Reviews    2.258671\n",
       "8                  Availability 30    8.305158\n",
       "10                 Availability 90   21.612267\n",
       "9                  Availability 60   34.510001\n",
       "0                            const  121.041940"
      ]
     },
     "execution_count": 441,
     "metadata": {},
     "output_type": "execute_result"
    }
   ],
   "source": [
    "pd.DataFrame({\"Feat\": x.columns, \n",
    "              \"VIF\": mylist}).sort_values(by = \"VIF\", ascending = True)"
   ]
  },
  {
   "cell_type": "code",
   "execution_count": 439,
   "id": "e583e156",
   "metadata": {},
   "outputs": [
    {
     "data": {
      "image/png": "[encoded data removed]",
      "text/plain": [
       "<Figure size 432x288 with 1 Axes>"
      ]
     },
     "metadata": {},
     "output_type": "display_data"
    }
   ],
   "source": [
    "from scipy.stats import probplot\n",
    "\n",
    "probplot(SLR_model.resid, plot = plt)\n",
    "plt.show()"
   ]
  },
  {
   "cell_type": "code",
   "execution_count": 443,
   "id": "36da3984",
   "metadata": {},
   "outputs": [],
   "source": [
    "# Bresuch Pagan Test:\n",
    "\n",
    "# Ho: Residuals are not Heterskedastic\n",
    "# Ha: Ho is False...\n",
    "\n",
    "predictors = x\n",
    "\n",
    "from statsmodels.stats.diagnostic import het_breuschpagan\n",
    "\n",
    "test = het_breuschpagan(SLR_model.resid, predictors)"
   ]
  },
  {
   "cell_type": "code",
   "execution_count": 444,
   "id": "bce53400",
   "metadata": {},
   "outputs": [
    {
     "data": {
      "text/plain": [
       "0.0"
      ]
     },
     "execution_count": 444,
     "metadata": {},
     "output_type": "execute_result"
    }
   ],
   "source": [
    "test[-1]"
   ]
  },
  {
   "cell_type": "code",
   "execution_count": 509,
   "id": "7e77a843",
   "metadata": {},
   "outputs": [
    {
     "name": "stdout",
     "output_type": "stream",
     "text": [
      "RMSE:  0.7477762265981405\n",
      "r 2scoe 0.4369320939694167\n"
     ]
    }
   ],
   "source": [
    "# Decision Tree Model\n",
    "\n",
    "from sklearn.tree import DecisionTreeRegressor\n",
    "\n",
    "dtree = DecisionTreeRegressor()\n",
    "\n",
    "xtrain, xtest, ytrain, ytest = train_test_split(x, y, \n",
    "                                                test_size = 0.20, random_state = 1)\n",
    "\n",
    "pred1 = dtree.fit(xtrain, ytrain).predict(xtest)\n",
    "print(\"RMSE: \", np.sqrt(mean_squared_error(ytest, pred1)))\n",
    "print('r 2scoe',r2_score(ytest,pred1))"
   ]
  },
  {
   "cell_type": "code",
   "execution_count": 510,
   "id": "d3175143",
   "metadata": {},
   "outputs": [
    {
     "data": {
      "text/plain": [
       "array([0.        , 0.00709137, 0.01253684, 0.06838553, 0.00958252,\n",
       "       0.01648077, 0.01979593, 0.01691663, 0.01060968, 0.01254866,\n",
       "       0.01841815, 0.02118423, 0.02044157, 0.01008185, 0.00246089,\n",
       "       0.00424874, 0.00151972, 0.00160101, 0.01539613, 0.00304994,\n",
       "       0.01504197, 0.02412284, 0.02348615, 0.0994595 , 0.00809856,\n",
       "       0.0871522 , 0.03977828, 0.01075971, 0.40361875, 0.00280134,\n",
       "       0.00756946, 0.0057611 ])"
      ]
     },
     "execution_count": 510,
     "metadata": {},
     "output_type": "execute_result"
    }
   ],
   "source": [
    "dtree.feature_importances_"
   ]
  },
  {
   "cell_type": "code",
   "execution_count": 491,
   "id": "4625524a",
   "metadata": {},
   "outputs": [],
   "source": [
    "from sklearn.ensemble import RandomForestRegressor\n",
    "regressor=RandomForestRegressor(n_estimators=20,random_state=10)\n",
    "regressor.fit(xtrain,ytrain)\n",
    "ypred5=regressor.predict(xtest)"
   ]
  },
  {
   "cell_type": "code",
   "execution_count": 528,
   "id": "361fa106",
   "metadata": {},
   "outputs": [
    {
     "data": {
      "text/plain": [
       "0.5446898767975561"
      ]
     },
     "execution_count": 528,
     "metadata": {},
     "output_type": "execute_result"
    }
   ],
   "source": [
    "a=mean_squared_error(ytest,ypred5)\n",
    "np.sqrt(a)"
   ]
  },
  {
   "cell_type": "code",
   "execution_count": 493,
   "id": "9d010e6a",
   "metadata": {},
   "outputs": [
    {
     "data": {
      "text/plain": [
       "0.2966870618857368"
      ]
     },
     "execution_count": 493,
     "metadata": {},
     "output_type": "execute_result"
    }
   ],
   "source": [
    "a"
   ]
  },
  {
   "cell_type": "code",
   "execution_count": 530,
   "id": "329878f6",
   "metadata": {},
   "outputs": [
    {
     "data": {
      "text/plain": [
       "0.4084174761009801"
      ]
     },
     "execution_count": 530,
     "metadata": {},
     "output_type": "execute_result"
    }
   ],
   "source": [
    "mean_absolute_error(ytest,ypred5)"
   ]
  },
  {
   "cell_type": "code",
   "execution_count": 494,
   "id": "d7efb2fc",
   "metadata": {},
   "outputs": [
    {
     "data": {
      "text/plain": [
       "0.7012443867283534"
      ]
     },
     "execution_count": 494,
     "metadata": {},
     "output_type": "execute_result"
    }
   ],
   "source": [
    "r2_score(ytest,ypred5)"
   ]
  },
  {
   "cell_type": "code",
   "execution_count": 533,
   "id": "9c0b4b47",
   "metadata": {},
   "outputs": [],
   "source": [
    "from sklearn.model_selection import GridSearchCV\n",
    "\n",
    "parameters = {\n",
    "    'n_estimators':(10,50,100,250,500),\n",
    "    'max_depth': (50,150,250),\n",
    "    'min_samples_split':(2,3),\n",
    "    'min_samples_leaf':(1,2,3)\n",
    "}\n"
   ]
  },
  {
   "cell_type": "code",
   "execution_count": 534,
   "id": "cbee3655",
   "metadata": {},
   "outputs": [],
   "source": [
    "import pandas as pd"
   ]
  },
  {
   "cell_type": "code",
   "execution_count": null,
   "id": "150da8b2",
   "metadata": {},
   "outputs": [],
   "source": [
    "grid_search=GridSearchCV(estimator=regressor,param_grid=parameters,cv=5,n_jobs = 1, verbose = 0)\n",
    "grid_search.fit(xtrain,ytrain)"
   ]
  },
  {
   "cell_type": "code",
   "execution_count": 462,
   "id": "a350b3b8",
   "metadata": {
    "scrolled": true
   },
   "outputs": [
    {
     "name": "stderr",
     "output_type": "stream",
     "text": [
      "C:\\Users\\siddharth\\anaconda3\\lib\\site-packages\\seaborn\\_decorators.py:36: FutureWarning: Pass the following variable as a keyword arg: x. From version 0.12, the only valid positional argument will be `data`, and passing other arguments without an explicit keyword will result in an error or misinterpretation.\n",
      "  warnings.warn(\n"
     ]
    },
    {
     "data": {
      "text/plain": [
       "<AxesSubplot:xlabel='Price'>"
      ]
     },
     "execution_count": 462,
     "metadata": {},
     "output_type": "execute_result"
    },
    {
     "data": {
      "image/png": "[encoded data removed]",
      "text/plain": [
       "<Figure size 432x288 with 1 Axes>"
      ]
     },
     "metadata": {},
     "output_type": "display_data"
    }
   ],
   "source": [
    "sns.boxplot(y)"
   ]
  },
  {
   "cell_type": "code",
   "execution_count": 472,
   "id": "65cc47f1",
   "metadata": {},
   "outputs": [
    {
     "data": {
      "text/plain": [
       "0.6549809537577402"
      ]
     },
     "execution_count": 472,
     "metadata": {},
     "output_type": "execute_result"
    }
   ],
   "source": [
    "r2_score(ytest,ypred5)"
   ]
  },
  {
   "cell_type": "code",
   "execution_count": 506,
   "id": "07adfedc",
   "metadata": {},
   "outputs": [
    {
     "data": {
      "text/plain": [
       "0.4084174761009801"
      ]
     },
     "execution_count": 506,
     "metadata": {},
     "output_type": "execute_result"
    }
   ],
   "source": [
    "#from sklearn.metrics import mean_absolute_error\n",
    "mean_absolute_error(ytest,ypred5)"
   ]
  },
  {
   "cell_type": "code",
   "execution_count": null,
   "id": "71ed337a",
   "metadata": {},
   "outputs": [],
   "source": []
  },
  {
   "cell_type": "code",
   "execution_count": 458,
   "id": "81707640",
   "metadata": {},
   "outputs": [
    {
     "name": "stderr",
     "output_type": "stream",
     "text": [
      "C:\\Users\\siddharth\\anaconda3\\lib\\site-packages\\seaborn\\_decorators.py:36: FutureWarning: Pass the following variable as a keyword arg: x. From version 0.12, the only valid positional argument will be `data`, and passing other arguments without an explicit keyword will result in an error or misinterpretation.\n",
      "  warnings.warn(\n"
     ]
    },
    {
     "data": {
      "text/plain": [
       "<AxesSubplot:xlabel='Price'>"
      ]
     },
     "execution_count": 458,
     "metadata": {},
     "output_type": "execute_result"
    },
    {
     "data": {
      "image/png": "[encoded data removed]",
      "text/plain": [
       "<Figure size 432x288 with 1 Axes>"
      ]
     },
     "metadata": {},
     "output_type": "display_data"
    }
   ],
   "source": [
    "sns.boxplot(df1['Price'])"
   ]
  },
  {
   "cell_type": "code",
   "execution_count": 449,
   "id": "b9f1b9dc",
   "metadata": {},
   "outputs": [
    {
     "name": "stdout",
     "output_type": "stream",
     "text": [
      "r2 score 0.000178754159704142\n"
     ]
    }
   ],
   "source": [
    "xtrain, xtest, ytrain, ytest = train_test_split(x,y, test_size = 0.20, random_state = 1)\n",
    "from sklearn.linear_model import Lasso, Ridge, ElasticNet\n",
    "lasso = Lasso()\n",
    "\n",
    "pred2 = lasso.fit(xtrain, ytrain).predict(xtest)\n",
    "\n",
    "np.sqrt(mean_squared_error(ytest, pred2))\n",
    "print('r2 score',r2_score(ytest,pred2))"
   ]
  },
  {
   "cell_type": "code",
   "execution_count": 398,
   "id": "5b673607",
   "metadata": {},
   "outputs": [
    {
     "data": {
      "text/plain": [
       "0.49652072878100617"
      ]
     },
     "execution_count": 398,
     "metadata": {},
     "output_type": "execute_result"
    }
   ],
   "source": [
    "from sklearn.metrics import mean_absolute_error\n",
    "mean_absolute_error(ytest,pred)"
   ]
  },
  {
   "cell_type": "code",
   "execution_count": 400,
   "id": "66c2667b",
   "metadata": {},
   "outputs": [
    {
     "data": {
      "text/plain": [
       "0.40570073887834934"
      ]
     },
     "execution_count": 400,
     "metadata": {},
     "output_type": "execute_result"
    }
   ],
   "source": [
    "from sklearn.metrics import mean_squared_error\n",
    "a=mean_squared_error(ytest,pred)\n",
    "a"
   ]
  },
  {
   "cell_type": "code",
   "execution_count": 401,
   "id": "7e0d6a8c",
   "metadata": {},
   "outputs": [
    {
     "data": {
      "text/plain": [
       "0.6369464175881275"
      ]
     },
     "execution_count": 401,
     "metadata": {},
     "output_type": "execute_result"
    }
   ],
   "source": [
    "np.sqrt(a)"
   ]
  },
  {
   "cell_type": "code",
   "execution_count": 404,
   "id": "34d54cb4",
   "metadata": {},
   "outputs": [
    {
     "data": {
      "text/plain": [
       "0.5932998723332128"
      ]
     },
     "execution_count": 404,
     "metadata": {},
     "output_type": "execute_result"
    }
   ],
   "source": [
    "N=len(df_finall)\n",
    "p=32\n",
    "adj_r2=1-((1-r_sq)*(N-1))/(N-p-1)\n",
    "adj_r2"
   ]
  },
  {
   "cell_type": "code",
   "execution_count": 405,
   "id": "faabc244",
   "metadata": {},
   "outputs": [
    {
     "data": {
      "text/plain": [
       "Host Response Rate                  1.000004\n",
       "Price                               1.000004\n",
       "Security Deposit                    1.000004\n",
       "Cleaning Fee                        1.000004\n",
       "Guests Included                     1.000004\n",
       "Extra People                        1.000004\n",
       "Minimum Nights                      1.000004\n",
       "Maximum Nights                      1.000004\n",
       "Availability 30                     1.000004\n",
       "Availability 60                     1.000004\n",
       "Availability 90                     1.000004\n",
       "Availability 365                    1.000004\n",
       "Number of Reviews                   1.000004\n",
       "Review Scores Rating                1.000004\n",
       "Review Scores Accuracy              1.000004\n",
       "Review Scores Cleanliness           1.000004\n",
       "Review Scores Checkin               1.000004\n",
       "Review Scores Communication         1.000004\n",
       "Review Scores Location              1.000004\n",
       "Review Scores Value                 1.000004\n",
       "Calculated host listings count      1.000004\n",
       "Reviews per Month                   1.000004\n",
       "Bedrooms                            0.883092\n",
       "Bathrooms                           1.198743\n",
       "State                               4.719854\n",
       "Zipcode                           285.568342\n",
       "Neighbourhood Cleansed            363.101888\n",
       "Property Type                       9.561135\n",
       "Room Type                           0.558619\n",
       "Bed Type                            0.433187\n",
       "Cancellation Policy                 1.711815\n",
       "Host Response Time                  0.795167\n",
       "dtype: float64"
      ]
     },
     "execution_count": 405,
     "metadata": {},
     "output_type": "execute_result"
    }
   ],
   "source": [
    "df_finall.std()"
   ]
  },
  {
   "cell_type": "code",
   "execution_count": null,
   "id": "e701fd5a",
   "metadata": {},
   "outputs": [],
   "source": [
    "#['State', 'Zipcode','Neighbourhood Cleansed','Property Type','Room Type','Bed Type','Cancellation Policy','Host Response Time']"
   ]
  },
  {
   "cell_type": "code",
   "execution_count": 274,
   "id": "7a3f7188",
   "metadata": {},
   "outputs": [
    {
     "data": {
      "text/plain": [
       "23         Apartment\n",
       "42         Apartment\n",
       "52         Apartment\n",
       "70         Apartment\n",
       "73         Apartment\n",
       "             ...    \n",
       "132488    Guesthouse\n",
       "132515    Guesthouse\n",
       "132545         House\n",
       "132562    Guesthouse\n",
       "132572         House\n",
       "Name: Property Type, Length: 10851, dtype: object"
      ]
     },
     "execution_count": 274,
     "metadata": {},
     "output_type": "execute_result"
    }
   ],
   "source": [
    "df_cat3.loc[df_cat3['Bedrooms']==0,'Property Type'] "
   ]
  },
  {
   "cell_type": "code",
   "execution_count": 270,
   "id": "f08ba07a",
   "metadata": {},
   "outputs": [
    {
     "data": {
      "text/plain": [
       "23        6.0\n",
       "42        1.0\n",
       "52        3.0\n",
       "70        5.0\n",
       "73        3.0\n",
       "         ... \n",
       "132488    4.0\n",
       "132515    4.0\n",
       "132545    1.0\n",
       "132562    2.0\n",
       "132572    1.0\n",
       "Name: Accommodates, Length: 10851, dtype: object"
      ]
     },
     "execution_count": 270,
     "metadata": {},
     "output_type": "execute_result"
    }
   ],
   "source": [
    "df_cat3.loc[df_cat3['Bedrooms']==0,'Accommodates'] "
   ]
  },
  {
   "cell_type": "code",
   "execution_count": 410,
   "id": "7b79f430",
   "metadata": {},
   "outputs": [
    {
     "data": {
      "text/plain": [
       "Index(['Host ID', 'Host Response Rate', 'Price', 'Security Deposit',\n",
       "       'Cleaning Fee', 'Guests Included', 'Extra People', 'Minimum Nights',\n",
       "       'Maximum Nights', 'Availability 30', 'Availability 60',\n",
       "       'Availability 90', 'Availability 365', 'Number of Reviews',\n",
       "       'Review Scores Rating', 'Review Scores Accuracy',\n",
       "       'Review Scores Cleanliness', 'Review Scores Checkin',\n",
       "       'Review Scores Communication', 'Review Scores Location',\n",
       "       'Review Scores Value', 'Calculated host listings count',\n",
       "       'Reviews per Month'],\n",
       "      dtype='object')"
      ]
     },
     "execution_count": 410,
     "metadata": {},
     "output_type": "execute_result"
    }
   ],
   "source": [
    "df_num3.columns"
   ]
  },
  {
   "cell_type": "code",
   "execution_count": null,
   "id": "dfe4aa5b",
   "metadata": {},
   "outputs": [],
   "source": [
    "F"
   ]
  },
  {
   "cell_type": "code",
   "execution_count": null,
   "id": "de2036c5",
   "metadata": {},
   "outputs": [],
   "source": [
    "import scipy.stats as stats\n",
    "stats.ttest_ind(df1['Extra People'],df1['Price'])"
   ]
  },
  {
   "cell_type": "code",
   "execution_count": 437,
   "id": "bee8a0cd",
   "metadata": {},
   "outputs": [
    {
     "name": "stderr",
     "output_type": "stream",
     "text": [
      "C:\\Users\\siddharth\\anaconda3\\lib\\site-packages\\seaborn\\_decorators.py:36: FutureWarning: Pass the following variables as keyword args: x, y. From version 0.12, the only valid positional argument will be `data`, and passing other arguments without an explicit keyword will result in an error or misinterpretation.\n",
      "  warnings.warn(\n"
     ]
    },
    {
     "data": {
      "image/png": "[encoded data removed]",
      "text/plain": [
       "<Figure size 432x288 with 1 Axes>"
      ]
     },
     "metadata": {},
     "output_type": "display_data"
    }
   ],
   "source": [
    "import matplotlib.pyplot as plt\n",
    "import seaborn as sns\n",
    "\n",
    "sns.set_style(\"whitegrid\") # theme of plot...\n",
    "\n",
    "sns.residplot(SLR_model.fittedvalues, SLR_model.resid, color = \"m\")\n",
    "plt.xlabel(\"Fitted Values\")\n",
    "plt.ylabel(\"Residual Values\")\n",
    "plt.title(\"Residual Plot\")\n",
    "plt.show()\n",
    "\n"
   ]
  },
  {
   "cell_type": "code",
   "execution_count": null,
   "id": "9b161e2c",
   "metadata": {},
   "outputs": [],
   "source": []
  },
  {
   "cell_type": "code",
   "execution_count": null,
   "id": "c5d9ac01",
   "metadata": {},
   "outputs": [],
   "source": []
  },
  {
   "cell_type": "code",
   "execution_count": 423,
   "id": "98f89048",
   "metadata": {},
   "outputs": [
    {
     "data": {
      "text/plain": [
       "Host ID                           0\n",
       "Host Response Rate                0\n",
       "Price                             0\n",
       "Security Deposit                  0\n",
       "Cleaning Fee                      0\n",
       "Guests Included                   0\n",
       "Extra People                      0\n",
       "Minimum Nights                    0\n",
       "Maximum Nights                    0\n",
       "Availability 30                   0\n",
       "Availability 60                   0\n",
       "Availability 90                   0\n",
       "Availability 365                  0\n",
       "Number of Reviews                 0\n",
       "Review Scores Rating              0\n",
       "Review Scores Accuracy            0\n",
       "Review Scores Cleanliness         0\n",
       "Review Scores Checkin             0\n",
       "Review Scores Communication       0\n",
       "Review Scores Location            0\n",
       "Review Scores Value               0\n",
       "Calculated host listings count    0\n",
       "Reviews per Month                 0\n",
       "dtype: int64"
      ]
     },
     "execution_count": 423,
     "metadata": {},
     "output_type": "execute_result"
    }
   ],
   "source": [
    "df_num3.isnull().sum()"
   ]
  },
  {
   "cell_type": "code",
   "execution_count": 425,
   "id": "969b56a8",
   "metadata": {},
   "outputs": [
    {
     "data": {
      "text/plain": [
       "array([250., 200., 135., 500., 150., 100.,  95., 400., 300.,   0., 399.,\n",
       "       700., 385., 350., 249., 900., 125., 130., 195., 199., 450., 750.,\n",
       "        99., 140., 299., 170., 180., 699., 550., 133., 600., 530., 327.,\n",
       "       745., 800., 325., 345., 175., 499., 275., 126., 120., 160., 425.,\n",
       "       165., 999., 375., 736., 225., 969., 475., 495., 265., 149., 650.,\n",
       "       306., 145., 185., 307., 220., 525., 144., 123., 269., 395., 110.,\n",
       "       259., 850., 950., 396., 242., 197., 535., 390., 202., 243., 998.,\n",
       "       510., 119., 380., 349., 295., 744., 290., 280., 286., 555., 230.,\n",
       "       101., 444., 190., 115., 298., 289., 260., 240., 420., 108.,  98.,\n",
       "       174., 215., 595., 625., 105., 109., 198., 411., 845., 458., 369.,\n",
       "       320., 141., 113., 264., 330., 899., 875., 297., 229., 137., 179.,\n",
       "       194., 955.,  97., 337., 543., 545., 107., 575., 129., 155., 159.,\n",
       "       285., 565., 333., 440., 666., 335., 449., 467., 995., 975., 504.,\n",
       "       219., 895., 397., 360., 266., 382., 675., 205., 980., 341., 222.,\n",
       "       111., 446., 398., 515., 429., 474., 312., 173., 644., 445., 785.,\n",
       "       522., 258., 210., 775., 348., 485., 599., 208., 245., 201., 990.,\n",
       "       498., 663., 490., 799., 134., 169., 278., 494., 539., 483., 795.,\n",
       "       480., 477., 537., 695., 247., 428., 203., 244., 415., 302., 147.,\n",
       "       370., 436., 389., 985., 568., 355., 780., 865., 270., 481., 340.,\n",
       "       725., 315., 466., 759., 387., 153., 301., 127., 164., 328., 223.,\n",
       "       248., 540., 777., 128., 749., 117., 520., 288., 142., 296., 455.,\n",
       "       246., 167., 184., 532., 949., 116.,  96., 189., 460., 102., 531.,\n",
       "       751., 139., 118., 236., 217., 218., 254., 655., 546., 640., 585.,\n",
       "       228., 408., 740., 314., 103., 930., 124., 304., 214., 257., 580.,\n",
       "        85., 690., 392., 880., 310., 548., 501., 901., 251., 151., 148.,\n",
       "       760., 680., 423., 493., 272., 465.])"
      ]
     },
     "execution_count": 425,
     "metadata": {},
     "output_type": "execute_result"
    }
   ],
   "source": [
    "df_num3['Security Deposit'].unique()"
   ]
  },
  {
   "cell_type": "code",
   "execution_count": 422,
   "id": "aefd25d8",
   "metadata": {},
   "outputs": [
    {
     "name": "stdout",
     "output_type": "stream",
     "text": [
      "Host ID - Ttest_indResult(statistic=352.56853686349626, pvalue=0.0)\n",
      "Host Response Rate - Ttest_indResult(statistic=nan, pvalue=nan)\n",
      "Price - Ttest_indResult(statistic=0.0, pvalue=1.0)\n",
      "Security Deposit - Ttest_indResult(statistic=nan, pvalue=nan)\n",
      "Cleaning Fee - Ttest_indResult(statistic=nan, pvalue=nan)\n",
      "Guests Included - Ttest_indResult(statistic=-410.948989916278, pvalue=0.0)\n",
      "Extra People - Ttest_indResult(statistic=-376.7669006300162, pvalue=0.0)\n",
      "Minimum Nights - Ttest_indResult(statistic=-405.35567364129844, pvalue=0.0)\n",
      "Maximum Nights - Ttest_indResult(statistic=3.26605546787166, pvalue=0.0010907072221935125)\n",
      "Availability 30 - Ttest_indResult(statistic=-385.9087758658801, pvalue=0.0)\n",
      "Availability 60 - Ttest_indResult(statistic=-345.2906989702549, pvalue=0.0)\n",
      "Availability 90 - Ttest_indResult(statistic=-297.8685068910828, pvalue=0.0)\n",
      "Availability 365 - Ttest_indResult(statistic=23.221114648051184, pvalue=3.667912009893039e-119)\n",
      "Number of Reviews - Ttest_indResult(statistic=-348.9945333685465, pvalue=0.0)\n",
      "Review Scores Rating - Ttest_indResult(statistic=nan, pvalue=nan)\n",
      "Review Scores Accuracy - Ttest_indResult(statistic=nan, pvalue=nan)\n",
      "Review Scores Cleanliness - Ttest_indResult(statistic=nan, pvalue=nan)\n",
      "Review Scores Checkin - Ttest_indResult(statistic=nan, pvalue=nan)\n",
      "Review Scores Communication - Ttest_indResult(statistic=nan, pvalue=nan)\n",
      "Review Scores Location - Ttest_indResult(statistic=nan, pvalue=nan)\n",
      "Review Scores Value - Ttest_indResult(statistic=nan, pvalue=nan)\n",
      "Calculated host listings count - Ttest_indResult(statistic=-405.25223951819, pvalue=0.0)\n",
      "Reviews per Month - Ttest_indResult(statistic=nan, pvalue=nan)\n"
     ]
    }
   ],
   "source": [
    "for i in df_num3.columns:\n",
    "    print(i,'-',stats.ttest_ind(df_num[i],df1['Price']))"
   ]
  },
  {
   "cell_type": "code",
   "execution_count": 428,
   "id": "75a01d09",
   "metadata": {},
   "outputs": [
    {
     "data": {
      "text/plain": [
       "1191"
      ]
     },
     "execution_count": 428,
     "metadata": {},
     "output_type": "execute_result"
    }
   ],
   "source": [
    "df_num3['Reviews per Month'].nunique()"
   ]
  },
  {
   "cell_type": "code",
   "execution_count": 419,
   "id": "171f68c1",
   "metadata": {},
   "outputs": [
    {
     "data": {
      "text/plain": [
       "0"
      ]
     },
     "execution_count": 419,
     "metadata": {},
     "output_type": "execute_result"
    }
   ],
   "source": [
    "df1['Price']"
   ]
  },
  {
   "cell_type": "code",
   "execution_count": 429,
   "id": "72a6aee7",
   "metadata": {},
   "outputs": [],
   "source": [
    "import statsmodels\n",
    "import statsmodels.api as sm\n",
    "import statsmodels.stats.api as sms\n",
    "from statsmodels.compat import lzip\n",
    "from statsmodels.stats.outliers_influence import variance_inflation_factor\n",
    "from statsmodels.graphics.gofplots import qqplot\n",
    "from statsmodels.stats.anova import anova_lm\n",
    "from statsmodels.formula.api import ols\n",
    "from statsmodels.tools.eval_measures import rmse"
   ]
  },
  {
   "cell_type": "code",
   "execution_count": 430,
   "id": "1721ae87",
   "metadata": {},
   "outputs": [
    {
     "name": "stderr",
     "output_type": "stream",
     "text": [
      "C:\\Users\\siddharth\\anaconda3\\lib\\site-packages\\statsmodels\\tsa\\tsatools.py:142: FutureWarning: In a future version of pandas all arguments of concat except for the argument 'objs' will be keyword-only\n",
      "  x = pd.concat(x[::order], 1)\n"
     ]
    },
    {
     "name": "stdout",
     "output_type": "stream",
     "text": [
      "                            OLS Regression Results                            \n",
      "==============================================================================\n",
      "Dep. Variable:                  Price   R-squared:                       0.597\n",
      "Model:                            OLS   Adj. R-squared:                  0.597\n",
      "Method:                 Least Squares   F-statistic:                     6327.\n",
      "Date:                Sun, 17 Apr 2022   Prob (F-statistic):               0.00\n",
      "Time:                        19:10:17   Log-Likelihood:            -1.2792e+05\n",
      "No. Observations:              132581   AIC:                         2.559e+05\n",
      "Df Residuals:                  132549   BIC:                         2.562e+05\n",
      "Df Model:                          31                                         \n",
      "Covariance Type:            nonrobust                                         \n",
      "==================================================================================================\n",
      "                                     coef    std err          t      P>|t|      [0.025      0.975]\n",
      "--------------------------------------------------------------------------------------------------\n",
      "const                             -0.1748      0.019     -9.111      0.000      -0.212      -0.137\n",
      "Host Response Rate                 0.0086      0.002      4.023      0.000       0.004       0.013\n",
      "Security Deposit                   0.0520      0.002     28.307      0.000       0.048       0.056\n",
      "Cleaning Fee                       0.2216      0.002     97.071      0.000       0.217       0.226\n",
      "Guests Included                    0.0403      0.002     17.564      0.000       0.036       0.045\n",
      "Extra People                      -0.0406      0.002    -18.581      0.000      -0.045      -0.036\n",
      "Minimum Nights                    -0.0590      0.002    -30.753      0.000      -0.063      -0.055\n",
      "Maximum Nights                     0.0025      0.002      1.421      0.155      -0.001       0.006\n",
      "Availability 30                    0.0703      0.005     13.982      0.000       0.060       0.080\n",
      "Availability 60                   -0.0243      0.010     -2.371      0.018      -0.044      -0.004\n",
      "Availability 90                    0.0461      0.008      5.689      0.000       0.030       0.062\n",
      "Availability 365                  -0.0052      0.003     -2.059      0.039      -0.010      -0.000\n",
      "Number of Reviews                 -0.0112      0.003     -4.264      0.000      -0.016      -0.006\n",
      "Review Scores Rating              -0.0099      0.002     -4.148      0.000      -0.015      -0.005\n",
      "Review Scores Accuracy             0.0176      0.002      7.200      0.000       0.013       0.022\n",
      "Review Scores Cleanliness          0.0559      0.002     23.211      0.000       0.051       0.061\n",
      "Review Scores Checkin              0.0032      0.002      1.376      0.169      -0.001       0.008\n",
      "Review Scores Communication     3.184e-05      0.002      0.014      0.989      -0.005       0.005\n",
      "Review Scores Location             0.1311      0.002     63.954      0.000       0.127       0.135\n",
      "Review Scores Value               -0.0660      0.003    -25.658      0.000      -0.071      -0.061\n",
      "Calculated host listings count    -0.0474      0.002    -24.084      0.000      -0.051      -0.044\n",
      "Reviews per Month                 -0.0661      0.002    -26.962      0.000      -0.071      -0.061\n",
      "Bedrooms                           0.2367      0.003     86.495      0.000       0.231       0.242\n",
      "Bathrooms                          0.0719      0.002     38.324      0.000       0.068       0.076\n",
      "State                             -0.0026      0.000     -5.968      0.000      -0.003      -0.002\n",
      "Zipcode                           -0.0002   7.26e-06    -32.945      0.000      -0.000      -0.000\n",
      "Neighbourhood Cleansed          2.254e-05   5.06e-06      4.459      0.000    1.26e-05    3.24e-05\n",
      "Property Type                     -0.0009      0.000     -4.433      0.000      -0.001      -0.001\n",
      "Room Type                         -0.7890      0.004   -203.599      0.000      -0.797      -0.781\n",
      "Bed Type                           0.0191      0.004      4.681      0.000       0.011       0.027\n",
      "Cancellation Policy                0.0094      0.001      8.008      0.000       0.007       0.012\n",
      "Host Response Time                 0.0186      0.003      6.865      0.000       0.013       0.024\n",
      "==============================================================================\n",
      "Omnibus:                     3985.588   Durbin-Watson:                   1.650\n",
      "Prob(Omnibus):                  0.000   Jarque-Bera (JB):             5901.773\n",
      "Skew:                           0.311   Prob(JB):                         0.00\n",
      "Kurtosis:                       3.826   Cond. No.                     8.97e+03\n",
      "==============================================================================\n",
      "\n",
      "Notes:\n",
      "[1] Standard Errors assume that the covariance matrix of the errors is correctly specified.\n",
      "[2] The condition number is large, 8.97e+03. This might indicate that there are\n",
      "strong multicollinearity or other numerical problems.\n"
     ]
    }
   ],
   "source": [
    "import statsmodels\n",
    "import statsmodels.api as sm\n",
    "x= sm.add_constant(x)\n",
    "\n",
    "\n",
    "\n",
    "# building a model with an intercept\n",
    "# fit() is used to fit the OLS model\n",
    "SLR_model = sm.OLS(y,x).fit()\n",
    "print(SLR_model.summary())"
   ]
  },
  {
   "cell_type": "code",
   "execution_count": 432,
   "id": "de578cae",
   "metadata": {},
   "outputs": [
    {
     "data": {
      "text/plain": [
       "Jarque_beraResult(statistic=5901.772913439435, pvalue=0.0)"
      ]
     },
     "execution_count": 432,
     "metadata": {},
     "output_type": "execute_result"
    }
   ],
   "source": [
    "stats.jarque_bera(SLR_model.resid)"
   ]
  },
  {
   "cell_type": "code",
   "execution_count": 434,
   "id": "d7e4cdb1",
   "metadata": {},
   "outputs": [
    {
     "name": "stderr",
     "output_type": "stream",
     "text": [
      "C:\\Users\\siddharth\\anaconda3\\lib\\site-packages\\scipy\\stats\\morestats.py:1760: UserWarning: p-value may not be accurate for N > 5000.\n",
      "  warnings.warn(\"p-value may not be accurate for N > 5000.\")\n"
     ]
    },
    {
     "data": {
      "text/plain": [
       "ShapiroResult(statistic=0.9837801456451416, pvalue=0.0)"
      ]
     },
     "execution_count": 434,
     "metadata": {},
     "output_type": "execute_result"
    }
   ],
   "source": [
    "from scipy.stats import shapiro\n",
    "shapiro(y)"
   ]
  },
  {
   "cell_type": "code",
   "execution_count": 442,
   "id": "1def3c91",
   "metadata": {},
   "outputs": [
    {
     "name": "stdout",
     "output_type": "stream",
     "text": [
      "DW Statistic:  1.6500724898375687\n"
     ]
    }
   ],
   "source": [
    "from statsmodels.stats.stattools import durbin_watson\n",
    "\n",
    "print(\"DW Statistic: \", durbin_watson(SLR_model.resid))"
   ]
  },
  {
   "cell_type": "code",
   "execution_count": 435,
   "id": "01a1a0c6",
   "metadata": {},
   "outputs": [
    {
     "name": "stderr",
     "output_type": "stream",
     "text": [
      "C:\\Users\\siddharth\\anaconda3\\lib\\site-packages\\seaborn\\distributions.py:2619: FutureWarning: `distplot` is a deprecated function and will be removed in a future version. Please adapt your code to use either `displot` (a figure-level function with similar flexibility) or `histplot` (an axes-level function for histograms).\n",
      "  warnings.warn(msg, FutureWarning)\n"
     ]
    },
    {
     "data": {
      "text/plain": [
       "<AxesSubplot:xlabel='Price', ylabel='Density'>"
      ]
     },
     "execution_count": 435,
     "metadata": {},
     "output_type": "execute_result"
    },
    {
     "data": {
      "image/png": "[encoded data removed]",
      "text/plain": [
       "<Figure size 432x288 with 1 Axes>"
      ]
     },
     "metadata": {
      "needs_background": "light"
     },
     "output_type": "display_data"
    }
   ],
   "source": [
    "sns.distplot(y)"
   ]
  },
  {
   "cell_type": "code",
   "execution_count": 436,
   "id": "7803e768",
   "metadata": {},
   "outputs": [
    {
     "data": {
      "text/plain": [
       "0.183304280400322"
      ]
     },
     "execution_count": 436,
     "metadata": {},
     "output_type": "execute_result"
    }
   ],
   "source": [
    "y.skew()"
   ]
  },
  {
   "cell_type": "code",
   "execution_count": 433,
   "id": "deb97301",
   "metadata": {},
   "outputs": [
    {
     "data": {
      "text/plain": [
       "(0.9958839597598064, 0.7022577573055457)"
      ]
     },
     "execution_count": 433,
     "metadata": {},
     "output_type": "execute_result"
    }
   ],
   "source": [
    "import statsmodels.api as sma\n",
    "\n",
    "sma.stats.diagnostic.linear_rainbow(SLR_model)"
   ]
  },
  {
   "cell_type": "code",
   "execution_count": null,
   "id": "86c1610b",
   "metadata": {},
   "outputs": [],
   "source": [
    "# finish#######################################3"
   ]
  },
  {
   "cell_type": "code",
   "execution_count": null,
   "id": "fde4842f",
   "metadata": {},
   "outputs": [],
   "source": [
    "#####################################################"
   ]
  },
  {
   "cell_type": "code",
   "execution_count": null,
   "id": "f5101c31",
   "metadata": {},
   "outputs": [],
   "source": []
  },
  {
   "cell_type": "code",
   "execution_count": null,
   "id": "92b96ecb",
   "metadata": {},
   "outputs": [],
   "source": []
  },
  {
   "cell_type": "code",
   "execution_count": null,
   "id": "40834f0a",
   "metadata": {},
   "outputs": [],
   "source": []
  },
  {
   "cell_type": "code",
   "execution_count": null,
   "id": "6352662f",
   "metadata": {},
   "outputs": [],
   "source": []
  },
  {
   "cell_type": "code",
   "execution_count": 10,
   "id": "fd5336e4",
   "metadata": {},
   "outputs": [
    {
     "data": {
      "text/plain": [
       "(132581, 32)"
      ]
     },
     "execution_count": 10,
     "metadata": {},
     "output_type": "execute_result"
    }
   ],
   "source": [
    "df1_n.shape"
   ]
  },
  {
   "cell_type": "code",
   "execution_count": 11,
   "id": "fe385118",
   "metadata": {},
   "outputs": [],
   "source": [
    "df1_c = df1.select_dtypes(include = object)"
   ]
  },
  {
   "cell_type": "code",
   "execution_count": 12,
   "id": "2088485b",
   "metadata": {},
   "outputs": [
    {
     "data": {
      "text/plain": [
       "(132581, 47)"
      ]
     },
     "execution_count": 12,
     "metadata": {},
     "output_type": "execute_result"
    }
   ],
   "source": [
    "df1_c.shape"
   ]
  },
  {
   "cell_type": "code",
   "execution_count": 13,
   "id": "254c2742",
   "metadata": {},
   "outputs": [
    {
     "data": {
      "text/html": [
       "<div>\n",
       "<style scoped>\n",
       "    .dataframe tbody tr th:only-of-type {\n",
       "        vertical-align: middle;\n",
       "    }\n",
       "\n",
       "    .dataframe tbody tr th {\n",
       "        vertical-align: top;\n",
       "    }\n",
       "\n",
       "    .dataframe thead th {\n",
       "        text-align: right;\n",
       "    }\n",
       "</style>\n",
       "<table border=\"1\" class=\"dataframe\">\n",
       "  <thead>\n",
       "    <tr style=\"text-align: right;\">\n",
       "      <th></th>\n",
       "      <th>ID</th>\n",
       "      <th>Scrape ID</th>\n",
       "      <th>Last Scraped</th>\n",
       "      <th>Name</th>\n",
       "      <th>Summary</th>\n",
       "      <th>Space</th>\n",
       "      <th>Description</th>\n",
       "      <th>Experiences Offered</th>\n",
       "      <th>Neighborhood Overview</th>\n",
       "      <th>Notes</th>\n",
       "      <th>...</th>\n",
       "      <th>Calendar Updated</th>\n",
       "      <th>Has Availability</th>\n",
       "      <th>Calendar last Scraped</th>\n",
       "      <th>First Review</th>\n",
       "      <th>Last Review</th>\n",
       "      <th>License</th>\n",
       "      <th>Jurisdiction Names</th>\n",
       "      <th>Cancellation Policy</th>\n",
       "      <th>Geolocation</th>\n",
       "      <th>Features</th>\n",
       "    </tr>\n",
       "  </thead>\n",
       "  <tbody>\n",
       "    <tr>\n",
       "      <th>409</th>\n",
       "      <td>4917301</td>\n",
       "      <td>20170502172350</td>\n",
       "      <td>2017-05-02</td>\n",
       "      <td>Studio Under House!</td>\n",
       "      <td>This studio is fantastic! Such a beautiful spa...</td>\n",
       "      <td>NaN</td>\n",
       "      <td>This studio is fantastic! Such a beautiful spa...</td>\n",
       "      <td>none</td>\n",
       "      <td>NaN</td>\n",
       "      <td>NaN</td>\n",
       "      <td>...</td>\n",
       "      <td>29 months ago</td>\n",
       "      <td>NaN</td>\n",
       "      <td>2017-05-02</td>\n",
       "      <td>NaN</td>\n",
       "      <td>NaN</td>\n",
       "      <td>NaN</td>\n",
       "      <td>City of Los Angeles, CA</td>\n",
       "      <td>flexible</td>\n",
       "      <td>34.14775649234191,-118.59133780081316</td>\n",
       "      <td>Host Has Profile Pic,Is Location Exact</td>\n",
       "    </tr>\n",
       "    <tr>\n",
       "      <th>410</th>\n",
       "      <td>18240041</td>\n",
       "      <td>20170502172350</td>\n",
       "      <td>2017-05-03</td>\n",
       "      <td>4BD/3.5Bth Pool Home w/ Game Room in the Hills</td>\n",
       "      <td>Charming and grand, yet comfortable pool home!...</td>\n",
       "      <td>-4 bedrooms (each w/ queen beds) -3.5 bathroom...</td>\n",
       "      <td>Charming and grand, yet comfortable pool home!...</td>\n",
       "      <td>none</td>\n",
       "      <td>Woodland Hills is a very nice and affluent cit...</td>\n",
       "      <td>NaN</td>\n",
       "      <td>...</td>\n",
       "      <td>today</td>\n",
       "      <td>NaN</td>\n",
       "      <td>2017-05-03</td>\n",
       "      <td>NaN</td>\n",
       "      <td>NaN</td>\n",
       "      <td>NaN</td>\n",
       "      <td>City of Los Angeles, CA</td>\n",
       "      <td>flexible</td>\n",
       "      <td>34.164597238320674,-118.60051225075456</td>\n",
       "      <td>Host Has Profile Pic,Host Identity Verified,Is...</td>\n",
       "    </tr>\n",
       "    <tr>\n",
       "      <th>411</th>\n",
       "      <td>16087084</td>\n",
       "      <td>20170502172350</td>\n",
       "      <td>2017-05-03</td>\n",
       "      <td>Cozy &amp; Comfy Private Unit</td>\n",
       "      <td>Cozy unit , 1 Bedroom with own entrance,  own ...</td>\n",
       "      <td>NaN</td>\n",
       "      <td>Cozy unit , 1 Bedroom with own entrance,  own ...</td>\n",
       "      <td>none</td>\n",
       "      <td>NaN</td>\n",
       "      <td>NaN</td>\n",
       "      <td>...</td>\n",
       "      <td>yesterday</td>\n",
       "      <td>NaN</td>\n",
       "      <td>2017-05-03</td>\n",
       "      <td>NaN</td>\n",
       "      <td>NaN</td>\n",
       "      <td>NaN</td>\n",
       "      <td>City of Los Angeles, CA</td>\n",
       "      <td>flexible</td>\n",
       "      <td>34.18314959441673,-118.64506375427663</td>\n",
       "      <td>Host Has Profile Pic,Is Location Exact</td>\n",
       "    </tr>\n",
       "    <tr>\n",
       "      <th>412</th>\n",
       "      <td>8384432</td>\n",
       "      <td>20170502172350</td>\n",
       "      <td>2017-05-03</td>\n",
       "      <td>Woodland Hills, near golf course</td>\n",
       "      <td>Woodland Hills South of Blvd. home located amo...</td>\n",
       "      <td>Home is a two story building that sits above s...</td>\n",
       "      <td>Woodland Hills South of Blvd. home located amo...</td>\n",
       "      <td>none</td>\n",
       "      <td>NaN</td>\n",
       "      <td>Smokers please do not make inquiries.</td>\n",
       "      <td>...</td>\n",
       "      <td>2 weeks ago</td>\n",
       "      <td>NaN</td>\n",
       "      <td>2017-05-03</td>\n",
       "      <td>2016-05-03</td>\n",
       "      <td>2016-09-20</td>\n",
       "      <td>NaN</td>\n",
       "      <td>City of Los Angeles, CA</td>\n",
       "      <td>strict</td>\n",
       "      <td>34.1485944277486,-118.59668371602694</td>\n",
       "      <td>Host Has Profile Pic,Host Identity Verified,Is...</td>\n",
       "    </tr>\n",
       "    <tr>\n",
       "      <th>413</th>\n",
       "      <td>13125344</td>\n",
       "      <td>20170502172350</td>\n",
       "      <td>2017-05-03</td>\n",
       "      <td>VINTAGE MALIBU ADJACENT TOWN HOME W/POOL &amp; SPA</td>\n",
       "      <td>Charming vintage beach-style town home. 3 bedr...</td>\n",
       "      <td>Gorgeous 2000 Sq.Ft. home. Front yard with sma...</td>\n",
       "      <td>Charming vintage beach-style town home. 3 bedr...</td>\n",
       "      <td>none</td>\n",
       "      <td>Woodland Hills sits in the valley next to the ...</td>\n",
       "      <td>NaN</td>\n",
       "      <td>...</td>\n",
       "      <td>today</td>\n",
       "      <td>NaN</td>\n",
       "      <td>2017-05-03</td>\n",
       "      <td>2016-07-06</td>\n",
       "      <td>2016-11-13</td>\n",
       "      <td>NaN</td>\n",
       "      <td>City of Los Angeles, CA</td>\n",
       "      <td>moderate</td>\n",
       "      <td>34.17424461023367,-118.60587598007206</td>\n",
       "      <td>Host Is Superhost,Host Has Profile Pic,Host Id...</td>\n",
       "    </tr>\n",
       "  </tbody>\n",
       "</table>\n",
       "<p>5 rows × 47 columns</p>\n",
       "</div>"
      ],
      "text/plain": [
       "           ID       Scrape ID Last Scraped  \\\n",
       "409   4917301  20170502172350   2017-05-02   \n",
       "410  18240041  20170502172350   2017-05-03   \n",
       "411  16087084  20170502172350   2017-05-03   \n",
       "412   8384432  20170502172350   2017-05-03   \n",
       "413  13125344  20170502172350   2017-05-03   \n",
       "\n",
       "                                               Name  \\\n",
       "409                             Studio Under House!   \n",
       "410  4BD/3.5Bth Pool Home w/ Game Room in the Hills   \n",
       "411                       Cozy & Comfy Private Unit   \n",
       "412                Woodland Hills, near golf course   \n",
       "413  VINTAGE MALIBU ADJACENT TOWN HOME W/POOL & SPA   \n",
       "\n",
       "                                               Summary  \\\n",
       "409  This studio is fantastic! Such a beautiful spa...   \n",
       "410  Charming and grand, yet comfortable pool home!...   \n",
       "411  Cozy unit , 1 Bedroom with own entrance,  own ...   \n",
       "412  Woodland Hills South of Blvd. home located amo...   \n",
       "413  Charming vintage beach-style town home. 3 bedr...   \n",
       "\n",
       "                                                 Space  \\\n",
       "409                                                NaN   \n",
       "410  -4 bedrooms (each w/ queen beds) -3.5 bathroom...   \n",
       "411                                                NaN   \n",
       "412  Home is a two story building that sits above s...   \n",
       "413  Gorgeous 2000 Sq.Ft. home. Front yard with sma...   \n",
       "\n",
       "                                           Description Experiences Offered  \\\n",
       "409  This studio is fantastic! Such a beautiful spa...                none   \n",
       "410  Charming and grand, yet comfortable pool home!...                none   \n",
       "411  Cozy unit , 1 Bedroom with own entrance,  own ...                none   \n",
       "412  Woodland Hills South of Blvd. home located amo...                none   \n",
       "413  Charming vintage beach-style town home. 3 bedr...                none   \n",
       "\n",
       "                                 Neighborhood Overview  \\\n",
       "409                                                NaN   \n",
       "410  Woodland Hills is a very nice and affluent cit...   \n",
       "411                                                NaN   \n",
       "412                                                NaN   \n",
       "413  Woodland Hills sits in the valley next to the ...   \n",
       "\n",
       "                                     Notes  ... Calendar Updated  \\\n",
       "409                                    NaN  ...    29 months ago   \n",
       "410                                    NaN  ...            today   \n",
       "411                                    NaN  ...        yesterday   \n",
       "412  Smokers please do not make inquiries.  ...      2 weeks ago   \n",
       "413                                    NaN  ...            today   \n",
       "\n",
       "    Has Availability Calendar last Scraped First Review Last Review License  \\\n",
       "409              NaN            2017-05-02          NaN         NaN     NaN   \n",
       "410              NaN            2017-05-03          NaN         NaN     NaN   \n",
       "411              NaN            2017-05-03          NaN         NaN     NaN   \n",
       "412              NaN            2017-05-03   2016-05-03  2016-09-20     NaN   \n",
       "413              NaN            2017-05-03   2016-07-06  2016-11-13     NaN   \n",
       "\n",
       "          Jurisdiction Names Cancellation Policy  \\\n",
       "409  City of Los Angeles, CA            flexible   \n",
       "410  City of Los Angeles, CA            flexible   \n",
       "411  City of Los Angeles, CA            flexible   \n",
       "412  City of Los Angeles, CA              strict   \n",
       "413  City of Los Angeles, CA            moderate   \n",
       "\n",
       "                                Geolocation  \\\n",
       "409   34.14775649234191,-118.59133780081316   \n",
       "410  34.164597238320674,-118.60051225075456   \n",
       "411   34.18314959441673,-118.64506375427663   \n",
       "412    34.1485944277486,-118.59668371602694   \n",
       "413   34.17424461023367,-118.60587598007206   \n",
       "\n",
       "                                              Features  \n",
       "409             Host Has Profile Pic,Is Location Exact  \n",
       "410  Host Has Profile Pic,Host Identity Verified,Is...  \n",
       "411             Host Has Profile Pic,Is Location Exact  \n",
       "412  Host Has Profile Pic,Host Identity Verified,Is...  \n",
       "413  Host Is Superhost,Host Has Profile Pic,Host Id...  \n",
       "\n",
       "[5 rows x 47 columns]"
      ]
     },
     "execution_count": 13,
     "metadata": {},
     "output_type": "execute_result"
    }
   ],
   "source": [
    "df1_c.head()"
   ]
  },
  {
   "cell_type": "code",
   "execution_count": 14,
   "id": "02ad99c9",
   "metadata": {},
   "outputs": [
    {
     "data": {
      "text/plain": [
       "Host ID                                0\n",
       "Host Response Rate                 29938\n",
       "Host Listings Count                  285\n",
       "Host Total Listings Count            285\n",
       "Accommodates                          61\n",
       "Bathrooms                            419\n",
       "Bedrooms                             156\n",
       "Beds                                 220\n",
       "Square Feet                       130544\n",
       "Price                                  0\n",
       "Weekly Price                      109674\n",
       "Monthly Price                     105290\n",
       "Security Deposit                   75263\n",
       "Cleaning Fee                       36509\n",
       "Guests Included                        0\n",
       "Extra People                           0\n",
       "Minimum Nights                         0\n",
       "Maximum Nights                         0\n",
       "Availability 30                        0\n",
       "Availability 60                        0\n",
       "Availability 90                        0\n",
       "Availability 365                       0\n",
       "Number of Reviews                      0\n",
       "Review Scores Rating               31096\n",
       "Review Scores Accuracy             31319\n",
       "Review Scores Cleanliness          31270\n",
       "Review Scores Checkin              31399\n",
       "Review Scores Communication        31269\n",
       "Review Scores Location             31399\n",
       "Review Scores Value                31425\n",
       "Calculated host listings count         0\n",
       "Reviews per Month                  29633\n",
       "dtype: int64"
      ]
     },
     "execution_count": 14,
     "metadata": {},
     "output_type": "execute_result"
    }
   ],
   "source": [
    "df1_n.isnull().sum()"
   ]
  },
  {
   "cell_type": "code",
   "execution_count": 15,
   "id": "f510c48f",
   "metadata": {},
   "outputs": [],
   "source": [
    "df1_n1 = df1_n.drop(['Host Listings Count','Host Total Listings Count','Square Feet','Weekly Price','Monthly Price'], axis = 1)"
   ]
  },
  {
   "cell_type": "code",
   "execution_count": 16,
   "id": "4096cac2",
   "metadata": {},
   "outputs": [
    {
     "data": {
      "text/plain": [
       "(132581, 27)"
      ]
     },
     "execution_count": 16,
     "metadata": {},
     "output_type": "execute_result"
    }
   ],
   "source": [
    "df1_n1.shape"
   ]
  },
  {
   "cell_type": "code",
   "execution_count": 17,
   "id": "bbb96971",
   "metadata": {},
   "outputs": [],
   "source": [
    "df4 = df1_n1 "
   ]
  },
  {
   "cell_type": "code",
   "execution_count": 18,
   "id": "d380c3d5",
   "metadata": {},
   "outputs": [
    {
     "data": {
      "text/plain": [
       "0    100.0\n",
       "dtype: float64"
      ]
     },
     "execution_count": 18,
     "metadata": {},
     "output_type": "execute_result"
    }
   ],
   "source": [
    "m = df4['Review Scores Rating'].mode()\n",
    "m"
   ]
  },
  {
   "cell_type": "code",
   "execution_count": 19,
   "id": "5ec7a1ab",
   "metadata": {},
   "outputs": [],
   "source": [
    "df4['Review Scores Rating'] = df4['Review Scores Rating'].fillna(100)"
   ]
  },
  {
   "cell_type": "code",
   "execution_count": 20,
   "id": "ff7fa11b",
   "metadata": {},
   "outputs": [
    {
     "data": {
      "text/plain": [
       "0"
      ]
     },
     "execution_count": 20,
     "metadata": {},
     "output_type": "execute_result"
    }
   ],
   "source": [
    "df4['Review Scores Rating'].isnull().sum()"
   ]
  },
  {
   "cell_type": "code",
   "execution_count": 21,
   "id": "deac8884",
   "metadata": {},
   "outputs": [
    {
     "data": {
      "text/plain": [
       "Host ID                               0\n",
       "Host Response Rate                29938\n",
       "Accommodates                         61\n",
       "Bathrooms                           419\n",
       "Bedrooms                            156\n",
       "Beds                                220\n",
       "Price                                 0\n",
       "Security Deposit                  75263\n",
       "Cleaning Fee                      36509\n",
       "Guests Included                       0\n",
       "Extra People                          0\n",
       "Minimum Nights                        0\n",
       "Maximum Nights                        0\n",
       "Availability 30                       0\n",
       "Availability 60                       0\n",
       "Availability 90                       0\n",
       "Availability 365                      0\n",
       "Number of Reviews                     0\n",
       "Review Scores Rating                  0\n",
       "Review Scores Accuracy            31319\n",
       "Review Scores Cleanliness         31270\n",
       "Review Scores Checkin             31399\n",
       "Review Scores Communication       31269\n",
       "Review Scores Location            31399\n",
       "Review Scores Value               31425\n",
       "Calculated host listings count        0\n",
       "Reviews per Month                 29633\n",
       "dtype: int64"
      ]
     },
     "execution_count": 21,
     "metadata": {},
     "output_type": "execute_result"
    }
   ],
   "source": [
    "df4.isnull().sum()"
   ]
  },
  {
   "cell_type": "code",
   "execution_count": 22,
   "id": "972e2361",
   "metadata": {},
   "outputs": [
    {
     "data": {
      "text/plain": [
       "0    10.0\n",
       "dtype: float64"
      ]
     },
     "execution_count": 22,
     "metadata": {},
     "output_type": "execute_result"
    }
   ],
   "source": [
    "df[\"Review Scores Accuracy\"].mode()"
   ]
  },
  {
   "cell_type": "code",
   "execution_count": 23,
   "id": "cb1b9364",
   "metadata": {},
   "outputs": [],
   "source": [
    "df4['Review Scores Accuracy'] = df4['Review Scores Accuracy'].fillna(10)"
   ]
  },
  {
   "cell_type": "code",
   "execution_count": 24,
   "id": "5f32160f",
   "metadata": {},
   "outputs": [
    {
     "data": {
      "text/plain": [
       "0    10.0\n",
       "dtype: float64"
      ]
     },
     "execution_count": 24,
     "metadata": {},
     "output_type": "execute_result"
    }
   ],
   "source": [
    "df[\"Review Scores Cleanliness\"].mode()"
   ]
  },
  {
   "cell_type": "code",
   "execution_count": 25,
   "id": "d8a37702",
   "metadata": {},
   "outputs": [],
   "source": [
    "df4['Review Scores Cleanliness'] = df4['Review Scores Cleanliness'].fillna(10)"
   ]
  },
  {
   "cell_type": "code",
   "execution_count": 26,
   "id": "95514b9b",
   "metadata": {},
   "outputs": [
    {
     "data": {
      "text/plain": [
       "0    10.0\n",
       "dtype: float64"
      ]
     },
     "execution_count": 26,
     "metadata": {},
     "output_type": "execute_result"
    }
   ],
   "source": [
    "df[\"Review Scores Checkin\"].mode()"
   ]
  },
  {
   "cell_type": "code",
   "execution_count": 27,
   "id": "67da60ff",
   "metadata": {},
   "outputs": [],
   "source": [
    "df4['Review Scores Checkin'] = df4['Review Scores Checkin'].fillna(10)"
   ]
  },
  {
   "cell_type": "code",
   "execution_count": 28,
   "id": "b80bdf03",
   "metadata": {},
   "outputs": [
    {
     "data": {
      "text/plain": [
       "0    10.0\n",
       "dtype: float64"
      ]
     },
     "execution_count": 28,
     "metadata": {},
     "output_type": "execute_result"
    }
   ],
   "source": [
    "df4[\"Review Scores Communication\"].mode()"
   ]
  },
  {
   "cell_type": "code",
   "execution_count": 29,
   "id": "4a2326ef",
   "metadata": {},
   "outputs": [],
   "source": [
    "df4[\"Review Scores Communication\"] = df4[\"Review Scores Communication\"].fillna(10)"
   ]
  },
  {
   "cell_type": "code",
   "execution_count": 30,
   "id": "2cc7b3d6",
   "metadata": {},
   "outputs": [
    {
     "data": {
      "text/plain": [
       "0    10.0\n",
       "dtype: float64"
      ]
     },
     "execution_count": 30,
     "metadata": {},
     "output_type": "execute_result"
    }
   ],
   "source": [
    "df4[\"Review Scores Location\"].mode()"
   ]
  },
  {
   "cell_type": "code",
   "execution_count": 31,
   "id": "2c6f6d8b",
   "metadata": {},
   "outputs": [],
   "source": [
    "df4[\"Review Scores Location\"] = df4[\"Review Scores Location\"].fillna(10)"
   ]
  },
  {
   "cell_type": "code",
   "execution_count": 32,
   "id": "11d9ab49",
   "metadata": {},
   "outputs": [
    {
     "data": {
      "text/plain": [
       "0    10.0\n",
       "dtype: float64"
      ]
     },
     "execution_count": 32,
     "metadata": {},
     "output_type": "execute_result"
    }
   ],
   "source": [
    "df4[\"Review Scores Value\"].mode()"
   ]
  },
  {
   "cell_type": "code",
   "execution_count": 33,
   "id": "e667631a",
   "metadata": {},
   "outputs": [],
   "source": [
    "df4[\"Review Scores Value\"] = df4[\"Review Scores Value\"].fillna(10)"
   ]
  },
  {
   "cell_type": "code",
   "execution_count": 34,
   "id": "f5e890da",
   "metadata": {},
   "outputs": [
    {
     "data": {
      "text/plain": [
       "(132581, 27)"
      ]
     },
     "execution_count": 34,
     "metadata": {},
     "output_type": "execute_result"
    }
   ],
   "source": [
    "df4.shape"
   ]
  },
  {
   "cell_type": "code",
   "execution_count": 35,
   "id": "6cbc557e",
   "metadata": {},
   "outputs": [
    {
     "data": {
      "text/plain": [
       "Host ID                               0\n",
       "Host Response Rate                29938\n",
       "Accommodates                         61\n",
       "Bathrooms                           419\n",
       "Bedrooms                            156\n",
       "Beds                                220\n",
       "Price                                 0\n",
       "Security Deposit                  75263\n",
       "Cleaning Fee                      36509\n",
       "Guests Included                       0\n",
       "Extra People                          0\n",
       "Minimum Nights                        0\n",
       "Maximum Nights                        0\n",
       "Availability 30                       0\n",
       "Availability 60                       0\n",
       "Availability 90                       0\n",
       "Availability 365                      0\n",
       "Number of Reviews                     0\n",
       "Review Scores Rating                  0\n",
       "Review Scores Accuracy                0\n",
       "Review Scores Cleanliness             0\n",
       "Review Scores Checkin                 0\n",
       "Review Scores Communication           0\n",
       "Review Scores Location                0\n",
       "Review Scores Value                   0\n",
       "Calculated host listings count        0\n",
       "Reviews per Month                 29633\n",
       "dtype: int64"
      ]
     },
     "execution_count": 35,
     "metadata": {},
     "output_type": "execute_result"
    }
   ],
   "source": [
    "df4.isnull().sum()"
   ]
  },
  {
   "cell_type": "code",
   "execution_count": 36,
   "id": "0aeff1ea",
   "metadata": {},
   "outputs": [
    {
     "data": {
      "text/plain": [
       "250.0"
      ]
     },
     "execution_count": 36,
     "metadata": {},
     "output_type": "execute_result"
    }
   ],
   "source": [
    "df4['Security Deposit'].median()"
   ]
  },
  {
   "cell_type": "code",
   "execution_count": 37,
   "id": "57499c26",
   "metadata": {},
   "outputs": [],
   "source": [
    "df4['Security Deposit'] = df4['Security Deposit'].fillna(250)"
   ]
  },
  {
   "cell_type": "code",
   "execution_count": 38,
   "id": "ed6fd03f",
   "metadata": {},
   "outputs": [
    {
     "data": {
      "text/plain": [
       "50.0"
      ]
     },
     "execution_count": 38,
     "metadata": {},
     "output_type": "execute_result"
    }
   ],
   "source": [
    "df4['Cleaning Fee'].median()"
   ]
  },
  {
   "cell_type": "code",
   "execution_count": 39,
   "id": "0681ca69",
   "metadata": {},
   "outputs": [],
   "source": [
    "df4['Cleaning Fee'] = df4['Cleaning Fee'].fillna(50)"
   ]
  },
  {
   "cell_type": "code",
   "execution_count": 40,
   "id": "1e47d257",
   "metadata": {},
   "outputs": [
    {
     "data": {
      "text/plain": [
       "0    100.0\n",
       "dtype: float64"
      ]
     },
     "execution_count": 40,
     "metadata": {},
     "output_type": "execute_result"
    }
   ],
   "source": [
    "df4['Host Response Rate'].mode()"
   ]
  },
  {
   "cell_type": "code",
   "execution_count": 41,
   "id": "869421f4",
   "metadata": {},
   "outputs": [],
   "source": [
    "df4['Host Response Rate'] = df4['Host Response Rate'].fillna(100)"
   ]
  },
  {
   "cell_type": "code",
   "execution_count": 42,
   "id": "5536e5be",
   "metadata": {},
   "outputs": [
    {
     "data": {
      "text/plain": [
       "0    1.0\n",
       "dtype: float64"
      ]
     },
     "execution_count": 42,
     "metadata": {},
     "output_type": "execute_result"
    }
   ],
   "source": [
    "df4['Reviews per Month'].mode() "
   ]
  },
  {
   "cell_type": "code",
   "execution_count": 43,
   "id": "6ebac952",
   "metadata": {},
   "outputs": [],
   "source": [
    "df4['Reviews per Month'] = df4['Reviews per Month'].fillna(1)"
   ]
  },
  {
   "cell_type": "code",
   "execution_count": null,
   "id": "b9054f63",
   "metadata": {},
   "outputs": [],
   "source": []
  },
  {
   "cell_type": "code",
   "execution_count": 44,
   "id": "134ddb7e",
   "metadata": {},
   "outputs": [
    {
     "data": {
      "text/plain": [
       "(132581, 27)"
      ]
     },
     "execution_count": 44,
     "metadata": {},
     "output_type": "execute_result"
    }
   ],
   "source": [
    "df4.shape"
   ]
  },
  {
   "cell_type": "code",
   "execution_count": 45,
   "id": "dcc66016",
   "metadata": {},
   "outputs": [
    {
     "data": {
      "text/plain": [
       "Host ID                             0\n",
       "Host Response Rate                  0\n",
       "Accommodates                       61\n",
       "Bathrooms                         419\n",
       "Bedrooms                          156\n",
       "Beds                              220\n",
       "Price                               0\n",
       "Security Deposit                    0\n",
       "Cleaning Fee                        0\n",
       "Guests Included                     0\n",
       "Extra People                        0\n",
       "Minimum Nights                      0\n",
       "Maximum Nights                      0\n",
       "Availability 30                     0\n",
       "Availability 60                     0\n",
       "Availability 90                     0\n",
       "Availability 365                    0\n",
       "Number of Reviews                   0\n",
       "Review Scores Rating                0\n",
       "Review Scores Accuracy              0\n",
       "Review Scores Cleanliness           0\n",
       "Review Scores Checkin               0\n",
       "Review Scores Communication         0\n",
       "Review Scores Location              0\n",
       "Review Scores Value                 0\n",
       "Calculated host listings count      0\n",
       "Reviews per Month                   0\n",
       "dtype: int64"
      ]
     },
     "execution_count": 45,
     "metadata": {},
     "output_type": "execute_result"
    }
   ],
   "source": [
    "df4.isnull().sum()"
   ]
  },
  {
   "cell_type": "code",
   "execution_count": 46,
   "id": "89e90296",
   "metadata": {},
   "outputs": [
    {
     "data": {
      "text/plain": [
       "0    2.0\n",
       "dtype: float64"
      ]
     },
     "execution_count": 46,
     "metadata": {},
     "output_type": "execute_result"
    }
   ],
   "source": [
    "df4['Accommodates'].mode()"
   ]
  },
  {
   "cell_type": "code",
   "execution_count": 47,
   "id": "125c7594",
   "metadata": {},
   "outputs": [],
   "source": [
    "df4['Accommodates'] = df4['Accommodates'].fillna(2)"
   ]
  },
  {
   "cell_type": "code",
   "execution_count": 48,
   "id": "25ea02d1",
   "metadata": {},
   "outputs": [
    {
     "data": {
      "text/plain": [
       "0    1.0\n",
       "dtype: float64"
      ]
     },
     "execution_count": 48,
     "metadata": {},
     "output_type": "execute_result"
    }
   ],
   "source": [
    "df4['Bathrooms'].mode()"
   ]
  },
  {
   "cell_type": "code",
   "execution_count": 49,
   "id": "e5fd9a14",
   "metadata": {},
   "outputs": [],
   "source": [
    "df4['Bathrooms'] = df4['Bathrooms'].fillna(1)"
   ]
  },
  {
   "cell_type": "code",
   "execution_count": 50,
   "id": "433f638f",
   "metadata": {},
   "outputs": [
    {
     "data": {
      "text/plain": [
       "0    1.0\n",
       "dtype: float64"
      ]
     },
     "execution_count": 50,
     "metadata": {},
     "output_type": "execute_result"
    }
   ],
   "source": [
    "df4['Bedrooms'].mode()"
   ]
  },
  {
   "cell_type": "code",
   "execution_count": 51,
   "id": "043304a7",
   "metadata": {},
   "outputs": [],
   "source": [
    "df4['Bedrooms'] = df4['Bedrooms'].fillna(1)"
   ]
  },
  {
   "cell_type": "code",
   "execution_count": 52,
   "id": "4a5e0646",
   "metadata": {},
   "outputs": [
    {
     "data": {
      "text/plain": [
       "0    1.0\n",
       "dtype: float64"
      ]
     },
     "execution_count": 52,
     "metadata": {},
     "output_type": "execute_result"
    }
   ],
   "source": [
    "df4['Beds'].mode()"
   ]
  },
  {
   "cell_type": "code",
   "execution_count": 53,
   "id": "dce88116",
   "metadata": {},
   "outputs": [],
   "source": [
    "df4['Beds'] = df4['Beds'].fillna(1)"
   ]
  },
  {
   "cell_type": "code",
   "execution_count": 54,
   "id": "248a0bc5",
   "metadata": {},
   "outputs": [
    {
     "data": {
      "text/html": [
       "<div>\n",
       "<style scoped>\n",
       "    .dataframe tbody tr th:only-of-type {\n",
       "        vertical-align: middle;\n",
       "    }\n",
       "\n",
       "    .dataframe tbody tr th {\n",
       "        vertical-align: top;\n",
       "    }\n",
       "\n",
       "    .dataframe thead th {\n",
       "        text-align: right;\n",
       "    }\n",
       "</style>\n",
       "<table border=\"1\" class=\"dataframe\">\n",
       "  <thead>\n",
       "    <tr style=\"text-align: right;\">\n",
       "      <th></th>\n",
       "      <th>Host ID</th>\n",
       "      <th>Host Response Rate</th>\n",
       "      <th>Accommodates</th>\n",
       "      <th>Bathrooms</th>\n",
       "      <th>Bedrooms</th>\n",
       "      <th>Beds</th>\n",
       "      <th>Price</th>\n",
       "      <th>Security Deposit</th>\n",
       "      <th>Cleaning Fee</th>\n",
       "      <th>Guests Included</th>\n",
       "      <th>...</th>\n",
       "      <th>Number of Reviews</th>\n",
       "      <th>Review Scores Rating</th>\n",
       "      <th>Review Scores Accuracy</th>\n",
       "      <th>Review Scores Cleanliness</th>\n",
       "      <th>Review Scores Checkin</th>\n",
       "      <th>Review Scores Communication</th>\n",
       "      <th>Review Scores Location</th>\n",
       "      <th>Review Scores Value</th>\n",
       "      <th>Calculated host listings count</th>\n",
       "      <th>Reviews per Month</th>\n",
       "    </tr>\n",
       "  </thead>\n",
       "  <tbody>\n",
       "    <tr>\n",
       "      <th>409</th>\n",
       "      <td>24035721</td>\n",
       "      <td>100.0</td>\n",
       "      <td>2.0</td>\n",
       "      <td>1.0</td>\n",
       "      <td>1.0</td>\n",
       "      <td>1.0</td>\n",
       "      <td>150.0</td>\n",
       "      <td>250.0</td>\n",
       "      <td>50.0</td>\n",
       "      <td>1.0</td>\n",
       "      <td>...</td>\n",
       "      <td>0.0</td>\n",
       "      <td>100.0</td>\n",
       "      <td>10.0</td>\n",
       "      <td>10.0</td>\n",
       "      <td>10.0</td>\n",
       "      <td>10.0</td>\n",
       "      <td>10.0</td>\n",
       "      <td>10.0</td>\n",
       "      <td>1.0</td>\n",
       "      <td>1.00</td>\n",
       "    </tr>\n",
       "    <tr>\n",
       "      <th>410</th>\n",
       "      <td>57197381</td>\n",
       "      <td>100.0</td>\n",
       "      <td>8.0</td>\n",
       "      <td>3.5</td>\n",
       "      <td>4.0</td>\n",
       "      <td>4.0</td>\n",
       "      <td>175.0</td>\n",
       "      <td>300.0</td>\n",
       "      <td>150.0</td>\n",
       "      <td>8.0</td>\n",
       "      <td>...</td>\n",
       "      <td>0.0</td>\n",
       "      <td>100.0</td>\n",
       "      <td>10.0</td>\n",
       "      <td>10.0</td>\n",
       "      <td>10.0</td>\n",
       "      <td>10.0</td>\n",
       "      <td>10.0</td>\n",
       "      <td>10.0</td>\n",
       "      <td>1.0</td>\n",
       "      <td>1.00</td>\n",
       "    </tr>\n",
       "    <tr>\n",
       "      <th>411</th>\n",
       "      <td>104845369</td>\n",
       "      <td>100.0</td>\n",
       "      <td>3.0</td>\n",
       "      <td>1.0</td>\n",
       "      <td>1.0</td>\n",
       "      <td>1.0</td>\n",
       "      <td>79.0</td>\n",
       "      <td>250.0</td>\n",
       "      <td>55.0</td>\n",
       "      <td>1.0</td>\n",
       "      <td>...</td>\n",
       "      <td>0.0</td>\n",
       "      <td>100.0</td>\n",
       "      <td>10.0</td>\n",
       "      <td>10.0</td>\n",
       "      <td>10.0</td>\n",
       "      <td>10.0</td>\n",
       "      <td>10.0</td>\n",
       "      <td>10.0</td>\n",
       "      <td>1.0</td>\n",
       "      <td>1.00</td>\n",
       "    </tr>\n",
       "    <tr>\n",
       "      <th>412</th>\n",
       "      <td>506809</td>\n",
       "      <td>100.0</td>\n",
       "      <td>2.0</td>\n",
       "      <td>1.5</td>\n",
       "      <td>1.0</td>\n",
       "      <td>1.0</td>\n",
       "      <td>175.0</td>\n",
       "      <td>500.0</td>\n",
       "      <td>100.0</td>\n",
       "      <td>1.0</td>\n",
       "      <td>...</td>\n",
       "      <td>2.0</td>\n",
       "      <td>100.0</td>\n",
       "      <td>10.0</td>\n",
       "      <td>10.0</td>\n",
       "      <td>10.0</td>\n",
       "      <td>10.0</td>\n",
       "      <td>10.0</td>\n",
       "      <td>10.0</td>\n",
       "      <td>2.0</td>\n",
       "      <td>0.16</td>\n",
       "    </tr>\n",
       "    <tr>\n",
       "      <th>413</th>\n",
       "      <td>25551648</td>\n",
       "      <td>100.0</td>\n",
       "      <td>6.0</td>\n",
       "      <td>2.5</td>\n",
       "      <td>3.0</td>\n",
       "      <td>4.0</td>\n",
       "      <td>450.0</td>\n",
       "      <td>250.0</td>\n",
       "      <td>200.0</td>\n",
       "      <td>6.0</td>\n",
       "      <td>...</td>\n",
       "      <td>8.0</td>\n",
       "      <td>95.0</td>\n",
       "      <td>9.0</td>\n",
       "      <td>10.0</td>\n",
       "      <td>10.0</td>\n",
       "      <td>10.0</td>\n",
       "      <td>9.0</td>\n",
       "      <td>10.0</td>\n",
       "      <td>29.0</td>\n",
       "      <td>0.79</td>\n",
       "    </tr>\n",
       "  </tbody>\n",
       "</table>\n",
       "<p>5 rows × 27 columns</p>\n",
       "</div>"
      ],
      "text/plain": [
       "       Host ID  Host Response Rate  Accommodates  Bathrooms  Bedrooms  Beds  \\\n",
       "409   24035721               100.0           2.0        1.0       1.0   1.0   \n",
       "410   57197381               100.0           8.0        3.5       4.0   4.0   \n",
       "411  104845369               100.0           3.0        1.0       1.0   1.0   \n",
       "412     506809               100.0           2.0        1.5       1.0   1.0   \n",
       "413   25551648               100.0           6.0        2.5       3.0   4.0   \n",
       "\n",
       "     Price  Security Deposit  Cleaning Fee  Guests Included  ...  \\\n",
       "409  150.0             250.0          50.0              1.0  ...   \n",
       "410  175.0             300.0         150.0              8.0  ...   \n",
       "411   79.0             250.0          55.0              1.0  ...   \n",
       "412  175.0             500.0         100.0              1.0  ...   \n",
       "413  450.0             250.0         200.0              6.0  ...   \n",
       "\n",
       "     Number of Reviews  Review Scores Rating  Review Scores Accuracy  \\\n",
       "409                0.0                 100.0                    10.0   \n",
       "410                0.0                 100.0                    10.0   \n",
       "411                0.0                 100.0                    10.0   \n",
       "412                2.0                 100.0                    10.0   \n",
       "413                8.0                  95.0                     9.0   \n",
       "\n",
       "     Review Scores Cleanliness  Review Scores Checkin  \\\n",
       "409                       10.0                   10.0   \n",
       "410                       10.0                   10.0   \n",
       "411                       10.0                   10.0   \n",
       "412                       10.0                   10.0   \n",
       "413                       10.0                   10.0   \n",
       "\n",
       "     Review Scores Communication  Review Scores Location  Review Scores Value  \\\n",
       "409                         10.0                    10.0                 10.0   \n",
       "410                         10.0                    10.0                 10.0   \n",
       "411                         10.0                    10.0                 10.0   \n",
       "412                         10.0                    10.0                 10.0   \n",
       "413                         10.0                     9.0                 10.0   \n",
       "\n",
       "     Calculated host listings count  Reviews per Month  \n",
       "409                             1.0               1.00  \n",
       "410                             1.0               1.00  \n",
       "411                             1.0               1.00  \n",
       "412                             2.0               0.16  \n",
       "413                            29.0               0.79  \n",
       "\n",
       "[5 rows x 27 columns]"
      ]
     },
     "execution_count": 54,
     "metadata": {},
     "output_type": "execute_result"
    }
   ],
   "source": [
    "df4.head()"
   ]
  },
  {
   "cell_type": "code",
   "execution_count": 55,
   "id": "83f10e9e",
   "metadata": {},
   "outputs": [
    {
     "data": {
      "text/plain": [
       "ID                                   0\n",
       "Scrape ID                            0\n",
       "Last Scraped                         0\n",
       "Name                                49\n",
       "Summary                           4139\n",
       "Space                            37594\n",
       "Description                         46\n",
       "Experiences Offered                  0\n",
       "Neighborhood Overview            50839\n",
       "Notes                            74465\n",
       "Transit                          48338\n",
       "Access                           56087\n",
       "Interaction                      58865\n",
       "House Rules                      47613\n",
       "Host Name                          285\n",
       "Host Since                         285\n",
       "Host Location                      861\n",
       "Host About                       47460\n",
       "Host Response Time               29938\n",
       "Host Acceptance Rate            113975\n",
       "Host Neighbourhood               21404\n",
       "Host Verifications                  58\n",
       "Street                               0\n",
       "Neighbourhood                    26359\n",
       "Neighbourhood Cleansed               0\n",
       "Neighbourhood Group Cleansed     88210\n",
       "City                                58\n",
       "State                                3\n",
       "Zipcode                           1665\n",
       "Market                            1009\n",
       "Smart Location                       1\n",
       "Country Code                         0\n",
       "Country                              0\n",
       "Property Type                        6\n",
       "Room Type                            0\n",
       "Bed Type                             0\n",
       "Amenities                         1176\n",
       "Calendar Updated                     0\n",
       "Has Availability                127957\n",
       "Calendar last Scraped                0\n",
       "First Review                     29633\n",
       "Last Review                      29510\n",
       "License                         122484\n",
       "Jurisdiction Names               69456\n",
       "Cancellation Policy                  0\n",
       "Geolocation                          0\n",
       "Features                            73\n",
       "dtype: int64"
      ]
     },
     "execution_count": 55,
     "metadata": {},
     "output_type": "execute_result"
    }
   ],
   "source": [
    "df1_c.isnull().sum()"
   ]
  },
  {
   "cell_type": "code",
   "execution_count": 56,
   "id": "d9da060d",
   "metadata": {},
   "outputs": [
    {
     "data": {
      "text/plain": [
       "array(['Los Angeles, California, United States',\n",
       "       'Arcadia, California, United States',\n",
       "       'Paris, Île-de-France, France', ...,\n",
       "       'Little Rock, Arkansas, United States',\n",
       "       'Olathe, Kansas, United States', 'Ajijic, Jalisco, Mexico'],\n",
       "      dtype=object)"
      ]
     },
     "execution_count": 56,
     "metadata": {},
     "output_type": "execute_result"
    }
   ],
   "source": [
    "df1_c['Host Location'].unique()"
   ]
  },
  {
   "cell_type": "code",
   "execution_count": 57,
   "id": "40f90191",
   "metadata": {},
   "outputs": [],
   "source": [
    "df6 = df1_c.drop(['Scrape ID','ID','Name','Summary','Description','Experiences Offered','Neighborhood Overview','Notes','Transit','Access',\n",
    "           'Interaction','House Rules','Host Name','Host About','Host Verifications','Amenities','Calendar Updated',\n",
    "            'Has Availability','Geolocation','Features','License','Host Acceptance Rate',\n",
    "                  'Neighbourhood Group Cleansed','Space','Host Since','Host Location','First Review','Last Review',\n",
    "                 'Jurisdiction Names','Last Scraped','Smart Location','Country Code','Country',\n",
    "                  'Calendar last Scraped','City','Street'], axis = 1)"
   ]
  },
  {
   "cell_type": "code",
   "execution_count": 58,
   "id": "289aa2cd",
   "metadata": {},
   "outputs": [
    {
     "data": {
      "text/plain": [
       "(132581, 11)"
      ]
     },
     "execution_count": 58,
     "metadata": {},
     "output_type": "execute_result"
    }
   ],
   "source": [
    "df6.shape"
   ]
  },
  {
   "cell_type": "code",
   "execution_count": 59,
   "id": "57bd5d03",
   "metadata": {},
   "outputs": [
    {
     "data": {
      "text/plain": [
       "Host Response Time        22.580913\n",
       "Host Neighbourhood        16.144093\n",
       "Neighbourhood             19.881431\n",
       "Neighbourhood Cleansed     0.000000\n",
       "State                      0.002263\n",
       "Zipcode                    1.255836\n",
       "Market                     0.761044\n",
       "Property Type              0.004526\n",
       "Room Type                  0.000000\n",
       "Bed Type                   0.000000\n",
       "Cancellation Policy        0.000000\n",
       "dtype: float64"
      ]
     },
     "execution_count": 59,
     "metadata": {},
     "output_type": "execute_result"
    }
   ],
   "source": [
    "(df6.isnull().sum()/len(df6))*100"
   ]
  },
  {
   "cell_type": "code",
   "execution_count": 60,
   "id": "3e092a39",
   "metadata": {},
   "outputs": [
    {
     "data": {
      "text/plain": [
       "array(['Apartment', 'House', 'Guesthouse', 'Other', 'Townhouse',\n",
       "       'Condominium', 'Loft', 'Bed & Breakfast', 'Bungalow', 'Hostel',\n",
       "       'Serviced apartment', 'Boat', 'Dorm', 'Villa', 'Castle',\n",
       "       'Boutique hotel', 'Cabin', 'Guest suite', 'Camper/RV', 'Tent',\n",
       "       'Entire Floor', 'Timeshare', 'Lighthouse', 'Treehouse',\n",
       "       'Vacation home', 'Hut', nan, 'Yurt', 'Cave', 'Train',\n",
       "       'Parking Space', 'In-law', 'Chalet', 'Tipi', 'Earth House',\n",
       "       'Plane', 'Island', 'Nature lodge', 'Casa particular',\n",
       "       'Pension (Korea)'], dtype=object)"
      ]
     },
     "execution_count": 60,
     "metadata": {},
     "output_type": "execute_result"
    }
   ],
   "source": [
    "df6['Property Type'].unique()"
   ]
  },
  {
   "cell_type": "code",
   "execution_count": 61,
   "id": "181c152c",
   "metadata": {},
   "outputs": [],
   "source": [
    "df6['Host Response Time'] = df6['Host Response Time'].fillna('within an hour')"
   ]
  },
  {
   "cell_type": "code",
   "execution_count": 62,
   "id": "0295e89b",
   "metadata": {},
   "outputs": [],
   "source": [
    "df6[\"Host Neighbourhood\"] = df6[\"Host Neighbourhood\"].fillna('Williamsburg')"
   ]
  },
  {
   "cell_type": "code",
   "execution_count": 63,
   "id": "30c02eb7",
   "metadata": {},
   "outputs": [],
   "source": [
    "df6['Neighbourhood'] = df6['Neighbourhood'].fillna('Williamsburg')"
   ]
  },
  {
   "cell_type": "code",
   "execution_count": 64,
   "id": "06250482",
   "metadata": {},
   "outputs": [],
   "source": [
    "df6['State'] = df6['State'].fillna('CA')"
   ]
  },
  {
   "cell_type": "code",
   "execution_count": 65,
   "id": "50a81732",
   "metadata": {},
   "outputs": [],
   "source": [
    "df6['Zipcode'] = df6['Zipcode'].fillna('11211')"
   ]
  },
  {
   "cell_type": "code",
   "execution_count": 66,
   "id": "baa7e857",
   "metadata": {},
   "outputs": [],
   "source": [
    "df6['Market'] = df6['Market'].fillna('New York')"
   ]
  },
  {
   "cell_type": "code",
   "execution_count": 67,
   "id": "ea4f21ea",
   "metadata": {},
   "outputs": [],
   "source": [
    "df6['Property Type'] = df6['Property Type'].fillna('Apartment')"
   ]
  },
  {
   "cell_type": "code",
   "execution_count": 68,
   "id": "5313d618",
   "metadata": {},
   "outputs": [
    {
     "data": {
      "text/plain": [
       "array(['Woodland Hills/Warner Center', 'Studio City', 'Williamsburg', ...,\n",
       "       'Eimsbüttel', 'Oak Tree', 'Grant City'], dtype=object)"
      ]
     },
     "execution_count": 68,
     "metadata": {},
     "output_type": "execute_result"
    }
   ],
   "source": [
    "df6['Host Neighbourhood'].unique()"
   ]
  },
  {
   "cell_type": "code",
   "execution_count": 69,
   "id": "09d4a1b4",
   "metadata": {},
   "outputs": [],
   "source": [
    "hrt = {'within an hour':1,'within a few hours':2,'within a day':3,'a few days or more':4}"
   ]
  },
  {
   "cell_type": "code",
   "execution_count": 70,
   "id": "30fc7d10",
   "metadata": {},
   "outputs": [],
   "source": [
    "df6['HostResponseTime_ord'] = df6['Host Response Time'].map(hrt)"
   ]
  },
  {
   "cell_type": "code",
   "execution_count": 71,
   "id": "4bf2eabe",
   "metadata": {},
   "outputs": [
    {
     "data": {
      "text/plain": [
       "409       1\n",
       "410       3\n",
       "411       2\n",
       "412       2\n",
       "413       1\n",
       "         ..\n",
       "494309    1\n",
       "494310    2\n",
       "494311    1\n",
       "494312    3\n",
       "494313    1\n",
       "Name: HostResponseTime_ord, Length: 132581, dtype: int64"
      ]
     },
     "execution_count": 71,
     "metadata": {},
     "output_type": "execute_result"
    }
   ],
   "source": [
    "df6['HostResponseTime_ord']"
   ]
  },
  {
   "cell_type": "code",
   "execution_count": 72,
   "id": "c9090623",
   "metadata": {},
   "outputs": [],
   "source": [
    "freq = (df6['Host Neighbourhood'].value_counts()/len(df6['Host Neighbourhood']))*100"
   ]
  },
  {
   "cell_type": "code",
   "execution_count": 73,
   "id": "db9ec770",
   "metadata": {},
   "outputs": [],
   "source": [
    "df6['HostNeighbourhood_freq'] = df6['Host Neighbourhood'].map(freq)"
   ]
  },
  {
   "cell_type": "code",
   "execution_count": 74,
   "id": "262ddb86",
   "metadata": {},
   "outputs": [
    {
     "data": {
      "text/plain": [
       "0"
      ]
     },
     "execution_count": 74,
     "metadata": {},
     "output_type": "execute_result"
    }
   ],
   "source": [
    "df6['HostNeighbourhood_freq'].isnull().sum()"
   ]
  },
  {
   "cell_type": "code",
   "execution_count": 75,
   "id": "d948ebcb",
   "metadata": {},
   "outputs": [
    {
     "data": {
      "text/plain": [
       "array(['Woodland Hills', 'West Hollywood', 'Westlake', ...,\n",
       "       'Joaquin Miller Park', 'Peralta-Laney', 'Grant City'], dtype=object)"
      ]
     },
     "execution_count": 75,
     "metadata": {},
     "output_type": "execute_result"
    }
   ],
   "source": [
    "df6['Neighbourhood Cleansed'].unique()"
   ]
  },
  {
   "cell_type": "code",
   "execution_count": 76,
   "id": "0ad17435",
   "metadata": {},
   "outputs": [],
   "source": [
    "freq1 = (df6['Neighbourhood Cleansed'].value_counts()/len(df6['Neighbourhood Cleansed']))*100"
   ]
  },
  {
   "cell_type": "code",
   "execution_count": 77,
   "id": "ca34ab76",
   "metadata": {},
   "outputs": [],
   "source": [
    "df6['NeighbourhoodCleansed_freq'] = df6['Neighbourhood Cleansed'].map(freq1)"
   ]
  },
  {
   "cell_type": "code",
   "execution_count": 78,
   "id": "7a70b43e",
   "metadata": {},
   "outputs": [
    {
     "data": {
      "text/plain": [
       "409       0.196107\n",
       "410       0.196107\n",
       "411       0.196107\n",
       "412       0.196107\n",
       "413       0.196107\n",
       "            ...   \n",
       "494309    1.448926\n",
       "494310    1.448926\n",
       "494311    1.448926\n",
       "494312    1.448926\n",
       "494313    1.448926\n",
       "Name: NeighbourhoodCleansed_freq, Length: 132581, dtype: float64"
      ]
     },
     "execution_count": 78,
     "metadata": {},
     "output_type": "execute_result"
    }
   ],
   "source": [
    "df6['NeighbourhoodCleansed_freq']"
   ]
  },
  {
   "cell_type": "code",
   "execution_count": 79,
   "id": "5a405d88",
   "metadata": {},
   "outputs": [
    {
     "data": {
      "text/plain": [
       "array(['CA', 'TN', 'LA', 'TX', 'MA', 'IL', 'CO', 'NY', 'ny', 'OR', 'DC',\n",
       "       'WA', 'Ca', 'ca', 'MD', 'VT', 'il', 'wa', 'NJ', 'Il', 'MP'],\n",
       "      dtype=object)"
      ]
     },
     "execution_count": 79,
     "metadata": {},
     "output_type": "execute_result"
    }
   ],
   "source": [
    "df6['State'].unique()"
   ]
  },
  {
   "cell_type": "code",
   "execution_count": 80,
   "id": "66740a42",
   "metadata": {},
   "outputs": [],
   "source": [
    "freq3 = (df6['State'].value_counts()/len(df6['State']))*100"
   ]
  },
  {
   "cell_type": "code",
   "execution_count": 81,
   "id": "76de8c01",
   "metadata": {},
   "outputs": [],
   "source": [
    "df6['State_freq'] = df6['State'].map(freq3)"
   ]
  },
  {
   "cell_type": "code",
   "execution_count": 82,
   "id": "8deb757c",
   "metadata": {},
   "outputs": [
    {
     "data": {
      "text/plain": [
       "array(['91364', '91367', '90046', '90069', '11211', '90048', '90028',\n",
       "       '90038', '90017', '90057', '90004', '90026', '91791', '90045',\n",
       "       '90056', '91307', '91304', '90025', '90064', '90024', '90066',\n",
       "       '90291', '90292', '90016', '90008', '91789', '90710', '90502',\n",
       "       '90006', '90005', '91306', '90603', '90020', '91711', '90065',\n",
       "       '90220', '91723', '90304', '90012', '90013', '90015', '90014',\n",
       "       '90021', '90058', '90036', '90043', '90305', '91748', '90018',\n",
       "       '90010', '90303', '90302', '91214', '91406', '90027', '90210',\n",
       "       '90212', '90211', '90077', '91601', '91602', '91607', '90063',\n",
       "       '90049', '91302', '91303', '91311', '90232', '90068', '90230',\n",
       "       '91765', '90039', '90041', '90029', '91107', '91767', '91766',\n",
       "       '91768', '91745', '90250', '90254', '90245', '90266', '90032',\n",
       "       '91316', '91207', '91204', '91201', '91205', '91202', '91206',\n",
       "       '91208', '91741', '91344', '91324', '91325', '91436', '90007',\n",
       "       '90249', '90247', '90042', '90713', '90712', '90715', '90638',\n",
       "       '93536', '90031', '90804', '90815', '90802', '90814', '90803',\n",
       "       '90813', '90808', '90806', '91301', '91362', '90019', '91390',\n",
       "       '91801', '91803', '90805', '90810', '90262', '90265', '91006',\n",
       "       '90035', '90034', '91101', '91106', '91103', '91104', '90660',\n",
       "       '90275', '90277', '90402', '90272', '91402', '90403', '90404',\n",
       "       '90401', '90405', '91040', '91423', '91411', '91403', '91016',\n",
       "       '91343', '91606', '91605', '91505', '91754', '91755', '93551',\n",
       "       '90650', '90290', '91405', '90731', '90732', '91350', '91354',\n",
       "       '91321', '91387', '90037', '91776', '91401', '90278', '91335',\n",
       "       '90274', '91770', '90706', '91702', '90293', '91504', '91502',\n",
       "       '91501', '91001', '91007', '91030', '91381', '91604', '90280',\n",
       "       '90011', '91356', '91780', '37203', '37201', '37210', '37208',\n",
       "       '37218', '37206', '37219', '70130', '70124', '70118', '70117',\n",
       "       '37189', '37209', '37115', '37204', '37211', '37212', '70119',\n",
       "       '70122', '70126', '70115', '37076', '37122', '70116', '70125',\n",
       "       '70128', '70114', '70112', '70113', '37207', '37216', '37214',\n",
       "       '37205', '37215', '37228', '37221', '37027', '78704', '78721',\n",
       "       '78723', '78722', '78750', '78735', '78756', '78751', '78705',\n",
       "       '78754', '78726', '78732', '78737', '78738', '78725', '78724',\n",
       "       '78757', '78759', '78733', '78746', '78703', '78741', '78702',\n",
       "       '78701', '78749', '78731', '78745', '78729', '78752', '78748',\n",
       "       '78753', '78758', '78218', '78727', '78734', '02131', '02130',\n",
       "       '02119', '02120', '02215', '02116', '02111', '02113', '02109',\n",
       "       '02125', '02118', '02115', '02128', '02129', '02114', '02108',\n",
       "       '02135', '02134', '02126', '02122', '02121', '02210', '02127',\n",
       "       '02139', '02143', '60647', '60642', '60654', '60622', '60640',\n",
       "       '60613', '60605', '60616', '60610', '60611', '60612', '60607',\n",
       "       '60625', '60615', '60637', '60626', '60645', '60630', '60634',\n",
       "       '60659', '78730', '78744', '78736', '78617', '78747', '78739',\n",
       "       '60660', '60653', '60641', '60618', '60639', '60617', '60657',\n",
       "       '60621', '60614', '60661', '60608', '60629', '60632', '60624',\n",
       "       '60623', '60609', '80211', '80202', '80210', '80218', '80206',\n",
       "       '80237', '80207', '80203', '80209', '80205', '80123', '80219',\n",
       "       '80204', '80212', '80220', '80231', '80223', '80224', '02467',\n",
       "       '02136', '02124', '02138', '02145', '02446', '70129', '70032',\n",
       "       '37080', '37217', '37013', '37029', '91342', '90601', '90602',\n",
       "       '90744', '90047', '90723', '91105', '91355', '91351', '90062',\n",
       "       '90505', '90503', '91042', '91790', '91792', '91744', 'Near 91304',\n",
       "       '91732', '90248', '90094', '90604', '93535', '91750', '90504',\n",
       "       '90631', '91384', '93532', '90807', '91011', '90301', '93550',\n",
       "       '90640', '90260', '91746', '90746', '90745', '90033', '91008',\n",
       "       '90703', '91506', '60601', '60602', '90039-2715', '78717', '78719',\n",
       "       '78728', '78774', '80236', '80249', '80238', '80221', '60656',\n",
       "       '60649', '60651', '60619', '60636', '60643', '02132', '02134-1704',\n",
       "       '02163', '94602', '94608', '94605', '94610', '94619', '94601',\n",
       "       '94611', '94609', '94612', '94607', '94621', '94618', '94606',\n",
       "       '94704', '94703', '11106', '11103', '11102', '11105', '11370',\n",
       "       '11417', '11416', '10460', '11692', '11364', '10004', '10280',\n",
       "       '10006', '10012', '11209', '11233', '11216', '11221', '11205',\n",
       "       '11206', '10003', '10009', '11226', '10010', '11234', '11358',\n",
       "       '11355', '11354', '11367', '11215', '11231', '11375', '11374',\n",
       "       '11217', '10031', '10026', '10030', '10027', '10019', '10036',\n",
       "       '10452', '10034', '10018', '11201', '10305', '11228', '11369',\n",
       "       '11203', '11210', '11212', '10035', '10029', '10037', '11225',\n",
       "       '11213', '11238', '10011', '10001', '11224', '11368', '11207',\n",
       "       '10314', '11373', '10471', '10463', '11208', '10002', '11365',\n",
       "       '10039', '10014', '11691', '10038', '10005', '11230', '11218',\n",
       "       '11222', '11223', '11435', '10025', '11249', '10022', '10017',\n",
       "       '10016', '10453', '11378', '11379', '10040', '11372', '11432',\n",
       "       '11434', '10013', '10456', '11101', '11109', '11422', '11229',\n",
       "       '11235', '10304', '11420', '11413', '11412', '10310', '11419',\n",
       "       '11385', '10462', '10472', '11428', '11429', '10469', '11693',\n",
       "       '10301', '11104', '11377', '11220', '10028', '10128', '10021',\n",
       "       '10075', '10065', '11232', '10007', '11001', '11426', '11204',\n",
       "       '11219', '10455', '11237', '11236', '10024', '10069', '10033',\n",
       "       '10032', '11421', '10023', '10467', '97209', '97210', '97214',\n",
       "       '97201', '97215', '97211', '97230', '97217', '97227', '97213',\n",
       "       '97218', '97212', '97202', '97239', '97206', '97229', '97203',\n",
       "       '97216', '97232', '97220', '97219', '20008', '20016', '20015',\n",
       "       '20012', '20011', '20020', '20007', '20005', '20009', '20036',\n",
       "       '20002', '20001', '20017', '20010', '20003', '20018', '94102',\n",
       "       '94109', '94108', '94132', '94133', '94112', '94134', '94116',\n",
       "       '94105', '94111', '94107', '94110', '95073', '95076', '95062',\n",
       "       '95065', '95003', '98103', '98122', '98105', '98144', '98117',\n",
       "       '98115', '98109', '98119', '98107', '98199', '98126', '98136',\n",
       "       '98106', '98112', '98101', '98121', '98104', '98116', '91915',\n",
       "       '91913', '91910', '91911', '92102', '92113', '92110', '92117',\n",
       "       '92123', '92105', '92104', '92111', '92115', '92101', '92120',\n",
       "       '92109', '92129', '92106', '91942', '92173', '92131', '92116',\n",
       "       '92107', '92103', '92014', '92121', '92122', '92108', '94117',\n",
       "       '94115', '94121', '94114', '94131', '94122', '94130', '95010',\n",
       "       '95060', '95066', '94103', '98118', '98102', '20743', '20032',\n",
       "       '20037', '20006', '20024', '94118', '94123', '94124', '94158',\n",
       "       '92037', '92154', '92126', '94127', '02472', '91361', '90061',\n",
       "       '90704', '70148', '91786', '90003', '91764', '90929', '91340',\n",
       "       '91775', '91024', '91604-3646', '90059', '90067', '90023', '91733',\n",
       "       '90242', '91010', '91020', '90717', '93563', '37220', '60606',\n",
       "       '80247', '80110', '80239', '80246', '80216', '60646', '60633',\n",
       "       '60628', '60411', '60620', '90040', '90501', '91352', '91724',\n",
       "       '91773', '90044', '90022', '37138', '02110', '60302', '60603',\n",
       "       '91326', '80222', '90001', '91203', '91210', '91345', '91802',\n",
       "       '90241', '90002', '70131', '70053', '97205', '11415', '11423',\n",
       "       '11427', '10106', '10118', '11249\\n11249', '10044', '10465',\n",
       "       '10468', '11418', '11356', '10451', '94705', '10473', '10457',\n",
       "       '11361', '10458', '10464', '94702', '94603', '10162', '10466',\n",
       "       '1m', '10470', '11694', '10454', '11411', '11433', '11436',\n",
       "       '10461', '11214', '10129', '78652', '78742', '97236', '91950',\n",
       "       '91941', '91914', '92128', '92130', '98125', '98133', '98178',\n",
       "       '95064', '95005', '95006', '95018', '98108', '97266', '97035',\n",
       "       '20910', '20019', '20268', '91902', '92017', '94104', '91901',\n",
       "       '92124', '94014', '92114', '98177', '92127', '97221', '97222',\n",
       "       '97225', '95033', '95017', '92075', '91945', '70127', '91331',\n",
       "       '91606-1412', '90240', '91740', '90716', '93534', '93510', '90201',\n",
       "       '60707', '10475', '11362', '10312', '10474', '10303', '02445',\n",
       "       '10302', '10459', '10704', '10282', '20004', '95041', '91932',\n",
       "       '11357', '11414', '10306', '10307', '60644', '60631', '91731',\n",
       "       '90255', '90095', '90670', '11004', '94610-2428', '05340', '10080',\n",
       "       '92139', '92119', '94107-1273', '97080', '97231', '94306', '20816',\n",
       "       '97233', '97223', '98146', '95007', '92071', '92880', '02141',\n",
       "       '80214', '60638', '91377', '93591', '91706', '93105', '91108',\n",
       "       '90605', '92683', '37072', '60304', '80235', '60660-1448', '90755',\n",
       "       '90034-2203', '90621', '98134', '20782', '20712', '92054', '20748',\n",
       "       '20052', '15074', '60453', '80230', '10111', '11363', '90035-4475',\n",
       "       '93543', '97403', '10308', '99135', '11360', '78712', '20912',\n",
       "       '70121', '92614', '70119 New Orleans', '37143', '90221', '93552',\n",
       "       '80014', '91722', '70005', '90701', '10270', '02186', '60805',\n",
       "       '9004', '90630', '91523', '90606', '90005-3747', '701115', '60202',\n",
       "       '91308', '20372', '90071', '210', '37015', '80113', '999041',\n",
       "       '11366', '94129', '92067', '92025', '02108 02111', '60652',\n",
       "       '90222', '07310', '10078', '92821', '91708', '70461', '91001-2243',\n",
       "       '02169', '02142', '95019', '95077', '90036-2514', '92629',\n",
       "       '70119\\n70119', '37216-2646', '94401', '20229', '11385-2308',\n",
       "       '99\\n98122', '20781', '11239', '11003', '80227', '02218', '60827',\n",
       "       '10281', '94158\\n94158', '20001-4044', '94516', '11581', '10000',\n",
       "       '20007-3413', '78620', '94577', '10279', '10705', '11426-1175',\n",
       "       '11103-3233', '10003-8623', '90840', '10002-2289', '90403-2638',\n",
       "       '92397', '11580', '78644'], dtype=object)"
      ]
     },
     "execution_count": 82,
     "metadata": {},
     "output_type": "execute_result"
    }
   ],
   "source": [
    "df6['Zipcode'].unique()"
   ]
  },
  {
   "cell_type": "code",
   "execution_count": 83,
   "id": "9b3d9780",
   "metadata": {},
   "outputs": [],
   "source": [
    "freq4 = (df6['Zipcode'].value_counts()/len(df6['Zipcode']))*100"
   ]
  },
  {
   "cell_type": "code",
   "execution_count": 84,
   "id": "1e905e9b",
   "metadata": {},
   "outputs": [],
   "source": [
    "df6['Zipcode_freq'] = df6['Zipcode'].map(freq4)"
   ]
  },
  {
   "cell_type": "code",
   "execution_count": 85,
   "id": "73b32ae2",
   "metadata": {},
   "outputs": [
    {
     "data": {
      "text/plain": [
       "409       0.109367\n",
       "410       0.109367\n",
       "411       0.103333\n",
       "412       0.109367\n",
       "413       0.103333\n",
       "            ...   \n",
       "494309    1.432332\n",
       "494310    1.432332\n",
       "494311    1.432332\n",
       "494312    1.432332\n",
       "494313    1.432332\n",
       "Name: Zipcode_freq, Length: 132581, dtype: float64"
      ]
     },
     "execution_count": 85,
     "metadata": {},
     "output_type": "execute_result"
    }
   ],
   "source": [
    "df6['Zipcode_freq']"
   ]
  },
  {
   "cell_type": "code",
   "execution_count": 86,
   "id": "af9c7113",
   "metadata": {},
   "outputs": [
    {
     "data": {
      "text/plain": [
       "array(['Los Angeles', 'Other (Domestic)', 'Fontana', 'New York', 'Malibu',\n",
       "       'San Diego', 'Nashville', 'New Orleans', 'Austin', 'Philadelphia',\n",
       "       'Boston', 'Chicago', 'Denver', 'Other (International)',\n",
       "       'Palm Springs Desert', 'East Bay, CA', 'Adirondacks', 'Portland',\n",
       "       'D.C.', 'Toms River', 'San Francisco', 'Monterey Region',\n",
       "       'Seattle', 'Carlsbad', 'South Bay, CA', 'Rio De Janeiro', 'Venice',\n",
       "       'Monaco and Menton', 'Houston', 'Coastal Orange County',\n",
       "       'Providence', 'Kyoto', 'Temecula Valley', 'Dubai', 'Pittsburg',\n",
       "       'Flims', 'Chattanooga', 'Oregon Coast', 'Aspen and Vail', 'Cuba',\n",
       "       'South Bend', 'College Station', 'Charlotte', 'Portland, Maine',\n",
       "       'Santiago', 'San Antonio, US', 'South Florida Gulf Coast', 'Nice',\n",
       "       'Jerusalem', 'Toronto', 'Columbia, SC', 'Boulder', 'Shanghai',\n",
       "       'Berlin', 'Lagos, NG', 'Bristol', 'Dallas', 'Tel Aviv',\n",
       "       'Sacramento', 'Tuscany Countryside', 'Napa Region', 'Fresno',\n",
       "       'Santa Fe', 'Miami', 'Las Vegas', 'London',\n",
       "       'Catskills and Hudson Valley', 'Chico', 'Jamaica South Coast',\n",
       "       'Umbria Countryside', 'Agra', 'Paris', 'Urban Orange County',\n",
       "       'Indianapolis', 'Erie'], dtype=object)"
      ]
     },
     "execution_count": 86,
     "metadata": {},
     "output_type": "execute_result"
    }
   ],
   "source": [
    "df6['Market'].unique()"
   ]
  },
  {
   "cell_type": "code",
   "execution_count": 87,
   "id": "b761a8b0",
   "metadata": {},
   "outputs": [],
   "source": [
    "freq5 = (df6['Market'].value_counts()/len(df6['Market']))*100"
   ]
  },
  {
   "cell_type": "code",
   "execution_count": 88,
   "id": "2ee99594",
   "metadata": {},
   "outputs": [],
   "source": [
    "df6['Market_freq'] = df6['Market'].map(freq5)"
   ]
  },
  {
   "cell_type": "code",
   "execution_count": 89,
   "id": "1b34d733",
   "metadata": {},
   "outputs": [
    {
     "data": {
      "text/plain": [
       "409       22.424028\n",
       "410       22.424028\n",
       "411       22.424028\n",
       "412       22.424028\n",
       "413       22.424028\n",
       "            ...    \n",
       "494309     6.942171\n",
       "494310     6.942171\n",
       "494311     6.942171\n",
       "494312     6.942171\n",
       "494313     6.942171\n",
       "Name: Market_freq, Length: 132581, dtype: float64"
      ]
     },
     "execution_count": 89,
     "metadata": {},
     "output_type": "execute_result"
    }
   ],
   "source": [
    "df6['Market_freq']"
   ]
  },
  {
   "cell_type": "code",
   "execution_count": 90,
   "id": "b99e4047",
   "metadata": {},
   "outputs": [
    {
     "data": {
      "text/plain": [
       "array(['Apartment', 'House', 'Guesthouse', 'Other', 'Townhouse',\n",
       "       'Condominium', 'Loft', 'Bed & Breakfast', 'Bungalow', 'Hostel',\n",
       "       'Serviced apartment', 'Boat', 'Dorm', 'Villa', 'Castle',\n",
       "       'Boutique hotel', 'Cabin', 'Guest suite', 'Camper/RV', 'Tent',\n",
       "       'Entire Floor', 'Timeshare', 'Lighthouse', 'Treehouse',\n",
       "       'Vacation home', 'Hut', 'Yurt', 'Cave', 'Train', 'Parking Space',\n",
       "       'In-law', 'Chalet', 'Tipi', 'Earth House', 'Plane', 'Island',\n",
       "       'Nature lodge', 'Casa particular', 'Pension (Korea)'], dtype=object)"
      ]
     },
     "execution_count": 90,
     "metadata": {},
     "output_type": "execute_result"
    }
   ],
   "source": [
    "df6['Property Type'].unique()"
   ]
  },
  {
   "cell_type": "code",
   "execution_count": 91,
   "id": "0b7fb73f",
   "metadata": {},
   "outputs": [],
   "source": [
    "freq6 = (df6['Property Type'].value_counts()/len(df6['Property Type']))*100"
   ]
  },
  {
   "cell_type": "code",
   "execution_count": 92,
   "id": "c6a795bc",
   "metadata": {},
   "outputs": [],
   "source": [
    "df6['PropertyType_freq'] = df6['Property Type'].map(freq6)"
   ]
  },
  {
   "cell_type": "code",
   "execution_count": 93,
   "id": "fbe5dfb4",
   "metadata": {},
   "outputs": [
    {
     "data": {
      "text/plain": [
       "409       57.091137\n",
       "410       30.984832\n",
       "411        0.730120\n",
       "412        0.822139\n",
       "413        2.129264\n",
       "            ...    \n",
       "494309     3.646827\n",
       "494310    30.984832\n",
       "494311    30.984832\n",
       "494312    30.984832\n",
       "494313    30.984832\n",
       "Name: PropertyType_freq, Length: 132581, dtype: float64"
      ]
     },
     "execution_count": 93,
     "metadata": {},
     "output_type": "execute_result"
    }
   ],
   "source": [
    "df6['PropertyType_freq']"
   ]
  },
  {
   "cell_type": "code",
   "execution_count": 94,
   "id": "262d3220",
   "metadata": {},
   "outputs": [
    {
     "data": {
      "text/plain": [
       "array(['flexible', 'strict', 'moderate', 'super_strict_30',\n",
       "       'super_strict_60', 'no_refunds', 'long_term'], dtype=object)"
      ]
     },
     "execution_count": 94,
     "metadata": {},
     "output_type": "execute_result"
    }
   ],
   "source": [
    "df6['Cancellation Policy'].unique()"
   ]
  },
  {
   "cell_type": "code",
   "execution_count": 95,
   "id": "d0e64892",
   "metadata": {},
   "outputs": [
    {
     "data": {
      "text/html": [
       "<div>\n",
       "<style scoped>\n",
       "    .dataframe tbody tr th:only-of-type {\n",
       "        vertical-align: middle;\n",
       "    }\n",
       "\n",
       "    .dataframe tbody tr th {\n",
       "        vertical-align: top;\n",
       "    }\n",
       "\n",
       "    .dataframe thead th {\n",
       "        text-align: right;\n",
       "    }\n",
       "</style>\n",
       "<table border=\"1\" class=\"dataframe\">\n",
       "  <thead>\n",
       "    <tr style=\"text-align: right;\">\n",
       "      <th></th>\n",
       "      <th>Host Response Time</th>\n",
       "      <th>Host Neighbourhood</th>\n",
       "      <th>Neighbourhood</th>\n",
       "      <th>Neighbourhood Cleansed</th>\n",
       "      <th>State</th>\n",
       "      <th>Zipcode</th>\n",
       "      <th>Market</th>\n",
       "      <th>Property Type</th>\n",
       "      <th>Room Type</th>\n",
       "      <th>Bed Type</th>\n",
       "      <th>Cancellation Policy</th>\n",
       "      <th>HostResponseTime_ord</th>\n",
       "      <th>HostNeighbourhood_freq</th>\n",
       "      <th>NeighbourhoodCleansed_freq</th>\n",
       "      <th>State_freq</th>\n",
       "      <th>Zipcode_freq</th>\n",
       "      <th>Market_freq</th>\n",
       "      <th>PropertyType_freq</th>\n",
       "    </tr>\n",
       "  </thead>\n",
       "  <tbody>\n",
       "    <tr>\n",
       "      <th>409</th>\n",
       "      <td>within an hour</td>\n",
       "      <td>Woodland Hills/Warner Center</td>\n",
       "      <td>Woodland Hills/Warner Center</td>\n",
       "      <td>Woodland Hills</td>\n",
       "      <td>CA</td>\n",
       "      <td>91364</td>\n",
       "      <td>Los Angeles</td>\n",
       "      <td>Apartment</td>\n",
       "      <td>Private room</td>\n",
       "      <td>Real Bed</td>\n",
       "      <td>flexible</td>\n",
       "      <td>1</td>\n",
       "      <td>0.174987</td>\n",
       "      <td>0.196107</td>\n",
       "      <td>36.351363</td>\n",
       "      <td>0.109367</td>\n",
       "      <td>22.424028</td>\n",
       "      <td>57.091137</td>\n",
       "    </tr>\n",
       "    <tr>\n",
       "      <th>410</th>\n",
       "      <td>within a day</td>\n",
       "      <td>Woodland Hills/Warner Center</td>\n",
       "      <td>Woodland Hills/Warner Center</td>\n",
       "      <td>Woodland Hills</td>\n",
       "      <td>CA</td>\n",
       "      <td>91364</td>\n",
       "      <td>Los Angeles</td>\n",
       "      <td>House</td>\n",
       "      <td>Entire home/apt</td>\n",
       "      <td>Real Bed</td>\n",
       "      <td>flexible</td>\n",
       "      <td>3</td>\n",
       "      <td>0.174987</td>\n",
       "      <td>0.196107</td>\n",
       "      <td>36.351363</td>\n",
       "      <td>0.109367</td>\n",
       "      <td>22.424028</td>\n",
       "      <td>30.984832</td>\n",
       "    </tr>\n",
       "    <tr>\n",
       "      <th>411</th>\n",
       "      <td>within a few hours</td>\n",
       "      <td>Woodland Hills/Warner Center</td>\n",
       "      <td>Woodland Hills/Warner Center</td>\n",
       "      <td>Woodland Hills</td>\n",
       "      <td>CA</td>\n",
       "      <td>91367</td>\n",
       "      <td>Los Angeles</td>\n",
       "      <td>Guesthouse</td>\n",
       "      <td>Entire home/apt</td>\n",
       "      <td>Real Bed</td>\n",
       "      <td>flexible</td>\n",
       "      <td>2</td>\n",
       "      <td>0.174987</td>\n",
       "      <td>0.196107</td>\n",
       "      <td>36.351363</td>\n",
       "      <td>0.103333</td>\n",
       "      <td>22.424028</td>\n",
       "      <td>0.730120</td>\n",
       "    </tr>\n",
       "    <tr>\n",
       "      <th>412</th>\n",
       "      <td>within a few hours</td>\n",
       "      <td>Woodland Hills/Warner Center</td>\n",
       "      <td>Woodland Hills/Warner Center</td>\n",
       "      <td>Woodland Hills</td>\n",
       "      <td>CA</td>\n",
       "      <td>91364</td>\n",
       "      <td>Los Angeles</td>\n",
       "      <td>Other</td>\n",
       "      <td>Entire home/apt</td>\n",
       "      <td>Real Bed</td>\n",
       "      <td>strict</td>\n",
       "      <td>2</td>\n",
       "      <td>0.174987</td>\n",
       "      <td>0.196107</td>\n",
       "      <td>36.351363</td>\n",
       "      <td>0.109367</td>\n",
       "      <td>22.424028</td>\n",
       "      <td>0.822139</td>\n",
       "    </tr>\n",
       "    <tr>\n",
       "      <th>413</th>\n",
       "      <td>within an hour</td>\n",
       "      <td>Studio City</td>\n",
       "      <td>Woodland Hills/Warner Center</td>\n",
       "      <td>Woodland Hills</td>\n",
       "      <td>CA</td>\n",
       "      <td>91367</td>\n",
       "      <td>Los Angeles</td>\n",
       "      <td>Townhouse</td>\n",
       "      <td>Entire home/apt</td>\n",
       "      <td>Real Bed</td>\n",
       "      <td>moderate</td>\n",
       "      <td>1</td>\n",
       "      <td>0.188564</td>\n",
       "      <td>0.196107</td>\n",
       "      <td>36.351363</td>\n",
       "      <td>0.103333</td>\n",
       "      <td>22.424028</td>\n",
       "      <td>2.129264</td>\n",
       "    </tr>\n",
       "  </tbody>\n",
       "</table>\n",
       "</div>"
      ],
      "text/plain": [
       "     Host Response Time            Host Neighbourhood  \\\n",
       "409      within an hour  Woodland Hills/Warner Center   \n",
       "410        within a day  Woodland Hills/Warner Center   \n",
       "411  within a few hours  Woodland Hills/Warner Center   \n",
       "412  within a few hours  Woodland Hills/Warner Center   \n",
       "413      within an hour                   Studio City   \n",
       "\n",
       "                    Neighbourhood Neighbourhood Cleansed State Zipcode  \\\n",
       "409  Woodland Hills/Warner Center         Woodland Hills    CA   91364   \n",
       "410  Woodland Hills/Warner Center         Woodland Hills    CA   91364   \n",
       "411  Woodland Hills/Warner Center         Woodland Hills    CA   91367   \n",
       "412  Woodland Hills/Warner Center         Woodland Hills    CA   91364   \n",
       "413  Woodland Hills/Warner Center         Woodland Hills    CA   91367   \n",
       "\n",
       "          Market Property Type        Room Type  Bed Type Cancellation Policy  \\\n",
       "409  Los Angeles     Apartment     Private room  Real Bed            flexible   \n",
       "410  Los Angeles         House  Entire home/apt  Real Bed            flexible   \n",
       "411  Los Angeles    Guesthouse  Entire home/apt  Real Bed            flexible   \n",
       "412  Los Angeles         Other  Entire home/apt  Real Bed              strict   \n",
       "413  Los Angeles     Townhouse  Entire home/apt  Real Bed            moderate   \n",
       "\n",
       "     HostResponseTime_ord  HostNeighbourhood_freq  NeighbourhoodCleansed_freq  \\\n",
       "409                     1                0.174987                    0.196107   \n",
       "410                     3                0.174987                    0.196107   \n",
       "411                     2                0.174987                    0.196107   \n",
       "412                     2                0.174987                    0.196107   \n",
       "413                     1                0.188564                    0.196107   \n",
       "\n",
       "     State_freq  Zipcode_freq  Market_freq  PropertyType_freq  \n",
       "409   36.351363      0.109367    22.424028          57.091137  \n",
       "410   36.351363      0.109367    22.424028          30.984832  \n",
       "411   36.351363      0.103333    22.424028           0.730120  \n",
       "412   36.351363      0.109367    22.424028           0.822139  \n",
       "413   36.351363      0.103333    22.424028           2.129264  "
      ]
     },
     "execution_count": 95,
     "metadata": {},
     "output_type": "execute_result"
    }
   ],
   "source": [
    "df6.head()"
   ]
  },
  {
   "cell_type": "code",
   "execution_count": 96,
   "id": "a8a1a65b",
   "metadata": {},
   "outputs": [
    {
     "data": {
      "text/plain": [
       "array(['Woodland Hills/Warner Center', 'Williamsburg', 'West Hollywood',\n",
       "       ..., 'Lighthouse HIll', 'Oak Tree', 'Grant City'], dtype=object)"
      ]
     },
     "execution_count": 96,
     "metadata": {},
     "output_type": "execute_result"
    }
   ],
   "source": [
    "df6['Neighbourhood'].unique()"
   ]
  },
  {
   "cell_type": "code",
   "execution_count": 97,
   "id": "6933432e",
   "metadata": {},
   "outputs": [],
   "source": [
    "freq7 = (df6['Neighbourhood'].value_counts()/len(df6['Neighbourhood']))*100"
   ]
  },
  {
   "cell_type": "code",
   "execution_count": 98,
   "id": "38008db3",
   "metadata": {},
   "outputs": [],
   "source": [
    "df6['Neighbourhood_freq'] = df6['Neighbourhood'].map(freq7)"
   ]
  },
  {
   "cell_type": "code",
   "execution_count": 99,
   "id": "8292a152",
   "metadata": {},
   "outputs": [
    {
     "data": {
      "text/plain": [
       "409        0.172725\n",
       "410        0.172725\n",
       "411        0.172725\n",
       "412        0.172725\n",
       "413        0.172725\n",
       "            ...    \n",
       "494309    22.362933\n",
       "494310     0.128224\n",
       "494311     0.128224\n",
       "494312     0.186301\n",
       "494313     0.224014\n",
       "Name: Neighbourhood_freq, Length: 132581, dtype: float64"
      ]
     },
     "execution_count": 99,
     "metadata": {},
     "output_type": "execute_result"
    }
   ],
   "source": [
    "df6['Neighbourhood_freq']"
   ]
  },
  {
   "cell_type": "code",
   "execution_count": 100,
   "id": "295fc383",
   "metadata": {
    "scrolled": true
   },
   "outputs": [
    {
     "data": {
      "text/plain": [
       "Host Response Time            0.0\n",
       "Host Neighbourhood            0.0\n",
       "Neighbourhood                 0.0\n",
       "Neighbourhood Cleansed        0.0\n",
       "State                         0.0\n",
       "Zipcode                       0.0\n",
       "Market                        0.0\n",
       "Property Type                 0.0\n",
       "Room Type                     0.0\n",
       "Bed Type                      0.0\n",
       "Cancellation Policy           0.0\n",
       "HostResponseTime_ord          0.0\n",
       "HostNeighbourhood_freq        0.0\n",
       "NeighbourhoodCleansed_freq    0.0\n",
       "State_freq                    0.0\n",
       "Zipcode_freq                  0.0\n",
       "Market_freq                   0.0\n",
       "PropertyType_freq             0.0\n",
       "Neighbourhood_freq            0.0\n",
       "dtype: float64"
      ]
     },
     "execution_count": 100,
     "metadata": {},
     "output_type": "execute_result"
    }
   ],
   "source": [
    "(df6.isnull().sum()/len(df6))*100"
   ]
  },
  {
   "cell_type": "code",
   "execution_count": 101,
   "id": "c810ac71",
   "metadata": {},
   "outputs": [
    {
     "ename": "SyntaxError",
     "evalue": "invalid syntax (<ipython-input-101-badc3831f4e6>, line 1)",
     "output_type": "error",
     "traceback": [
      "\u001b[1;36m  File \u001b[1;32m\"<ipython-input-101-badc3831f4e6>\"\u001b[1;36m, line \u001b[1;32m1\u001b[0m\n\u001b[1;33m    Room Type, Bed Type, Cancellation Policy\u001b[0m\n\u001b[1;37m         ^\u001b[0m\n\u001b[1;31mSyntaxError\u001b[0m\u001b[1;31m:\u001b[0m invalid syntax\n"
     ]
    }
   ],
   "source": [
    "Room Type, Bed Type, Cancellation Policy"
   ]
  },
  {
   "cell_type": "code",
   "execution_count": 102,
   "id": "1fbea3b5",
   "metadata": {},
   "outputs": [
    {
     "data": {
      "text/plain": [
       "7"
      ]
     },
     "execution_count": 102,
     "metadata": {},
     "output_type": "execute_result"
    }
   ],
   "source": [
    "len(df6['Cancellation Policy'].unique())"
   ]
  },
  {
   "cell_type": "code",
   "execution_count": 103,
   "id": "74a02b30",
   "metadata": {},
   "outputs": [
    {
     "data": {
      "text/plain": [
       "Host Response Time            0.0\n",
       "Host Neighbourhood            0.0\n",
       "Neighbourhood                 0.0\n",
       "Neighbourhood Cleansed        0.0\n",
       "State                         0.0\n",
       "Zipcode                       0.0\n",
       "Market                        0.0\n",
       "Property Type                 0.0\n",
       "Room Type                     0.0\n",
       "Bed Type                      0.0\n",
       "Cancellation Policy           0.0\n",
       "HostResponseTime_ord          0.0\n",
       "HostNeighbourhood_freq        0.0\n",
       "NeighbourhoodCleansed_freq    0.0\n",
       "State_freq                    0.0\n",
       "Zipcode_freq                  0.0\n",
       "Market_freq                   0.0\n",
       "PropertyType_freq             0.0\n",
       "Neighbourhood_freq            0.0\n",
       "dtype: float64"
      ]
     },
     "execution_count": 103,
     "metadata": {},
     "output_type": "execute_result"
    }
   ],
   "source": [
    "(df6.isnull().sum()/len(df6))*100"
   ]
  },
  {
   "cell_type": "code",
   "execution_count": 104,
   "id": "27fbbd83",
   "metadata": {},
   "outputs": [],
   "source": [
    "df7 = pd.get_dummies(df6[['Room Type', 'Bed Type', 'Cancellation Policy']], drop_first = True)"
   ]
  },
  {
   "cell_type": "code",
   "execution_count": 105,
   "id": "b8b8264f",
   "metadata": {},
   "outputs": [
    {
     "data": {
      "text/html": [
       "<div>\n",
       "<style scoped>\n",
       "    .dataframe tbody tr th:only-of-type {\n",
       "        vertical-align: middle;\n",
       "    }\n",
       "\n",
       "    .dataframe tbody tr th {\n",
       "        vertical-align: top;\n",
       "    }\n",
       "\n",
       "    .dataframe thead th {\n",
       "        text-align: right;\n",
       "    }\n",
       "</style>\n",
       "<table border=\"1\" class=\"dataframe\">\n",
       "  <thead>\n",
       "    <tr style=\"text-align: right;\">\n",
       "      <th></th>\n",
       "      <th>Room Type_Private room</th>\n",
       "      <th>Room Type_Shared room</th>\n",
       "      <th>Bed Type_Couch</th>\n",
       "      <th>Bed Type_Futon</th>\n",
       "      <th>Bed Type_Pull-out Sofa</th>\n",
       "      <th>Bed Type_Real Bed</th>\n",
       "      <th>Cancellation Policy_long_term</th>\n",
       "      <th>Cancellation Policy_moderate</th>\n",
       "      <th>Cancellation Policy_no_refunds</th>\n",
       "      <th>Cancellation Policy_strict</th>\n",
       "      <th>Cancellation Policy_super_strict_30</th>\n",
       "      <th>Cancellation Policy_super_strict_60</th>\n",
       "    </tr>\n",
       "  </thead>\n",
       "  <tbody>\n",
       "    <tr>\n",
       "      <th>409</th>\n",
       "      <td>1</td>\n",
       "      <td>0</td>\n",
       "      <td>0</td>\n",
       "      <td>0</td>\n",
       "      <td>0</td>\n",
       "      <td>1</td>\n",
       "      <td>0</td>\n",
       "      <td>0</td>\n",
       "      <td>0</td>\n",
       "      <td>0</td>\n",
       "      <td>0</td>\n",
       "      <td>0</td>\n",
       "    </tr>\n",
       "    <tr>\n",
       "      <th>410</th>\n",
       "      <td>0</td>\n",
       "      <td>0</td>\n",
       "      <td>0</td>\n",
       "      <td>0</td>\n",
       "      <td>0</td>\n",
       "      <td>1</td>\n",
       "      <td>0</td>\n",
       "      <td>0</td>\n",
       "      <td>0</td>\n",
       "      <td>0</td>\n",
       "      <td>0</td>\n",
       "      <td>0</td>\n",
       "    </tr>\n",
       "    <tr>\n",
       "      <th>411</th>\n",
       "      <td>0</td>\n",
       "      <td>0</td>\n",
       "      <td>0</td>\n",
       "      <td>0</td>\n",
       "      <td>0</td>\n",
       "      <td>1</td>\n",
       "      <td>0</td>\n",
       "      <td>0</td>\n",
       "      <td>0</td>\n",
       "      <td>0</td>\n",
       "      <td>0</td>\n",
       "      <td>0</td>\n",
       "    </tr>\n",
       "    <tr>\n",
       "      <th>412</th>\n",
       "      <td>0</td>\n",
       "      <td>0</td>\n",
       "      <td>0</td>\n",
       "      <td>0</td>\n",
       "      <td>0</td>\n",
       "      <td>1</td>\n",
       "      <td>0</td>\n",
       "      <td>0</td>\n",
       "      <td>0</td>\n",
       "      <td>1</td>\n",
       "      <td>0</td>\n",
       "      <td>0</td>\n",
       "    </tr>\n",
       "    <tr>\n",
       "      <th>413</th>\n",
       "      <td>0</td>\n",
       "      <td>0</td>\n",
       "      <td>0</td>\n",
       "      <td>0</td>\n",
       "      <td>0</td>\n",
       "      <td>1</td>\n",
       "      <td>0</td>\n",
       "      <td>1</td>\n",
       "      <td>0</td>\n",
       "      <td>0</td>\n",
       "      <td>0</td>\n",
       "      <td>0</td>\n",
       "    </tr>\n",
       "    <tr>\n",
       "      <th>...</th>\n",
       "      <td>...</td>\n",
       "      <td>...</td>\n",
       "      <td>...</td>\n",
       "      <td>...</td>\n",
       "      <td>...</td>\n",
       "      <td>...</td>\n",
       "      <td>...</td>\n",
       "      <td>...</td>\n",
       "      <td>...</td>\n",
       "      <td>...</td>\n",
       "      <td>...</td>\n",
       "      <td>...</td>\n",
       "    </tr>\n",
       "    <tr>\n",
       "      <th>494309</th>\n",
       "      <td>1</td>\n",
       "      <td>0</td>\n",
       "      <td>0</td>\n",
       "      <td>0</td>\n",
       "      <td>0</td>\n",
       "      <td>1</td>\n",
       "      <td>0</td>\n",
       "      <td>0</td>\n",
       "      <td>0</td>\n",
       "      <td>1</td>\n",
       "      <td>0</td>\n",
       "      <td>0</td>\n",
       "    </tr>\n",
       "    <tr>\n",
       "      <th>494310</th>\n",
       "      <td>0</td>\n",
       "      <td>0</td>\n",
       "      <td>0</td>\n",
       "      <td>0</td>\n",
       "      <td>0</td>\n",
       "      <td>1</td>\n",
       "      <td>0</td>\n",
       "      <td>0</td>\n",
       "      <td>0</td>\n",
       "      <td>0</td>\n",
       "      <td>0</td>\n",
       "      <td>0</td>\n",
       "    </tr>\n",
       "    <tr>\n",
       "      <th>494311</th>\n",
       "      <td>0</td>\n",
       "      <td>0</td>\n",
       "      <td>0</td>\n",
       "      <td>0</td>\n",
       "      <td>0</td>\n",
       "      <td>1</td>\n",
       "      <td>0</td>\n",
       "      <td>0</td>\n",
       "      <td>0</td>\n",
       "      <td>1</td>\n",
       "      <td>0</td>\n",
       "      <td>0</td>\n",
       "    </tr>\n",
       "    <tr>\n",
       "      <th>494312</th>\n",
       "      <td>0</td>\n",
       "      <td>0</td>\n",
       "      <td>0</td>\n",
       "      <td>0</td>\n",
       "      <td>0</td>\n",
       "      <td>1</td>\n",
       "      <td>0</td>\n",
       "      <td>0</td>\n",
       "      <td>0</td>\n",
       "      <td>1</td>\n",
       "      <td>0</td>\n",
       "      <td>0</td>\n",
       "    </tr>\n",
       "    <tr>\n",
       "      <th>494313</th>\n",
       "      <td>0</td>\n",
       "      <td>0</td>\n",
       "      <td>0</td>\n",
       "      <td>0</td>\n",
       "      <td>0</td>\n",
       "      <td>1</td>\n",
       "      <td>0</td>\n",
       "      <td>0</td>\n",
       "      <td>0</td>\n",
       "      <td>0</td>\n",
       "      <td>0</td>\n",
       "      <td>0</td>\n",
       "    </tr>\n",
       "  </tbody>\n",
       "</table>\n",
       "<p>132581 rows × 12 columns</p>\n",
       "</div>"
      ],
      "text/plain": [
       "        Room Type_Private room  Room Type_Shared room  Bed Type_Couch  \\\n",
       "409                          1                      0               0   \n",
       "410                          0                      0               0   \n",
       "411                          0                      0               0   \n",
       "412                          0                      0               0   \n",
       "413                          0                      0               0   \n",
       "...                        ...                    ...             ...   \n",
       "494309                       1                      0               0   \n",
       "494310                       0                      0               0   \n",
       "494311                       0                      0               0   \n",
       "494312                       0                      0               0   \n",
       "494313                       0                      0               0   \n",
       "\n",
       "        Bed Type_Futon  Bed Type_Pull-out Sofa  Bed Type_Real Bed  \\\n",
       "409                  0                       0                  1   \n",
       "410                  0                       0                  1   \n",
       "411                  0                       0                  1   \n",
       "412                  0                       0                  1   \n",
       "413                  0                       0                  1   \n",
       "...                ...                     ...                ...   \n",
       "494309               0                       0                  1   \n",
       "494310               0                       0                  1   \n",
       "494311               0                       0                  1   \n",
       "494312               0                       0                  1   \n",
       "494313               0                       0                  1   \n",
       "\n",
       "        Cancellation Policy_long_term  Cancellation Policy_moderate  \\\n",
       "409                                 0                             0   \n",
       "410                                 0                             0   \n",
       "411                                 0                             0   \n",
       "412                                 0                             0   \n",
       "413                                 0                             1   \n",
       "...                               ...                           ...   \n",
       "494309                              0                             0   \n",
       "494310                              0                             0   \n",
       "494311                              0                             0   \n",
       "494312                              0                             0   \n",
       "494313                              0                             0   \n",
       "\n",
       "        Cancellation Policy_no_refunds  Cancellation Policy_strict  \\\n",
       "409                                  0                           0   \n",
       "410                                  0                           0   \n",
       "411                                  0                           0   \n",
       "412                                  0                           1   \n",
       "413                                  0                           0   \n",
       "...                                ...                         ...   \n",
       "494309                               0                           1   \n",
       "494310                               0                           0   \n",
       "494311                               0                           1   \n",
       "494312                               0                           1   \n",
       "494313                               0                           0   \n",
       "\n",
       "        Cancellation Policy_super_strict_30  \\\n",
       "409                                       0   \n",
       "410                                       0   \n",
       "411                                       0   \n",
       "412                                       0   \n",
       "413                                       0   \n",
       "...                                     ...   \n",
       "494309                                    0   \n",
       "494310                                    0   \n",
       "494311                                    0   \n",
       "494312                                    0   \n",
       "494313                                    0   \n",
       "\n",
       "        Cancellation Policy_super_strict_60  \n",
       "409                                       0  \n",
       "410                                       0  \n",
       "411                                       0  \n",
       "412                                       0  \n",
       "413                                       0  \n",
       "...                                     ...  \n",
       "494309                                    0  \n",
       "494310                                    0  \n",
       "494311                                    0  \n",
       "494312                                    0  \n",
       "494313                                    0  \n",
       "\n",
       "[132581 rows x 12 columns]"
      ]
     },
     "execution_count": 105,
     "metadata": {},
     "output_type": "execute_result"
    }
   ],
   "source": [
    "df7"
   ]
  },
  {
   "cell_type": "code",
   "execution_count": 106,
   "id": "88257a4d",
   "metadata": {},
   "outputs": [],
   "source": [
    "df8=pd.concat([df6,df7],axis=1)"
   ]
  },
  {
   "cell_type": "code",
   "execution_count": 107,
   "id": "c2c4b4f9",
   "metadata": {},
   "outputs": [
    {
     "data": {
      "text/html": [
       "<div>\n",
       "<style scoped>\n",
       "    .dataframe tbody tr th:only-of-type {\n",
       "        vertical-align: middle;\n",
       "    }\n",
       "\n",
       "    .dataframe tbody tr th {\n",
       "        vertical-align: top;\n",
       "    }\n",
       "\n",
       "    .dataframe thead th {\n",
       "        text-align: right;\n",
       "    }\n",
       "</style>\n",
       "<table border=\"1\" class=\"dataframe\">\n",
       "  <thead>\n",
       "    <tr style=\"text-align: right;\">\n",
       "      <th></th>\n",
       "      <th>Host Response Time</th>\n",
       "      <th>Host Neighbourhood</th>\n",
       "      <th>Neighbourhood</th>\n",
       "      <th>Neighbourhood Cleansed</th>\n",
       "      <th>State</th>\n",
       "      <th>Zipcode</th>\n",
       "      <th>Market</th>\n",
       "      <th>Property Type</th>\n",
       "      <th>Room Type</th>\n",
       "      <th>Bed Type</th>\n",
       "      <th>...</th>\n",
       "      <th>Bed Type_Couch</th>\n",
       "      <th>Bed Type_Futon</th>\n",
       "      <th>Bed Type_Pull-out Sofa</th>\n",
       "      <th>Bed Type_Real Bed</th>\n",
       "      <th>Cancellation Policy_long_term</th>\n",
       "      <th>Cancellation Policy_moderate</th>\n",
       "      <th>Cancellation Policy_no_refunds</th>\n",
       "      <th>Cancellation Policy_strict</th>\n",
       "      <th>Cancellation Policy_super_strict_30</th>\n",
       "      <th>Cancellation Policy_super_strict_60</th>\n",
       "    </tr>\n",
       "  </thead>\n",
       "  <tbody>\n",
       "    <tr>\n",
       "      <th>409</th>\n",
       "      <td>within an hour</td>\n",
       "      <td>Woodland Hills/Warner Center</td>\n",
       "      <td>Woodland Hills/Warner Center</td>\n",
       "      <td>Woodland Hills</td>\n",
       "      <td>CA</td>\n",
       "      <td>91364</td>\n",
       "      <td>Los Angeles</td>\n",
       "      <td>Apartment</td>\n",
       "      <td>Private room</td>\n",
       "      <td>Real Bed</td>\n",
       "      <td>...</td>\n",
       "      <td>0</td>\n",
       "      <td>0</td>\n",
       "      <td>0</td>\n",
       "      <td>1</td>\n",
       "      <td>0</td>\n",
       "      <td>0</td>\n",
       "      <td>0</td>\n",
       "      <td>0</td>\n",
       "      <td>0</td>\n",
       "      <td>0</td>\n",
       "    </tr>\n",
       "    <tr>\n",
       "      <th>410</th>\n",
       "      <td>within a day</td>\n",
       "      <td>Woodland Hills/Warner Center</td>\n",
       "      <td>Woodland Hills/Warner Center</td>\n",
       "      <td>Woodland Hills</td>\n",
       "      <td>CA</td>\n",
       "      <td>91364</td>\n",
       "      <td>Los Angeles</td>\n",
       "      <td>House</td>\n",
       "      <td>Entire home/apt</td>\n",
       "      <td>Real Bed</td>\n",
       "      <td>...</td>\n",
       "      <td>0</td>\n",
       "      <td>0</td>\n",
       "      <td>0</td>\n",
       "      <td>1</td>\n",
       "      <td>0</td>\n",
       "      <td>0</td>\n",
       "      <td>0</td>\n",
       "      <td>0</td>\n",
       "      <td>0</td>\n",
       "      <td>0</td>\n",
       "    </tr>\n",
       "    <tr>\n",
       "      <th>411</th>\n",
       "      <td>within a few hours</td>\n",
       "      <td>Woodland Hills/Warner Center</td>\n",
       "      <td>Woodland Hills/Warner Center</td>\n",
       "      <td>Woodland Hills</td>\n",
       "      <td>CA</td>\n",
       "      <td>91367</td>\n",
       "      <td>Los Angeles</td>\n",
       "      <td>Guesthouse</td>\n",
       "      <td>Entire home/apt</td>\n",
       "      <td>Real Bed</td>\n",
       "      <td>...</td>\n",
       "      <td>0</td>\n",
       "      <td>0</td>\n",
       "      <td>0</td>\n",
       "      <td>1</td>\n",
       "      <td>0</td>\n",
       "      <td>0</td>\n",
       "      <td>0</td>\n",
       "      <td>0</td>\n",
       "      <td>0</td>\n",
       "      <td>0</td>\n",
       "    </tr>\n",
       "    <tr>\n",
       "      <th>412</th>\n",
       "      <td>within a few hours</td>\n",
       "      <td>Woodland Hills/Warner Center</td>\n",
       "      <td>Woodland Hills/Warner Center</td>\n",
       "      <td>Woodland Hills</td>\n",
       "      <td>CA</td>\n",
       "      <td>91364</td>\n",
       "      <td>Los Angeles</td>\n",
       "      <td>Other</td>\n",
       "      <td>Entire home/apt</td>\n",
       "      <td>Real Bed</td>\n",
       "      <td>...</td>\n",
       "      <td>0</td>\n",
       "      <td>0</td>\n",
       "      <td>0</td>\n",
       "      <td>1</td>\n",
       "      <td>0</td>\n",
       "      <td>0</td>\n",
       "      <td>0</td>\n",
       "      <td>1</td>\n",
       "      <td>0</td>\n",
       "      <td>0</td>\n",
       "    </tr>\n",
       "    <tr>\n",
       "      <th>413</th>\n",
       "      <td>within an hour</td>\n",
       "      <td>Studio City</td>\n",
       "      <td>Woodland Hills/Warner Center</td>\n",
       "      <td>Woodland Hills</td>\n",
       "      <td>CA</td>\n",
       "      <td>91367</td>\n",
       "      <td>Los Angeles</td>\n",
       "      <td>Townhouse</td>\n",
       "      <td>Entire home/apt</td>\n",
       "      <td>Real Bed</td>\n",
       "      <td>...</td>\n",
       "      <td>0</td>\n",
       "      <td>0</td>\n",
       "      <td>0</td>\n",
       "      <td>1</td>\n",
       "      <td>0</td>\n",
       "      <td>1</td>\n",
       "      <td>0</td>\n",
       "      <td>0</td>\n",
       "      <td>0</td>\n",
       "      <td>0</td>\n",
       "    </tr>\n",
       "    <tr>\n",
       "      <th>...</th>\n",
       "      <td>...</td>\n",
       "      <td>...</td>\n",
       "      <td>...</td>\n",
       "      <td>...</td>\n",
       "      <td>...</td>\n",
       "      <td>...</td>\n",
       "      <td>...</td>\n",
       "      <td>...</td>\n",
       "      <td>...</td>\n",
       "      <td>...</td>\n",
       "      <td>...</td>\n",
       "      <td>...</td>\n",
       "      <td>...</td>\n",
       "      <td>...</td>\n",
       "      <td>...</td>\n",
       "      <td>...</td>\n",
       "      <td>...</td>\n",
       "      <td>...</td>\n",
       "      <td>...</td>\n",
       "      <td>...</td>\n",
       "      <td>...</td>\n",
       "    </tr>\n",
       "    <tr>\n",
       "      <th>494309</th>\n",
       "      <td>within an hour</td>\n",
       "      <td>Williamsburg</td>\n",
       "      <td>Williamsburg</td>\n",
       "      <td>78704</td>\n",
       "      <td>TX</td>\n",
       "      <td>78704</td>\n",
       "      <td>Austin</td>\n",
       "      <td>Condominium</td>\n",
       "      <td>Private room</td>\n",
       "      <td>Real Bed</td>\n",
       "      <td>...</td>\n",
       "      <td>0</td>\n",
       "      <td>0</td>\n",
       "      <td>0</td>\n",
       "      <td>1</td>\n",
       "      <td>0</td>\n",
       "      <td>0</td>\n",
       "      <td>0</td>\n",
       "      <td>1</td>\n",
       "      <td>0</td>\n",
       "      <td>0</td>\n",
       "    </tr>\n",
       "    <tr>\n",
       "      <th>494310</th>\n",
       "      <td>within a few hours</td>\n",
       "      <td>South Congress</td>\n",
       "      <td>South Congress</td>\n",
       "      <td>78704</td>\n",
       "      <td>TX</td>\n",
       "      <td>78704</td>\n",
       "      <td>Austin</td>\n",
       "      <td>House</td>\n",
       "      <td>Entire home/apt</td>\n",
       "      <td>Real Bed</td>\n",
       "      <td>...</td>\n",
       "      <td>0</td>\n",
       "      <td>0</td>\n",
       "      <td>0</td>\n",
       "      <td>1</td>\n",
       "      <td>0</td>\n",
       "      <td>0</td>\n",
       "      <td>0</td>\n",
       "      <td>0</td>\n",
       "      <td>0</td>\n",
       "      <td>0</td>\n",
       "    </tr>\n",
       "    <tr>\n",
       "      <th>494311</th>\n",
       "      <td>within an hour</td>\n",
       "      <td>South Congress</td>\n",
       "      <td>South Congress</td>\n",
       "      <td>78704</td>\n",
       "      <td>TX</td>\n",
       "      <td>78704</td>\n",
       "      <td>Austin</td>\n",
       "      <td>House</td>\n",
       "      <td>Entire home/apt</td>\n",
       "      <td>Real Bed</td>\n",
       "      <td>...</td>\n",
       "      <td>0</td>\n",
       "      <td>0</td>\n",
       "      <td>0</td>\n",
       "      <td>1</td>\n",
       "      <td>0</td>\n",
       "      <td>0</td>\n",
       "      <td>0</td>\n",
       "      <td>1</td>\n",
       "      <td>0</td>\n",
       "      <td>0</td>\n",
       "    </tr>\n",
       "    <tr>\n",
       "      <th>494312</th>\n",
       "      <td>within a day</td>\n",
       "      <td>Barton Hills</td>\n",
       "      <td>Barton Hills</td>\n",
       "      <td>78704</td>\n",
       "      <td>TX</td>\n",
       "      <td>78704</td>\n",
       "      <td>Austin</td>\n",
       "      <td>House</td>\n",
       "      <td>Entire home/apt</td>\n",
       "      <td>Real Bed</td>\n",
       "      <td>...</td>\n",
       "      <td>0</td>\n",
       "      <td>0</td>\n",
       "      <td>0</td>\n",
       "      <td>1</td>\n",
       "      <td>0</td>\n",
       "      <td>0</td>\n",
       "      <td>0</td>\n",
       "      <td>1</td>\n",
       "      <td>0</td>\n",
       "      <td>0</td>\n",
       "    </tr>\n",
       "    <tr>\n",
       "      <th>494313</th>\n",
       "      <td>within an hour</td>\n",
       "      <td>Travis Heights</td>\n",
       "      <td>Travis Heights</td>\n",
       "      <td>78704</td>\n",
       "      <td>TX</td>\n",
       "      <td>78704</td>\n",
       "      <td>Austin</td>\n",
       "      <td>House</td>\n",
       "      <td>Entire home/apt</td>\n",
       "      <td>Real Bed</td>\n",
       "      <td>...</td>\n",
       "      <td>0</td>\n",
       "      <td>0</td>\n",
       "      <td>0</td>\n",
       "      <td>1</td>\n",
       "      <td>0</td>\n",
       "      <td>0</td>\n",
       "      <td>0</td>\n",
       "      <td>0</td>\n",
       "      <td>0</td>\n",
       "      <td>0</td>\n",
       "    </tr>\n",
       "  </tbody>\n",
       "</table>\n",
       "<p>132581 rows × 31 columns</p>\n",
       "</div>"
      ],
      "text/plain": [
       "        Host Response Time            Host Neighbourhood  \\\n",
       "409         within an hour  Woodland Hills/Warner Center   \n",
       "410           within a day  Woodland Hills/Warner Center   \n",
       "411     within a few hours  Woodland Hills/Warner Center   \n",
       "412     within a few hours  Woodland Hills/Warner Center   \n",
       "413         within an hour                   Studio City   \n",
       "...                    ...                           ...   \n",
       "494309      within an hour                  Williamsburg   \n",
       "494310  within a few hours                South Congress   \n",
       "494311      within an hour                South Congress   \n",
       "494312        within a day                  Barton Hills   \n",
       "494313      within an hour                Travis Heights   \n",
       "\n",
       "                       Neighbourhood Neighbourhood Cleansed State Zipcode  \\\n",
       "409     Woodland Hills/Warner Center         Woodland Hills    CA   91364   \n",
       "410     Woodland Hills/Warner Center         Woodland Hills    CA   91364   \n",
       "411     Woodland Hills/Warner Center         Woodland Hills    CA   91367   \n",
       "412     Woodland Hills/Warner Center         Woodland Hills    CA   91364   \n",
       "413     Woodland Hills/Warner Center         Woodland Hills    CA   91367   \n",
       "...                              ...                    ...   ...     ...   \n",
       "494309                  Williamsburg                  78704    TX   78704   \n",
       "494310                South Congress                  78704    TX   78704   \n",
       "494311                South Congress                  78704    TX   78704   \n",
       "494312                  Barton Hills                  78704    TX   78704   \n",
       "494313                Travis Heights                  78704    TX   78704   \n",
       "\n",
       "             Market Property Type        Room Type  Bed Type  ...  \\\n",
       "409     Los Angeles     Apartment     Private room  Real Bed  ...   \n",
       "410     Los Angeles         House  Entire home/apt  Real Bed  ...   \n",
       "411     Los Angeles    Guesthouse  Entire home/apt  Real Bed  ...   \n",
       "412     Los Angeles         Other  Entire home/apt  Real Bed  ...   \n",
       "413     Los Angeles     Townhouse  Entire home/apt  Real Bed  ...   \n",
       "...             ...           ...              ...       ...  ...   \n",
       "494309       Austin   Condominium     Private room  Real Bed  ...   \n",
       "494310       Austin         House  Entire home/apt  Real Bed  ...   \n",
       "494311       Austin         House  Entire home/apt  Real Bed  ...   \n",
       "494312       Austin         House  Entire home/apt  Real Bed  ...   \n",
       "494313       Austin         House  Entire home/apt  Real Bed  ...   \n",
       "\n",
       "       Bed Type_Couch  Bed Type_Futon  Bed Type_Pull-out Sofa  \\\n",
       "409                 0               0                       0   \n",
       "410                 0               0                       0   \n",
       "411                 0               0                       0   \n",
       "412                 0               0                       0   \n",
       "413                 0               0                       0   \n",
       "...               ...             ...                     ...   \n",
       "494309              0               0                       0   \n",
       "494310              0               0                       0   \n",
       "494311              0               0                       0   \n",
       "494312              0               0                       0   \n",
       "494313              0               0                       0   \n",
       "\n",
       "        Bed Type_Real Bed  Cancellation Policy_long_term  \\\n",
       "409                     1                              0   \n",
       "410                     1                              0   \n",
       "411                     1                              0   \n",
       "412                     1                              0   \n",
       "413                     1                              0   \n",
       "...                   ...                            ...   \n",
       "494309                  1                              0   \n",
       "494310                  1                              0   \n",
       "494311                  1                              0   \n",
       "494312                  1                              0   \n",
       "494313                  1                              0   \n",
       "\n",
       "        Cancellation Policy_moderate  Cancellation Policy_no_refunds  \\\n",
       "409                                0                               0   \n",
       "410                                0                               0   \n",
       "411                                0                               0   \n",
       "412                                0                               0   \n",
       "413                                1                               0   \n",
       "...                              ...                             ...   \n",
       "494309                             0                               0   \n",
       "494310                             0                               0   \n",
       "494311                             0                               0   \n",
       "494312                             0                               0   \n",
       "494313                             0                               0   \n",
       "\n",
       "        Cancellation Policy_strict  Cancellation Policy_super_strict_30  \\\n",
       "409                              0                                    0   \n",
       "410                              0                                    0   \n",
       "411                              0                                    0   \n",
       "412                              1                                    0   \n",
       "413                              0                                    0   \n",
       "...                            ...                                  ...   \n",
       "494309                           1                                    0   \n",
       "494310                           0                                    0   \n",
       "494311                           1                                    0   \n",
       "494312                           1                                    0   \n",
       "494313                           0                                    0   \n",
       "\n",
       "        Cancellation Policy_super_strict_60  \n",
       "409                                       0  \n",
       "410                                       0  \n",
       "411                                       0  \n",
       "412                                       0  \n",
       "413                                       0  \n",
       "...                                     ...  \n",
       "494309                                    0  \n",
       "494310                                    0  \n",
       "494311                                    0  \n",
       "494312                                    0  \n",
       "494313                                    0  \n",
       "\n",
       "[132581 rows x 31 columns]"
      ]
     },
     "execution_count": 107,
     "metadata": {},
     "output_type": "execute_result"
    }
   ],
   "source": [
    "df8"
   ]
  },
  {
   "cell_type": "code",
   "execution_count": 108,
   "id": "5407b541",
   "metadata": {},
   "outputs": [
    {
     "data": {
      "text/plain": [
       "Host Response Time                     0.0\n",
       "Host Neighbourhood                     0.0\n",
       "Neighbourhood                          0.0\n",
       "Neighbourhood Cleansed                 0.0\n",
       "State                                  0.0\n",
       "Zipcode                                0.0\n",
       "Market                                 0.0\n",
       "Property Type                          0.0\n",
       "Room Type                              0.0\n",
       "Bed Type                               0.0\n",
       "Cancellation Policy                    0.0\n",
       "HostResponseTime_ord                   0.0\n",
       "HostNeighbourhood_freq                 0.0\n",
       "NeighbourhoodCleansed_freq             0.0\n",
       "State_freq                             0.0\n",
       "Zipcode_freq                           0.0\n",
       "Market_freq                            0.0\n",
       "PropertyType_freq                      0.0\n",
       "Neighbourhood_freq                     0.0\n",
       "Room Type_Private room                 0.0\n",
       "Room Type_Shared room                  0.0\n",
       "Bed Type_Couch                         0.0\n",
       "Bed Type_Futon                         0.0\n",
       "Bed Type_Pull-out Sofa                 0.0\n",
       "Bed Type_Real Bed                      0.0\n",
       "Cancellation Policy_long_term          0.0\n",
       "Cancellation Policy_moderate           0.0\n",
       "Cancellation Policy_no_refunds         0.0\n",
       "Cancellation Policy_strict             0.0\n",
       "Cancellation Policy_super_strict_30    0.0\n",
       "Cancellation Policy_super_strict_60    0.0\n",
       "dtype: float64"
      ]
     },
     "execution_count": 108,
     "metadata": {},
     "output_type": "execute_result"
    }
   ],
   "source": [
    "(df8.isnull().sum()/len(df8))*100"
   ]
  },
  {
   "cell_type": "code",
   "execution_count": 109,
   "id": "03cccc24",
   "metadata": {},
   "outputs": [],
   "source": [
    "df9 = df8.drop(['Host Response Time','Host Neighbourhood','Neighbourhood','Neighbourhood Cleansed',\n",
    "               'State','Zipcode','Market','Property Type','Room Type','Bed Type','Cancellation Policy'], axis = 1)"
   ]
  },
  {
   "cell_type": "code",
   "execution_count": 110,
   "id": "d8f788ba",
   "metadata": {},
   "outputs": [],
   "source": [
    "df_cat_encoded = df9"
   ]
  },
  {
   "cell_type": "code",
   "execution_count": 111,
   "id": "52f08501",
   "metadata": {},
   "outputs": [
    {
     "data": {
      "text/html": [
       "<div>\n",
       "<style scoped>\n",
       "    .dataframe tbody tr th:only-of-type {\n",
       "        vertical-align: middle;\n",
       "    }\n",
       "\n",
       "    .dataframe tbody tr th {\n",
       "        vertical-align: top;\n",
       "    }\n",
       "\n",
       "    .dataframe thead th {\n",
       "        text-align: right;\n",
       "    }\n",
       "</style>\n",
       "<table border=\"1\" class=\"dataframe\">\n",
       "  <thead>\n",
       "    <tr style=\"text-align: right;\">\n",
       "      <th></th>\n",
       "      <th>HostResponseTime_ord</th>\n",
       "      <th>HostNeighbourhood_freq</th>\n",
       "      <th>NeighbourhoodCleansed_freq</th>\n",
       "      <th>State_freq</th>\n",
       "      <th>Zipcode_freq</th>\n",
       "      <th>Market_freq</th>\n",
       "      <th>PropertyType_freq</th>\n",
       "      <th>Neighbourhood_freq</th>\n",
       "      <th>Room Type_Private room</th>\n",
       "      <th>Room Type_Shared room</th>\n",
       "      <th>Bed Type_Couch</th>\n",
       "      <th>Bed Type_Futon</th>\n",
       "      <th>Bed Type_Pull-out Sofa</th>\n",
       "      <th>Bed Type_Real Bed</th>\n",
       "      <th>Cancellation Policy_long_term</th>\n",
       "      <th>Cancellation Policy_moderate</th>\n",
       "      <th>Cancellation Policy_no_refunds</th>\n",
       "      <th>Cancellation Policy_strict</th>\n",
       "      <th>Cancellation Policy_super_strict_30</th>\n",
       "      <th>Cancellation Policy_super_strict_60</th>\n",
       "    </tr>\n",
       "  </thead>\n",
       "  <tbody>\n",
       "    <tr>\n",
       "      <th>409</th>\n",
       "      <td>1</td>\n",
       "      <td>0.174987</td>\n",
       "      <td>0.196107</td>\n",
       "      <td>36.351363</td>\n",
       "      <td>0.109367</td>\n",
       "      <td>22.424028</td>\n",
       "      <td>57.091137</td>\n",
       "      <td>0.172725</td>\n",
       "      <td>1</td>\n",
       "      <td>0</td>\n",
       "      <td>0</td>\n",
       "      <td>0</td>\n",
       "      <td>0</td>\n",
       "      <td>1</td>\n",
       "      <td>0</td>\n",
       "      <td>0</td>\n",
       "      <td>0</td>\n",
       "      <td>0</td>\n",
       "      <td>0</td>\n",
       "      <td>0</td>\n",
       "    </tr>\n",
       "    <tr>\n",
       "      <th>410</th>\n",
       "      <td>3</td>\n",
       "      <td>0.174987</td>\n",
       "      <td>0.196107</td>\n",
       "      <td>36.351363</td>\n",
       "      <td>0.109367</td>\n",
       "      <td>22.424028</td>\n",
       "      <td>30.984832</td>\n",
       "      <td>0.172725</td>\n",
       "      <td>0</td>\n",
       "      <td>0</td>\n",
       "      <td>0</td>\n",
       "      <td>0</td>\n",
       "      <td>0</td>\n",
       "      <td>1</td>\n",
       "      <td>0</td>\n",
       "      <td>0</td>\n",
       "      <td>0</td>\n",
       "      <td>0</td>\n",
       "      <td>0</td>\n",
       "      <td>0</td>\n",
       "    </tr>\n",
       "    <tr>\n",
       "      <th>411</th>\n",
       "      <td>2</td>\n",
       "      <td>0.174987</td>\n",
       "      <td>0.196107</td>\n",
       "      <td>36.351363</td>\n",
       "      <td>0.103333</td>\n",
       "      <td>22.424028</td>\n",
       "      <td>0.730120</td>\n",
       "      <td>0.172725</td>\n",
       "      <td>0</td>\n",
       "      <td>0</td>\n",
       "      <td>0</td>\n",
       "      <td>0</td>\n",
       "      <td>0</td>\n",
       "      <td>1</td>\n",
       "      <td>0</td>\n",
       "      <td>0</td>\n",
       "      <td>0</td>\n",
       "      <td>0</td>\n",
       "      <td>0</td>\n",
       "      <td>0</td>\n",
       "    </tr>\n",
       "    <tr>\n",
       "      <th>412</th>\n",
       "      <td>2</td>\n",
       "      <td>0.174987</td>\n",
       "      <td>0.196107</td>\n",
       "      <td>36.351363</td>\n",
       "      <td>0.109367</td>\n",
       "      <td>22.424028</td>\n",
       "      <td>0.822139</td>\n",
       "      <td>0.172725</td>\n",
       "      <td>0</td>\n",
       "      <td>0</td>\n",
       "      <td>0</td>\n",
       "      <td>0</td>\n",
       "      <td>0</td>\n",
       "      <td>1</td>\n",
       "      <td>0</td>\n",
       "      <td>0</td>\n",
       "      <td>0</td>\n",
       "      <td>1</td>\n",
       "      <td>0</td>\n",
       "      <td>0</td>\n",
       "    </tr>\n",
       "    <tr>\n",
       "      <th>413</th>\n",
       "      <td>1</td>\n",
       "      <td>0.188564</td>\n",
       "      <td>0.196107</td>\n",
       "      <td>36.351363</td>\n",
       "      <td>0.103333</td>\n",
       "      <td>22.424028</td>\n",
       "      <td>2.129264</td>\n",
       "      <td>0.172725</td>\n",
       "      <td>0</td>\n",
       "      <td>0</td>\n",
       "      <td>0</td>\n",
       "      <td>0</td>\n",
       "      <td>0</td>\n",
       "      <td>1</td>\n",
       "      <td>0</td>\n",
       "      <td>1</td>\n",
       "      <td>0</td>\n",
       "      <td>0</td>\n",
       "      <td>0</td>\n",
       "      <td>0</td>\n",
       "    </tr>\n",
       "    <tr>\n",
       "      <th>...</th>\n",
       "      <td>...</td>\n",
       "      <td>...</td>\n",
       "      <td>...</td>\n",
       "      <td>...</td>\n",
       "      <td>...</td>\n",
       "      <td>...</td>\n",
       "      <td>...</td>\n",
       "      <td>...</td>\n",
       "      <td>...</td>\n",
       "      <td>...</td>\n",
       "      <td>...</td>\n",
       "      <td>...</td>\n",
       "      <td>...</td>\n",
       "      <td>...</td>\n",
       "      <td>...</td>\n",
       "      <td>...</td>\n",
       "      <td>...</td>\n",
       "      <td>...</td>\n",
       "      <td>...</td>\n",
       "      <td>...</td>\n",
       "    </tr>\n",
       "    <tr>\n",
       "      <th>494309</th>\n",
       "      <td>1</td>\n",
       "      <td>18.673113</td>\n",
       "      <td>1.448926</td>\n",
       "      <td>6.964045</td>\n",
       "      <td>1.432332</td>\n",
       "      <td>6.942171</td>\n",
       "      <td>3.646827</td>\n",
       "      <td>22.362933</td>\n",
       "      <td>1</td>\n",
       "      <td>0</td>\n",
       "      <td>0</td>\n",
       "      <td>0</td>\n",
       "      <td>0</td>\n",
       "      <td>1</td>\n",
       "      <td>0</td>\n",
       "      <td>0</td>\n",
       "      <td>0</td>\n",
       "      <td>1</td>\n",
       "      <td>0</td>\n",
       "      <td>0</td>\n",
       "    </tr>\n",
       "    <tr>\n",
       "      <th>494310</th>\n",
       "      <td>2</td>\n",
       "      <td>0.125961</td>\n",
       "      <td>1.448926</td>\n",
       "      <td>6.964045</td>\n",
       "      <td>1.432332</td>\n",
       "      <td>6.942171</td>\n",
       "      <td>30.984832</td>\n",
       "      <td>0.128224</td>\n",
       "      <td>0</td>\n",
       "      <td>0</td>\n",
       "      <td>0</td>\n",
       "      <td>0</td>\n",
       "      <td>0</td>\n",
       "      <td>1</td>\n",
       "      <td>0</td>\n",
       "      <td>0</td>\n",
       "      <td>0</td>\n",
       "      <td>0</td>\n",
       "      <td>0</td>\n",
       "      <td>0</td>\n",
       "    </tr>\n",
       "    <tr>\n",
       "      <th>494311</th>\n",
       "      <td>1</td>\n",
       "      <td>0.125961</td>\n",
       "      <td>1.448926</td>\n",
       "      <td>6.964045</td>\n",
       "      <td>1.432332</td>\n",
       "      <td>6.942171</td>\n",
       "      <td>30.984832</td>\n",
       "      <td>0.128224</td>\n",
       "      <td>0</td>\n",
       "      <td>0</td>\n",
       "      <td>0</td>\n",
       "      <td>0</td>\n",
       "      <td>0</td>\n",
       "      <td>1</td>\n",
       "      <td>0</td>\n",
       "      <td>0</td>\n",
       "      <td>0</td>\n",
       "      <td>1</td>\n",
       "      <td>0</td>\n",
       "      <td>0</td>\n",
       "    </tr>\n",
       "    <tr>\n",
       "      <th>494312</th>\n",
       "      <td>3</td>\n",
       "      <td>0.184793</td>\n",
       "      <td>1.448926</td>\n",
       "      <td>6.964045</td>\n",
       "      <td>1.432332</td>\n",
       "      <td>6.942171</td>\n",
       "      <td>30.984832</td>\n",
       "      <td>0.186301</td>\n",
       "      <td>0</td>\n",
       "      <td>0</td>\n",
       "      <td>0</td>\n",
       "      <td>0</td>\n",
       "      <td>0</td>\n",
       "      <td>1</td>\n",
       "      <td>0</td>\n",
       "      <td>0</td>\n",
       "      <td>0</td>\n",
       "      <td>1</td>\n",
       "      <td>0</td>\n",
       "      <td>0</td>\n",
       "    </tr>\n",
       "    <tr>\n",
       "      <th>494313</th>\n",
       "      <td>1</td>\n",
       "      <td>0.251167</td>\n",
       "      <td>1.448926</td>\n",
       "      <td>6.964045</td>\n",
       "      <td>1.432332</td>\n",
       "      <td>6.942171</td>\n",
       "      <td>30.984832</td>\n",
       "      <td>0.224014</td>\n",
       "      <td>0</td>\n",
       "      <td>0</td>\n",
       "      <td>0</td>\n",
       "      <td>0</td>\n",
       "      <td>0</td>\n",
       "      <td>1</td>\n",
       "      <td>0</td>\n",
       "      <td>0</td>\n",
       "      <td>0</td>\n",
       "      <td>0</td>\n",
       "      <td>0</td>\n",
       "      <td>0</td>\n",
       "    </tr>\n",
       "  </tbody>\n",
       "</table>\n",
       "<p>132581 rows × 20 columns</p>\n",
       "</div>"
      ],
      "text/plain": [
       "        HostResponseTime_ord  HostNeighbourhood_freq  \\\n",
       "409                        1                0.174987   \n",
       "410                        3                0.174987   \n",
       "411                        2                0.174987   \n",
       "412                        2                0.174987   \n",
       "413                        1                0.188564   \n",
       "...                      ...                     ...   \n",
       "494309                     1               18.673113   \n",
       "494310                     2                0.125961   \n",
       "494311                     1                0.125961   \n",
       "494312                     3                0.184793   \n",
       "494313                     1                0.251167   \n",
       "\n",
       "        NeighbourhoodCleansed_freq  State_freq  Zipcode_freq  Market_freq  \\\n",
       "409                       0.196107   36.351363      0.109367    22.424028   \n",
       "410                       0.196107   36.351363      0.109367    22.424028   \n",
       "411                       0.196107   36.351363      0.103333    22.424028   \n",
       "412                       0.196107   36.351363      0.109367    22.424028   \n",
       "413                       0.196107   36.351363      0.103333    22.424028   \n",
       "...                            ...         ...           ...          ...   \n",
       "494309                    1.448926    6.964045      1.432332     6.942171   \n",
       "494310                    1.448926    6.964045      1.432332     6.942171   \n",
       "494311                    1.448926    6.964045      1.432332     6.942171   \n",
       "494312                    1.448926    6.964045      1.432332     6.942171   \n",
       "494313                    1.448926    6.964045      1.432332     6.942171   \n",
       "\n",
       "        PropertyType_freq  Neighbourhood_freq  Room Type_Private room  \\\n",
       "409             57.091137            0.172725                       1   \n",
       "410             30.984832            0.172725                       0   \n",
       "411              0.730120            0.172725                       0   \n",
       "412              0.822139            0.172725                       0   \n",
       "413              2.129264            0.172725                       0   \n",
       "...                   ...                 ...                     ...   \n",
       "494309           3.646827           22.362933                       1   \n",
       "494310          30.984832            0.128224                       0   \n",
       "494311          30.984832            0.128224                       0   \n",
       "494312          30.984832            0.186301                       0   \n",
       "494313          30.984832            0.224014                       0   \n",
       "\n",
       "        Room Type_Shared room  Bed Type_Couch  Bed Type_Futon  \\\n",
       "409                         0               0               0   \n",
       "410                         0               0               0   \n",
       "411                         0               0               0   \n",
       "412                         0               0               0   \n",
       "413                         0               0               0   \n",
       "...                       ...             ...             ...   \n",
       "494309                      0               0               0   \n",
       "494310                      0               0               0   \n",
       "494311                      0               0               0   \n",
       "494312                      0               0               0   \n",
       "494313                      0               0               0   \n",
       "\n",
       "        Bed Type_Pull-out Sofa  Bed Type_Real Bed  \\\n",
       "409                          0                  1   \n",
       "410                          0                  1   \n",
       "411                          0                  1   \n",
       "412                          0                  1   \n",
       "413                          0                  1   \n",
       "...                        ...                ...   \n",
       "494309                       0                  1   \n",
       "494310                       0                  1   \n",
       "494311                       0                  1   \n",
       "494312                       0                  1   \n",
       "494313                       0                  1   \n",
       "\n",
       "        Cancellation Policy_long_term  Cancellation Policy_moderate  \\\n",
       "409                                 0                             0   \n",
       "410                                 0                             0   \n",
       "411                                 0                             0   \n",
       "412                                 0                             0   \n",
       "413                                 0                             1   \n",
       "...                               ...                           ...   \n",
       "494309                              0                             0   \n",
       "494310                              0                             0   \n",
       "494311                              0                             0   \n",
       "494312                              0                             0   \n",
       "494313                              0                             0   \n",
       "\n",
       "        Cancellation Policy_no_refunds  Cancellation Policy_strict  \\\n",
       "409                                  0                           0   \n",
       "410                                  0                           0   \n",
       "411                                  0                           0   \n",
       "412                                  0                           1   \n",
       "413                                  0                           0   \n",
       "...                                ...                         ...   \n",
       "494309                               0                           1   \n",
       "494310                               0                           0   \n",
       "494311                               0                           1   \n",
       "494312                               0                           1   \n",
       "494313                               0                           0   \n",
       "\n",
       "        Cancellation Policy_super_strict_30  \\\n",
       "409                                       0   \n",
       "410                                       0   \n",
       "411                                       0   \n",
       "412                                       0   \n",
       "413                                       0   \n",
       "...                                     ...   \n",
       "494309                                    0   \n",
       "494310                                    0   \n",
       "494311                                    0   \n",
       "494312                                    0   \n",
       "494313                                    0   \n",
       "\n",
       "        Cancellation Policy_super_strict_60  \n",
       "409                                       0  \n",
       "410                                       0  \n",
       "411                                       0  \n",
       "412                                       0  \n",
       "413                                       0  \n",
       "...                                     ...  \n",
       "494309                                    0  \n",
       "494310                                    0  \n",
       "494311                                    0  \n",
       "494312                                    0  \n",
       "494313                                    0  \n",
       "\n",
       "[132581 rows x 20 columns]"
      ]
     },
     "execution_count": 111,
     "metadata": {},
     "output_type": "execute_result"
    }
   ],
   "source": [
    "df_cat_encoded"
   ]
  },
  {
   "cell_type": "code",
   "execution_count": 112,
   "id": "06d55a03",
   "metadata": {},
   "outputs": [
    {
     "data": {
      "text/plain": [
       "(132581, 27)"
      ]
     },
     "execution_count": 112,
     "metadata": {},
     "output_type": "execute_result"
    }
   ],
   "source": [
    "df4.shape"
   ]
  },
  {
   "cell_type": "code",
   "execution_count": 113,
   "id": "38d0ee8f",
   "metadata": {},
   "outputs": [
    {
     "data": {
      "text/plain": [
       "Host ID                           0.0\n",
       "Host Response Rate                0.0\n",
       "Accommodates                      0.0\n",
       "Bathrooms                         0.0\n",
       "Bedrooms                          0.0\n",
       "Beds                              0.0\n",
       "Price                             0.0\n",
       "Security Deposit                  0.0\n",
       "Cleaning Fee                      0.0\n",
       "Guests Included                   0.0\n",
       "Extra People                      0.0\n",
       "Minimum Nights                    0.0\n",
       "Maximum Nights                    0.0\n",
       "Availability 30                   0.0\n",
       "Availability 60                   0.0\n",
       "Availability 90                   0.0\n",
       "Availability 365                  0.0\n",
       "Number of Reviews                 0.0\n",
       "Review Scores Rating              0.0\n",
       "Review Scores Accuracy            0.0\n",
       "Review Scores Cleanliness         0.0\n",
       "Review Scores Checkin             0.0\n",
       "Review Scores Communication       0.0\n",
       "Review Scores Location            0.0\n",
       "Review Scores Value               0.0\n",
       "Calculated host listings count    0.0\n",
       "Reviews per Month                 0.0\n",
       "dtype: float64"
      ]
     },
     "execution_count": 113,
     "metadata": {},
     "output_type": "execute_result"
    }
   ],
   "source": [
    "(df4.isnull().sum()/len(df4))*100"
   ]
  },
  {
   "cell_type": "code",
   "execution_count": 114,
   "id": "560be24f",
   "metadata": {},
   "outputs": [],
   "source": [
    "df10 = df4.drop(['Host ID'], axis = 1)"
   ]
  },
  {
   "cell_type": "code",
   "execution_count": 115,
   "id": "a5bed732",
   "metadata": {},
   "outputs": [
    {
     "data": {
      "text/html": [
       "<div>\n",
       "<style scoped>\n",
       "    .dataframe tbody tr th:only-of-type {\n",
       "        vertical-align: middle;\n",
       "    }\n",
       "\n",
       "    .dataframe tbody tr th {\n",
       "        vertical-align: top;\n",
       "    }\n",
       "\n",
       "    .dataframe thead th {\n",
       "        text-align: right;\n",
       "    }\n",
       "</style>\n",
       "<table border=\"1\" class=\"dataframe\">\n",
       "  <thead>\n",
       "    <tr style=\"text-align: right;\">\n",
       "      <th></th>\n",
       "      <th>Host Response Rate</th>\n",
       "      <th>Accommodates</th>\n",
       "      <th>Bathrooms</th>\n",
       "      <th>Bedrooms</th>\n",
       "      <th>Beds</th>\n",
       "      <th>Price</th>\n",
       "      <th>Security Deposit</th>\n",
       "      <th>Cleaning Fee</th>\n",
       "      <th>Guests Included</th>\n",
       "      <th>Extra People</th>\n",
       "      <th>...</th>\n",
       "      <th>Number of Reviews</th>\n",
       "      <th>Review Scores Rating</th>\n",
       "      <th>Review Scores Accuracy</th>\n",
       "      <th>Review Scores Cleanliness</th>\n",
       "      <th>Review Scores Checkin</th>\n",
       "      <th>Review Scores Communication</th>\n",
       "      <th>Review Scores Location</th>\n",
       "      <th>Review Scores Value</th>\n",
       "      <th>Calculated host listings count</th>\n",
       "      <th>Reviews per Month</th>\n",
       "    </tr>\n",
       "  </thead>\n",
       "  <tbody>\n",
       "    <tr>\n",
       "      <th>409</th>\n",
       "      <td>100.0</td>\n",
       "      <td>2.0</td>\n",
       "      <td>1.0</td>\n",
       "      <td>1.0</td>\n",
       "      <td>1.0</td>\n",
       "      <td>150.0</td>\n",
       "      <td>250.0</td>\n",
       "      <td>50.0</td>\n",
       "      <td>1.0</td>\n",
       "      <td>0.0</td>\n",
       "      <td>...</td>\n",
       "      <td>0.0</td>\n",
       "      <td>100.0</td>\n",
       "      <td>10.0</td>\n",
       "      <td>10.0</td>\n",
       "      <td>10.0</td>\n",
       "      <td>10.0</td>\n",
       "      <td>10.0</td>\n",
       "      <td>10.0</td>\n",
       "      <td>1.0</td>\n",
       "      <td>1.00</td>\n",
       "    </tr>\n",
       "    <tr>\n",
       "      <th>410</th>\n",
       "      <td>100.0</td>\n",
       "      <td>8.0</td>\n",
       "      <td>3.5</td>\n",
       "      <td>4.0</td>\n",
       "      <td>4.0</td>\n",
       "      <td>175.0</td>\n",
       "      <td>300.0</td>\n",
       "      <td>150.0</td>\n",
       "      <td>8.0</td>\n",
       "      <td>25.0</td>\n",
       "      <td>...</td>\n",
       "      <td>0.0</td>\n",
       "      <td>100.0</td>\n",
       "      <td>10.0</td>\n",
       "      <td>10.0</td>\n",
       "      <td>10.0</td>\n",
       "      <td>10.0</td>\n",
       "      <td>10.0</td>\n",
       "      <td>10.0</td>\n",
       "      <td>1.0</td>\n",
       "      <td>1.00</td>\n",
       "    </tr>\n",
       "    <tr>\n",
       "      <th>411</th>\n",
       "      <td>100.0</td>\n",
       "      <td>3.0</td>\n",
       "      <td>1.0</td>\n",
       "      <td>1.0</td>\n",
       "      <td>1.0</td>\n",
       "      <td>79.0</td>\n",
       "      <td>250.0</td>\n",
       "      <td>55.0</td>\n",
       "      <td>1.0</td>\n",
       "      <td>25.0</td>\n",
       "      <td>...</td>\n",
       "      <td>0.0</td>\n",
       "      <td>100.0</td>\n",
       "      <td>10.0</td>\n",
       "      <td>10.0</td>\n",
       "      <td>10.0</td>\n",
       "      <td>10.0</td>\n",
       "      <td>10.0</td>\n",
       "      <td>10.0</td>\n",
       "      <td>1.0</td>\n",
       "      <td>1.00</td>\n",
       "    </tr>\n",
       "    <tr>\n",
       "      <th>412</th>\n",
       "      <td>100.0</td>\n",
       "      <td>2.0</td>\n",
       "      <td>1.5</td>\n",
       "      <td>1.0</td>\n",
       "      <td>1.0</td>\n",
       "      <td>175.0</td>\n",
       "      <td>500.0</td>\n",
       "      <td>100.0</td>\n",
       "      <td>1.0</td>\n",
       "      <td>0.0</td>\n",
       "      <td>...</td>\n",
       "      <td>2.0</td>\n",
       "      <td>100.0</td>\n",
       "      <td>10.0</td>\n",
       "      <td>10.0</td>\n",
       "      <td>10.0</td>\n",
       "      <td>10.0</td>\n",
       "      <td>10.0</td>\n",
       "      <td>10.0</td>\n",
       "      <td>2.0</td>\n",
       "      <td>0.16</td>\n",
       "    </tr>\n",
       "    <tr>\n",
       "      <th>413</th>\n",
       "      <td>100.0</td>\n",
       "      <td>6.0</td>\n",
       "      <td>2.5</td>\n",
       "      <td>3.0</td>\n",
       "      <td>4.0</td>\n",
       "      <td>450.0</td>\n",
       "      <td>250.0</td>\n",
       "      <td>200.0</td>\n",
       "      <td>6.0</td>\n",
       "      <td>50.0</td>\n",
       "      <td>...</td>\n",
       "      <td>8.0</td>\n",
       "      <td>95.0</td>\n",
       "      <td>9.0</td>\n",
       "      <td>10.0</td>\n",
       "      <td>10.0</td>\n",
       "      <td>10.0</td>\n",
       "      <td>9.0</td>\n",
       "      <td>10.0</td>\n",
       "      <td>29.0</td>\n",
       "      <td>0.79</td>\n",
       "    </tr>\n",
       "    <tr>\n",
       "      <th>...</th>\n",
       "      <td>...</td>\n",
       "      <td>...</td>\n",
       "      <td>...</td>\n",
       "      <td>...</td>\n",
       "      <td>...</td>\n",
       "      <td>...</td>\n",
       "      <td>...</td>\n",
       "      <td>...</td>\n",
       "      <td>...</td>\n",
       "      <td>...</td>\n",
       "      <td>...</td>\n",
       "      <td>...</td>\n",
       "      <td>...</td>\n",
       "      <td>...</td>\n",
       "      <td>...</td>\n",
       "      <td>...</td>\n",
       "      <td>...</td>\n",
       "      <td>...</td>\n",
       "      <td>...</td>\n",
       "      <td>...</td>\n",
       "      <td>...</td>\n",
       "    </tr>\n",
       "    <tr>\n",
       "      <th>494309</th>\n",
       "      <td>100.0</td>\n",
       "      <td>2.0</td>\n",
       "      <td>1.0</td>\n",
       "      <td>2.0</td>\n",
       "      <td>2.0</td>\n",
       "      <td>90.0</td>\n",
       "      <td>200.0</td>\n",
       "      <td>75.0</td>\n",
       "      <td>1.0</td>\n",
       "      <td>25.0</td>\n",
       "      <td>...</td>\n",
       "      <td>0.0</td>\n",
       "      <td>100.0</td>\n",
       "      <td>10.0</td>\n",
       "      <td>10.0</td>\n",
       "      <td>10.0</td>\n",
       "      <td>10.0</td>\n",
       "      <td>10.0</td>\n",
       "      <td>10.0</td>\n",
       "      <td>1.0</td>\n",
       "      <td>1.00</td>\n",
       "    </tr>\n",
       "    <tr>\n",
       "      <th>494310</th>\n",
       "      <td>100.0</td>\n",
       "      <td>10.0</td>\n",
       "      <td>3.5</td>\n",
       "      <td>4.0</td>\n",
       "      <td>4.0</td>\n",
       "      <td>367.0</td>\n",
       "      <td>250.0</td>\n",
       "      <td>50.0</td>\n",
       "      <td>1.0</td>\n",
       "      <td>0.0</td>\n",
       "      <td>...</td>\n",
       "      <td>0.0</td>\n",
       "      <td>100.0</td>\n",
       "      <td>10.0</td>\n",
       "      <td>10.0</td>\n",
       "      <td>10.0</td>\n",
       "      <td>10.0</td>\n",
       "      <td>10.0</td>\n",
       "      <td>10.0</td>\n",
       "      <td>1.0</td>\n",
       "      <td>1.00</td>\n",
       "    </tr>\n",
       "    <tr>\n",
       "      <th>494311</th>\n",
       "      <td>100.0</td>\n",
       "      <td>8.0</td>\n",
       "      <td>2.0</td>\n",
       "      <td>3.0</td>\n",
       "      <td>3.0</td>\n",
       "      <td>595.0</td>\n",
       "      <td>250.0</td>\n",
       "      <td>160.0</td>\n",
       "      <td>6.0</td>\n",
       "      <td>35.0</td>\n",
       "      <td>...</td>\n",
       "      <td>7.0</td>\n",
       "      <td>97.0</td>\n",
       "      <td>10.0</td>\n",
       "      <td>10.0</td>\n",
       "      <td>10.0</td>\n",
       "      <td>10.0</td>\n",
       "      <td>10.0</td>\n",
       "      <td>10.0</td>\n",
       "      <td>1.0</td>\n",
       "      <td>0.83</td>\n",
       "    </tr>\n",
       "    <tr>\n",
       "      <th>494312</th>\n",
       "      <td>100.0</td>\n",
       "      <td>6.0</td>\n",
       "      <td>2.0</td>\n",
       "      <td>3.0</td>\n",
       "      <td>3.0</td>\n",
       "      <td>399.0</td>\n",
       "      <td>500.0</td>\n",
       "      <td>150.0</td>\n",
       "      <td>4.0</td>\n",
       "      <td>25.0</td>\n",
       "      <td>...</td>\n",
       "      <td>11.0</td>\n",
       "      <td>98.0</td>\n",
       "      <td>10.0</td>\n",
       "      <td>10.0</td>\n",
       "      <td>10.0</td>\n",
       "      <td>10.0</td>\n",
       "      <td>9.0</td>\n",
       "      <td>9.0</td>\n",
       "      <td>1.0</td>\n",
       "      <td>0.23</td>\n",
       "    </tr>\n",
       "    <tr>\n",
       "      <th>494313</th>\n",
       "      <td>100.0</td>\n",
       "      <td>3.0</td>\n",
       "      <td>2.0</td>\n",
       "      <td>2.0</td>\n",
       "      <td>2.0</td>\n",
       "      <td>900.0</td>\n",
       "      <td>500.0</td>\n",
       "      <td>150.0</td>\n",
       "      <td>1.0</td>\n",
       "      <td>0.0</td>\n",
       "      <td>...</td>\n",
       "      <td>0.0</td>\n",
       "      <td>100.0</td>\n",
       "      <td>10.0</td>\n",
       "      <td>10.0</td>\n",
       "      <td>10.0</td>\n",
       "      <td>10.0</td>\n",
       "      <td>10.0</td>\n",
       "      <td>10.0</td>\n",
       "      <td>1.0</td>\n",
       "      <td>1.00</td>\n",
       "    </tr>\n",
       "  </tbody>\n",
       "</table>\n",
       "<p>132581 rows × 26 columns</p>\n",
       "</div>"
      ],
      "text/plain": [
       "        Host Response Rate  Accommodates  Bathrooms  Bedrooms  Beds  Price  \\\n",
       "409                  100.0           2.0        1.0       1.0   1.0  150.0   \n",
       "410                  100.0           8.0        3.5       4.0   4.0  175.0   \n",
       "411                  100.0           3.0        1.0       1.0   1.0   79.0   \n",
       "412                  100.0           2.0        1.5       1.0   1.0  175.0   \n",
       "413                  100.0           6.0        2.5       3.0   4.0  450.0   \n",
       "...                    ...           ...        ...       ...   ...    ...   \n",
       "494309               100.0           2.0        1.0       2.0   2.0   90.0   \n",
       "494310               100.0          10.0        3.5       4.0   4.0  367.0   \n",
       "494311               100.0           8.0        2.0       3.0   3.0  595.0   \n",
       "494312               100.0           6.0        2.0       3.0   3.0  399.0   \n",
       "494313               100.0           3.0        2.0       2.0   2.0  900.0   \n",
       "\n",
       "        Security Deposit  Cleaning Fee  Guests Included  Extra People  ...  \\\n",
       "409                250.0          50.0              1.0           0.0  ...   \n",
       "410                300.0         150.0              8.0          25.0  ...   \n",
       "411                250.0          55.0              1.0          25.0  ...   \n",
       "412                500.0         100.0              1.0           0.0  ...   \n",
       "413                250.0         200.0              6.0          50.0  ...   \n",
       "...                  ...           ...              ...           ...  ...   \n",
       "494309             200.0          75.0              1.0          25.0  ...   \n",
       "494310             250.0          50.0              1.0           0.0  ...   \n",
       "494311             250.0         160.0              6.0          35.0  ...   \n",
       "494312             500.0         150.0              4.0          25.0  ...   \n",
       "494313             500.0         150.0              1.0           0.0  ...   \n",
       "\n",
       "        Number of Reviews  Review Scores Rating  Review Scores Accuracy  \\\n",
       "409                   0.0                 100.0                    10.0   \n",
       "410                   0.0                 100.0                    10.0   \n",
       "411                   0.0                 100.0                    10.0   \n",
       "412                   2.0                 100.0                    10.0   \n",
       "413                   8.0                  95.0                     9.0   \n",
       "...                   ...                   ...                     ...   \n",
       "494309                0.0                 100.0                    10.0   \n",
       "494310                0.0                 100.0                    10.0   \n",
       "494311                7.0                  97.0                    10.0   \n",
       "494312               11.0                  98.0                    10.0   \n",
       "494313                0.0                 100.0                    10.0   \n",
       "\n",
       "        Review Scores Cleanliness  Review Scores Checkin  \\\n",
       "409                          10.0                   10.0   \n",
       "410                          10.0                   10.0   \n",
       "411                          10.0                   10.0   \n",
       "412                          10.0                   10.0   \n",
       "413                          10.0                   10.0   \n",
       "...                           ...                    ...   \n",
       "494309                       10.0                   10.0   \n",
       "494310                       10.0                   10.0   \n",
       "494311                       10.0                   10.0   \n",
       "494312                       10.0                   10.0   \n",
       "494313                       10.0                   10.0   \n",
       "\n",
       "        Review Scores Communication  Review Scores Location  \\\n",
       "409                            10.0                    10.0   \n",
       "410                            10.0                    10.0   \n",
       "411                            10.0                    10.0   \n",
       "412                            10.0                    10.0   \n",
       "413                            10.0                     9.0   \n",
       "...                             ...                     ...   \n",
       "494309                         10.0                    10.0   \n",
       "494310                         10.0                    10.0   \n",
       "494311                         10.0                    10.0   \n",
       "494312                         10.0                     9.0   \n",
       "494313                         10.0                    10.0   \n",
       "\n",
       "        Review Scores Value  Calculated host listings count  Reviews per Month  \n",
       "409                    10.0                             1.0               1.00  \n",
       "410                    10.0                             1.0               1.00  \n",
       "411                    10.0                             1.0               1.00  \n",
       "412                    10.0                             2.0               0.16  \n",
       "413                    10.0                            29.0               0.79  \n",
       "...                     ...                             ...                ...  \n",
       "494309                 10.0                             1.0               1.00  \n",
       "494310                 10.0                             1.0               1.00  \n",
       "494311                 10.0                             1.0               0.83  \n",
       "494312                  9.0                             1.0               0.23  \n",
       "494313                 10.0                             1.0               1.00  \n",
       "\n",
       "[132581 rows x 26 columns]"
      ]
     },
     "execution_count": 115,
     "metadata": {},
     "output_type": "execute_result"
    }
   ],
   "source": [
    "df10"
   ]
  },
  {
   "cell_type": "code",
   "execution_count": 116,
   "id": "210cec6a",
   "metadata": {},
   "outputs": [],
   "source": [
    "from sklearn.preprocessing import PowerTransformer"
   ]
  },
  {
   "cell_type": "code",
   "execution_count": 117,
   "id": "8cce4880",
   "metadata": {},
   "outputs": [],
   "source": [
    "pt = PowerTransformer()\n",
    "trans = pt.fit_transform(df10)"
   ]
  },
  {
   "cell_type": "code",
   "execution_count": 118,
   "id": "9d14a0cc",
   "metadata": {},
   "outputs": [],
   "source": [
    "df11 = pd.DataFrame(trans, columns = df10.columns)"
   ]
  },
  {
   "cell_type": "code",
   "execution_count": 119,
   "id": "74e99789",
   "metadata": {},
   "outputs": [],
   "source": [
    "df_num_encoded = df11"
   ]
  },
  {
   "cell_type": "code",
   "execution_count": 120,
   "id": "ac3f8054",
   "metadata": {},
   "outputs": [
    {
     "data": {
      "text/html": [
       "<div>\n",
       "<style scoped>\n",
       "    .dataframe tbody tr th:only-of-type {\n",
       "        vertical-align: middle;\n",
       "    }\n",
       "\n",
       "    .dataframe tbody tr th {\n",
       "        vertical-align: top;\n",
       "    }\n",
       "\n",
       "    .dataframe thead th {\n",
       "        text-align: right;\n",
       "    }\n",
       "</style>\n",
       "<table border=\"1\" class=\"dataframe\">\n",
       "  <thead>\n",
       "    <tr style=\"text-align: right;\">\n",
       "      <th></th>\n",
       "      <th>Host Response Rate</th>\n",
       "      <th>Accommodates</th>\n",
       "      <th>Bathrooms</th>\n",
       "      <th>Bedrooms</th>\n",
       "      <th>Beds</th>\n",
       "      <th>Price</th>\n",
       "      <th>Security Deposit</th>\n",
       "      <th>Cleaning Fee</th>\n",
       "      <th>Guests Included</th>\n",
       "      <th>Extra People</th>\n",
       "      <th>...</th>\n",
       "      <th>Number of Reviews</th>\n",
       "      <th>Review Scores Rating</th>\n",
       "      <th>Review Scores Accuracy</th>\n",
       "      <th>Review Scores Cleanliness</th>\n",
       "      <th>Review Scores Checkin</th>\n",
       "      <th>Review Scores Communication</th>\n",
       "      <th>Review Scores Location</th>\n",
       "      <th>Review Scores Value</th>\n",
       "      <th>Calculated host listings count</th>\n",
       "      <th>Reviews per Month</th>\n",
       "    </tr>\n",
       "  </thead>\n",
       "  <tbody>\n",
       "    <tr>\n",
       "      <th>0</th>\n",
       "      <td>0.442374</td>\n",
       "      <td>-0.559210</td>\n",
       "      <td>-0.433181</td>\n",
       "      <td>-0.246826</td>\n",
       "      <td>-0.824713</td>\n",
       "      <td>0.369252</td>\n",
       "      <td>0.022807</td>\n",
       "      <td>-0.051661</td>\n",
       "      <td>-0.544120</td>\n",
       "      <td>-0.887795</td>\n",
       "      <td>...</td>\n",
       "      <td>-1.356530</td>\n",
       "      <td>0.907361</td>\n",
       "      <td>0.521792</td>\n",
       "      <td>0.645175</td>\n",
       "      <td>0.378724</td>\n",
       "      <td>0.368473</td>\n",
       "      <td>0.601531</td>\n",
       "      <td>0.679343</td>\n",
       "      <td>-0.732494</td>\n",
       "      <td>-0.058369</td>\n",
       "    </tr>\n",
       "    <tr>\n",
       "      <th>1</th>\n",
       "      <td>0.442374</td>\n",
       "      <td>1.692151</td>\n",
       "      <td>2.578157</td>\n",
       "      <td>2.328234</td>\n",
       "      <td>1.602205</td>\n",
       "      <td>0.580743</td>\n",
       "      <td>0.484625</td>\n",
       "      <td>1.686074</td>\n",
       "      <td>2.290608</td>\n",
       "      <td>1.155845</td>\n",
       "      <td>...</td>\n",
       "      <td>-1.356530</td>\n",
       "      <td>0.907361</td>\n",
       "      <td>0.521792</td>\n",
       "      <td>0.645175</td>\n",
       "      <td>0.378724</td>\n",
       "      <td>0.368473</td>\n",
       "      <td>0.601531</td>\n",
       "      <td>0.679343</td>\n",
       "      <td>-0.732494</td>\n",
       "      <td>-0.058369</td>\n",
       "    </tr>\n",
       "    <tr>\n",
       "      <th>2</th>\n",
       "      <td>0.442374</td>\n",
       "      <td>0.172537</td>\n",
       "      <td>-0.433181</td>\n",
       "      <td>-0.246826</td>\n",
       "      <td>-0.824713</td>\n",
       "      <td>-0.560717</td>\n",
       "      <td>0.022807</td>\n",
       "      <td>0.086760</td>\n",
       "      <td>-0.544120</td>\n",
       "      <td>1.155845</td>\n",
       "      <td>...</td>\n",
       "      <td>-1.356530</td>\n",
       "      <td>0.907361</td>\n",
       "      <td>0.521792</td>\n",
       "      <td>0.645175</td>\n",
       "      <td>0.378724</td>\n",
       "      <td>0.368473</td>\n",
       "      <td>0.601531</td>\n",
       "      <td>0.679343</td>\n",
       "      <td>-0.732494</td>\n",
       "      <td>-0.058369</td>\n",
       "    </tr>\n",
       "    <tr>\n",
       "      <th>3</th>\n",
       "      <td>0.442374</td>\n",
       "      <td>-0.559210</td>\n",
       "      <td>0.761510</td>\n",
       "      <td>-0.246826</td>\n",
       "      <td>-0.824713</td>\n",
       "      <td>0.580743</td>\n",
       "      <td>1.971556</td>\n",
       "      <td>1.007715</td>\n",
       "      <td>-0.544120</td>\n",
       "      <td>-0.887795</td>\n",
       "      <td>...</td>\n",
       "      <td>-0.508258</td>\n",
       "      <td>0.907361</td>\n",
       "      <td>0.521792</td>\n",
       "      <td>0.645175</td>\n",
       "      <td>0.378724</td>\n",
       "      <td>0.368473</td>\n",
       "      <td>0.601531</td>\n",
       "      <td>0.679343</td>\n",
       "      <td>0.731315</td>\n",
       "      <td>-1.504143</td>\n",
       "    </tr>\n",
       "    <tr>\n",
       "      <th>4</th>\n",
       "      <td>0.442374</td>\n",
       "      <td>1.293898</td>\n",
       "      <td>1.980199</td>\n",
       "      <td>1.712648</td>\n",
       "      <td>1.602205</td>\n",
       "      <td>1.779597</td>\n",
       "      <td>0.022807</td>\n",
       "      <td>2.195093</td>\n",
       "      <td>2.131214</td>\n",
       "      <td>1.390658</td>\n",
       "      <td>...</td>\n",
       "      <td>0.245344</td>\n",
       "      <td>-0.565468</td>\n",
       "      <td>-1.879802</td>\n",
       "      <td>0.645175</td>\n",
       "      <td>0.378724</td>\n",
       "      <td>0.368473</td>\n",
       "      <td>-1.587348</td>\n",
       "      <td>0.679343</td>\n",
       "      <td>1.951193</td>\n",
       "      <td>-0.313336</td>\n",
       "    </tr>\n",
       "    <tr>\n",
       "      <th>...</th>\n",
       "      <td>...</td>\n",
       "      <td>...</td>\n",
       "      <td>...</td>\n",
       "      <td>...</td>\n",
       "      <td>...</td>\n",
       "      <td>...</td>\n",
       "      <td>...</td>\n",
       "      <td>...</td>\n",
       "      <td>...</td>\n",
       "      <td>...</td>\n",
       "      <td>...</td>\n",
       "      <td>...</td>\n",
       "      <td>...</td>\n",
       "      <td>...</td>\n",
       "      <td>...</td>\n",
       "      <td>...</td>\n",
       "      <td>...</td>\n",
       "      <td>...</td>\n",
       "      <td>...</td>\n",
       "      <td>...</td>\n",
       "      <td>...</td>\n",
       "    </tr>\n",
       "    <tr>\n",
       "      <th>132576</th>\n",
       "      <td>0.442374</td>\n",
       "      <td>-0.559210</td>\n",
       "      <td>-0.433181</td>\n",
       "      <td>0.908157</td>\n",
       "      <td>0.828358</td>\n",
       "      <td>-0.364978</td>\n",
       "      <td>-0.498705</td>\n",
       "      <td>0.553052</td>\n",
       "      <td>-0.544120</td>\n",
       "      <td>1.155845</td>\n",
       "      <td>...</td>\n",
       "      <td>-1.356530</td>\n",
       "      <td>0.907361</td>\n",
       "      <td>0.521792</td>\n",
       "      <td>0.645175</td>\n",
       "      <td>0.378724</td>\n",
       "      <td>0.368473</td>\n",
       "      <td>0.601531</td>\n",
       "      <td>0.679343</td>\n",
       "      <td>-0.732494</td>\n",
       "      <td>-0.058369</td>\n",
       "    </tr>\n",
       "    <tr>\n",
       "      <th>132577</th>\n",
       "      <td>0.442374</td>\n",
       "      <td>1.971603</td>\n",
       "      <td>2.578157</td>\n",
       "      <td>2.328234</td>\n",
       "      <td>1.602205</td>\n",
       "      <td>1.534435</td>\n",
       "      <td>0.022807</td>\n",
       "      <td>-0.051661</td>\n",
       "      <td>-0.544120</td>\n",
       "      <td>-0.887795</td>\n",
       "      <td>...</td>\n",
       "      <td>-1.356530</td>\n",
       "      <td>0.907361</td>\n",
       "      <td>0.521792</td>\n",
       "      <td>0.645175</td>\n",
       "      <td>0.378724</td>\n",
       "      <td>0.368473</td>\n",
       "      <td>0.601531</td>\n",
       "      <td>0.679343</td>\n",
       "      <td>-0.732494</td>\n",
       "      <td>-0.058369</td>\n",
       "    </tr>\n",
       "    <tr>\n",
       "      <th>132578</th>\n",
       "      <td>0.442374</td>\n",
       "      <td>1.692151</td>\n",
       "      <td>1.493109</td>\n",
       "      <td>1.712648</td>\n",
       "      <td>1.366131</td>\n",
       "      <td>2.103862</td>\n",
       "      <td>0.022807</td>\n",
       "      <td>1.798226</td>\n",
       "      <td>2.131214</td>\n",
       "      <td>1.274834</td>\n",
       "      <td>...</td>\n",
       "      <td>0.168751</td>\n",
       "      <td>-0.083020</td>\n",
       "      <td>0.521792</td>\n",
       "      <td>0.645175</td>\n",
       "      <td>0.378724</td>\n",
       "      <td>0.368473</td>\n",
       "      <td>0.601531</td>\n",
       "      <td>0.679343</td>\n",
       "      <td>-0.732494</td>\n",
       "      <td>-0.261084</td>\n",
       "    </tr>\n",
       "    <tr>\n",
       "      <th>132579</th>\n",
       "      <td>0.442374</td>\n",
       "      <td>1.293898</td>\n",
       "      <td>1.493109</td>\n",
       "      <td>1.712648</td>\n",
       "      <td>1.366131</td>\n",
       "      <td>1.635838</td>\n",
       "      <td>1.971556</td>\n",
       "      <td>1.686074</td>\n",
       "      <td>1.803494</td>\n",
       "      <td>1.155845</td>\n",
       "      <td>...</td>\n",
       "      <td>0.428385</td>\n",
       "      <td>0.207430</td>\n",
       "      <td>0.521792</td>\n",
       "      <td>0.645175</td>\n",
       "      <td>0.378724</td>\n",
       "      <td>0.368473</td>\n",
       "      <td>-1.587348</td>\n",
       "      <td>-1.352907</td>\n",
       "      <td>-0.732494</td>\n",
       "      <td>-1.323317</td>\n",
       "    </tr>\n",
       "    <tr>\n",
       "      <th>132580</th>\n",
       "      <td>0.442374</td>\n",
       "      <td>0.172537</td>\n",
       "      <td>1.493109</td>\n",
       "      <td>0.908157</td>\n",
       "      <td>0.828358</td>\n",
       "      <td>2.560597</td>\n",
       "      <td>1.971556</td>\n",
       "      <td>1.686074</td>\n",
       "      <td>-0.544120</td>\n",
       "      <td>-0.887795</td>\n",
       "      <td>...</td>\n",
       "      <td>-1.356530</td>\n",
       "      <td>0.907361</td>\n",
       "      <td>0.521792</td>\n",
       "      <td>0.645175</td>\n",
       "      <td>0.378724</td>\n",
       "      <td>0.368473</td>\n",
       "      <td>0.601531</td>\n",
       "      <td>0.679343</td>\n",
       "      <td>-0.732494</td>\n",
       "      <td>-0.058369</td>\n",
       "    </tr>\n",
       "  </tbody>\n",
       "</table>\n",
       "<p>132581 rows × 26 columns</p>\n",
       "</div>"
      ],
      "text/plain": [
       "        Host Response Rate  Accommodates  Bathrooms  Bedrooms      Beds  \\\n",
       "0                 0.442374     -0.559210  -0.433181 -0.246826 -0.824713   \n",
       "1                 0.442374      1.692151   2.578157  2.328234  1.602205   \n",
       "2                 0.442374      0.172537  -0.433181 -0.246826 -0.824713   \n",
       "3                 0.442374     -0.559210   0.761510 -0.246826 -0.824713   \n",
       "4                 0.442374      1.293898   1.980199  1.712648  1.602205   \n",
       "...                    ...           ...        ...       ...       ...   \n",
       "132576            0.442374     -0.559210  -0.433181  0.908157  0.828358   \n",
       "132577            0.442374      1.971603   2.578157  2.328234  1.602205   \n",
       "132578            0.442374      1.692151   1.493109  1.712648  1.366131   \n",
       "132579            0.442374      1.293898   1.493109  1.712648  1.366131   \n",
       "132580            0.442374      0.172537   1.493109  0.908157  0.828358   \n",
       "\n",
       "           Price  Security Deposit  Cleaning Fee  Guests Included  \\\n",
       "0       0.369252          0.022807     -0.051661        -0.544120   \n",
       "1       0.580743          0.484625      1.686074         2.290608   \n",
       "2      -0.560717          0.022807      0.086760        -0.544120   \n",
       "3       0.580743          1.971556      1.007715        -0.544120   \n",
       "4       1.779597          0.022807      2.195093         2.131214   \n",
       "...          ...               ...           ...              ...   \n",
       "132576 -0.364978         -0.498705      0.553052        -0.544120   \n",
       "132577  1.534435          0.022807     -0.051661        -0.544120   \n",
       "132578  2.103862          0.022807      1.798226         2.131214   \n",
       "132579  1.635838          1.971556      1.686074         1.803494   \n",
       "132580  2.560597          1.971556      1.686074        -0.544120   \n",
       "\n",
       "        Extra People  ...  Number of Reviews  Review Scores Rating  \\\n",
       "0          -0.887795  ...          -1.356530              0.907361   \n",
       "1           1.155845  ...          -1.356530              0.907361   \n",
       "2           1.155845  ...          -1.356530              0.907361   \n",
       "3          -0.887795  ...          -0.508258              0.907361   \n",
       "4           1.390658  ...           0.245344             -0.565468   \n",
       "...              ...  ...                ...                   ...   \n",
       "132576      1.155845  ...          -1.356530              0.907361   \n",
       "132577     -0.887795  ...          -1.356530              0.907361   \n",
       "132578      1.274834  ...           0.168751             -0.083020   \n",
       "132579      1.155845  ...           0.428385              0.207430   \n",
       "132580     -0.887795  ...          -1.356530              0.907361   \n",
       "\n",
       "        Review Scores Accuracy  Review Scores Cleanliness  \\\n",
       "0                     0.521792                   0.645175   \n",
       "1                     0.521792                   0.645175   \n",
       "2                     0.521792                   0.645175   \n",
       "3                     0.521792                   0.645175   \n",
       "4                    -1.879802                   0.645175   \n",
       "...                        ...                        ...   \n",
       "132576                0.521792                   0.645175   \n",
       "132577                0.521792                   0.645175   \n",
       "132578                0.521792                   0.645175   \n",
       "132579                0.521792                   0.645175   \n",
       "132580                0.521792                   0.645175   \n",
       "\n",
       "        Review Scores Checkin  Review Scores Communication  \\\n",
       "0                    0.378724                     0.368473   \n",
       "1                    0.378724                     0.368473   \n",
       "2                    0.378724                     0.368473   \n",
       "3                    0.378724                     0.368473   \n",
       "4                    0.378724                     0.368473   \n",
       "...                       ...                          ...   \n",
       "132576               0.378724                     0.368473   \n",
       "132577               0.378724                     0.368473   \n",
       "132578               0.378724                     0.368473   \n",
       "132579               0.378724                     0.368473   \n",
       "132580               0.378724                     0.368473   \n",
       "\n",
       "        Review Scores Location  Review Scores Value  \\\n",
       "0                     0.601531             0.679343   \n",
       "1                     0.601531             0.679343   \n",
       "2                     0.601531             0.679343   \n",
       "3                     0.601531             0.679343   \n",
       "4                    -1.587348             0.679343   \n",
       "...                        ...                  ...   \n",
       "132576                0.601531             0.679343   \n",
       "132577                0.601531             0.679343   \n",
       "132578                0.601531             0.679343   \n",
       "132579               -1.587348            -1.352907   \n",
       "132580                0.601531             0.679343   \n",
       "\n",
       "        Calculated host listings count  Reviews per Month  \n",
       "0                            -0.732494          -0.058369  \n",
       "1                            -0.732494          -0.058369  \n",
       "2                            -0.732494          -0.058369  \n",
       "3                             0.731315          -1.504143  \n",
       "4                             1.951193          -0.313336  \n",
       "...                                ...                ...  \n",
       "132576                       -0.732494          -0.058369  \n",
       "132577                       -0.732494          -0.058369  \n",
       "132578                       -0.732494          -0.261084  \n",
       "132579                       -0.732494          -1.323317  \n",
       "132580                       -0.732494          -0.058369  \n",
       "\n",
       "[132581 rows x 26 columns]"
      ]
     },
     "execution_count": 120,
     "metadata": {},
     "output_type": "execute_result"
    }
   ],
   "source": [
    "df_num_encoded"
   ]
  },
  {
   "cell_type": "code",
   "execution_count": 121,
   "id": "18c41d4d",
   "metadata": {},
   "outputs": [
    {
     "data": {
      "text/html": [
       "<div>\n",
       "<style scoped>\n",
       "    .dataframe tbody tr th:only-of-type {\n",
       "        vertical-align: middle;\n",
       "    }\n",
       "\n",
       "    .dataframe tbody tr th {\n",
       "        vertical-align: top;\n",
       "    }\n",
       "\n",
       "    .dataframe thead th {\n",
       "        text-align: right;\n",
       "    }\n",
       "</style>\n",
       "<table border=\"1\" class=\"dataframe\">\n",
       "  <thead>\n",
       "    <tr style=\"text-align: right;\">\n",
       "      <th></th>\n",
       "      <th>HostResponseTime_ord</th>\n",
       "      <th>HostNeighbourhood_freq</th>\n",
       "      <th>NeighbourhoodCleansed_freq</th>\n",
       "      <th>State_freq</th>\n",
       "      <th>Zipcode_freq</th>\n",
       "      <th>Market_freq</th>\n",
       "      <th>PropertyType_freq</th>\n",
       "      <th>Neighbourhood_freq</th>\n",
       "      <th>Room Type_Private room</th>\n",
       "      <th>Room Type_Shared room</th>\n",
       "      <th>Bed Type_Couch</th>\n",
       "      <th>Bed Type_Futon</th>\n",
       "      <th>Bed Type_Pull-out Sofa</th>\n",
       "      <th>Bed Type_Real Bed</th>\n",
       "      <th>Cancellation Policy_long_term</th>\n",
       "      <th>Cancellation Policy_moderate</th>\n",
       "      <th>Cancellation Policy_no_refunds</th>\n",
       "      <th>Cancellation Policy_strict</th>\n",
       "      <th>Cancellation Policy_super_strict_30</th>\n",
       "      <th>Cancellation Policy_super_strict_60</th>\n",
       "    </tr>\n",
       "  </thead>\n",
       "  <tbody>\n",
       "    <tr>\n",
       "      <th>409</th>\n",
       "      <td>1</td>\n",
       "      <td>0.174987</td>\n",
       "      <td>0.196107</td>\n",
       "      <td>36.351363</td>\n",
       "      <td>0.109367</td>\n",
       "      <td>22.424028</td>\n",
       "      <td>57.091137</td>\n",
       "      <td>0.172725</td>\n",
       "      <td>1</td>\n",
       "      <td>0</td>\n",
       "      <td>0</td>\n",
       "      <td>0</td>\n",
       "      <td>0</td>\n",
       "      <td>1</td>\n",
       "      <td>0</td>\n",
       "      <td>0</td>\n",
       "      <td>0</td>\n",
       "      <td>0</td>\n",
       "      <td>0</td>\n",
       "      <td>0</td>\n",
       "    </tr>\n",
       "    <tr>\n",
       "      <th>410</th>\n",
       "      <td>3</td>\n",
       "      <td>0.174987</td>\n",
       "      <td>0.196107</td>\n",
       "      <td>36.351363</td>\n",
       "      <td>0.109367</td>\n",
       "      <td>22.424028</td>\n",
       "      <td>30.984832</td>\n",
       "      <td>0.172725</td>\n",
       "      <td>0</td>\n",
       "      <td>0</td>\n",
       "      <td>0</td>\n",
       "      <td>0</td>\n",
       "      <td>0</td>\n",
       "      <td>1</td>\n",
       "      <td>0</td>\n",
       "      <td>0</td>\n",
       "      <td>0</td>\n",
       "      <td>0</td>\n",
       "      <td>0</td>\n",
       "      <td>0</td>\n",
       "    </tr>\n",
       "    <tr>\n",
       "      <th>411</th>\n",
       "      <td>2</td>\n",
       "      <td>0.174987</td>\n",
       "      <td>0.196107</td>\n",
       "      <td>36.351363</td>\n",
       "      <td>0.103333</td>\n",
       "      <td>22.424028</td>\n",
       "      <td>0.730120</td>\n",
       "      <td>0.172725</td>\n",
       "      <td>0</td>\n",
       "      <td>0</td>\n",
       "      <td>0</td>\n",
       "      <td>0</td>\n",
       "      <td>0</td>\n",
       "      <td>1</td>\n",
       "      <td>0</td>\n",
       "      <td>0</td>\n",
       "      <td>0</td>\n",
       "      <td>0</td>\n",
       "      <td>0</td>\n",
       "      <td>0</td>\n",
       "    </tr>\n",
       "    <tr>\n",
       "      <th>412</th>\n",
       "      <td>2</td>\n",
       "      <td>0.174987</td>\n",
       "      <td>0.196107</td>\n",
       "      <td>36.351363</td>\n",
       "      <td>0.109367</td>\n",
       "      <td>22.424028</td>\n",
       "      <td>0.822139</td>\n",
       "      <td>0.172725</td>\n",
       "      <td>0</td>\n",
       "      <td>0</td>\n",
       "      <td>0</td>\n",
       "      <td>0</td>\n",
       "      <td>0</td>\n",
       "      <td>1</td>\n",
       "      <td>0</td>\n",
       "      <td>0</td>\n",
       "      <td>0</td>\n",
       "      <td>1</td>\n",
       "      <td>0</td>\n",
       "      <td>0</td>\n",
       "    </tr>\n",
       "    <tr>\n",
       "      <th>413</th>\n",
       "      <td>1</td>\n",
       "      <td>0.188564</td>\n",
       "      <td>0.196107</td>\n",
       "      <td>36.351363</td>\n",
       "      <td>0.103333</td>\n",
       "      <td>22.424028</td>\n",
       "      <td>2.129264</td>\n",
       "      <td>0.172725</td>\n",
       "      <td>0</td>\n",
       "      <td>0</td>\n",
       "      <td>0</td>\n",
       "      <td>0</td>\n",
       "      <td>0</td>\n",
       "      <td>1</td>\n",
       "      <td>0</td>\n",
       "      <td>1</td>\n",
       "      <td>0</td>\n",
       "      <td>0</td>\n",
       "      <td>0</td>\n",
       "      <td>0</td>\n",
       "    </tr>\n",
       "    <tr>\n",
       "      <th>...</th>\n",
       "      <td>...</td>\n",
       "      <td>...</td>\n",
       "      <td>...</td>\n",
       "      <td>...</td>\n",
       "      <td>...</td>\n",
       "      <td>...</td>\n",
       "      <td>...</td>\n",
       "      <td>...</td>\n",
       "      <td>...</td>\n",
       "      <td>...</td>\n",
       "      <td>...</td>\n",
       "      <td>...</td>\n",
       "      <td>...</td>\n",
       "      <td>...</td>\n",
       "      <td>...</td>\n",
       "      <td>...</td>\n",
       "      <td>...</td>\n",
       "      <td>...</td>\n",
       "      <td>...</td>\n",
       "      <td>...</td>\n",
       "    </tr>\n",
       "    <tr>\n",
       "      <th>494309</th>\n",
       "      <td>1</td>\n",
       "      <td>18.673113</td>\n",
       "      <td>1.448926</td>\n",
       "      <td>6.964045</td>\n",
       "      <td>1.432332</td>\n",
       "      <td>6.942171</td>\n",
       "      <td>3.646827</td>\n",
       "      <td>22.362933</td>\n",
       "      <td>1</td>\n",
       "      <td>0</td>\n",
       "      <td>0</td>\n",
       "      <td>0</td>\n",
       "      <td>0</td>\n",
       "      <td>1</td>\n",
       "      <td>0</td>\n",
       "      <td>0</td>\n",
       "      <td>0</td>\n",
       "      <td>1</td>\n",
       "      <td>0</td>\n",
       "      <td>0</td>\n",
       "    </tr>\n",
       "    <tr>\n",
       "      <th>494310</th>\n",
       "      <td>2</td>\n",
       "      <td>0.125961</td>\n",
       "      <td>1.448926</td>\n",
       "      <td>6.964045</td>\n",
       "      <td>1.432332</td>\n",
       "      <td>6.942171</td>\n",
       "      <td>30.984832</td>\n",
       "      <td>0.128224</td>\n",
       "      <td>0</td>\n",
       "      <td>0</td>\n",
       "      <td>0</td>\n",
       "      <td>0</td>\n",
       "      <td>0</td>\n",
       "      <td>1</td>\n",
       "      <td>0</td>\n",
       "      <td>0</td>\n",
       "      <td>0</td>\n",
       "      <td>0</td>\n",
       "      <td>0</td>\n",
       "      <td>0</td>\n",
       "    </tr>\n",
       "    <tr>\n",
       "      <th>494311</th>\n",
       "      <td>1</td>\n",
       "      <td>0.125961</td>\n",
       "      <td>1.448926</td>\n",
       "      <td>6.964045</td>\n",
       "      <td>1.432332</td>\n",
       "      <td>6.942171</td>\n",
       "      <td>30.984832</td>\n",
       "      <td>0.128224</td>\n",
       "      <td>0</td>\n",
       "      <td>0</td>\n",
       "      <td>0</td>\n",
       "      <td>0</td>\n",
       "      <td>0</td>\n",
       "      <td>1</td>\n",
       "      <td>0</td>\n",
       "      <td>0</td>\n",
       "      <td>0</td>\n",
       "      <td>1</td>\n",
       "      <td>0</td>\n",
       "      <td>0</td>\n",
       "    </tr>\n",
       "    <tr>\n",
       "      <th>494312</th>\n",
       "      <td>3</td>\n",
       "      <td>0.184793</td>\n",
       "      <td>1.448926</td>\n",
       "      <td>6.964045</td>\n",
       "      <td>1.432332</td>\n",
       "      <td>6.942171</td>\n",
       "      <td>30.984832</td>\n",
       "      <td>0.186301</td>\n",
       "      <td>0</td>\n",
       "      <td>0</td>\n",
       "      <td>0</td>\n",
       "      <td>0</td>\n",
       "      <td>0</td>\n",
       "      <td>1</td>\n",
       "      <td>0</td>\n",
       "      <td>0</td>\n",
       "      <td>0</td>\n",
       "      <td>1</td>\n",
       "      <td>0</td>\n",
       "      <td>0</td>\n",
       "    </tr>\n",
       "    <tr>\n",
       "      <th>494313</th>\n",
       "      <td>1</td>\n",
       "      <td>0.251167</td>\n",
       "      <td>1.448926</td>\n",
       "      <td>6.964045</td>\n",
       "      <td>1.432332</td>\n",
       "      <td>6.942171</td>\n",
       "      <td>30.984832</td>\n",
       "      <td>0.224014</td>\n",
       "      <td>0</td>\n",
       "      <td>0</td>\n",
       "      <td>0</td>\n",
       "      <td>0</td>\n",
       "      <td>0</td>\n",
       "      <td>1</td>\n",
       "      <td>0</td>\n",
       "      <td>0</td>\n",
       "      <td>0</td>\n",
       "      <td>0</td>\n",
       "      <td>0</td>\n",
       "      <td>0</td>\n",
       "    </tr>\n",
       "  </tbody>\n",
       "</table>\n",
       "<p>132581 rows × 20 columns</p>\n",
       "</div>"
      ],
      "text/plain": [
       "        HostResponseTime_ord  HostNeighbourhood_freq  \\\n",
       "409                        1                0.174987   \n",
       "410                        3                0.174987   \n",
       "411                        2                0.174987   \n",
       "412                        2                0.174987   \n",
       "413                        1                0.188564   \n",
       "...                      ...                     ...   \n",
       "494309                     1               18.673113   \n",
       "494310                     2                0.125961   \n",
       "494311                     1                0.125961   \n",
       "494312                     3                0.184793   \n",
       "494313                     1                0.251167   \n",
       "\n",
       "        NeighbourhoodCleansed_freq  State_freq  Zipcode_freq  Market_freq  \\\n",
       "409                       0.196107   36.351363      0.109367    22.424028   \n",
       "410                       0.196107   36.351363      0.109367    22.424028   \n",
       "411                       0.196107   36.351363      0.103333    22.424028   \n",
       "412                       0.196107   36.351363      0.109367    22.424028   \n",
       "413                       0.196107   36.351363      0.103333    22.424028   \n",
       "...                            ...         ...           ...          ...   \n",
       "494309                    1.448926    6.964045      1.432332     6.942171   \n",
       "494310                    1.448926    6.964045      1.432332     6.942171   \n",
       "494311                    1.448926    6.964045      1.432332     6.942171   \n",
       "494312                    1.448926    6.964045      1.432332     6.942171   \n",
       "494313                    1.448926    6.964045      1.432332     6.942171   \n",
       "\n",
       "        PropertyType_freq  Neighbourhood_freq  Room Type_Private room  \\\n",
       "409             57.091137            0.172725                       1   \n",
       "410             30.984832            0.172725                       0   \n",
       "411              0.730120            0.172725                       0   \n",
       "412              0.822139            0.172725                       0   \n",
       "413              2.129264            0.172725                       0   \n",
       "...                   ...                 ...                     ...   \n",
       "494309           3.646827           22.362933                       1   \n",
       "494310          30.984832            0.128224                       0   \n",
       "494311          30.984832            0.128224                       0   \n",
       "494312          30.984832            0.186301                       0   \n",
       "494313          30.984832            0.224014                       0   \n",
       "\n",
       "        Room Type_Shared room  Bed Type_Couch  Bed Type_Futon  \\\n",
       "409                         0               0               0   \n",
       "410                         0               0               0   \n",
       "411                         0               0               0   \n",
       "412                         0               0               0   \n",
       "413                         0               0               0   \n",
       "...                       ...             ...             ...   \n",
       "494309                      0               0               0   \n",
       "494310                      0               0               0   \n",
       "494311                      0               0               0   \n",
       "494312                      0               0               0   \n",
       "494313                      0               0               0   \n",
       "\n",
       "        Bed Type_Pull-out Sofa  Bed Type_Real Bed  \\\n",
       "409                          0                  1   \n",
       "410                          0                  1   \n",
       "411                          0                  1   \n",
       "412                          0                  1   \n",
       "413                          0                  1   \n",
       "...                        ...                ...   \n",
       "494309                       0                  1   \n",
       "494310                       0                  1   \n",
       "494311                       0                  1   \n",
       "494312                       0                  1   \n",
       "494313                       0                  1   \n",
       "\n",
       "        Cancellation Policy_long_term  Cancellation Policy_moderate  \\\n",
       "409                                 0                             0   \n",
       "410                                 0                             0   \n",
       "411                                 0                             0   \n",
       "412                                 0                             0   \n",
       "413                                 0                             1   \n",
       "...                               ...                           ...   \n",
       "494309                              0                             0   \n",
       "494310                              0                             0   \n",
       "494311                              0                             0   \n",
       "494312                              0                             0   \n",
       "494313                              0                             0   \n",
       "\n",
       "        Cancellation Policy_no_refunds  Cancellation Policy_strict  \\\n",
       "409                                  0                           0   \n",
       "410                                  0                           0   \n",
       "411                                  0                           0   \n",
       "412                                  0                           1   \n",
       "413                                  0                           0   \n",
       "...                                ...                         ...   \n",
       "494309                               0                           1   \n",
       "494310                               0                           0   \n",
       "494311                               0                           1   \n",
       "494312                               0                           1   \n",
       "494313                               0                           0   \n",
       "\n",
       "        Cancellation Policy_super_strict_30  \\\n",
       "409                                       0   \n",
       "410                                       0   \n",
       "411                                       0   \n",
       "412                                       0   \n",
       "413                                       0   \n",
       "...                                     ...   \n",
       "494309                                    0   \n",
       "494310                                    0   \n",
       "494311                                    0   \n",
       "494312                                    0   \n",
       "494313                                    0   \n",
       "\n",
       "        Cancellation Policy_super_strict_60  \n",
       "409                                       0  \n",
       "410                                       0  \n",
       "411                                       0  \n",
       "412                                       0  \n",
       "413                                       0  \n",
       "...                                     ...  \n",
       "494309                                    0  \n",
       "494310                                    0  \n",
       "494311                                    0  \n",
       "494312                                    0  \n",
       "494313                                    0  \n",
       "\n",
       "[132581 rows x 20 columns]"
      ]
     },
     "execution_count": 121,
     "metadata": {},
     "output_type": "execute_result"
    }
   ],
   "source": [
    "df_cat_encoded"
   ]
  },
  {
   "cell_type": "code",
   "execution_count": 122,
   "id": "25fe5b9a",
   "metadata": {},
   "outputs": [
    {
     "data": {
      "text/plain": [
       "Host Response Rate                0.0\n",
       "Accommodates                      0.0\n",
       "Bathrooms                         0.0\n",
       "Bedrooms                          0.0\n",
       "Beds                              0.0\n",
       "Price                             0.0\n",
       "Security Deposit                  0.0\n",
       "Cleaning Fee                      0.0\n",
       "Guests Included                   0.0\n",
       "Extra People                      0.0\n",
       "Minimum Nights                    0.0\n",
       "Maximum Nights                    0.0\n",
       "Availability 30                   0.0\n",
       "Availability 60                   0.0\n",
       "Availability 90                   0.0\n",
       "Availability 365                  0.0\n",
       "Number of Reviews                 0.0\n",
       "Review Scores Rating              0.0\n",
       "Review Scores Accuracy            0.0\n",
       "Review Scores Cleanliness         0.0\n",
       "Review Scores Checkin             0.0\n",
       "Review Scores Communication       0.0\n",
       "Review Scores Location            0.0\n",
       "Review Scores Value               0.0\n",
       "Calculated host listings count    0.0\n",
       "Reviews per Month                 0.0\n",
       "dtype: float64"
      ]
     },
     "execution_count": 122,
     "metadata": {},
     "output_type": "execute_result"
    }
   ],
   "source": [
    "(df_num_encoded.isnull().sum()/len(df_num_encoded))*100"
   ]
  },
  {
   "cell_type": "code",
   "execution_count": 123,
   "id": "2a5ac8f5",
   "metadata": {},
   "outputs": [
    {
     "data": {
      "text/plain": [
       "(132581, 26)"
      ]
     },
     "execution_count": 123,
     "metadata": {},
     "output_type": "execute_result"
    }
   ],
   "source": [
    "df_num_encoded.shape"
   ]
  },
  {
   "cell_type": "code",
   "execution_count": 124,
   "id": "9c2f5e6f",
   "metadata": {},
   "outputs": [
    {
     "data": {
      "text/plain": [
       "(132581, 20)"
      ]
     },
     "execution_count": 124,
     "metadata": {},
     "output_type": "execute_result"
    }
   ],
   "source": [
    "df_cat_encoded.shape"
   ]
  },
  {
   "cell_type": "code",
   "execution_count": 125,
   "id": "9614732b",
   "metadata": {},
   "outputs": [
    {
     "data": {
      "text/plain": [
       "Host Response Rate                0\n",
       "Accommodates                      0\n",
       "Bathrooms                         0\n",
       "Bedrooms                          0\n",
       "Beds                              0\n",
       "Price                             0\n",
       "Security Deposit                  0\n",
       "Cleaning Fee                      0\n",
       "Guests Included                   0\n",
       "Extra People                      0\n",
       "Minimum Nights                    0\n",
       "Maximum Nights                    0\n",
       "Availability 30                   0\n",
       "Availability 60                   0\n",
       "Availability 90                   0\n",
       "Availability 365                  0\n",
       "Number of Reviews                 0\n",
       "Review Scores Rating              0\n",
       "Review Scores Accuracy            0\n",
       "Review Scores Cleanliness         0\n",
       "Review Scores Checkin             0\n",
       "Review Scores Communication       0\n",
       "Review Scores Location            0\n",
       "Review Scores Value               0\n",
       "Calculated host listings count    0\n",
       "Reviews per Month                 0\n",
       "dtype: int64"
      ]
     },
     "execution_count": 125,
     "metadata": {},
     "output_type": "execute_result"
    }
   ],
   "source": [
    "df_num_encoded.isnull().sum()"
   ]
  },
  {
   "cell_type": "code",
   "execution_count": 126,
   "id": "56a0509a",
   "metadata": {},
   "outputs": [
    {
     "data": {
      "text/plain": [
       "HostResponseTime_ord                   0\n",
       "HostNeighbourhood_freq                 0\n",
       "NeighbourhoodCleansed_freq             0\n",
       "State_freq                             0\n",
       "Zipcode_freq                           0\n",
       "Market_freq                            0\n",
       "PropertyType_freq                      0\n",
       "Neighbourhood_freq                     0\n",
       "Room Type_Private room                 0\n",
       "Room Type_Shared room                  0\n",
       "Bed Type_Couch                         0\n",
       "Bed Type_Futon                         0\n",
       "Bed Type_Pull-out Sofa                 0\n",
       "Bed Type_Real Bed                      0\n",
       "Cancellation Policy_long_term          0\n",
       "Cancellation Policy_moderate           0\n",
       "Cancellation Policy_no_refunds         0\n",
       "Cancellation Policy_strict             0\n",
       "Cancellation Policy_super_strict_30    0\n",
       "Cancellation Policy_super_strict_60    0\n",
       "dtype: int64"
      ]
     },
     "execution_count": 126,
     "metadata": {},
     "output_type": "execute_result"
    }
   ],
   "source": [
    "df_cat_encoded.isnull().sum()"
   ]
  },
  {
   "cell_type": "code",
   "execution_count": 127,
   "id": "bce38745",
   "metadata": {},
   "outputs": [
    {
     "data": {
      "text/html": [
       "<div>\n",
       "<style scoped>\n",
       "    .dataframe tbody tr th:only-of-type {\n",
       "        vertical-align: middle;\n",
       "    }\n",
       "\n",
       "    .dataframe tbody tr th {\n",
       "        vertical-align: top;\n",
       "    }\n",
       "\n",
       "    .dataframe thead th {\n",
       "        text-align: right;\n",
       "    }\n",
       "</style>\n",
       "<table border=\"1\" class=\"dataframe\">\n",
       "  <thead>\n",
       "    <tr style=\"text-align: right;\">\n",
       "      <th></th>\n",
       "      <th>HostResponseTime_ord</th>\n",
       "      <th>HostNeighbourhood_freq</th>\n",
       "      <th>NeighbourhoodCleansed_freq</th>\n",
       "      <th>State_freq</th>\n",
       "      <th>Zipcode_freq</th>\n",
       "      <th>Market_freq</th>\n",
       "      <th>PropertyType_freq</th>\n",
       "      <th>Neighbourhood_freq</th>\n",
       "      <th>Room Type_Private room</th>\n",
       "      <th>Room Type_Shared room</th>\n",
       "      <th>Bed Type_Couch</th>\n",
       "      <th>Bed Type_Futon</th>\n",
       "      <th>Bed Type_Pull-out Sofa</th>\n",
       "      <th>Bed Type_Real Bed</th>\n",
       "      <th>Cancellation Policy_long_term</th>\n",
       "      <th>Cancellation Policy_moderate</th>\n",
       "      <th>Cancellation Policy_no_refunds</th>\n",
       "      <th>Cancellation Policy_strict</th>\n",
       "      <th>Cancellation Policy_super_strict_30</th>\n",
       "      <th>Cancellation Policy_super_strict_60</th>\n",
       "    </tr>\n",
       "  </thead>\n",
       "  <tbody>\n",
       "    <tr>\n",
       "      <th>409</th>\n",
       "      <td>1</td>\n",
       "      <td>0.174987</td>\n",
       "      <td>0.196107</td>\n",
       "      <td>36.351363</td>\n",
       "      <td>0.109367</td>\n",
       "      <td>22.424028</td>\n",
       "      <td>57.091137</td>\n",
       "      <td>0.172725</td>\n",
       "      <td>1</td>\n",
       "      <td>0</td>\n",
       "      <td>0</td>\n",
       "      <td>0</td>\n",
       "      <td>0</td>\n",
       "      <td>1</td>\n",
       "      <td>0</td>\n",
       "      <td>0</td>\n",
       "      <td>0</td>\n",
       "      <td>0</td>\n",
       "      <td>0</td>\n",
       "      <td>0</td>\n",
       "    </tr>\n",
       "    <tr>\n",
       "      <th>410</th>\n",
       "      <td>3</td>\n",
       "      <td>0.174987</td>\n",
       "      <td>0.196107</td>\n",
       "      <td>36.351363</td>\n",
       "      <td>0.109367</td>\n",
       "      <td>22.424028</td>\n",
       "      <td>30.984832</td>\n",
       "      <td>0.172725</td>\n",
       "      <td>0</td>\n",
       "      <td>0</td>\n",
       "      <td>0</td>\n",
       "      <td>0</td>\n",
       "      <td>0</td>\n",
       "      <td>1</td>\n",
       "      <td>0</td>\n",
       "      <td>0</td>\n",
       "      <td>0</td>\n",
       "      <td>0</td>\n",
       "      <td>0</td>\n",
       "      <td>0</td>\n",
       "    </tr>\n",
       "    <tr>\n",
       "      <th>411</th>\n",
       "      <td>2</td>\n",
       "      <td>0.174987</td>\n",
       "      <td>0.196107</td>\n",
       "      <td>36.351363</td>\n",
       "      <td>0.103333</td>\n",
       "      <td>22.424028</td>\n",
       "      <td>0.730120</td>\n",
       "      <td>0.172725</td>\n",
       "      <td>0</td>\n",
       "      <td>0</td>\n",
       "      <td>0</td>\n",
       "      <td>0</td>\n",
       "      <td>0</td>\n",
       "      <td>1</td>\n",
       "      <td>0</td>\n",
       "      <td>0</td>\n",
       "      <td>0</td>\n",
       "      <td>0</td>\n",
       "      <td>0</td>\n",
       "      <td>0</td>\n",
       "    </tr>\n",
       "    <tr>\n",
       "      <th>412</th>\n",
       "      <td>2</td>\n",
       "      <td>0.174987</td>\n",
       "      <td>0.196107</td>\n",
       "      <td>36.351363</td>\n",
       "      <td>0.109367</td>\n",
       "      <td>22.424028</td>\n",
       "      <td>0.822139</td>\n",
       "      <td>0.172725</td>\n",
       "      <td>0</td>\n",
       "      <td>0</td>\n",
       "      <td>0</td>\n",
       "      <td>0</td>\n",
       "      <td>0</td>\n",
       "      <td>1</td>\n",
       "      <td>0</td>\n",
       "      <td>0</td>\n",
       "      <td>0</td>\n",
       "      <td>1</td>\n",
       "      <td>0</td>\n",
       "      <td>0</td>\n",
       "    </tr>\n",
       "    <tr>\n",
       "      <th>413</th>\n",
       "      <td>1</td>\n",
       "      <td>0.188564</td>\n",
       "      <td>0.196107</td>\n",
       "      <td>36.351363</td>\n",
       "      <td>0.103333</td>\n",
       "      <td>22.424028</td>\n",
       "      <td>2.129264</td>\n",
       "      <td>0.172725</td>\n",
       "      <td>0</td>\n",
       "      <td>0</td>\n",
       "      <td>0</td>\n",
       "      <td>0</td>\n",
       "      <td>0</td>\n",
       "      <td>1</td>\n",
       "      <td>0</td>\n",
       "      <td>1</td>\n",
       "      <td>0</td>\n",
       "      <td>0</td>\n",
       "      <td>0</td>\n",
       "      <td>0</td>\n",
       "    </tr>\n",
       "    <tr>\n",
       "      <th>...</th>\n",
       "      <td>...</td>\n",
       "      <td>...</td>\n",
       "      <td>...</td>\n",
       "      <td>...</td>\n",
       "      <td>...</td>\n",
       "      <td>...</td>\n",
       "      <td>...</td>\n",
       "      <td>...</td>\n",
       "      <td>...</td>\n",
       "      <td>...</td>\n",
       "      <td>...</td>\n",
       "      <td>...</td>\n",
       "      <td>...</td>\n",
       "      <td>...</td>\n",
       "      <td>...</td>\n",
       "      <td>...</td>\n",
       "      <td>...</td>\n",
       "      <td>...</td>\n",
       "      <td>...</td>\n",
       "      <td>...</td>\n",
       "    </tr>\n",
       "    <tr>\n",
       "      <th>494309</th>\n",
       "      <td>1</td>\n",
       "      <td>18.673113</td>\n",
       "      <td>1.448926</td>\n",
       "      <td>6.964045</td>\n",
       "      <td>1.432332</td>\n",
       "      <td>6.942171</td>\n",
       "      <td>3.646827</td>\n",
       "      <td>22.362933</td>\n",
       "      <td>1</td>\n",
       "      <td>0</td>\n",
       "      <td>0</td>\n",
       "      <td>0</td>\n",
       "      <td>0</td>\n",
       "      <td>1</td>\n",
       "      <td>0</td>\n",
       "      <td>0</td>\n",
       "      <td>0</td>\n",
       "      <td>1</td>\n",
       "      <td>0</td>\n",
       "      <td>0</td>\n",
       "    </tr>\n",
       "    <tr>\n",
       "      <th>494310</th>\n",
       "      <td>2</td>\n",
       "      <td>0.125961</td>\n",
       "      <td>1.448926</td>\n",
       "      <td>6.964045</td>\n",
       "      <td>1.432332</td>\n",
       "      <td>6.942171</td>\n",
       "      <td>30.984832</td>\n",
       "      <td>0.128224</td>\n",
       "      <td>0</td>\n",
       "      <td>0</td>\n",
       "      <td>0</td>\n",
       "      <td>0</td>\n",
       "      <td>0</td>\n",
       "      <td>1</td>\n",
       "      <td>0</td>\n",
       "      <td>0</td>\n",
       "      <td>0</td>\n",
       "      <td>0</td>\n",
       "      <td>0</td>\n",
       "      <td>0</td>\n",
       "    </tr>\n",
       "    <tr>\n",
       "      <th>494311</th>\n",
       "      <td>1</td>\n",
       "      <td>0.125961</td>\n",
       "      <td>1.448926</td>\n",
       "      <td>6.964045</td>\n",
       "      <td>1.432332</td>\n",
       "      <td>6.942171</td>\n",
       "      <td>30.984832</td>\n",
       "      <td>0.128224</td>\n",
       "      <td>0</td>\n",
       "      <td>0</td>\n",
       "      <td>0</td>\n",
       "      <td>0</td>\n",
       "      <td>0</td>\n",
       "      <td>1</td>\n",
       "      <td>0</td>\n",
       "      <td>0</td>\n",
       "      <td>0</td>\n",
       "      <td>1</td>\n",
       "      <td>0</td>\n",
       "      <td>0</td>\n",
       "    </tr>\n",
       "    <tr>\n",
       "      <th>494312</th>\n",
       "      <td>3</td>\n",
       "      <td>0.184793</td>\n",
       "      <td>1.448926</td>\n",
       "      <td>6.964045</td>\n",
       "      <td>1.432332</td>\n",
       "      <td>6.942171</td>\n",
       "      <td>30.984832</td>\n",
       "      <td>0.186301</td>\n",
       "      <td>0</td>\n",
       "      <td>0</td>\n",
       "      <td>0</td>\n",
       "      <td>0</td>\n",
       "      <td>0</td>\n",
       "      <td>1</td>\n",
       "      <td>0</td>\n",
       "      <td>0</td>\n",
       "      <td>0</td>\n",
       "      <td>1</td>\n",
       "      <td>0</td>\n",
       "      <td>0</td>\n",
       "    </tr>\n",
       "    <tr>\n",
       "      <th>494313</th>\n",
       "      <td>1</td>\n",
       "      <td>0.251167</td>\n",
       "      <td>1.448926</td>\n",
       "      <td>6.964045</td>\n",
       "      <td>1.432332</td>\n",
       "      <td>6.942171</td>\n",
       "      <td>30.984832</td>\n",
       "      <td>0.224014</td>\n",
       "      <td>0</td>\n",
       "      <td>0</td>\n",
       "      <td>0</td>\n",
       "      <td>0</td>\n",
       "      <td>0</td>\n",
       "      <td>1</td>\n",
       "      <td>0</td>\n",
       "      <td>0</td>\n",
       "      <td>0</td>\n",
       "      <td>0</td>\n",
       "      <td>0</td>\n",
       "      <td>0</td>\n",
       "    </tr>\n",
       "  </tbody>\n",
       "</table>\n",
       "<p>132581 rows × 20 columns</p>\n",
       "</div>"
      ],
      "text/plain": [
       "        HostResponseTime_ord  HostNeighbourhood_freq  \\\n",
       "409                        1                0.174987   \n",
       "410                        3                0.174987   \n",
       "411                        2                0.174987   \n",
       "412                        2                0.174987   \n",
       "413                        1                0.188564   \n",
       "...                      ...                     ...   \n",
       "494309                     1               18.673113   \n",
       "494310                     2                0.125961   \n",
       "494311                     1                0.125961   \n",
       "494312                     3                0.184793   \n",
       "494313                     1                0.251167   \n",
       "\n",
       "        NeighbourhoodCleansed_freq  State_freq  Zipcode_freq  Market_freq  \\\n",
       "409                       0.196107   36.351363      0.109367    22.424028   \n",
       "410                       0.196107   36.351363      0.109367    22.424028   \n",
       "411                       0.196107   36.351363      0.103333    22.424028   \n",
       "412                       0.196107   36.351363      0.109367    22.424028   \n",
       "413                       0.196107   36.351363      0.103333    22.424028   \n",
       "...                            ...         ...           ...          ...   \n",
       "494309                    1.448926    6.964045      1.432332     6.942171   \n",
       "494310                    1.448926    6.964045      1.432332     6.942171   \n",
       "494311                    1.448926    6.964045      1.432332     6.942171   \n",
       "494312                    1.448926    6.964045      1.432332     6.942171   \n",
       "494313                    1.448926    6.964045      1.432332     6.942171   \n",
       "\n",
       "        PropertyType_freq  Neighbourhood_freq  Room Type_Private room  \\\n",
       "409             57.091137            0.172725                       1   \n",
       "410             30.984832            0.172725                       0   \n",
       "411              0.730120            0.172725                       0   \n",
       "412              0.822139            0.172725                       0   \n",
       "413              2.129264            0.172725                       0   \n",
       "...                   ...                 ...                     ...   \n",
       "494309           3.646827           22.362933                       1   \n",
       "494310          30.984832            0.128224                       0   \n",
       "494311          30.984832            0.128224                       0   \n",
       "494312          30.984832            0.186301                       0   \n",
       "494313          30.984832            0.224014                       0   \n",
       "\n",
       "        Room Type_Shared room  Bed Type_Couch  Bed Type_Futon  \\\n",
       "409                         0               0               0   \n",
       "410                         0               0               0   \n",
       "411                         0               0               0   \n",
       "412                         0               0               0   \n",
       "413                         0               0               0   \n",
       "...                       ...             ...             ...   \n",
       "494309                      0               0               0   \n",
       "494310                      0               0               0   \n",
       "494311                      0               0               0   \n",
       "494312                      0               0               0   \n",
       "494313                      0               0               0   \n",
       "\n",
       "        Bed Type_Pull-out Sofa  Bed Type_Real Bed  \\\n",
       "409                          0                  1   \n",
       "410                          0                  1   \n",
       "411                          0                  1   \n",
       "412                          0                  1   \n",
       "413                          0                  1   \n",
       "...                        ...                ...   \n",
       "494309                       0                  1   \n",
       "494310                       0                  1   \n",
       "494311                       0                  1   \n",
       "494312                       0                  1   \n",
       "494313                       0                  1   \n",
       "\n",
       "        Cancellation Policy_long_term  Cancellation Policy_moderate  \\\n",
       "409                                 0                             0   \n",
       "410                                 0                             0   \n",
       "411                                 0                             0   \n",
       "412                                 0                             0   \n",
       "413                                 0                             1   \n",
       "...                               ...                           ...   \n",
       "494309                              0                             0   \n",
       "494310                              0                             0   \n",
       "494311                              0                             0   \n",
       "494312                              0                             0   \n",
       "494313                              0                             0   \n",
       "\n",
       "        Cancellation Policy_no_refunds  Cancellation Policy_strict  \\\n",
       "409                                  0                           0   \n",
       "410                                  0                           0   \n",
       "411                                  0                           0   \n",
       "412                                  0                           1   \n",
       "413                                  0                           0   \n",
       "...                                ...                         ...   \n",
       "494309                               0                           1   \n",
       "494310                               0                           0   \n",
       "494311                               0                           1   \n",
       "494312                               0                           1   \n",
       "494313                               0                           0   \n",
       "\n",
       "        Cancellation Policy_super_strict_30  \\\n",
       "409                                       0   \n",
       "410                                       0   \n",
       "411                                       0   \n",
       "412                                       0   \n",
       "413                                       0   \n",
       "...                                     ...   \n",
       "494309                                    0   \n",
       "494310                                    0   \n",
       "494311                                    0   \n",
       "494312                                    0   \n",
       "494313                                    0   \n",
       "\n",
       "        Cancellation Policy_super_strict_60  \n",
       "409                                       0  \n",
       "410                                       0  \n",
       "411                                       0  \n",
       "412                                       0  \n",
       "413                                       0  \n",
       "...                                     ...  \n",
       "494309                                    0  \n",
       "494310                                    0  \n",
       "494311                                    0  \n",
       "494312                                    0  \n",
       "494313                                    0  \n",
       "\n",
       "[132581 rows x 20 columns]"
      ]
     },
     "execution_count": 127,
     "metadata": {},
     "output_type": "execute_result"
    }
   ],
   "source": [
    "df_cat_encoded"
   ]
  },
  {
   "cell_type": "code",
   "execution_count": 128,
   "id": "3d938a25",
   "metadata": {},
   "outputs": [
    {
     "data": {
      "text/html": [
       "<div>\n",
       "<style scoped>\n",
       "    .dataframe tbody tr th:only-of-type {\n",
       "        vertical-align: middle;\n",
       "    }\n",
       "\n",
       "    .dataframe tbody tr th {\n",
       "        vertical-align: top;\n",
       "    }\n",
       "\n",
       "    .dataframe thead th {\n",
       "        text-align: right;\n",
       "    }\n",
       "</style>\n",
       "<table border=\"1\" class=\"dataframe\">\n",
       "  <thead>\n",
       "    <tr style=\"text-align: right;\">\n",
       "      <th></th>\n",
       "      <th>Host Response Rate</th>\n",
       "      <th>Accommodates</th>\n",
       "      <th>Bathrooms</th>\n",
       "      <th>Bedrooms</th>\n",
       "      <th>Beds</th>\n",
       "      <th>Price</th>\n",
       "      <th>Security Deposit</th>\n",
       "      <th>Cleaning Fee</th>\n",
       "      <th>Guests Included</th>\n",
       "      <th>Extra People</th>\n",
       "      <th>...</th>\n",
       "      <th>Number of Reviews</th>\n",
       "      <th>Review Scores Rating</th>\n",
       "      <th>Review Scores Accuracy</th>\n",
       "      <th>Review Scores Cleanliness</th>\n",
       "      <th>Review Scores Checkin</th>\n",
       "      <th>Review Scores Communication</th>\n",
       "      <th>Review Scores Location</th>\n",
       "      <th>Review Scores Value</th>\n",
       "      <th>Calculated host listings count</th>\n",
       "      <th>Reviews per Month</th>\n",
       "    </tr>\n",
       "  </thead>\n",
       "  <tbody>\n",
       "    <tr>\n",
       "      <th>0</th>\n",
       "      <td>0.442374</td>\n",
       "      <td>-0.559210</td>\n",
       "      <td>-0.433181</td>\n",
       "      <td>-0.246826</td>\n",
       "      <td>-0.824713</td>\n",
       "      <td>0.369252</td>\n",
       "      <td>0.022807</td>\n",
       "      <td>-0.051661</td>\n",
       "      <td>-0.544120</td>\n",
       "      <td>-0.887795</td>\n",
       "      <td>...</td>\n",
       "      <td>-1.356530</td>\n",
       "      <td>0.907361</td>\n",
       "      <td>0.521792</td>\n",
       "      <td>0.645175</td>\n",
       "      <td>0.378724</td>\n",
       "      <td>0.368473</td>\n",
       "      <td>0.601531</td>\n",
       "      <td>0.679343</td>\n",
       "      <td>-0.732494</td>\n",
       "      <td>-0.058369</td>\n",
       "    </tr>\n",
       "    <tr>\n",
       "      <th>1</th>\n",
       "      <td>0.442374</td>\n",
       "      <td>1.692151</td>\n",
       "      <td>2.578157</td>\n",
       "      <td>2.328234</td>\n",
       "      <td>1.602205</td>\n",
       "      <td>0.580743</td>\n",
       "      <td>0.484625</td>\n",
       "      <td>1.686074</td>\n",
       "      <td>2.290608</td>\n",
       "      <td>1.155845</td>\n",
       "      <td>...</td>\n",
       "      <td>-1.356530</td>\n",
       "      <td>0.907361</td>\n",
       "      <td>0.521792</td>\n",
       "      <td>0.645175</td>\n",
       "      <td>0.378724</td>\n",
       "      <td>0.368473</td>\n",
       "      <td>0.601531</td>\n",
       "      <td>0.679343</td>\n",
       "      <td>-0.732494</td>\n",
       "      <td>-0.058369</td>\n",
       "    </tr>\n",
       "    <tr>\n",
       "      <th>2</th>\n",
       "      <td>0.442374</td>\n",
       "      <td>0.172537</td>\n",
       "      <td>-0.433181</td>\n",
       "      <td>-0.246826</td>\n",
       "      <td>-0.824713</td>\n",
       "      <td>-0.560717</td>\n",
       "      <td>0.022807</td>\n",
       "      <td>0.086760</td>\n",
       "      <td>-0.544120</td>\n",
       "      <td>1.155845</td>\n",
       "      <td>...</td>\n",
       "      <td>-1.356530</td>\n",
       "      <td>0.907361</td>\n",
       "      <td>0.521792</td>\n",
       "      <td>0.645175</td>\n",
       "      <td>0.378724</td>\n",
       "      <td>0.368473</td>\n",
       "      <td>0.601531</td>\n",
       "      <td>0.679343</td>\n",
       "      <td>-0.732494</td>\n",
       "      <td>-0.058369</td>\n",
       "    </tr>\n",
       "    <tr>\n",
       "      <th>3</th>\n",
       "      <td>0.442374</td>\n",
       "      <td>-0.559210</td>\n",
       "      <td>0.761510</td>\n",
       "      <td>-0.246826</td>\n",
       "      <td>-0.824713</td>\n",
       "      <td>0.580743</td>\n",
       "      <td>1.971556</td>\n",
       "      <td>1.007715</td>\n",
       "      <td>-0.544120</td>\n",
       "      <td>-0.887795</td>\n",
       "      <td>...</td>\n",
       "      <td>-0.508258</td>\n",
       "      <td>0.907361</td>\n",
       "      <td>0.521792</td>\n",
       "      <td>0.645175</td>\n",
       "      <td>0.378724</td>\n",
       "      <td>0.368473</td>\n",
       "      <td>0.601531</td>\n",
       "      <td>0.679343</td>\n",
       "      <td>0.731315</td>\n",
       "      <td>-1.504143</td>\n",
       "    </tr>\n",
       "    <tr>\n",
       "      <th>4</th>\n",
       "      <td>0.442374</td>\n",
       "      <td>1.293898</td>\n",
       "      <td>1.980199</td>\n",
       "      <td>1.712648</td>\n",
       "      <td>1.602205</td>\n",
       "      <td>1.779597</td>\n",
       "      <td>0.022807</td>\n",
       "      <td>2.195093</td>\n",
       "      <td>2.131214</td>\n",
       "      <td>1.390658</td>\n",
       "      <td>...</td>\n",
       "      <td>0.245344</td>\n",
       "      <td>-0.565468</td>\n",
       "      <td>-1.879802</td>\n",
       "      <td>0.645175</td>\n",
       "      <td>0.378724</td>\n",
       "      <td>0.368473</td>\n",
       "      <td>-1.587348</td>\n",
       "      <td>0.679343</td>\n",
       "      <td>1.951193</td>\n",
       "      <td>-0.313336</td>\n",
       "    </tr>\n",
       "    <tr>\n",
       "      <th>...</th>\n",
       "      <td>...</td>\n",
       "      <td>...</td>\n",
       "      <td>...</td>\n",
       "      <td>...</td>\n",
       "      <td>...</td>\n",
       "      <td>...</td>\n",
       "      <td>...</td>\n",
       "      <td>...</td>\n",
       "      <td>...</td>\n",
       "      <td>...</td>\n",
       "      <td>...</td>\n",
       "      <td>...</td>\n",
       "      <td>...</td>\n",
       "      <td>...</td>\n",
       "      <td>...</td>\n",
       "      <td>...</td>\n",
       "      <td>...</td>\n",
       "      <td>...</td>\n",
       "      <td>...</td>\n",
       "      <td>...</td>\n",
       "      <td>...</td>\n",
       "    </tr>\n",
       "    <tr>\n",
       "      <th>132576</th>\n",
       "      <td>0.442374</td>\n",
       "      <td>-0.559210</td>\n",
       "      <td>-0.433181</td>\n",
       "      <td>0.908157</td>\n",
       "      <td>0.828358</td>\n",
       "      <td>-0.364978</td>\n",
       "      <td>-0.498705</td>\n",
       "      <td>0.553052</td>\n",
       "      <td>-0.544120</td>\n",
       "      <td>1.155845</td>\n",
       "      <td>...</td>\n",
       "      <td>-1.356530</td>\n",
       "      <td>0.907361</td>\n",
       "      <td>0.521792</td>\n",
       "      <td>0.645175</td>\n",
       "      <td>0.378724</td>\n",
       "      <td>0.368473</td>\n",
       "      <td>0.601531</td>\n",
       "      <td>0.679343</td>\n",
       "      <td>-0.732494</td>\n",
       "      <td>-0.058369</td>\n",
       "    </tr>\n",
       "    <tr>\n",
       "      <th>132577</th>\n",
       "      <td>0.442374</td>\n",
       "      <td>1.971603</td>\n",
       "      <td>2.578157</td>\n",
       "      <td>2.328234</td>\n",
       "      <td>1.602205</td>\n",
       "      <td>1.534435</td>\n",
       "      <td>0.022807</td>\n",
       "      <td>-0.051661</td>\n",
       "      <td>-0.544120</td>\n",
       "      <td>-0.887795</td>\n",
       "      <td>...</td>\n",
       "      <td>-1.356530</td>\n",
       "      <td>0.907361</td>\n",
       "      <td>0.521792</td>\n",
       "      <td>0.645175</td>\n",
       "      <td>0.378724</td>\n",
       "      <td>0.368473</td>\n",
       "      <td>0.601531</td>\n",
       "      <td>0.679343</td>\n",
       "      <td>-0.732494</td>\n",
       "      <td>-0.058369</td>\n",
       "    </tr>\n",
       "    <tr>\n",
       "      <th>132578</th>\n",
       "      <td>0.442374</td>\n",
       "      <td>1.692151</td>\n",
       "      <td>1.493109</td>\n",
       "      <td>1.712648</td>\n",
       "      <td>1.366131</td>\n",
       "      <td>2.103862</td>\n",
       "      <td>0.022807</td>\n",
       "      <td>1.798226</td>\n",
       "      <td>2.131214</td>\n",
       "      <td>1.274834</td>\n",
       "      <td>...</td>\n",
       "      <td>0.168751</td>\n",
       "      <td>-0.083020</td>\n",
       "      <td>0.521792</td>\n",
       "      <td>0.645175</td>\n",
       "      <td>0.378724</td>\n",
       "      <td>0.368473</td>\n",
       "      <td>0.601531</td>\n",
       "      <td>0.679343</td>\n",
       "      <td>-0.732494</td>\n",
       "      <td>-0.261084</td>\n",
       "    </tr>\n",
       "    <tr>\n",
       "      <th>132579</th>\n",
       "      <td>0.442374</td>\n",
       "      <td>1.293898</td>\n",
       "      <td>1.493109</td>\n",
       "      <td>1.712648</td>\n",
       "      <td>1.366131</td>\n",
       "      <td>1.635838</td>\n",
       "      <td>1.971556</td>\n",
       "      <td>1.686074</td>\n",
       "      <td>1.803494</td>\n",
       "      <td>1.155845</td>\n",
       "      <td>...</td>\n",
       "      <td>0.428385</td>\n",
       "      <td>0.207430</td>\n",
       "      <td>0.521792</td>\n",
       "      <td>0.645175</td>\n",
       "      <td>0.378724</td>\n",
       "      <td>0.368473</td>\n",
       "      <td>-1.587348</td>\n",
       "      <td>-1.352907</td>\n",
       "      <td>-0.732494</td>\n",
       "      <td>-1.323317</td>\n",
       "    </tr>\n",
       "    <tr>\n",
       "      <th>132580</th>\n",
       "      <td>0.442374</td>\n",
       "      <td>0.172537</td>\n",
       "      <td>1.493109</td>\n",
       "      <td>0.908157</td>\n",
       "      <td>0.828358</td>\n",
       "      <td>2.560597</td>\n",
       "      <td>1.971556</td>\n",
       "      <td>1.686074</td>\n",
       "      <td>-0.544120</td>\n",
       "      <td>-0.887795</td>\n",
       "      <td>...</td>\n",
       "      <td>-1.356530</td>\n",
       "      <td>0.907361</td>\n",
       "      <td>0.521792</td>\n",
       "      <td>0.645175</td>\n",
       "      <td>0.378724</td>\n",
       "      <td>0.368473</td>\n",
       "      <td>0.601531</td>\n",
       "      <td>0.679343</td>\n",
       "      <td>-0.732494</td>\n",
       "      <td>-0.058369</td>\n",
       "    </tr>\n",
       "  </tbody>\n",
       "</table>\n",
       "<p>132581 rows × 26 columns</p>\n",
       "</div>"
      ],
      "text/plain": [
       "        Host Response Rate  Accommodates  Bathrooms  Bedrooms      Beds  \\\n",
       "0                 0.442374     -0.559210  -0.433181 -0.246826 -0.824713   \n",
       "1                 0.442374      1.692151   2.578157  2.328234  1.602205   \n",
       "2                 0.442374      0.172537  -0.433181 -0.246826 -0.824713   \n",
       "3                 0.442374     -0.559210   0.761510 -0.246826 -0.824713   \n",
       "4                 0.442374      1.293898   1.980199  1.712648  1.602205   \n",
       "...                    ...           ...        ...       ...       ...   \n",
       "132576            0.442374     -0.559210  -0.433181  0.908157  0.828358   \n",
       "132577            0.442374      1.971603   2.578157  2.328234  1.602205   \n",
       "132578            0.442374      1.692151   1.493109  1.712648  1.366131   \n",
       "132579            0.442374      1.293898   1.493109  1.712648  1.366131   \n",
       "132580            0.442374      0.172537   1.493109  0.908157  0.828358   \n",
       "\n",
       "           Price  Security Deposit  Cleaning Fee  Guests Included  \\\n",
       "0       0.369252          0.022807     -0.051661        -0.544120   \n",
       "1       0.580743          0.484625      1.686074         2.290608   \n",
       "2      -0.560717          0.022807      0.086760        -0.544120   \n",
       "3       0.580743          1.971556      1.007715        -0.544120   \n",
       "4       1.779597          0.022807      2.195093         2.131214   \n",
       "...          ...               ...           ...              ...   \n",
       "132576 -0.364978         -0.498705      0.553052        -0.544120   \n",
       "132577  1.534435          0.022807     -0.051661        -0.544120   \n",
       "132578  2.103862          0.022807      1.798226         2.131214   \n",
       "132579  1.635838          1.971556      1.686074         1.803494   \n",
       "132580  2.560597          1.971556      1.686074        -0.544120   \n",
       "\n",
       "        Extra People  ...  Number of Reviews  Review Scores Rating  \\\n",
       "0          -0.887795  ...          -1.356530              0.907361   \n",
       "1           1.155845  ...          -1.356530              0.907361   \n",
       "2           1.155845  ...          -1.356530              0.907361   \n",
       "3          -0.887795  ...          -0.508258              0.907361   \n",
       "4           1.390658  ...           0.245344             -0.565468   \n",
       "...              ...  ...                ...                   ...   \n",
       "132576      1.155845  ...          -1.356530              0.907361   \n",
       "132577     -0.887795  ...          -1.356530              0.907361   \n",
       "132578      1.274834  ...           0.168751             -0.083020   \n",
       "132579      1.155845  ...           0.428385              0.207430   \n",
       "132580     -0.887795  ...          -1.356530              0.907361   \n",
       "\n",
       "        Review Scores Accuracy  Review Scores Cleanliness  \\\n",
       "0                     0.521792                   0.645175   \n",
       "1                     0.521792                   0.645175   \n",
       "2                     0.521792                   0.645175   \n",
       "3                     0.521792                   0.645175   \n",
       "4                    -1.879802                   0.645175   \n",
       "...                        ...                        ...   \n",
       "132576                0.521792                   0.645175   \n",
       "132577                0.521792                   0.645175   \n",
       "132578                0.521792                   0.645175   \n",
       "132579                0.521792                   0.645175   \n",
       "132580                0.521792                   0.645175   \n",
       "\n",
       "        Review Scores Checkin  Review Scores Communication  \\\n",
       "0                    0.378724                     0.368473   \n",
       "1                    0.378724                     0.368473   \n",
       "2                    0.378724                     0.368473   \n",
       "3                    0.378724                     0.368473   \n",
       "4                    0.378724                     0.368473   \n",
       "...                       ...                          ...   \n",
       "132576               0.378724                     0.368473   \n",
       "132577               0.378724                     0.368473   \n",
       "132578               0.378724                     0.368473   \n",
       "132579               0.378724                     0.368473   \n",
       "132580               0.378724                     0.368473   \n",
       "\n",
       "        Review Scores Location  Review Scores Value  \\\n",
       "0                     0.601531             0.679343   \n",
       "1                     0.601531             0.679343   \n",
       "2                     0.601531             0.679343   \n",
       "3                     0.601531             0.679343   \n",
       "4                    -1.587348             0.679343   \n",
       "...                        ...                  ...   \n",
       "132576                0.601531             0.679343   \n",
       "132577                0.601531             0.679343   \n",
       "132578                0.601531             0.679343   \n",
       "132579               -1.587348            -1.352907   \n",
       "132580                0.601531             0.679343   \n",
       "\n",
       "        Calculated host listings count  Reviews per Month  \n",
       "0                            -0.732494          -0.058369  \n",
       "1                            -0.732494          -0.058369  \n",
       "2                            -0.732494          -0.058369  \n",
       "3                             0.731315          -1.504143  \n",
       "4                             1.951193          -0.313336  \n",
       "...                                ...                ...  \n",
       "132576                       -0.732494          -0.058369  \n",
       "132577                       -0.732494          -0.058369  \n",
       "132578                       -0.732494          -0.261084  \n",
       "132579                       -0.732494          -1.323317  \n",
       "132580                       -0.732494          -0.058369  \n",
       "\n",
       "[132581 rows x 26 columns]"
      ]
     },
     "execution_count": 128,
     "metadata": {},
     "output_type": "execute_result"
    }
   ],
   "source": [
    "df_num_encoded"
   ]
  },
  {
   "cell_type": "code",
   "execution_count": 129,
   "id": "01644cfa",
   "metadata": {},
   "outputs": [],
   "source": [
    "df_cat_encoded.reset_index(inplace = True)"
   ]
  },
  {
   "cell_type": "code",
   "execution_count": 130,
   "id": "696f70d5",
   "metadata": {},
   "outputs": [],
   "source": [
    "df_num_encoded.reset_index(inplace = True)"
   ]
  },
  {
   "cell_type": "code",
   "execution_count": 131,
   "id": "8f6c92e5",
   "metadata": {},
   "outputs": [
    {
     "data": {
      "text/html": [
       "<div>\n",
       "<style scoped>\n",
       "    .dataframe tbody tr th:only-of-type {\n",
       "        vertical-align: middle;\n",
       "    }\n",
       "\n",
       "    .dataframe tbody tr th {\n",
       "        vertical-align: top;\n",
       "    }\n",
       "\n",
       "    .dataframe thead th {\n",
       "        text-align: right;\n",
       "    }\n",
       "</style>\n",
       "<table border=\"1\" class=\"dataframe\">\n",
       "  <thead>\n",
       "    <tr style=\"text-align: right;\">\n",
       "      <th></th>\n",
       "      <th>index</th>\n",
       "      <th>HostResponseTime_ord</th>\n",
       "      <th>HostNeighbourhood_freq</th>\n",
       "      <th>NeighbourhoodCleansed_freq</th>\n",
       "      <th>State_freq</th>\n",
       "      <th>Zipcode_freq</th>\n",
       "      <th>Market_freq</th>\n",
       "      <th>PropertyType_freq</th>\n",
       "      <th>Neighbourhood_freq</th>\n",
       "      <th>Room Type_Private room</th>\n",
       "      <th>...</th>\n",
       "      <th>Bed Type_Couch</th>\n",
       "      <th>Bed Type_Futon</th>\n",
       "      <th>Bed Type_Pull-out Sofa</th>\n",
       "      <th>Bed Type_Real Bed</th>\n",
       "      <th>Cancellation Policy_long_term</th>\n",
       "      <th>Cancellation Policy_moderate</th>\n",
       "      <th>Cancellation Policy_no_refunds</th>\n",
       "      <th>Cancellation Policy_strict</th>\n",
       "      <th>Cancellation Policy_super_strict_30</th>\n",
       "      <th>Cancellation Policy_super_strict_60</th>\n",
       "    </tr>\n",
       "  </thead>\n",
       "  <tbody>\n",
       "    <tr>\n",
       "      <th>0</th>\n",
       "      <td>409</td>\n",
       "      <td>1</td>\n",
       "      <td>0.174987</td>\n",
       "      <td>0.196107</td>\n",
       "      <td>36.351363</td>\n",
       "      <td>0.109367</td>\n",
       "      <td>22.424028</td>\n",
       "      <td>57.091137</td>\n",
       "      <td>0.172725</td>\n",
       "      <td>1</td>\n",
       "      <td>...</td>\n",
       "      <td>0</td>\n",
       "      <td>0</td>\n",
       "      <td>0</td>\n",
       "      <td>1</td>\n",
       "      <td>0</td>\n",
       "      <td>0</td>\n",
       "      <td>0</td>\n",
       "      <td>0</td>\n",
       "      <td>0</td>\n",
       "      <td>0</td>\n",
       "    </tr>\n",
       "    <tr>\n",
       "      <th>1</th>\n",
       "      <td>410</td>\n",
       "      <td>3</td>\n",
       "      <td>0.174987</td>\n",
       "      <td>0.196107</td>\n",
       "      <td>36.351363</td>\n",
       "      <td>0.109367</td>\n",
       "      <td>22.424028</td>\n",
       "      <td>30.984832</td>\n",
       "      <td>0.172725</td>\n",
       "      <td>0</td>\n",
       "      <td>...</td>\n",
       "      <td>0</td>\n",
       "      <td>0</td>\n",
       "      <td>0</td>\n",
       "      <td>1</td>\n",
       "      <td>0</td>\n",
       "      <td>0</td>\n",
       "      <td>0</td>\n",
       "      <td>0</td>\n",
       "      <td>0</td>\n",
       "      <td>0</td>\n",
       "    </tr>\n",
       "    <tr>\n",
       "      <th>2</th>\n",
       "      <td>411</td>\n",
       "      <td>2</td>\n",
       "      <td>0.174987</td>\n",
       "      <td>0.196107</td>\n",
       "      <td>36.351363</td>\n",
       "      <td>0.103333</td>\n",
       "      <td>22.424028</td>\n",
       "      <td>0.730120</td>\n",
       "      <td>0.172725</td>\n",
       "      <td>0</td>\n",
       "      <td>...</td>\n",
       "      <td>0</td>\n",
       "      <td>0</td>\n",
       "      <td>0</td>\n",
       "      <td>1</td>\n",
       "      <td>0</td>\n",
       "      <td>0</td>\n",
       "      <td>0</td>\n",
       "      <td>0</td>\n",
       "      <td>0</td>\n",
       "      <td>0</td>\n",
       "    </tr>\n",
       "    <tr>\n",
       "      <th>3</th>\n",
       "      <td>412</td>\n",
       "      <td>2</td>\n",
       "      <td>0.174987</td>\n",
       "      <td>0.196107</td>\n",
       "      <td>36.351363</td>\n",
       "      <td>0.109367</td>\n",
       "      <td>22.424028</td>\n",
       "      <td>0.822139</td>\n",
       "      <td>0.172725</td>\n",
       "      <td>0</td>\n",
       "      <td>...</td>\n",
       "      <td>0</td>\n",
       "      <td>0</td>\n",
       "      <td>0</td>\n",
       "      <td>1</td>\n",
       "      <td>0</td>\n",
       "      <td>0</td>\n",
       "      <td>0</td>\n",
       "      <td>1</td>\n",
       "      <td>0</td>\n",
       "      <td>0</td>\n",
       "    </tr>\n",
       "    <tr>\n",
       "      <th>4</th>\n",
       "      <td>413</td>\n",
       "      <td>1</td>\n",
       "      <td>0.188564</td>\n",
       "      <td>0.196107</td>\n",
       "      <td>36.351363</td>\n",
       "      <td>0.103333</td>\n",
       "      <td>22.424028</td>\n",
       "      <td>2.129264</td>\n",
       "      <td>0.172725</td>\n",
       "      <td>0</td>\n",
       "      <td>...</td>\n",
       "      <td>0</td>\n",
       "      <td>0</td>\n",
       "      <td>0</td>\n",
       "      <td>1</td>\n",
       "      <td>0</td>\n",
       "      <td>1</td>\n",
       "      <td>0</td>\n",
       "      <td>0</td>\n",
       "      <td>0</td>\n",
       "      <td>0</td>\n",
       "    </tr>\n",
       "    <tr>\n",
       "      <th>...</th>\n",
       "      <td>...</td>\n",
       "      <td>...</td>\n",
       "      <td>...</td>\n",
       "      <td>...</td>\n",
       "      <td>...</td>\n",
       "      <td>...</td>\n",
       "      <td>...</td>\n",
       "      <td>...</td>\n",
       "      <td>...</td>\n",
       "      <td>...</td>\n",
       "      <td>...</td>\n",
       "      <td>...</td>\n",
       "      <td>...</td>\n",
       "      <td>...</td>\n",
       "      <td>...</td>\n",
       "      <td>...</td>\n",
       "      <td>...</td>\n",
       "      <td>...</td>\n",
       "      <td>...</td>\n",
       "      <td>...</td>\n",
       "      <td>...</td>\n",
       "    </tr>\n",
       "    <tr>\n",
       "      <th>132576</th>\n",
       "      <td>494309</td>\n",
       "      <td>1</td>\n",
       "      <td>18.673113</td>\n",
       "      <td>1.448926</td>\n",
       "      <td>6.964045</td>\n",
       "      <td>1.432332</td>\n",
       "      <td>6.942171</td>\n",
       "      <td>3.646827</td>\n",
       "      <td>22.362933</td>\n",
       "      <td>1</td>\n",
       "      <td>...</td>\n",
       "      <td>0</td>\n",
       "      <td>0</td>\n",
       "      <td>0</td>\n",
       "      <td>1</td>\n",
       "      <td>0</td>\n",
       "      <td>0</td>\n",
       "      <td>0</td>\n",
       "      <td>1</td>\n",
       "      <td>0</td>\n",
       "      <td>0</td>\n",
       "    </tr>\n",
       "    <tr>\n",
       "      <th>132577</th>\n",
       "      <td>494310</td>\n",
       "      <td>2</td>\n",
       "      <td>0.125961</td>\n",
       "      <td>1.448926</td>\n",
       "      <td>6.964045</td>\n",
       "      <td>1.432332</td>\n",
       "      <td>6.942171</td>\n",
       "      <td>30.984832</td>\n",
       "      <td>0.128224</td>\n",
       "      <td>0</td>\n",
       "      <td>...</td>\n",
       "      <td>0</td>\n",
       "      <td>0</td>\n",
       "      <td>0</td>\n",
       "      <td>1</td>\n",
       "      <td>0</td>\n",
       "      <td>0</td>\n",
       "      <td>0</td>\n",
       "      <td>0</td>\n",
       "      <td>0</td>\n",
       "      <td>0</td>\n",
       "    </tr>\n",
       "    <tr>\n",
       "      <th>132578</th>\n",
       "      <td>494311</td>\n",
       "      <td>1</td>\n",
       "      <td>0.125961</td>\n",
       "      <td>1.448926</td>\n",
       "      <td>6.964045</td>\n",
       "      <td>1.432332</td>\n",
       "      <td>6.942171</td>\n",
       "      <td>30.984832</td>\n",
       "      <td>0.128224</td>\n",
       "      <td>0</td>\n",
       "      <td>...</td>\n",
       "      <td>0</td>\n",
       "      <td>0</td>\n",
       "      <td>0</td>\n",
       "      <td>1</td>\n",
       "      <td>0</td>\n",
       "      <td>0</td>\n",
       "      <td>0</td>\n",
       "      <td>1</td>\n",
       "      <td>0</td>\n",
       "      <td>0</td>\n",
       "    </tr>\n",
       "    <tr>\n",
       "      <th>132579</th>\n",
       "      <td>494312</td>\n",
       "      <td>3</td>\n",
       "      <td>0.184793</td>\n",
       "      <td>1.448926</td>\n",
       "      <td>6.964045</td>\n",
       "      <td>1.432332</td>\n",
       "      <td>6.942171</td>\n",
       "      <td>30.984832</td>\n",
       "      <td>0.186301</td>\n",
       "      <td>0</td>\n",
       "      <td>...</td>\n",
       "      <td>0</td>\n",
       "      <td>0</td>\n",
       "      <td>0</td>\n",
       "      <td>1</td>\n",
       "      <td>0</td>\n",
       "      <td>0</td>\n",
       "      <td>0</td>\n",
       "      <td>1</td>\n",
       "      <td>0</td>\n",
       "      <td>0</td>\n",
       "    </tr>\n",
       "    <tr>\n",
       "      <th>132580</th>\n",
       "      <td>494313</td>\n",
       "      <td>1</td>\n",
       "      <td>0.251167</td>\n",
       "      <td>1.448926</td>\n",
       "      <td>6.964045</td>\n",
       "      <td>1.432332</td>\n",
       "      <td>6.942171</td>\n",
       "      <td>30.984832</td>\n",
       "      <td>0.224014</td>\n",
       "      <td>0</td>\n",
       "      <td>...</td>\n",
       "      <td>0</td>\n",
       "      <td>0</td>\n",
       "      <td>0</td>\n",
       "      <td>1</td>\n",
       "      <td>0</td>\n",
       "      <td>0</td>\n",
       "      <td>0</td>\n",
       "      <td>0</td>\n",
       "      <td>0</td>\n",
       "      <td>0</td>\n",
       "    </tr>\n",
       "  </tbody>\n",
       "</table>\n",
       "<p>132581 rows × 21 columns</p>\n",
       "</div>"
      ],
      "text/plain": [
       "         index  HostResponseTime_ord  HostNeighbourhood_freq  \\\n",
       "0          409                     1                0.174987   \n",
       "1          410                     3                0.174987   \n",
       "2          411                     2                0.174987   \n",
       "3          412                     2                0.174987   \n",
       "4          413                     1                0.188564   \n",
       "...        ...                   ...                     ...   \n",
       "132576  494309                     1               18.673113   \n",
       "132577  494310                     2                0.125961   \n",
       "132578  494311                     1                0.125961   \n",
       "132579  494312                     3                0.184793   \n",
       "132580  494313                     1                0.251167   \n",
       "\n",
       "        NeighbourhoodCleansed_freq  State_freq  Zipcode_freq  Market_freq  \\\n",
       "0                         0.196107   36.351363      0.109367    22.424028   \n",
       "1                         0.196107   36.351363      0.109367    22.424028   \n",
       "2                         0.196107   36.351363      0.103333    22.424028   \n",
       "3                         0.196107   36.351363      0.109367    22.424028   \n",
       "4                         0.196107   36.351363      0.103333    22.424028   \n",
       "...                            ...         ...           ...          ...   \n",
       "132576                    1.448926    6.964045      1.432332     6.942171   \n",
       "132577                    1.448926    6.964045      1.432332     6.942171   \n",
       "132578                    1.448926    6.964045      1.432332     6.942171   \n",
       "132579                    1.448926    6.964045      1.432332     6.942171   \n",
       "132580                    1.448926    6.964045      1.432332     6.942171   \n",
       "\n",
       "        PropertyType_freq  Neighbourhood_freq  Room Type_Private room  ...  \\\n",
       "0               57.091137            0.172725                       1  ...   \n",
       "1               30.984832            0.172725                       0  ...   \n",
       "2                0.730120            0.172725                       0  ...   \n",
       "3                0.822139            0.172725                       0  ...   \n",
       "4                2.129264            0.172725                       0  ...   \n",
       "...                   ...                 ...                     ...  ...   \n",
       "132576           3.646827           22.362933                       1  ...   \n",
       "132577          30.984832            0.128224                       0  ...   \n",
       "132578          30.984832            0.128224                       0  ...   \n",
       "132579          30.984832            0.186301                       0  ...   \n",
       "132580          30.984832            0.224014                       0  ...   \n",
       "\n",
       "        Bed Type_Couch  Bed Type_Futon  Bed Type_Pull-out Sofa  \\\n",
       "0                    0               0                       0   \n",
       "1                    0               0                       0   \n",
       "2                    0               0                       0   \n",
       "3                    0               0                       0   \n",
       "4                    0               0                       0   \n",
       "...                ...             ...                     ...   \n",
       "132576               0               0                       0   \n",
       "132577               0               0                       0   \n",
       "132578               0               0                       0   \n",
       "132579               0               0                       0   \n",
       "132580               0               0                       0   \n",
       "\n",
       "        Bed Type_Real Bed  Cancellation Policy_long_term  \\\n",
       "0                       1                              0   \n",
       "1                       1                              0   \n",
       "2                       1                              0   \n",
       "3                       1                              0   \n",
       "4                       1                              0   \n",
       "...                   ...                            ...   \n",
       "132576                  1                              0   \n",
       "132577                  1                              0   \n",
       "132578                  1                              0   \n",
       "132579                  1                              0   \n",
       "132580                  1                              0   \n",
       "\n",
       "        Cancellation Policy_moderate  Cancellation Policy_no_refunds  \\\n",
       "0                                  0                               0   \n",
       "1                                  0                               0   \n",
       "2                                  0                               0   \n",
       "3                                  0                               0   \n",
       "4                                  1                               0   \n",
       "...                              ...                             ...   \n",
       "132576                             0                               0   \n",
       "132577                             0                               0   \n",
       "132578                             0                               0   \n",
       "132579                             0                               0   \n",
       "132580                             0                               0   \n",
       "\n",
       "        Cancellation Policy_strict  Cancellation Policy_super_strict_30  \\\n",
       "0                                0                                    0   \n",
       "1                                0                                    0   \n",
       "2                                0                                    0   \n",
       "3                                1                                    0   \n",
       "4                                0                                    0   \n",
       "...                            ...                                  ...   \n",
       "132576                           1                                    0   \n",
       "132577                           0                                    0   \n",
       "132578                           1                                    0   \n",
       "132579                           1                                    0   \n",
       "132580                           0                                    0   \n",
       "\n",
       "        Cancellation Policy_super_strict_60  \n",
       "0                                         0  \n",
       "1                                         0  \n",
       "2                                         0  \n",
       "3                                         0  \n",
       "4                                         0  \n",
       "...                                     ...  \n",
       "132576                                    0  \n",
       "132577                                    0  \n",
       "132578                                    0  \n",
       "132579                                    0  \n",
       "132580                                    0  \n",
       "\n",
       "[132581 rows x 21 columns]"
      ]
     },
     "execution_count": 131,
     "metadata": {},
     "output_type": "execute_result"
    }
   ],
   "source": [
    "df_cat_encoded"
   ]
  },
  {
   "cell_type": "code",
   "execution_count": 132,
   "id": "6ab0b86e",
   "metadata": {},
   "outputs": [
    {
     "data": {
      "text/html": [
       "<div>\n",
       "<style scoped>\n",
       "    .dataframe tbody tr th:only-of-type {\n",
       "        vertical-align: middle;\n",
       "    }\n",
       "\n",
       "    .dataframe tbody tr th {\n",
       "        vertical-align: top;\n",
       "    }\n",
       "\n",
       "    .dataframe thead th {\n",
       "        text-align: right;\n",
       "    }\n",
       "</style>\n",
       "<table border=\"1\" class=\"dataframe\">\n",
       "  <thead>\n",
       "    <tr style=\"text-align: right;\">\n",
       "      <th></th>\n",
       "      <th>index</th>\n",
       "      <th>Host Response Rate</th>\n",
       "      <th>Accommodates</th>\n",
       "      <th>Bathrooms</th>\n",
       "      <th>Bedrooms</th>\n",
       "      <th>Beds</th>\n",
       "      <th>Price</th>\n",
       "      <th>Security Deposit</th>\n",
       "      <th>Cleaning Fee</th>\n",
       "      <th>Guests Included</th>\n",
       "      <th>...</th>\n",
       "      <th>Number of Reviews</th>\n",
       "      <th>Review Scores Rating</th>\n",
       "      <th>Review Scores Accuracy</th>\n",
       "      <th>Review Scores Cleanliness</th>\n",
       "      <th>Review Scores Checkin</th>\n",
       "      <th>Review Scores Communication</th>\n",
       "      <th>Review Scores Location</th>\n",
       "      <th>Review Scores Value</th>\n",
       "      <th>Calculated host listings count</th>\n",
       "      <th>Reviews per Month</th>\n",
       "    </tr>\n",
       "  </thead>\n",
       "  <tbody>\n",
       "    <tr>\n",
       "      <th>0</th>\n",
       "      <td>0</td>\n",
       "      <td>0.442374</td>\n",
       "      <td>-0.559210</td>\n",
       "      <td>-0.433181</td>\n",
       "      <td>-0.246826</td>\n",
       "      <td>-0.824713</td>\n",
       "      <td>0.369252</td>\n",
       "      <td>0.022807</td>\n",
       "      <td>-0.051661</td>\n",
       "      <td>-0.544120</td>\n",
       "      <td>...</td>\n",
       "      <td>-1.356530</td>\n",
       "      <td>0.907361</td>\n",
       "      <td>0.521792</td>\n",
       "      <td>0.645175</td>\n",
       "      <td>0.378724</td>\n",
       "      <td>0.368473</td>\n",
       "      <td>0.601531</td>\n",
       "      <td>0.679343</td>\n",
       "      <td>-0.732494</td>\n",
       "      <td>-0.058369</td>\n",
       "    </tr>\n",
       "    <tr>\n",
       "      <th>1</th>\n",
       "      <td>1</td>\n",
       "      <td>0.442374</td>\n",
       "      <td>1.692151</td>\n",
       "      <td>2.578157</td>\n",
       "      <td>2.328234</td>\n",
       "      <td>1.602205</td>\n",
       "      <td>0.580743</td>\n",
       "      <td>0.484625</td>\n",
       "      <td>1.686074</td>\n",
       "      <td>2.290608</td>\n",
       "      <td>...</td>\n",
       "      <td>-1.356530</td>\n",
       "      <td>0.907361</td>\n",
       "      <td>0.521792</td>\n",
       "      <td>0.645175</td>\n",
       "      <td>0.378724</td>\n",
       "      <td>0.368473</td>\n",
       "      <td>0.601531</td>\n",
       "      <td>0.679343</td>\n",
       "      <td>-0.732494</td>\n",
       "      <td>-0.058369</td>\n",
       "    </tr>\n",
       "    <tr>\n",
       "      <th>2</th>\n",
       "      <td>2</td>\n",
       "      <td>0.442374</td>\n",
       "      <td>0.172537</td>\n",
       "      <td>-0.433181</td>\n",
       "      <td>-0.246826</td>\n",
       "      <td>-0.824713</td>\n",
       "      <td>-0.560717</td>\n",
       "      <td>0.022807</td>\n",
       "      <td>0.086760</td>\n",
       "      <td>-0.544120</td>\n",
       "      <td>...</td>\n",
       "      <td>-1.356530</td>\n",
       "      <td>0.907361</td>\n",
       "      <td>0.521792</td>\n",
       "      <td>0.645175</td>\n",
       "      <td>0.378724</td>\n",
       "      <td>0.368473</td>\n",
       "      <td>0.601531</td>\n",
       "      <td>0.679343</td>\n",
       "      <td>-0.732494</td>\n",
       "      <td>-0.058369</td>\n",
       "    </tr>\n",
       "    <tr>\n",
       "      <th>3</th>\n",
       "      <td>3</td>\n",
       "      <td>0.442374</td>\n",
       "      <td>-0.559210</td>\n",
       "      <td>0.761510</td>\n",
       "      <td>-0.246826</td>\n",
       "      <td>-0.824713</td>\n",
       "      <td>0.580743</td>\n",
       "      <td>1.971556</td>\n",
       "      <td>1.007715</td>\n",
       "      <td>-0.544120</td>\n",
       "      <td>...</td>\n",
       "      <td>-0.508258</td>\n",
       "      <td>0.907361</td>\n",
       "      <td>0.521792</td>\n",
       "      <td>0.645175</td>\n",
       "      <td>0.378724</td>\n",
       "      <td>0.368473</td>\n",
       "      <td>0.601531</td>\n",
       "      <td>0.679343</td>\n",
       "      <td>0.731315</td>\n",
       "      <td>-1.504143</td>\n",
       "    </tr>\n",
       "    <tr>\n",
       "      <th>4</th>\n",
       "      <td>4</td>\n",
       "      <td>0.442374</td>\n",
       "      <td>1.293898</td>\n",
       "      <td>1.980199</td>\n",
       "      <td>1.712648</td>\n",
       "      <td>1.602205</td>\n",
       "      <td>1.779597</td>\n",
       "      <td>0.022807</td>\n",
       "      <td>2.195093</td>\n",
       "      <td>2.131214</td>\n",
       "      <td>...</td>\n",
       "      <td>0.245344</td>\n",
       "      <td>-0.565468</td>\n",
       "      <td>-1.879802</td>\n",
       "      <td>0.645175</td>\n",
       "      <td>0.378724</td>\n",
       "      <td>0.368473</td>\n",
       "      <td>-1.587348</td>\n",
       "      <td>0.679343</td>\n",
       "      <td>1.951193</td>\n",
       "      <td>-0.313336</td>\n",
       "    </tr>\n",
       "    <tr>\n",
       "      <th>...</th>\n",
       "      <td>...</td>\n",
       "      <td>...</td>\n",
       "      <td>...</td>\n",
       "      <td>...</td>\n",
       "      <td>...</td>\n",
       "      <td>...</td>\n",
       "      <td>...</td>\n",
       "      <td>...</td>\n",
       "      <td>...</td>\n",
       "      <td>...</td>\n",
       "      <td>...</td>\n",
       "      <td>...</td>\n",
       "      <td>...</td>\n",
       "      <td>...</td>\n",
       "      <td>...</td>\n",
       "      <td>...</td>\n",
       "      <td>...</td>\n",
       "      <td>...</td>\n",
       "      <td>...</td>\n",
       "      <td>...</td>\n",
       "      <td>...</td>\n",
       "    </tr>\n",
       "    <tr>\n",
       "      <th>132576</th>\n",
       "      <td>132576</td>\n",
       "      <td>0.442374</td>\n",
       "      <td>-0.559210</td>\n",
       "      <td>-0.433181</td>\n",
       "      <td>0.908157</td>\n",
       "      <td>0.828358</td>\n",
       "      <td>-0.364978</td>\n",
       "      <td>-0.498705</td>\n",
       "      <td>0.553052</td>\n",
       "      <td>-0.544120</td>\n",
       "      <td>...</td>\n",
       "      <td>-1.356530</td>\n",
       "      <td>0.907361</td>\n",
       "      <td>0.521792</td>\n",
       "      <td>0.645175</td>\n",
       "      <td>0.378724</td>\n",
       "      <td>0.368473</td>\n",
       "      <td>0.601531</td>\n",
       "      <td>0.679343</td>\n",
       "      <td>-0.732494</td>\n",
       "      <td>-0.058369</td>\n",
       "    </tr>\n",
       "    <tr>\n",
       "      <th>132577</th>\n",
       "      <td>132577</td>\n",
       "      <td>0.442374</td>\n",
       "      <td>1.971603</td>\n",
       "      <td>2.578157</td>\n",
       "      <td>2.328234</td>\n",
       "      <td>1.602205</td>\n",
       "      <td>1.534435</td>\n",
       "      <td>0.022807</td>\n",
       "      <td>-0.051661</td>\n",
       "      <td>-0.544120</td>\n",
       "      <td>...</td>\n",
       "      <td>-1.356530</td>\n",
       "      <td>0.907361</td>\n",
       "      <td>0.521792</td>\n",
       "      <td>0.645175</td>\n",
       "      <td>0.378724</td>\n",
       "      <td>0.368473</td>\n",
       "      <td>0.601531</td>\n",
       "      <td>0.679343</td>\n",
       "      <td>-0.732494</td>\n",
       "      <td>-0.058369</td>\n",
       "    </tr>\n",
       "    <tr>\n",
       "      <th>132578</th>\n",
       "      <td>132578</td>\n",
       "      <td>0.442374</td>\n",
       "      <td>1.692151</td>\n",
       "      <td>1.493109</td>\n",
       "      <td>1.712648</td>\n",
       "      <td>1.366131</td>\n",
       "      <td>2.103862</td>\n",
       "      <td>0.022807</td>\n",
       "      <td>1.798226</td>\n",
       "      <td>2.131214</td>\n",
       "      <td>...</td>\n",
       "      <td>0.168751</td>\n",
       "      <td>-0.083020</td>\n",
       "      <td>0.521792</td>\n",
       "      <td>0.645175</td>\n",
       "      <td>0.378724</td>\n",
       "      <td>0.368473</td>\n",
       "      <td>0.601531</td>\n",
       "      <td>0.679343</td>\n",
       "      <td>-0.732494</td>\n",
       "      <td>-0.261084</td>\n",
       "    </tr>\n",
       "    <tr>\n",
       "      <th>132579</th>\n",
       "      <td>132579</td>\n",
       "      <td>0.442374</td>\n",
       "      <td>1.293898</td>\n",
       "      <td>1.493109</td>\n",
       "      <td>1.712648</td>\n",
       "      <td>1.366131</td>\n",
       "      <td>1.635838</td>\n",
       "      <td>1.971556</td>\n",
       "      <td>1.686074</td>\n",
       "      <td>1.803494</td>\n",
       "      <td>...</td>\n",
       "      <td>0.428385</td>\n",
       "      <td>0.207430</td>\n",
       "      <td>0.521792</td>\n",
       "      <td>0.645175</td>\n",
       "      <td>0.378724</td>\n",
       "      <td>0.368473</td>\n",
       "      <td>-1.587348</td>\n",
       "      <td>-1.352907</td>\n",
       "      <td>-0.732494</td>\n",
       "      <td>-1.323317</td>\n",
       "    </tr>\n",
       "    <tr>\n",
       "      <th>132580</th>\n",
       "      <td>132580</td>\n",
       "      <td>0.442374</td>\n",
       "      <td>0.172537</td>\n",
       "      <td>1.493109</td>\n",
       "      <td>0.908157</td>\n",
       "      <td>0.828358</td>\n",
       "      <td>2.560597</td>\n",
       "      <td>1.971556</td>\n",
       "      <td>1.686074</td>\n",
       "      <td>-0.544120</td>\n",
       "      <td>...</td>\n",
       "      <td>-1.356530</td>\n",
       "      <td>0.907361</td>\n",
       "      <td>0.521792</td>\n",
       "      <td>0.645175</td>\n",
       "      <td>0.378724</td>\n",
       "      <td>0.368473</td>\n",
       "      <td>0.601531</td>\n",
       "      <td>0.679343</td>\n",
       "      <td>-0.732494</td>\n",
       "      <td>-0.058369</td>\n",
       "    </tr>\n",
       "  </tbody>\n",
       "</table>\n",
       "<p>132581 rows × 27 columns</p>\n",
       "</div>"
      ],
      "text/plain": [
       "         index  Host Response Rate  Accommodates  Bathrooms  Bedrooms  \\\n",
       "0            0            0.442374     -0.559210  -0.433181 -0.246826   \n",
       "1            1            0.442374      1.692151   2.578157  2.328234   \n",
       "2            2            0.442374      0.172537  -0.433181 -0.246826   \n",
       "3            3            0.442374     -0.559210   0.761510 -0.246826   \n",
       "4            4            0.442374      1.293898   1.980199  1.712648   \n",
       "...        ...                 ...           ...        ...       ...   \n",
       "132576  132576            0.442374     -0.559210  -0.433181  0.908157   \n",
       "132577  132577            0.442374      1.971603   2.578157  2.328234   \n",
       "132578  132578            0.442374      1.692151   1.493109  1.712648   \n",
       "132579  132579            0.442374      1.293898   1.493109  1.712648   \n",
       "132580  132580            0.442374      0.172537   1.493109  0.908157   \n",
       "\n",
       "            Beds     Price  Security Deposit  Cleaning Fee  Guests Included  \\\n",
       "0      -0.824713  0.369252          0.022807     -0.051661        -0.544120   \n",
       "1       1.602205  0.580743          0.484625      1.686074         2.290608   \n",
       "2      -0.824713 -0.560717          0.022807      0.086760        -0.544120   \n",
       "3      -0.824713  0.580743          1.971556      1.007715        -0.544120   \n",
       "4       1.602205  1.779597          0.022807      2.195093         2.131214   \n",
       "...          ...       ...               ...           ...              ...   \n",
       "132576  0.828358 -0.364978         -0.498705      0.553052        -0.544120   \n",
       "132577  1.602205  1.534435          0.022807     -0.051661        -0.544120   \n",
       "132578  1.366131  2.103862          0.022807      1.798226         2.131214   \n",
       "132579  1.366131  1.635838          1.971556      1.686074         1.803494   \n",
       "132580  0.828358  2.560597          1.971556      1.686074        -0.544120   \n",
       "\n",
       "        ...  Number of Reviews  Review Scores Rating  Review Scores Accuracy  \\\n",
       "0       ...          -1.356530              0.907361                0.521792   \n",
       "1       ...          -1.356530              0.907361                0.521792   \n",
       "2       ...          -1.356530              0.907361                0.521792   \n",
       "3       ...          -0.508258              0.907361                0.521792   \n",
       "4       ...           0.245344             -0.565468               -1.879802   \n",
       "...     ...                ...                   ...                     ...   \n",
       "132576  ...          -1.356530              0.907361                0.521792   \n",
       "132577  ...          -1.356530              0.907361                0.521792   \n",
       "132578  ...           0.168751             -0.083020                0.521792   \n",
       "132579  ...           0.428385              0.207430                0.521792   \n",
       "132580  ...          -1.356530              0.907361                0.521792   \n",
       "\n",
       "        Review Scores Cleanliness  Review Scores Checkin  \\\n",
       "0                        0.645175               0.378724   \n",
       "1                        0.645175               0.378724   \n",
       "2                        0.645175               0.378724   \n",
       "3                        0.645175               0.378724   \n",
       "4                        0.645175               0.378724   \n",
       "...                           ...                    ...   \n",
       "132576                   0.645175               0.378724   \n",
       "132577                   0.645175               0.378724   \n",
       "132578                   0.645175               0.378724   \n",
       "132579                   0.645175               0.378724   \n",
       "132580                   0.645175               0.378724   \n",
       "\n",
       "        Review Scores Communication  Review Scores Location  \\\n",
       "0                          0.368473                0.601531   \n",
       "1                          0.368473                0.601531   \n",
       "2                          0.368473                0.601531   \n",
       "3                          0.368473                0.601531   \n",
       "4                          0.368473               -1.587348   \n",
       "...                             ...                     ...   \n",
       "132576                     0.368473                0.601531   \n",
       "132577                     0.368473                0.601531   \n",
       "132578                     0.368473                0.601531   \n",
       "132579                     0.368473               -1.587348   \n",
       "132580                     0.368473                0.601531   \n",
       "\n",
       "        Review Scores Value  Calculated host listings count  Reviews per Month  \n",
       "0                  0.679343                       -0.732494          -0.058369  \n",
       "1                  0.679343                       -0.732494          -0.058369  \n",
       "2                  0.679343                       -0.732494          -0.058369  \n",
       "3                  0.679343                        0.731315          -1.504143  \n",
       "4                  0.679343                        1.951193          -0.313336  \n",
       "...                     ...                             ...                ...  \n",
       "132576             0.679343                       -0.732494          -0.058369  \n",
       "132577             0.679343                       -0.732494          -0.058369  \n",
       "132578             0.679343                       -0.732494          -0.261084  \n",
       "132579            -1.352907                       -0.732494          -1.323317  \n",
       "132580             0.679343                       -0.732494          -0.058369  \n",
       "\n",
       "[132581 rows x 27 columns]"
      ]
     },
     "execution_count": 132,
     "metadata": {},
     "output_type": "execute_result"
    }
   ],
   "source": [
    "df_num_encoded"
   ]
  },
  {
   "cell_type": "code",
   "execution_count": 133,
   "id": "0acff61e",
   "metadata": {},
   "outputs": [],
   "source": [
    "final = pd.concat([df_num_encoded, df_cat_encoded], axis = 1)"
   ]
  },
  {
   "cell_type": "code",
   "execution_count": 134,
   "id": "26970123",
   "metadata": {},
   "outputs": [
    {
     "data": {
      "text/html": [
       "<div>\n",
       "<style scoped>\n",
       "    .dataframe tbody tr th:only-of-type {\n",
       "        vertical-align: middle;\n",
       "    }\n",
       "\n",
       "    .dataframe tbody tr th {\n",
       "        vertical-align: top;\n",
       "    }\n",
       "\n",
       "    .dataframe thead th {\n",
       "        text-align: right;\n",
       "    }\n",
       "</style>\n",
       "<table border=\"1\" class=\"dataframe\">\n",
       "  <thead>\n",
       "    <tr style=\"text-align: right;\">\n",
       "      <th></th>\n",
       "      <th>index</th>\n",
       "      <th>Host Response Rate</th>\n",
       "      <th>Accommodates</th>\n",
       "      <th>Bathrooms</th>\n",
       "      <th>Bedrooms</th>\n",
       "      <th>Beds</th>\n",
       "      <th>Price</th>\n",
       "      <th>Security Deposit</th>\n",
       "      <th>Cleaning Fee</th>\n",
       "      <th>Guests Included</th>\n",
       "      <th>...</th>\n",
       "      <th>Bed Type_Couch</th>\n",
       "      <th>Bed Type_Futon</th>\n",
       "      <th>Bed Type_Pull-out Sofa</th>\n",
       "      <th>Bed Type_Real Bed</th>\n",
       "      <th>Cancellation Policy_long_term</th>\n",
       "      <th>Cancellation Policy_moderate</th>\n",
       "      <th>Cancellation Policy_no_refunds</th>\n",
       "      <th>Cancellation Policy_strict</th>\n",
       "      <th>Cancellation Policy_super_strict_30</th>\n",
       "      <th>Cancellation Policy_super_strict_60</th>\n",
       "    </tr>\n",
       "  </thead>\n",
       "  <tbody>\n",
       "    <tr>\n",
       "      <th>0</th>\n",
       "      <td>0</td>\n",
       "      <td>0.442374</td>\n",
       "      <td>-0.559210</td>\n",
       "      <td>-0.433181</td>\n",
       "      <td>-0.246826</td>\n",
       "      <td>-0.824713</td>\n",
       "      <td>0.369252</td>\n",
       "      <td>0.022807</td>\n",
       "      <td>-0.051661</td>\n",
       "      <td>-0.544120</td>\n",
       "      <td>...</td>\n",
       "      <td>0</td>\n",
       "      <td>0</td>\n",
       "      <td>0</td>\n",
       "      <td>1</td>\n",
       "      <td>0</td>\n",
       "      <td>0</td>\n",
       "      <td>0</td>\n",
       "      <td>0</td>\n",
       "      <td>0</td>\n",
       "      <td>0</td>\n",
       "    </tr>\n",
       "    <tr>\n",
       "      <th>1</th>\n",
       "      <td>1</td>\n",
       "      <td>0.442374</td>\n",
       "      <td>1.692151</td>\n",
       "      <td>2.578157</td>\n",
       "      <td>2.328234</td>\n",
       "      <td>1.602205</td>\n",
       "      <td>0.580743</td>\n",
       "      <td>0.484625</td>\n",
       "      <td>1.686074</td>\n",
       "      <td>2.290608</td>\n",
       "      <td>...</td>\n",
       "      <td>0</td>\n",
       "      <td>0</td>\n",
       "      <td>0</td>\n",
       "      <td>1</td>\n",
       "      <td>0</td>\n",
       "      <td>0</td>\n",
       "      <td>0</td>\n",
       "      <td>0</td>\n",
       "      <td>0</td>\n",
       "      <td>0</td>\n",
       "    </tr>\n",
       "    <tr>\n",
       "      <th>2</th>\n",
       "      <td>2</td>\n",
       "      <td>0.442374</td>\n",
       "      <td>0.172537</td>\n",
       "      <td>-0.433181</td>\n",
       "      <td>-0.246826</td>\n",
       "      <td>-0.824713</td>\n",
       "      <td>-0.560717</td>\n",
       "      <td>0.022807</td>\n",
       "      <td>0.086760</td>\n",
       "      <td>-0.544120</td>\n",
       "      <td>...</td>\n",
       "      <td>0</td>\n",
       "      <td>0</td>\n",
       "      <td>0</td>\n",
       "      <td>1</td>\n",
       "      <td>0</td>\n",
       "      <td>0</td>\n",
       "      <td>0</td>\n",
       "      <td>0</td>\n",
       "      <td>0</td>\n",
       "      <td>0</td>\n",
       "    </tr>\n",
       "    <tr>\n",
       "      <th>3</th>\n",
       "      <td>3</td>\n",
       "      <td>0.442374</td>\n",
       "      <td>-0.559210</td>\n",
       "      <td>0.761510</td>\n",
       "      <td>-0.246826</td>\n",
       "      <td>-0.824713</td>\n",
       "      <td>0.580743</td>\n",
       "      <td>1.971556</td>\n",
       "      <td>1.007715</td>\n",
       "      <td>-0.544120</td>\n",
       "      <td>...</td>\n",
       "      <td>0</td>\n",
       "      <td>0</td>\n",
       "      <td>0</td>\n",
       "      <td>1</td>\n",
       "      <td>0</td>\n",
       "      <td>0</td>\n",
       "      <td>0</td>\n",
       "      <td>1</td>\n",
       "      <td>0</td>\n",
       "      <td>0</td>\n",
       "    </tr>\n",
       "    <tr>\n",
       "      <th>4</th>\n",
       "      <td>4</td>\n",
       "      <td>0.442374</td>\n",
       "      <td>1.293898</td>\n",
       "      <td>1.980199</td>\n",
       "      <td>1.712648</td>\n",
       "      <td>1.602205</td>\n",
       "      <td>1.779597</td>\n",
       "      <td>0.022807</td>\n",
       "      <td>2.195093</td>\n",
       "      <td>2.131214</td>\n",
       "      <td>...</td>\n",
       "      <td>0</td>\n",
       "      <td>0</td>\n",
       "      <td>0</td>\n",
       "      <td>1</td>\n",
       "      <td>0</td>\n",
       "      <td>1</td>\n",
       "      <td>0</td>\n",
       "      <td>0</td>\n",
       "      <td>0</td>\n",
       "      <td>0</td>\n",
       "    </tr>\n",
       "    <tr>\n",
       "      <th>...</th>\n",
       "      <td>...</td>\n",
       "      <td>...</td>\n",
       "      <td>...</td>\n",
       "      <td>...</td>\n",
       "      <td>...</td>\n",
       "      <td>...</td>\n",
       "      <td>...</td>\n",
       "      <td>...</td>\n",
       "      <td>...</td>\n",
       "      <td>...</td>\n",
       "      <td>...</td>\n",
       "      <td>...</td>\n",
       "      <td>...</td>\n",
       "      <td>...</td>\n",
       "      <td>...</td>\n",
       "      <td>...</td>\n",
       "      <td>...</td>\n",
       "      <td>...</td>\n",
       "      <td>...</td>\n",
       "      <td>...</td>\n",
       "      <td>...</td>\n",
       "    </tr>\n",
       "    <tr>\n",
       "      <th>132576</th>\n",
       "      <td>132576</td>\n",
       "      <td>0.442374</td>\n",
       "      <td>-0.559210</td>\n",
       "      <td>-0.433181</td>\n",
       "      <td>0.908157</td>\n",
       "      <td>0.828358</td>\n",
       "      <td>-0.364978</td>\n",
       "      <td>-0.498705</td>\n",
       "      <td>0.553052</td>\n",
       "      <td>-0.544120</td>\n",
       "      <td>...</td>\n",
       "      <td>0</td>\n",
       "      <td>0</td>\n",
       "      <td>0</td>\n",
       "      <td>1</td>\n",
       "      <td>0</td>\n",
       "      <td>0</td>\n",
       "      <td>0</td>\n",
       "      <td>1</td>\n",
       "      <td>0</td>\n",
       "      <td>0</td>\n",
       "    </tr>\n",
       "    <tr>\n",
       "      <th>132577</th>\n",
       "      <td>132577</td>\n",
       "      <td>0.442374</td>\n",
       "      <td>1.971603</td>\n",
       "      <td>2.578157</td>\n",
       "      <td>2.328234</td>\n",
       "      <td>1.602205</td>\n",
       "      <td>1.534435</td>\n",
       "      <td>0.022807</td>\n",
       "      <td>-0.051661</td>\n",
       "      <td>-0.544120</td>\n",
       "      <td>...</td>\n",
       "      <td>0</td>\n",
       "      <td>0</td>\n",
       "      <td>0</td>\n",
       "      <td>1</td>\n",
       "      <td>0</td>\n",
       "      <td>0</td>\n",
       "      <td>0</td>\n",
       "      <td>0</td>\n",
       "      <td>0</td>\n",
       "      <td>0</td>\n",
       "    </tr>\n",
       "    <tr>\n",
       "      <th>132578</th>\n",
       "      <td>132578</td>\n",
       "      <td>0.442374</td>\n",
       "      <td>1.692151</td>\n",
       "      <td>1.493109</td>\n",
       "      <td>1.712648</td>\n",
       "      <td>1.366131</td>\n",
       "      <td>2.103862</td>\n",
       "      <td>0.022807</td>\n",
       "      <td>1.798226</td>\n",
       "      <td>2.131214</td>\n",
       "      <td>...</td>\n",
       "      <td>0</td>\n",
       "      <td>0</td>\n",
       "      <td>0</td>\n",
       "      <td>1</td>\n",
       "      <td>0</td>\n",
       "      <td>0</td>\n",
       "      <td>0</td>\n",
       "      <td>1</td>\n",
       "      <td>0</td>\n",
       "      <td>0</td>\n",
       "    </tr>\n",
       "    <tr>\n",
       "      <th>132579</th>\n",
       "      <td>132579</td>\n",
       "      <td>0.442374</td>\n",
       "      <td>1.293898</td>\n",
       "      <td>1.493109</td>\n",
       "      <td>1.712648</td>\n",
       "      <td>1.366131</td>\n",
       "      <td>1.635838</td>\n",
       "      <td>1.971556</td>\n",
       "      <td>1.686074</td>\n",
       "      <td>1.803494</td>\n",
       "      <td>...</td>\n",
       "      <td>0</td>\n",
       "      <td>0</td>\n",
       "      <td>0</td>\n",
       "      <td>1</td>\n",
       "      <td>0</td>\n",
       "      <td>0</td>\n",
       "      <td>0</td>\n",
       "      <td>1</td>\n",
       "      <td>0</td>\n",
       "      <td>0</td>\n",
       "    </tr>\n",
       "    <tr>\n",
       "      <th>132580</th>\n",
       "      <td>132580</td>\n",
       "      <td>0.442374</td>\n",
       "      <td>0.172537</td>\n",
       "      <td>1.493109</td>\n",
       "      <td>0.908157</td>\n",
       "      <td>0.828358</td>\n",
       "      <td>2.560597</td>\n",
       "      <td>1.971556</td>\n",
       "      <td>1.686074</td>\n",
       "      <td>-0.544120</td>\n",
       "      <td>...</td>\n",
       "      <td>0</td>\n",
       "      <td>0</td>\n",
       "      <td>0</td>\n",
       "      <td>1</td>\n",
       "      <td>0</td>\n",
       "      <td>0</td>\n",
       "      <td>0</td>\n",
       "      <td>0</td>\n",
       "      <td>0</td>\n",
       "      <td>0</td>\n",
       "    </tr>\n",
       "  </tbody>\n",
       "</table>\n",
       "<p>132581 rows × 48 columns</p>\n",
       "</div>"
      ],
      "text/plain": [
       "         index  Host Response Rate  Accommodates  Bathrooms  Bedrooms  \\\n",
       "0            0            0.442374     -0.559210  -0.433181 -0.246826   \n",
       "1            1            0.442374      1.692151   2.578157  2.328234   \n",
       "2            2            0.442374      0.172537  -0.433181 -0.246826   \n",
       "3            3            0.442374     -0.559210   0.761510 -0.246826   \n",
       "4            4            0.442374      1.293898   1.980199  1.712648   \n",
       "...        ...                 ...           ...        ...       ...   \n",
       "132576  132576            0.442374     -0.559210  -0.433181  0.908157   \n",
       "132577  132577            0.442374      1.971603   2.578157  2.328234   \n",
       "132578  132578            0.442374      1.692151   1.493109  1.712648   \n",
       "132579  132579            0.442374      1.293898   1.493109  1.712648   \n",
       "132580  132580            0.442374      0.172537   1.493109  0.908157   \n",
       "\n",
       "            Beds     Price  Security Deposit  Cleaning Fee  Guests Included  \\\n",
       "0      -0.824713  0.369252          0.022807     -0.051661        -0.544120   \n",
       "1       1.602205  0.580743          0.484625      1.686074         2.290608   \n",
       "2      -0.824713 -0.560717          0.022807      0.086760        -0.544120   \n",
       "3      -0.824713  0.580743          1.971556      1.007715        -0.544120   \n",
       "4       1.602205  1.779597          0.022807      2.195093         2.131214   \n",
       "...          ...       ...               ...           ...              ...   \n",
       "132576  0.828358 -0.364978         -0.498705      0.553052        -0.544120   \n",
       "132577  1.602205  1.534435          0.022807     -0.051661        -0.544120   \n",
       "132578  1.366131  2.103862          0.022807      1.798226         2.131214   \n",
       "132579  1.366131  1.635838          1.971556      1.686074         1.803494   \n",
       "132580  0.828358  2.560597          1.971556      1.686074        -0.544120   \n",
       "\n",
       "        ...  Bed Type_Couch  Bed Type_Futon  Bed Type_Pull-out Sofa  \\\n",
       "0       ...               0               0                       0   \n",
       "1       ...               0               0                       0   \n",
       "2       ...               0               0                       0   \n",
       "3       ...               0               0                       0   \n",
       "4       ...               0               0                       0   \n",
       "...     ...             ...             ...                     ...   \n",
       "132576  ...               0               0                       0   \n",
       "132577  ...               0               0                       0   \n",
       "132578  ...               0               0                       0   \n",
       "132579  ...               0               0                       0   \n",
       "132580  ...               0               0                       0   \n",
       "\n",
       "        Bed Type_Real Bed  Cancellation Policy_long_term  \\\n",
       "0                       1                              0   \n",
       "1                       1                              0   \n",
       "2                       1                              0   \n",
       "3                       1                              0   \n",
       "4                       1                              0   \n",
       "...                   ...                            ...   \n",
       "132576                  1                              0   \n",
       "132577                  1                              0   \n",
       "132578                  1                              0   \n",
       "132579                  1                              0   \n",
       "132580                  1                              0   \n",
       "\n",
       "        Cancellation Policy_moderate  Cancellation Policy_no_refunds  \\\n",
       "0                                  0                               0   \n",
       "1                                  0                               0   \n",
       "2                                  0                               0   \n",
       "3                                  0                               0   \n",
       "4                                  1                               0   \n",
       "...                              ...                             ...   \n",
       "132576                             0                               0   \n",
       "132577                             0                               0   \n",
       "132578                             0                               0   \n",
       "132579                             0                               0   \n",
       "132580                             0                               0   \n",
       "\n",
       "        Cancellation Policy_strict  Cancellation Policy_super_strict_30  \\\n",
       "0                                0                                    0   \n",
       "1                                0                                    0   \n",
       "2                                0                                    0   \n",
       "3                                1                                    0   \n",
       "4                                0                                    0   \n",
       "...                            ...                                  ...   \n",
       "132576                           1                                    0   \n",
       "132577                           0                                    0   \n",
       "132578                           1                                    0   \n",
       "132579                           1                                    0   \n",
       "132580                           0                                    0   \n",
       "\n",
       "        Cancellation Policy_super_strict_60  \n",
       "0                                         0  \n",
       "1                                         0  \n",
       "2                                         0  \n",
       "3                                         0  \n",
       "4                                         0  \n",
       "...                                     ...  \n",
       "132576                                    0  \n",
       "132577                                    0  \n",
       "132578                                    0  \n",
       "132579                                    0  \n",
       "132580                                    0  \n",
       "\n",
       "[132581 rows x 48 columns]"
      ]
     },
     "execution_count": 134,
     "metadata": {},
     "output_type": "execute_result"
    }
   ],
   "source": [
    "final"
   ]
  },
  {
   "cell_type": "code",
   "execution_count": 135,
   "id": "577e3d06",
   "metadata": {},
   "outputs": [],
   "source": [
    "from sklearn.linear_model import LinearRegression\n",
    "from sklearn.model_selection import train_test_split\n",
    "from sklearn.metrics import mean_squared_error, r2_score"
   ]
  },
  {
   "cell_type": "code",
   "execution_count": 136,
   "id": "0867ee48",
   "metadata": {},
   "outputs": [],
   "source": [
    "x = final.drop('Price', axis = 1)"
   ]
  },
  {
   "cell_type": "code",
   "execution_count": 137,
   "id": "98ed2553",
   "metadata": {},
   "outputs": [
    {
     "data": {
      "text/html": [
       "<div>\n",
       "<style scoped>\n",
       "    .dataframe tbody tr th:only-of-type {\n",
       "        vertical-align: middle;\n",
       "    }\n",
       "\n",
       "    .dataframe tbody tr th {\n",
       "        vertical-align: top;\n",
       "    }\n",
       "\n",
       "    .dataframe thead th {\n",
       "        text-align: right;\n",
       "    }\n",
       "</style>\n",
       "<table border=\"1\" class=\"dataframe\">\n",
       "  <thead>\n",
       "    <tr style=\"text-align: right;\">\n",
       "      <th></th>\n",
       "      <th>index</th>\n",
       "      <th>Host Response Rate</th>\n",
       "      <th>Accommodates</th>\n",
       "      <th>Bathrooms</th>\n",
       "      <th>Bedrooms</th>\n",
       "      <th>Beds</th>\n",
       "      <th>Security Deposit</th>\n",
       "      <th>Cleaning Fee</th>\n",
       "      <th>Guests Included</th>\n",
       "      <th>Extra People</th>\n",
       "      <th>...</th>\n",
       "      <th>Bed Type_Couch</th>\n",
       "      <th>Bed Type_Futon</th>\n",
       "      <th>Bed Type_Pull-out Sofa</th>\n",
       "      <th>Bed Type_Real Bed</th>\n",
       "      <th>Cancellation Policy_long_term</th>\n",
       "      <th>Cancellation Policy_moderate</th>\n",
       "      <th>Cancellation Policy_no_refunds</th>\n",
       "      <th>Cancellation Policy_strict</th>\n",
       "      <th>Cancellation Policy_super_strict_30</th>\n",
       "      <th>Cancellation Policy_super_strict_60</th>\n",
       "    </tr>\n",
       "  </thead>\n",
       "  <tbody>\n",
       "    <tr>\n",
       "      <th>0</th>\n",
       "      <td>0</td>\n",
       "      <td>0.442374</td>\n",
       "      <td>-0.559210</td>\n",
       "      <td>-0.433181</td>\n",
       "      <td>-0.246826</td>\n",
       "      <td>-0.824713</td>\n",
       "      <td>0.022807</td>\n",
       "      <td>-0.051661</td>\n",
       "      <td>-0.544120</td>\n",
       "      <td>-0.887795</td>\n",
       "      <td>...</td>\n",
       "      <td>0</td>\n",
       "      <td>0</td>\n",
       "      <td>0</td>\n",
       "      <td>1</td>\n",
       "      <td>0</td>\n",
       "      <td>0</td>\n",
       "      <td>0</td>\n",
       "      <td>0</td>\n",
       "      <td>0</td>\n",
       "      <td>0</td>\n",
       "    </tr>\n",
       "    <tr>\n",
       "      <th>1</th>\n",
       "      <td>1</td>\n",
       "      <td>0.442374</td>\n",
       "      <td>1.692151</td>\n",
       "      <td>2.578157</td>\n",
       "      <td>2.328234</td>\n",
       "      <td>1.602205</td>\n",
       "      <td>0.484625</td>\n",
       "      <td>1.686074</td>\n",
       "      <td>2.290608</td>\n",
       "      <td>1.155845</td>\n",
       "      <td>...</td>\n",
       "      <td>0</td>\n",
       "      <td>0</td>\n",
       "      <td>0</td>\n",
       "      <td>1</td>\n",
       "      <td>0</td>\n",
       "      <td>0</td>\n",
       "      <td>0</td>\n",
       "      <td>0</td>\n",
       "      <td>0</td>\n",
       "      <td>0</td>\n",
       "    </tr>\n",
       "    <tr>\n",
       "      <th>2</th>\n",
       "      <td>2</td>\n",
       "      <td>0.442374</td>\n",
       "      <td>0.172537</td>\n",
       "      <td>-0.433181</td>\n",
       "      <td>-0.246826</td>\n",
       "      <td>-0.824713</td>\n",
       "      <td>0.022807</td>\n",
       "      <td>0.086760</td>\n",
       "      <td>-0.544120</td>\n",
       "      <td>1.155845</td>\n",
       "      <td>...</td>\n",
       "      <td>0</td>\n",
       "      <td>0</td>\n",
       "      <td>0</td>\n",
       "      <td>1</td>\n",
       "      <td>0</td>\n",
       "      <td>0</td>\n",
       "      <td>0</td>\n",
       "      <td>0</td>\n",
       "      <td>0</td>\n",
       "      <td>0</td>\n",
       "    </tr>\n",
       "    <tr>\n",
       "      <th>3</th>\n",
       "      <td>3</td>\n",
       "      <td>0.442374</td>\n",
       "      <td>-0.559210</td>\n",
       "      <td>0.761510</td>\n",
       "      <td>-0.246826</td>\n",
       "      <td>-0.824713</td>\n",
       "      <td>1.971556</td>\n",
       "      <td>1.007715</td>\n",
       "      <td>-0.544120</td>\n",
       "      <td>-0.887795</td>\n",
       "      <td>...</td>\n",
       "      <td>0</td>\n",
       "      <td>0</td>\n",
       "      <td>0</td>\n",
       "      <td>1</td>\n",
       "      <td>0</td>\n",
       "      <td>0</td>\n",
       "      <td>0</td>\n",
       "      <td>1</td>\n",
       "      <td>0</td>\n",
       "      <td>0</td>\n",
       "    </tr>\n",
       "    <tr>\n",
       "      <th>4</th>\n",
       "      <td>4</td>\n",
       "      <td>0.442374</td>\n",
       "      <td>1.293898</td>\n",
       "      <td>1.980199</td>\n",
       "      <td>1.712648</td>\n",
       "      <td>1.602205</td>\n",
       "      <td>0.022807</td>\n",
       "      <td>2.195093</td>\n",
       "      <td>2.131214</td>\n",
       "      <td>1.390658</td>\n",
       "      <td>...</td>\n",
       "      <td>0</td>\n",
       "      <td>0</td>\n",
       "      <td>0</td>\n",
       "      <td>1</td>\n",
       "      <td>0</td>\n",
       "      <td>1</td>\n",
       "      <td>0</td>\n",
       "      <td>0</td>\n",
       "      <td>0</td>\n",
       "      <td>0</td>\n",
       "    </tr>\n",
       "    <tr>\n",
       "      <th>...</th>\n",
       "      <td>...</td>\n",
       "      <td>...</td>\n",
       "      <td>...</td>\n",
       "      <td>...</td>\n",
       "      <td>...</td>\n",
       "      <td>...</td>\n",
       "      <td>...</td>\n",
       "      <td>...</td>\n",
       "      <td>...</td>\n",
       "      <td>...</td>\n",
       "      <td>...</td>\n",
       "      <td>...</td>\n",
       "      <td>...</td>\n",
       "      <td>...</td>\n",
       "      <td>...</td>\n",
       "      <td>...</td>\n",
       "      <td>...</td>\n",
       "      <td>...</td>\n",
       "      <td>...</td>\n",
       "      <td>...</td>\n",
       "      <td>...</td>\n",
       "    </tr>\n",
       "    <tr>\n",
       "      <th>132576</th>\n",
       "      <td>132576</td>\n",
       "      <td>0.442374</td>\n",
       "      <td>-0.559210</td>\n",
       "      <td>-0.433181</td>\n",
       "      <td>0.908157</td>\n",
       "      <td>0.828358</td>\n",
       "      <td>-0.498705</td>\n",
       "      <td>0.553052</td>\n",
       "      <td>-0.544120</td>\n",
       "      <td>1.155845</td>\n",
       "      <td>...</td>\n",
       "      <td>0</td>\n",
       "      <td>0</td>\n",
       "      <td>0</td>\n",
       "      <td>1</td>\n",
       "      <td>0</td>\n",
       "      <td>0</td>\n",
       "      <td>0</td>\n",
       "      <td>1</td>\n",
       "      <td>0</td>\n",
       "      <td>0</td>\n",
       "    </tr>\n",
       "    <tr>\n",
       "      <th>132577</th>\n",
       "      <td>132577</td>\n",
       "      <td>0.442374</td>\n",
       "      <td>1.971603</td>\n",
       "      <td>2.578157</td>\n",
       "      <td>2.328234</td>\n",
       "      <td>1.602205</td>\n",
       "      <td>0.022807</td>\n",
       "      <td>-0.051661</td>\n",
       "      <td>-0.544120</td>\n",
       "      <td>-0.887795</td>\n",
       "      <td>...</td>\n",
       "      <td>0</td>\n",
       "      <td>0</td>\n",
       "      <td>0</td>\n",
       "      <td>1</td>\n",
       "      <td>0</td>\n",
       "      <td>0</td>\n",
       "      <td>0</td>\n",
       "      <td>0</td>\n",
       "      <td>0</td>\n",
       "      <td>0</td>\n",
       "    </tr>\n",
       "    <tr>\n",
       "      <th>132578</th>\n",
       "      <td>132578</td>\n",
       "      <td>0.442374</td>\n",
       "      <td>1.692151</td>\n",
       "      <td>1.493109</td>\n",
       "      <td>1.712648</td>\n",
       "      <td>1.366131</td>\n",
       "      <td>0.022807</td>\n",
       "      <td>1.798226</td>\n",
       "      <td>2.131214</td>\n",
       "      <td>1.274834</td>\n",
       "      <td>...</td>\n",
       "      <td>0</td>\n",
       "      <td>0</td>\n",
       "      <td>0</td>\n",
       "      <td>1</td>\n",
       "      <td>0</td>\n",
       "      <td>0</td>\n",
       "      <td>0</td>\n",
       "      <td>1</td>\n",
       "      <td>0</td>\n",
       "      <td>0</td>\n",
       "    </tr>\n",
       "    <tr>\n",
       "      <th>132579</th>\n",
       "      <td>132579</td>\n",
       "      <td>0.442374</td>\n",
       "      <td>1.293898</td>\n",
       "      <td>1.493109</td>\n",
       "      <td>1.712648</td>\n",
       "      <td>1.366131</td>\n",
       "      <td>1.971556</td>\n",
       "      <td>1.686074</td>\n",
       "      <td>1.803494</td>\n",
       "      <td>1.155845</td>\n",
       "      <td>...</td>\n",
       "      <td>0</td>\n",
       "      <td>0</td>\n",
       "      <td>0</td>\n",
       "      <td>1</td>\n",
       "      <td>0</td>\n",
       "      <td>0</td>\n",
       "      <td>0</td>\n",
       "      <td>1</td>\n",
       "      <td>0</td>\n",
       "      <td>0</td>\n",
       "    </tr>\n",
       "    <tr>\n",
       "      <th>132580</th>\n",
       "      <td>132580</td>\n",
       "      <td>0.442374</td>\n",
       "      <td>0.172537</td>\n",
       "      <td>1.493109</td>\n",
       "      <td>0.908157</td>\n",
       "      <td>0.828358</td>\n",
       "      <td>1.971556</td>\n",
       "      <td>1.686074</td>\n",
       "      <td>-0.544120</td>\n",
       "      <td>-0.887795</td>\n",
       "      <td>...</td>\n",
       "      <td>0</td>\n",
       "      <td>0</td>\n",
       "      <td>0</td>\n",
       "      <td>1</td>\n",
       "      <td>0</td>\n",
       "      <td>0</td>\n",
       "      <td>0</td>\n",
       "      <td>0</td>\n",
       "      <td>0</td>\n",
       "      <td>0</td>\n",
       "    </tr>\n",
       "  </tbody>\n",
       "</table>\n",
       "<p>132581 rows × 47 columns</p>\n",
       "</div>"
      ],
      "text/plain": [
       "         index  Host Response Rate  Accommodates  Bathrooms  Bedrooms  \\\n",
       "0            0            0.442374     -0.559210  -0.433181 -0.246826   \n",
       "1            1            0.442374      1.692151   2.578157  2.328234   \n",
       "2            2            0.442374      0.172537  -0.433181 -0.246826   \n",
       "3            3            0.442374     -0.559210   0.761510 -0.246826   \n",
       "4            4            0.442374      1.293898   1.980199  1.712648   \n",
       "...        ...                 ...           ...        ...       ...   \n",
       "132576  132576            0.442374     -0.559210  -0.433181  0.908157   \n",
       "132577  132577            0.442374      1.971603   2.578157  2.328234   \n",
       "132578  132578            0.442374      1.692151   1.493109  1.712648   \n",
       "132579  132579            0.442374      1.293898   1.493109  1.712648   \n",
       "132580  132580            0.442374      0.172537   1.493109  0.908157   \n",
       "\n",
       "            Beds  Security Deposit  Cleaning Fee  Guests Included  \\\n",
       "0      -0.824713          0.022807     -0.051661        -0.544120   \n",
       "1       1.602205          0.484625      1.686074         2.290608   \n",
       "2      -0.824713          0.022807      0.086760        -0.544120   \n",
       "3      -0.824713          1.971556      1.007715        -0.544120   \n",
       "4       1.602205          0.022807      2.195093         2.131214   \n",
       "...          ...               ...           ...              ...   \n",
       "132576  0.828358         -0.498705      0.553052        -0.544120   \n",
       "132577  1.602205          0.022807     -0.051661        -0.544120   \n",
       "132578  1.366131          0.022807      1.798226         2.131214   \n",
       "132579  1.366131          1.971556      1.686074         1.803494   \n",
       "132580  0.828358          1.971556      1.686074        -0.544120   \n",
       "\n",
       "        Extra People  ...  Bed Type_Couch  Bed Type_Futon  \\\n",
       "0          -0.887795  ...               0               0   \n",
       "1           1.155845  ...               0               0   \n",
       "2           1.155845  ...               0               0   \n",
       "3          -0.887795  ...               0               0   \n",
       "4           1.390658  ...               0               0   \n",
       "...              ...  ...             ...             ...   \n",
       "132576      1.155845  ...               0               0   \n",
       "132577     -0.887795  ...               0               0   \n",
       "132578      1.274834  ...               0               0   \n",
       "132579      1.155845  ...               0               0   \n",
       "132580     -0.887795  ...               0               0   \n",
       "\n",
       "        Bed Type_Pull-out Sofa  Bed Type_Real Bed  \\\n",
       "0                            0                  1   \n",
       "1                            0                  1   \n",
       "2                            0                  1   \n",
       "3                            0                  1   \n",
       "4                            0                  1   \n",
       "...                        ...                ...   \n",
       "132576                       0                  1   \n",
       "132577                       0                  1   \n",
       "132578                       0                  1   \n",
       "132579                       0                  1   \n",
       "132580                       0                  1   \n",
       "\n",
       "        Cancellation Policy_long_term  Cancellation Policy_moderate  \\\n",
       "0                                   0                             0   \n",
       "1                                   0                             0   \n",
       "2                                   0                             0   \n",
       "3                                   0                             0   \n",
       "4                                   0                             1   \n",
       "...                               ...                           ...   \n",
       "132576                              0                             0   \n",
       "132577                              0                             0   \n",
       "132578                              0                             0   \n",
       "132579                              0                             0   \n",
       "132580                              0                             0   \n",
       "\n",
       "        Cancellation Policy_no_refunds  Cancellation Policy_strict  \\\n",
       "0                                    0                           0   \n",
       "1                                    0                           0   \n",
       "2                                    0                           0   \n",
       "3                                    0                           1   \n",
       "4                                    0                           0   \n",
       "...                                ...                         ...   \n",
       "132576                               0                           1   \n",
       "132577                               0                           0   \n",
       "132578                               0                           1   \n",
       "132579                               0                           1   \n",
       "132580                               0                           0   \n",
       "\n",
       "        Cancellation Policy_super_strict_30  \\\n",
       "0                                         0   \n",
       "1                                         0   \n",
       "2                                         0   \n",
       "3                                         0   \n",
       "4                                         0   \n",
       "...                                     ...   \n",
       "132576                                    0   \n",
       "132577                                    0   \n",
       "132578                                    0   \n",
       "132579                                    0   \n",
       "132580                                    0   \n",
       "\n",
       "        Cancellation Policy_super_strict_60  \n",
       "0                                         0  \n",
       "1                                         0  \n",
       "2                                         0  \n",
       "3                                         0  \n",
       "4                                         0  \n",
       "...                                     ...  \n",
       "132576                                    0  \n",
       "132577                                    0  \n",
       "132578                                    0  \n",
       "132579                                    0  \n",
       "132580                                    0  \n",
       "\n",
       "[132581 rows x 47 columns]"
      ]
     },
     "execution_count": 137,
     "metadata": {},
     "output_type": "execute_result"
    }
   ],
   "source": [
    "x"
   ]
  },
  {
   "cell_type": "code",
   "execution_count": 138,
   "id": "9653c5f7",
   "metadata": {},
   "outputs": [],
   "source": [
    "y = final.Price"
   ]
  },
  {
   "cell_type": "code",
   "execution_count": 139,
   "id": "500a8940",
   "metadata": {},
   "outputs": [],
   "source": [
    "xtrain, xtest, ytrain, ytest = train_test_split(x,y, random_state = 10, test_size = 0.20)"
   ]
  },
  {
   "cell_type": "code",
   "execution_count": 140,
   "id": "195d9667",
   "metadata": {},
   "outputs": [],
   "source": [
    "lr  = LinearRegression()"
   ]
  },
  {
   "cell_type": "code",
   "execution_count": 141,
   "id": "dd34a2e0",
   "metadata": {},
   "outputs": [
    {
     "data": {
      "text/plain": [
       "LinearRegression()"
      ]
     },
     "execution_count": 141,
     "metadata": {},
     "output_type": "execute_result"
    }
   ],
   "source": [
    "lr.fit(xtrain, ytrain)"
   ]
  },
  {
   "cell_type": "code",
   "execution_count": 142,
   "id": "4116aa2f",
   "metadata": {},
   "outputs": [],
   "source": [
    "pred = lr.predict(xtest)"
   ]
  },
  {
   "cell_type": "code",
   "execution_count": 40,
   "id": "d56f90d3",
   "metadata": {},
   "outputs": [
    {
     "ename": "NameError",
     "evalue": "name 'mean_squared_error' is not defined",
     "output_type": "error",
     "traceback": [
      "\u001b[1;31m---------------------------------------------------------------------------\u001b[0m",
      "\u001b[1;31mNameError\u001b[0m                                 Traceback (most recent call last)",
      "\u001b[1;32mC:\\Users\\SIDDHA~1\\AppData\\Local\\Temp/ipykernel_7696/2232282120.py\u001b[0m in \u001b[0;36m<module>\u001b[1;34m\u001b[0m\n\u001b[1;32m----> 1\u001b[1;33m \u001b[0mmean_squared_error\u001b[0m\u001b[1;33m(\u001b[0m\u001b[0mytest\u001b[0m\u001b[1;33m,\u001b[0m \u001b[0mpred\u001b[0m\u001b[1;33m)\u001b[0m\u001b[1;33m\u001b[0m\u001b[1;33m\u001b[0m\u001b[0m\n\u001b[0m",
      "\u001b[1;31mNameError\u001b[0m: name 'mean_squared_error' is not defined"
     ]
    }
   ],
   "source": [
    "mean_squared_error(ytest, pred)"
   ]
  },
  {
   "cell_type": "code",
   "execution_count": 144,
   "id": "c4df2023",
   "metadata": {},
   "outputs": [
    {
     "data": {
      "text/plain": [
       "0.6039621654950101"
      ]
     },
     "execution_count": 144,
     "metadata": {},
     "output_type": "execute_result"
    }
   ],
   "source": [
    "r2_score(ytest, pred)"
   ]
  },
  {
   "cell_type": "code",
   "execution_count": 1,
   "id": "b1610b08",
   "metadata": {},
   "outputs": [
    {
     "ename": "NameError",
     "evalue": "name 'final' is not defined",
     "output_type": "error",
     "traceback": [
      "\u001b[1;31m---------------------------------------------------------------------------\u001b[0m",
      "\u001b[1;31mNameError\u001b[0m                                 Traceback (most recent call last)",
      "\u001b[1;32m<ipython-input-1-faec0869773a>\u001b[0m in \u001b[0;36m<module>\u001b[1;34m\u001b[0m\n\u001b[1;32m----> 1\u001b[1;33m \u001b[0mfinal\u001b[0m\u001b[1;33m\u001b[0m\u001b[1;33m\u001b[0m\u001b[0m\n\u001b[0m",
      "\u001b[1;31mNameError\u001b[0m: name 'final' is not defined"
     ]
    }
   ],
   "source": [
    "final"
   ]
  },
  {
   "cell_type": "code",
   "execution_count": null,
   "id": "9abae3b6",
   "metadata": {},
   "outputs": [],
   "source": []
  },
  {
   "cell_type": "code",
   "execution_count": null,
   "id": "1130af3a",
   "metadata": {},
   "outputs": [],
   "source": []
  }
 ],
 "metadata": {
  "kernelspec": {
   "display_name": "Python 3",
   "language": "python",
   "name": "python3"
  },
  "language_info": {
   "codemirror_mode": {
    "name": "ipython",
    "version": 3
   },
   "file_extension": ".py",
   "mimetype": "text/x-python",
   "name": "python",
   "nbconvert_exporter": "python",
   "pygments_lexer": "ipython3",
   "version": "3.8.8"
  }
 },
 "nbformat": 4,
 "nbformat_minor": 5
}
